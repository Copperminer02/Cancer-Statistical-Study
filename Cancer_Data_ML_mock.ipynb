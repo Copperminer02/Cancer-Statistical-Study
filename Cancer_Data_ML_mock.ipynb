{
 "cells": [
  {
   "cell_type": "code",
   "execution_count": 27,
   "id": "a08e87d2",
   "metadata": {},
   "outputs": [],
   "source": [
    "import pandas as pd\n",
    "import matplotlib.pyplot as plt\n",
    "import hvplot.pandas\n",
    "import plotly.express as px\n",
    "from sklearn.preprocessing import StandardScaler, MinMaxScaler\n",
    "from sklearn.decomposition import PCA\n",
    "from sklearn.cluster import KMeans"
   ]
  },
  {
   "cell_type": "code",
   "execution_count": 28,
   "id": "86491044",
   "metadata": {},
   "outputs": [],
   "source": [
    "# upload csv Data.  All data from Kaggle.com(https://www.kaggle.com/datasets/truecue/worldsustainabilitydataset?select=WorldSustainabilityDataset.csv)\n",
    "# https://www.kaggle.com/datasets/bahadirumutiscimen/cancer-death-rates-in-the-world-19902019\n",
    "\n",
    "cancer_path = \"Resources/total-cancer-deaths-by-type.csv\"\n",
    "econ_path = \"Resources/WorldSustainabilityDataset.csv\"\n",
    "\n",
    "# Upload Raw Kaggle Data\n",
    "cancer_df = pd.read_csv(cancer_path)\n",
    "econ_df = pd.read_csv(econ_path)"
   ]
  },
  {
   "cell_type": "code",
   "execution_count": 29,
   "id": "22124bcc",
   "metadata": {},
   "outputs": [
    {
     "data": {
      "text/html": [
       "<div>\n",
       "<style scoped>\n",
       "    .dataframe tbody tr th:only-of-type {\n",
       "        vertical-align: middle;\n",
       "    }\n",
       "\n",
       "    .dataframe tbody tr th {\n",
       "        vertical-align: top;\n",
       "    }\n",
       "\n",
       "    .dataframe thead th {\n",
       "        text-align: right;\n",
       "    }\n",
       "</style>\n",
       "<table border=\"1\" class=\"dataframe\">\n",
       "  <thead>\n",
       "    <tr style=\"text-align: right;\">\n",
       "      <th></th>\n",
       "      <th>Entity</th>\n",
       "      <th>Code</th>\n",
       "      <th>Year</th>\n",
       "      <th>Deaths - Liver cancer - Sex: Both - Age: All Ages (Number)</th>\n",
       "      <th>Deaths - Kidney cancer - Sex: Both - Age: All Ages (Number)</th>\n",
       "      <th>Deaths - Lip and oral cavity cancer - Sex: Both - Age: All Ages (Number)</th>\n",
       "      <th>Deaths - Tracheal, bronchus, and lung cancer - Sex: Both - Age: All Ages (Number)</th>\n",
       "      <th>Deaths - Larynx cancer - Sex: Both - Age: All Ages (Number)</th>\n",
       "      <th>Deaths - Gallbladder and biliary tract cancer - Sex: Both - Age: All Ages (Number)</th>\n",
       "      <th>Deaths - Malignant skin melanoma - Sex: Both - Age: All Ages (Number)</th>\n",
       "      <th>...</th>\n",
       "      <th>Deaths - Brain and central nervous system cancer - Sex: Both - Age: All Ages (Number)</th>\n",
       "      <th>Deaths - Non-Hodgkin lymphoma - Sex: Both - Age: All Ages (Number)</th>\n",
       "      <th>Deaths - Pancreatic cancer - Sex: Both - Age: All Ages (Number)</th>\n",
       "      <th>Deaths - Esophageal cancer - Sex: Both - Age: All Ages (Number)</th>\n",
       "      <th>Deaths - Testicular cancer - Sex: Both - Age: All Ages (Number)</th>\n",
       "      <th>Deaths - Nasopharynx cancer - Sex: Both - Age: All Ages (Number)</th>\n",
       "      <th>Deaths - Other pharynx cancer - Sex: Both - Age: All Ages (Number)</th>\n",
       "      <th>Deaths - Colon and rectum cancer - Sex: Both - Age: All Ages (Number)</th>\n",
       "      <th>Deaths - Non-melanoma skin cancer - Sex: Both - Age: All Ages (Number)</th>\n",
       "      <th>Deaths - Mesothelioma - Sex: Both - Age: All Ages (Number)</th>\n",
       "    </tr>\n",
       "  </thead>\n",
       "  <tbody>\n",
       "    <tr>\n",
       "      <th>0</th>\n",
       "      <td>Afghanistan</td>\n",
       "      <td>AFG</td>\n",
       "      <td>1990</td>\n",
       "      <td>851</td>\n",
       "      <td>66</td>\n",
       "      <td>89</td>\n",
       "      <td>983</td>\n",
       "      <td>260</td>\n",
       "      <td>180</td>\n",
       "      <td>47</td>\n",
       "      <td>...</td>\n",
       "      <td>422</td>\n",
       "      <td>996</td>\n",
       "      <td>138</td>\n",
       "      <td>529</td>\n",
       "      <td>3</td>\n",
       "      <td>66</td>\n",
       "      <td>37</td>\n",
       "      <td>539</td>\n",
       "      <td>25</td>\n",
       "      <td>6</td>\n",
       "    </tr>\n",
       "    <tr>\n",
       "      <th>1</th>\n",
       "      <td>Afghanistan</td>\n",
       "      <td>AFG</td>\n",
       "      <td>1991</td>\n",
       "      <td>866</td>\n",
       "      <td>66</td>\n",
       "      <td>89</td>\n",
       "      <td>982</td>\n",
       "      <td>263</td>\n",
       "      <td>182</td>\n",
       "      <td>48</td>\n",
       "      <td>...</td>\n",
       "      <td>438</td>\n",
       "      <td>1010</td>\n",
       "      <td>137</td>\n",
       "      <td>535</td>\n",
       "      <td>4</td>\n",
       "      <td>67</td>\n",
       "      <td>37</td>\n",
       "      <td>542</td>\n",
       "      <td>26</td>\n",
       "      <td>7</td>\n",
       "    </tr>\n",
       "    <tr>\n",
       "      <th>2</th>\n",
       "      <td>Afghanistan</td>\n",
       "      <td>AFG</td>\n",
       "      <td>1992</td>\n",
       "      <td>890</td>\n",
       "      <td>68</td>\n",
       "      <td>91</td>\n",
       "      <td>989</td>\n",
       "      <td>268</td>\n",
       "      <td>185</td>\n",
       "      <td>51</td>\n",
       "      <td>...</td>\n",
       "      <td>472</td>\n",
       "      <td>1040</td>\n",
       "      <td>137</td>\n",
       "      <td>546</td>\n",
       "      <td>4</td>\n",
       "      <td>69</td>\n",
       "      <td>38</td>\n",
       "      <td>550</td>\n",
       "      <td>26</td>\n",
       "      <td>7</td>\n",
       "    </tr>\n",
       "    <tr>\n",
       "      <th>3</th>\n",
       "      <td>Afghanistan</td>\n",
       "      <td>AFG</td>\n",
       "      <td>1993</td>\n",
       "      <td>914</td>\n",
       "      <td>70</td>\n",
       "      <td>93</td>\n",
       "      <td>995</td>\n",
       "      <td>275</td>\n",
       "      <td>189</td>\n",
       "      <td>53</td>\n",
       "      <td>...</td>\n",
       "      <td>505</td>\n",
       "      <td>1062</td>\n",
       "      <td>139</td>\n",
       "      <td>560</td>\n",
       "      <td>5</td>\n",
       "      <td>72</td>\n",
       "      <td>39</td>\n",
       "      <td>555</td>\n",
       "      <td>27</td>\n",
       "      <td>7</td>\n",
       "    </tr>\n",
       "    <tr>\n",
       "      <th>4</th>\n",
       "      <td>Afghanistan</td>\n",
       "      <td>AFG</td>\n",
       "      <td>1994</td>\n",
       "      <td>933</td>\n",
       "      <td>71</td>\n",
       "      <td>94</td>\n",
       "      <td>996</td>\n",
       "      <td>282</td>\n",
       "      <td>193</td>\n",
       "      <td>54</td>\n",
       "      <td>...</td>\n",
       "      <td>526</td>\n",
       "      <td>1069</td>\n",
       "      <td>140</td>\n",
       "      <td>575</td>\n",
       "      <td>5</td>\n",
       "      <td>73</td>\n",
       "      <td>39</td>\n",
       "      <td>554</td>\n",
       "      <td>28</td>\n",
       "      <td>8</td>\n",
       "    </tr>\n",
       "  </tbody>\n",
       "</table>\n",
       "<p>5 rows × 32 columns</p>\n",
       "</div>"
      ],
      "text/plain": [
       "        Entity Code  Year  \\\n",
       "0  Afghanistan  AFG  1990   \n",
       "1  Afghanistan  AFG  1991   \n",
       "2  Afghanistan  AFG  1992   \n",
       "3  Afghanistan  AFG  1993   \n",
       "4  Afghanistan  AFG  1994   \n",
       "\n",
       "   Deaths - Liver cancer - Sex: Both - Age: All Ages (Number)  \\\n",
       "0                                                851            \n",
       "1                                                866            \n",
       "2                                                890            \n",
       "3                                                914            \n",
       "4                                                933            \n",
       "\n",
       "   Deaths - Kidney cancer - Sex: Both - Age: All Ages (Number)  \\\n",
       "0                                                 66             \n",
       "1                                                 66             \n",
       "2                                                 68             \n",
       "3                                                 70             \n",
       "4                                                 71             \n",
       "\n",
       "   Deaths - Lip and oral cavity cancer - Sex: Both - Age: All Ages (Number)  \\\n",
       "0                                                 89                          \n",
       "1                                                 89                          \n",
       "2                                                 91                          \n",
       "3                                                 93                          \n",
       "4                                                 94                          \n",
       "\n",
       "   Deaths - Tracheal, bronchus, and lung cancer - Sex: Both - Age: All Ages (Number)  \\\n",
       "0                                                983                                   \n",
       "1                                                982                                   \n",
       "2                                                989                                   \n",
       "3                                                995                                   \n",
       "4                                                996                                   \n",
       "\n",
       "   Deaths - Larynx cancer - Sex: Both - Age: All Ages (Number)  \\\n",
       "0                                                260             \n",
       "1                                                263             \n",
       "2                                                268             \n",
       "3                                                275             \n",
       "4                                                282             \n",
       "\n",
       "   Deaths - Gallbladder and biliary tract cancer - Sex: Both - Age: All Ages (Number)  \\\n",
       "0                                                180                                    \n",
       "1                                                182                                    \n",
       "2                                                185                                    \n",
       "3                                                189                                    \n",
       "4                                                193                                    \n",
       "\n",
       "   Deaths - Malignant skin melanoma - Sex: Both - Age: All Ages (Number)  ...  \\\n",
       "0                                                 47                      ...   \n",
       "1                                                 48                      ...   \n",
       "2                                                 51                      ...   \n",
       "3                                                 53                      ...   \n",
       "4                                                 54                      ...   \n",
       "\n",
       "   Deaths - Brain and central nervous system cancer - Sex: Both - Age: All Ages (Number)  \\\n",
       "0                                                422                                       \n",
       "1                                                438                                       \n",
       "2                                                472                                       \n",
       "3                                                505                                       \n",
       "4                                                526                                       \n",
       "\n",
       "   Deaths - Non-Hodgkin lymphoma - Sex: Both - Age: All Ages (Number)  \\\n",
       "0                                                996                    \n",
       "1                                               1010                    \n",
       "2                                               1040                    \n",
       "3                                               1062                    \n",
       "4                                               1069                    \n",
       "\n",
       "   Deaths - Pancreatic cancer - Sex: Both - Age: All Ages (Number)  \\\n",
       "0                                                138                 \n",
       "1                                                137                 \n",
       "2                                                137                 \n",
       "3                                                139                 \n",
       "4                                                140                 \n",
       "\n",
       "   Deaths - Esophageal cancer - Sex: Both - Age: All Ages (Number)  \\\n",
       "0                                                529                 \n",
       "1                                                535                 \n",
       "2                                                546                 \n",
       "3                                                560                 \n",
       "4                                                575                 \n",
       "\n",
       "   Deaths - Testicular cancer - Sex: Both - Age: All Ages (Number)  \\\n",
       "0                                                  3                 \n",
       "1                                                  4                 \n",
       "2                                                  4                 \n",
       "3                                                  5                 \n",
       "4                                                  5                 \n",
       "\n",
       "   Deaths - Nasopharynx cancer - Sex: Both - Age: All Ages (Number)  \\\n",
       "0                                                 66                  \n",
       "1                                                 67                  \n",
       "2                                                 69                  \n",
       "3                                                 72                  \n",
       "4                                                 73                  \n",
       "\n",
       "   Deaths - Other pharynx cancer - Sex: Both - Age: All Ages (Number)  \\\n",
       "0                                                 37                    \n",
       "1                                                 37                    \n",
       "2                                                 38                    \n",
       "3                                                 39                    \n",
       "4                                                 39                    \n",
       "\n",
       "   Deaths - Colon and rectum cancer - Sex: Both - Age: All Ages (Number)  \\\n",
       "0                                                539                       \n",
       "1                                                542                       \n",
       "2                                                550                       \n",
       "3                                                555                       \n",
       "4                                                554                       \n",
       "\n",
       "   Deaths - Non-melanoma skin cancer - Sex: Both - Age: All Ages (Number)  \\\n",
       "0                                                 25                        \n",
       "1                                                 26                        \n",
       "2                                                 26                        \n",
       "3                                                 27                        \n",
       "4                                                 28                        \n",
       "\n",
       "   Deaths - Mesothelioma - Sex: Both - Age: All Ages (Number)  \n",
       "0                                                  6           \n",
       "1                                                  7           \n",
       "2                                                  7           \n",
       "3                                                  7           \n",
       "4                                                  8           \n",
       "\n",
       "[5 rows x 32 columns]"
      ]
     },
     "execution_count": 29,
     "metadata": {},
     "output_type": "execute_result"
    }
   ],
   "source": [
    "cancer_df.head()"
   ]
  },
  {
   "cell_type": "code",
   "execution_count": 30,
   "id": "4f8b70ec",
   "metadata": {},
   "outputs": [
    {
     "data": {
      "text/html": [
       "<div>\n",
       "<style scoped>\n",
       "    .dataframe tbody tr th:only-of-type {\n",
       "        vertical-align: middle;\n",
       "    }\n",
       "\n",
       "    .dataframe tbody tr th {\n",
       "        vertical-align: top;\n",
       "    }\n",
       "\n",
       "    .dataframe thead th {\n",
       "        text-align: right;\n",
       "    }\n",
       "</style>\n",
       "<table border=\"1\" class=\"dataframe\">\n",
       "  <thead>\n",
       "    <tr style=\"text-align: right;\">\n",
       "      <th></th>\n",
       "      <th>Country Name</th>\n",
       "      <th>Country Code</th>\n",
       "      <th>Year</th>\n",
       "      <th>Access to electricity (% of population) - EG.ELC.ACCS.ZS</th>\n",
       "      <th>Adjusted net national income per capita (annual % growth) - NY.ADJ.NNTY.PC.KD.ZG</th>\n",
       "      <th>Adjusted net savings, excluding particulate emission damage (% of GNI) - NY.ADJ.SVNX.GN.ZS</th>\n",
       "      <th>Adjusted savings: carbon dioxide damage (% of GNI) - NY.ADJ.DCO2.GN.ZS</th>\n",
       "      <th>Adjusted savings: natural resources depletion (% of GNI) - NY.ADJ.DRES.GN.ZS</th>\n",
       "      <th>Adjusted savings: net forest depletion (% of GNI) - NY.ADJ.DFOR.GN.ZS</th>\n",
       "      <th>Adjusted savings: particulate emission damage (% of GNI) - NY.ADJ.DPEM.GN.ZS</th>\n",
       "      <th>...</th>\n",
       "      <th>Gini index (World Bank estimate) - SI.POV.GINI</th>\n",
       "      <th>Income Classification (World Bank Definition)</th>\n",
       "      <th>Individuals using the Internet (% of population) - IT.NET.USER.ZS</th>\n",
       "      <th>Life expectancy at birth, total (years) - SP.DYN.LE00.IN</th>\n",
       "      <th>Population, total - SP.POP.TOTL</th>\n",
       "      <th>Regime Type (RoW Measure Definition)</th>\n",
       "      <th>Rural population (% of total population) - SP.RUR.TOTL.ZS</th>\n",
       "      <th>Total natural resources rents (% of GDP) - NY.GDP.TOTL.RT.ZS</th>\n",
       "      <th>Urban population (% of total population) - SP.URB.TOTL.IN.ZS</th>\n",
       "      <th>World Regions (UN SDG Definition)</th>\n",
       "    </tr>\n",
       "  </thead>\n",
       "  <tbody>\n",
       "    <tr>\n",
       "      <th>0</th>\n",
       "      <td>Aruba</td>\n",
       "      <td>ABW</td>\n",
       "      <td>2000</td>\n",
       "      <td>91.660398</td>\n",
       "      <td>NaN</td>\n",
       "      <td>15.392211</td>\n",
       "      <td>2.389134</td>\n",
       "      <td>0.000190</td>\n",
       "      <td>0.000190</td>\n",
       "      <td>NaN</td>\n",
       "      <td>...</td>\n",
       "      <td>NaN</td>\n",
       "      <td>High income</td>\n",
       "      <td>NaN</td>\n",
       "      <td>NaN</td>\n",
       "      <td>NaN</td>\n",
       "      <td>NaN</td>\n",
       "      <td>53.283</td>\n",
       "      <td>NaN</td>\n",
       "      <td>NaN</td>\n",
       "      <td>Latin America and Caribbean</td>\n",
       "    </tr>\n",
       "    <tr>\n",
       "      <th>1</th>\n",
       "      <td>Aruba</td>\n",
       "      <td>ABW</td>\n",
       "      <td>2001</td>\n",
       "      <td>100.000000</td>\n",
       "      <td>NaN</td>\n",
       "      <td>11.491930</td>\n",
       "      <td>2.509046</td>\n",
       "      <td>0.000214</td>\n",
       "      <td>0.000214</td>\n",
       "      <td>NaN</td>\n",
       "      <td>...</td>\n",
       "      <td>NaN</td>\n",
       "      <td>High income</td>\n",
       "      <td>17.1</td>\n",
       "      <td>73.853</td>\n",
       "      <td>92892.0</td>\n",
       "      <td>NaN</td>\n",
       "      <td>53.661</td>\n",
       "      <td>0.000712</td>\n",
       "      <td>46.339</td>\n",
       "      <td>Latin America and Caribbean</td>\n",
       "    </tr>\n",
       "    <tr>\n",
       "      <th>2</th>\n",
       "      <td>Aruba</td>\n",
       "      <td>ABW</td>\n",
       "      <td>2002</td>\n",
       "      <td>100.000000</td>\n",
       "      <td>NaN</td>\n",
       "      <td>3.893620</td>\n",
       "      <td>2.721385</td>\n",
       "      <td>0.000223</td>\n",
       "      <td>0.000223</td>\n",
       "      <td>NaN</td>\n",
       "      <td>...</td>\n",
       "      <td>NaN</td>\n",
       "      <td>High income</td>\n",
       "      <td>18.8</td>\n",
       "      <td>73.937</td>\n",
       "      <td>94992.0</td>\n",
       "      <td>NaN</td>\n",
       "      <td>54.028</td>\n",
       "      <td>0.000657</td>\n",
       "      <td>45.972</td>\n",
       "      <td>Latin America and Caribbean</td>\n",
       "    </tr>\n",
       "    <tr>\n",
       "      <th>3</th>\n",
       "      <td>Aruba</td>\n",
       "      <td>ABW</td>\n",
       "      <td>2003</td>\n",
       "      <td>100.000000</td>\n",
       "      <td>NaN</td>\n",
       "      <td>6.713863</td>\n",
       "      <td>2.733676</td>\n",
       "      <td>0.000243</td>\n",
       "      <td>0.000243</td>\n",
       "      <td>NaN</td>\n",
       "      <td>...</td>\n",
       "      <td>NaN</td>\n",
       "      <td>High income</td>\n",
       "      <td>20.8</td>\n",
       "      <td>74.038</td>\n",
       "      <td>97016.0</td>\n",
       "      <td>NaN</td>\n",
       "      <td>54.394</td>\n",
       "      <td>0.000700</td>\n",
       "      <td>45.606</td>\n",
       "      <td>Latin America and Caribbean</td>\n",
       "    </tr>\n",
       "    <tr>\n",
       "      <th>4</th>\n",
       "      <td>Aruba</td>\n",
       "      <td>ABW</td>\n",
       "      <td>2004</td>\n",
       "      <td>100.000000</td>\n",
       "      <td>NaN</td>\n",
       "      <td>9.801576</td>\n",
       "      <td>2.678363</td>\n",
       "      <td>0.000256</td>\n",
       "      <td>0.000256</td>\n",
       "      <td>NaN</td>\n",
       "      <td>...</td>\n",
       "      <td>NaN</td>\n",
       "      <td>High income</td>\n",
       "      <td>23.0</td>\n",
       "      <td>74.156</td>\n",
       "      <td>98744.0</td>\n",
       "      <td>NaN</td>\n",
       "      <td>54.760</td>\n",
       "      <td>0.000685</td>\n",
       "      <td>45.240</td>\n",
       "      <td>Latin America and Caribbean</td>\n",
       "    </tr>\n",
       "  </tbody>\n",
       "</table>\n",
       "<p>5 rows × 54 columns</p>\n",
       "</div>"
      ],
      "text/plain": [
       "  Country Name Country Code  Year  \\\n",
       "0        Aruba          ABW  2000   \n",
       "1        Aruba          ABW  2001   \n",
       "2        Aruba          ABW  2002   \n",
       "3        Aruba          ABW  2003   \n",
       "4        Aruba          ABW  2004   \n",
       "\n",
       "   Access to electricity (% of population) - EG.ELC.ACCS.ZS  \\\n",
       "0                                          91.660398          \n",
       "1                                         100.000000          \n",
       "2                                         100.000000          \n",
       "3                                         100.000000          \n",
       "4                                         100.000000          \n",
       "\n",
       "   Adjusted net national income per capita (annual % growth) - NY.ADJ.NNTY.PC.KD.ZG  \\\n",
       "0                                                NaN                                  \n",
       "1                                                NaN                                  \n",
       "2                                                NaN                                  \n",
       "3                                                NaN                                  \n",
       "4                                                NaN                                  \n",
       "\n",
       "   Adjusted net savings, excluding particulate emission damage (% of GNI) - NY.ADJ.SVNX.GN.ZS  \\\n",
       "0                                          15.392211                                            \n",
       "1                                          11.491930                                            \n",
       "2                                           3.893620                                            \n",
       "3                                           6.713863                                            \n",
       "4                                           9.801576                                            \n",
       "\n",
       "   Adjusted savings: carbon dioxide damage (% of GNI) - NY.ADJ.DCO2.GN.ZS  \\\n",
       "0                                           2.389134                        \n",
       "1                                           2.509046                        \n",
       "2                                           2.721385                        \n",
       "3                                           2.733676                        \n",
       "4                                           2.678363                        \n",
       "\n",
       "   Adjusted savings: natural resources depletion (% of GNI) - NY.ADJ.DRES.GN.ZS  \\\n",
       "0                                           0.000190                              \n",
       "1                                           0.000214                              \n",
       "2                                           0.000223                              \n",
       "3                                           0.000243                              \n",
       "4                                           0.000256                              \n",
       "\n",
       "   Adjusted savings: net forest depletion (% of GNI) - NY.ADJ.DFOR.GN.ZS  \\\n",
       "0                                           0.000190                       \n",
       "1                                           0.000214                       \n",
       "2                                           0.000223                       \n",
       "3                                           0.000243                       \n",
       "4                                           0.000256                       \n",
       "\n",
       "   Adjusted savings: particulate emission damage (% of GNI) - NY.ADJ.DPEM.GN.ZS  \\\n",
       "0                                                NaN                              \n",
       "1                                                NaN                              \n",
       "2                                                NaN                              \n",
       "3                                                NaN                              \n",
       "4                                                NaN                              \n",
       "\n",
       "   ...  Gini index (World Bank estimate) - SI.POV.GINI  \\\n",
       "0  ...                                             NaN   \n",
       "1  ...                                             NaN   \n",
       "2  ...                                             NaN   \n",
       "3  ...                                             NaN   \n",
       "4  ...                                             NaN   \n",
       "\n",
       "   Income Classification (World Bank Definition)  \\\n",
       "0                                    High income   \n",
       "1                                    High income   \n",
       "2                                    High income   \n",
       "3                                    High income   \n",
       "4                                    High income   \n",
       "\n",
       "   Individuals using the Internet (% of population) - IT.NET.USER.ZS  \\\n",
       "0                                                NaN                   \n",
       "1                                               17.1                   \n",
       "2                                               18.8                   \n",
       "3                                               20.8                   \n",
       "4                                               23.0                   \n",
       "\n",
       "   Life expectancy at birth, total (years) - SP.DYN.LE00.IN  \\\n",
       "0                                                NaN          \n",
       "1                                             73.853          \n",
       "2                                             73.937          \n",
       "3                                             74.038          \n",
       "4                                             74.156          \n",
       "\n",
       "   Population, total - SP.POP.TOTL  Regime Type (RoW Measure Definition)  \\\n",
       "0                              NaN                                   NaN   \n",
       "1                          92892.0                                   NaN   \n",
       "2                          94992.0                                   NaN   \n",
       "3                          97016.0                                   NaN   \n",
       "4                          98744.0                                   NaN   \n",
       "\n",
       "   Rural population (% of total population) - SP.RUR.TOTL.ZS  \\\n",
       "0                                             53.283           \n",
       "1                                             53.661           \n",
       "2                                             54.028           \n",
       "3                                             54.394           \n",
       "4                                             54.760           \n",
       "\n",
       "   Total natural resources rents (% of GDP) - NY.GDP.TOTL.RT.ZS  \\\n",
       "0                                                NaN              \n",
       "1                                           0.000712              \n",
       "2                                           0.000657              \n",
       "3                                           0.000700              \n",
       "4                                           0.000685              \n",
       "\n",
       "   Urban population (% of total population) - SP.URB.TOTL.IN.ZS  \\\n",
       "0                                                NaN              \n",
       "1                                             46.339              \n",
       "2                                             45.972              \n",
       "3                                             45.606              \n",
       "4                                             45.240              \n",
       "\n",
       "   World Regions (UN SDG Definition)  \n",
       "0        Latin America and Caribbean  \n",
       "1        Latin America and Caribbean  \n",
       "2        Latin America and Caribbean  \n",
       "3        Latin America and Caribbean  \n",
       "4        Latin America and Caribbean  \n",
       "\n",
       "[5 rows x 54 columns]"
      ]
     },
     "execution_count": 30,
     "metadata": {},
     "output_type": "execute_result"
    }
   ],
   "source": [
    "econ_df.head()"
   ]
  },
  {
   "cell_type": "code",
   "execution_count": 31,
   "id": "61dd1e84",
   "metadata": {},
   "outputs": [],
   "source": [
    "#  Create list of countries from each dataset\n",
    "\n",
    "cancer_list= cancer_df[\"Entity\"].unique()\n",
    "econ_list = econ_df[\"Country Name\"].unique()"
   ]
  },
  {
   "cell_type": "code",
   "execution_count": 32,
   "id": "48251df9",
   "metadata": {},
   "outputs": [
    {
     "name": "stdout",
     "output_type": "stream",
     "text": [
      "149\n"
     ]
    }
   ],
   "source": [
    "# Count identical countries in each dataset\n",
    "country_count = []\n",
    "\n",
    "for x in cancer_list:\n",
    "    if x in econ_list:\n",
    "        country_count.append(x)\n",
    "        \n",
    "print(len(country_count))"
   ]
  },
  {
   "cell_type": "code",
   "execution_count": 33,
   "id": "a876c95c",
   "metadata": {},
   "outputs": [
    {
     "data": {
      "text/plain": [
       "['Albania',\n",
       " 'Algeria',\n",
       " 'Angola',\n",
       " 'Antigua and Barbuda',\n",
       " 'Argentina',\n",
       " 'Armenia',\n",
       " 'Australia',\n",
       " 'Austria',\n",
       " 'Azerbaijan',\n",
       " 'Bahrain',\n",
       " 'Bangladesh',\n",
       " 'Barbados',\n",
       " 'Belarus',\n",
       " 'Belgium',\n",
       " 'Belize',\n",
       " 'Benin',\n",
       " 'Bhutan',\n",
       " 'Bolivia',\n",
       " 'Bosnia and Herzegovina',\n",
       " 'Botswana',\n",
       " 'Brazil',\n",
       " 'Bulgaria',\n",
       " 'Burkina Faso',\n",
       " 'Burundi',\n",
       " 'Cambodia',\n",
       " 'Cameroon',\n",
       " 'Canada',\n",
       " 'Central African Republic',\n",
       " 'Chad',\n",
       " 'Chile',\n",
       " 'China',\n",
       " 'Colombia',\n",
       " 'Comoros',\n",
       " 'Costa Rica',\n",
       " \"Cote d'Ivoire\",\n",
       " 'Croatia',\n",
       " 'Cuba',\n",
       " 'Cyprus',\n",
       " 'Denmark',\n",
       " 'Dominica',\n",
       " 'Dominican Republic',\n",
       " 'Ecuador',\n",
       " 'El Salvador',\n",
       " 'Equatorial Guinea',\n",
       " 'Eritrea',\n",
       " 'Estonia',\n",
       " 'Eswatini',\n",
       " 'Ethiopia',\n",
       " 'Fiji',\n",
       " 'Finland',\n",
       " 'France',\n",
       " 'Gabon',\n",
       " 'Georgia',\n",
       " 'Germany',\n",
       " 'Ghana',\n",
       " 'Greece',\n",
       " 'Guatemala',\n",
       " 'Guinea-Bissau',\n",
       " 'Guyana',\n",
       " 'Haiti',\n",
       " 'Honduras',\n",
       " 'Hungary',\n",
       " 'Iceland',\n",
       " 'India',\n",
       " 'Indonesia',\n",
       " 'Iraq',\n",
       " 'Ireland',\n",
       " 'Israel',\n",
       " 'Italy',\n",
       " 'Jamaica',\n",
       " 'Japan',\n",
       " 'Jordan',\n",
       " 'Kazakhstan',\n",
       " 'Kenya',\n",
       " 'Kuwait',\n",
       " 'Latvia',\n",
       " 'Lebanon',\n",
       " 'Lesotho',\n",
       " 'Liberia',\n",
       " 'Lithuania',\n",
       " 'Luxembourg',\n",
       " 'Madagascar',\n",
       " 'Malawi',\n",
       " 'Malaysia',\n",
       " 'Maldives',\n",
       " 'Mali',\n",
       " 'Malta',\n",
       " 'Mauritania',\n",
       " 'Mauritius',\n",
       " 'Mexico',\n",
       " 'Moldova',\n",
       " 'Mongolia',\n",
       " 'Montenegro',\n",
       " 'Morocco',\n",
       " 'Mozambique',\n",
       " 'Myanmar',\n",
       " 'Namibia',\n",
       " 'Nepal',\n",
       " 'Netherlands',\n",
       " 'New Zealand',\n",
       " 'Nicaragua',\n",
       " 'Niger',\n",
       " 'Nigeria',\n",
       " 'North Macedonia',\n",
       " 'Norway',\n",
       " 'Oman',\n",
       " 'Pakistan',\n",
       " 'Panama',\n",
       " 'Paraguay',\n",
       " 'Peru',\n",
       " 'Philippines',\n",
       " 'Poland',\n",
       " 'Portugal',\n",
       " 'Qatar',\n",
       " 'Romania',\n",
       " 'Rwanda',\n",
       " 'Saudi Arabia',\n",
       " 'Senegal',\n",
       " 'Serbia',\n",
       " 'Seychelles',\n",
       " 'Sierra Leone',\n",
       " 'Singapore',\n",
       " 'Slovenia',\n",
       " 'Solomon Islands',\n",
       " 'South Africa',\n",
       " 'Spain',\n",
       " 'Sri Lanka',\n",
       " 'Suriname',\n",
       " 'Sweden',\n",
       " 'Switzerland',\n",
       " 'Tajikistan',\n",
       " 'Tanzania',\n",
       " 'Thailand',\n",
       " 'Togo',\n",
       " 'Tonga',\n",
       " 'Trinidad and Tobago',\n",
       " 'Tunisia',\n",
       " 'Turkey',\n",
       " 'Uganda',\n",
       " 'Ukraine',\n",
       " 'United Arab Emirates',\n",
       " 'United Kingdom',\n",
       " 'United States',\n",
       " 'Uruguay',\n",
       " 'Uzbekistan',\n",
       " 'Vanuatu',\n",
       " 'Vietnam',\n",
       " 'Zambia',\n",
       " 'Zimbabwe']"
      ]
     },
     "execution_count": 33,
     "metadata": {},
     "output_type": "execute_result"
    }
   ],
   "source": [
    "# Print list of matching countries\n",
    "country_count"
   ]
  },
  {
   "cell_type": "code",
   "execution_count": 34,
   "id": "1e947ca6",
   "metadata": {},
   "outputs": [],
   "source": [
    "# Merge Dataframes on country and year \"inner\" into new cancer_merge_df\n",
    "\n",
    "cancer_merge_df = pd.merge(cancer_df, econ_df, how=\"inner\", left_on=[\"Entity\",\"Year\"], right_on=[\"Country Name\",\"Year\"], copy=False)"
   ]
  },
  {
   "cell_type": "code",
   "execution_count": 35,
   "id": "556492df",
   "metadata": {},
   "outputs": [
    {
     "data": {
      "text/html": [
       "<div>\n",
       "<style scoped>\n",
       "    .dataframe tbody tr th:only-of-type {\n",
       "        vertical-align: middle;\n",
       "    }\n",
       "\n",
       "    .dataframe tbody tr th {\n",
       "        vertical-align: top;\n",
       "    }\n",
       "\n",
       "    .dataframe thead th {\n",
       "        text-align: right;\n",
       "    }\n",
       "</style>\n",
       "<table border=\"1\" class=\"dataframe\">\n",
       "  <thead>\n",
       "    <tr style=\"text-align: right;\">\n",
       "      <th></th>\n",
       "      <th>Entity</th>\n",
       "      <th>Code</th>\n",
       "      <th>Year</th>\n",
       "      <th>Deaths - Liver cancer - Sex: Both - Age: All Ages (Number)</th>\n",
       "      <th>Deaths - Kidney cancer - Sex: Both - Age: All Ages (Number)</th>\n",
       "      <th>Deaths - Lip and oral cavity cancer - Sex: Both - Age: All Ages (Number)</th>\n",
       "      <th>Deaths - Tracheal, bronchus, and lung cancer - Sex: Both - Age: All Ages (Number)</th>\n",
       "      <th>Deaths - Larynx cancer - Sex: Both - Age: All Ages (Number)</th>\n",
       "      <th>Deaths - Gallbladder and biliary tract cancer - Sex: Both - Age: All Ages (Number)</th>\n",
       "      <th>Deaths - Malignant skin melanoma - Sex: Both - Age: All Ages (Number)</th>\n",
       "      <th>...</th>\n",
       "      <th>Gini index (World Bank estimate) - SI.POV.GINI</th>\n",
       "      <th>Income Classification (World Bank Definition)</th>\n",
       "      <th>Individuals using the Internet (% of population) - IT.NET.USER.ZS</th>\n",
       "      <th>Life expectancy at birth, total (years) - SP.DYN.LE00.IN</th>\n",
       "      <th>Population, total - SP.POP.TOTL</th>\n",
       "      <th>Regime Type (RoW Measure Definition)</th>\n",
       "      <th>Rural population (% of total population) - SP.RUR.TOTL.ZS</th>\n",
       "      <th>Total natural resources rents (% of GDP) - NY.GDP.TOTL.RT.ZS</th>\n",
       "      <th>Urban population (% of total population) - SP.URB.TOTL.IN.ZS</th>\n",
       "      <th>World Regions (UN SDG Definition)</th>\n",
       "    </tr>\n",
       "  </thead>\n",
       "  <tbody>\n",
       "    <tr>\n",
       "      <th>0</th>\n",
       "      <td>Albania</td>\n",
       "      <td>ALB</td>\n",
       "      <td>2000</td>\n",
       "      <td>316</td>\n",
       "      <td>40</td>\n",
       "      <td>31</td>\n",
       "      <td>748</td>\n",
       "      <td>70</td>\n",
       "      <td>26</td>\n",
       "      <td>23</td>\n",
       "      <td>...</td>\n",
       "      <td>NaN</td>\n",
       "      <td>Lower-middle income</td>\n",
       "      <td>NaN</td>\n",
       "      <td>NaN</td>\n",
       "      <td>NaN</td>\n",
       "      <td>Electoral Autocracy</td>\n",
       "      <td>58.259</td>\n",
       "      <td>NaN</td>\n",
       "      <td>NaN</td>\n",
       "      <td>Europe and Northern America</td>\n",
       "    </tr>\n",
       "    <tr>\n",
       "      <th>1</th>\n",
       "      <td>Albania</td>\n",
       "      <td>ALB</td>\n",
       "      <td>2001</td>\n",
       "      <td>301</td>\n",
       "      <td>42</td>\n",
       "      <td>31</td>\n",
       "      <td>734</td>\n",
       "      <td>68</td>\n",
       "      <td>26</td>\n",
       "      <td>21</td>\n",
       "      <td>...</td>\n",
       "      <td>NaN</td>\n",
       "      <td>Lower-middle income</td>\n",
       "      <td>0.325798</td>\n",
       "      <td>74.288</td>\n",
       "      <td>3060173.0</td>\n",
       "      <td>Electoral Autocracy</td>\n",
       "      <td>57.565</td>\n",
       "      <td>0.755950</td>\n",
       "      <td>42.435</td>\n",
       "      <td>Europe and Northern America</td>\n",
       "    </tr>\n",
       "    <tr>\n",
       "      <th>2</th>\n",
       "      <td>Albania</td>\n",
       "      <td>ALB</td>\n",
       "      <td>2002</td>\n",
       "      <td>295</td>\n",
       "      <td>47</td>\n",
       "      <td>34</td>\n",
       "      <td>765</td>\n",
       "      <td>72</td>\n",
       "      <td>28</td>\n",
       "      <td>21</td>\n",
       "      <td>...</td>\n",
       "      <td>31.7</td>\n",
       "      <td>Lower-middle income</td>\n",
       "      <td>0.390081</td>\n",
       "      <td>74.579</td>\n",
       "      <td>3051010.0</td>\n",
       "      <td>Electoral Autocracy</td>\n",
       "      <td>56.499</td>\n",
       "      <td>0.760798</td>\n",
       "      <td>43.501</td>\n",
       "      <td>Europe and Northern America</td>\n",
       "    </tr>\n",
       "    <tr>\n",
       "      <th>3</th>\n",
       "      <td>Albania</td>\n",
       "      <td>ALB</td>\n",
       "      <td>2003</td>\n",
       "      <td>290</td>\n",
       "      <td>53</td>\n",
       "      <td>37</td>\n",
       "      <td>806</td>\n",
       "      <td>77</td>\n",
       "      <td>30</td>\n",
       "      <td>21</td>\n",
       "      <td>...</td>\n",
       "      <td>NaN</td>\n",
       "      <td>Lower-middle income</td>\n",
       "      <td>0.971900</td>\n",
       "      <td>74.828</td>\n",
       "      <td>3039616.0</td>\n",
       "      <td>Electoral Autocracy</td>\n",
       "      <td>55.427</td>\n",
       "      <td>0.733194</td>\n",
       "      <td>44.573</td>\n",
       "      <td>Europe and Northern America</td>\n",
       "    </tr>\n",
       "    <tr>\n",
       "      <th>4</th>\n",
       "      <td>Albania</td>\n",
       "      <td>ALB</td>\n",
       "      <td>2004</td>\n",
       "      <td>272</td>\n",
       "      <td>57</td>\n",
       "      <td>39</td>\n",
       "      <td>817</td>\n",
       "      <td>77</td>\n",
       "      <td>31</td>\n",
       "      <td>21</td>\n",
       "      <td>...</td>\n",
       "      <td>NaN</td>\n",
       "      <td>Lower-middle income</td>\n",
       "      <td>2.420388</td>\n",
       "      <td>75.039</td>\n",
       "      <td>3026939.0</td>\n",
       "      <td>Electoral Autocracy</td>\n",
       "      <td>54.349</td>\n",
       "      <td>0.770849</td>\n",
       "      <td>45.651</td>\n",
       "      <td>Europe and Northern America</td>\n",
       "    </tr>\n",
       "  </tbody>\n",
       "</table>\n",
       "<p>5 rows × 85 columns</p>\n",
       "</div>"
      ],
      "text/plain": [
       "    Entity Code  Year  \\\n",
       "0  Albania  ALB  2000   \n",
       "1  Albania  ALB  2001   \n",
       "2  Albania  ALB  2002   \n",
       "3  Albania  ALB  2003   \n",
       "4  Albania  ALB  2004   \n",
       "\n",
       "   Deaths - Liver cancer - Sex: Both - Age: All Ages (Number)  \\\n",
       "0                                                316            \n",
       "1                                                301            \n",
       "2                                                295            \n",
       "3                                                290            \n",
       "4                                                272            \n",
       "\n",
       "   Deaths - Kidney cancer - Sex: Both - Age: All Ages (Number)  \\\n",
       "0                                                 40             \n",
       "1                                                 42             \n",
       "2                                                 47             \n",
       "3                                                 53             \n",
       "4                                                 57             \n",
       "\n",
       "   Deaths - Lip and oral cavity cancer - Sex: Both - Age: All Ages (Number)  \\\n",
       "0                                                 31                          \n",
       "1                                                 31                          \n",
       "2                                                 34                          \n",
       "3                                                 37                          \n",
       "4                                                 39                          \n",
       "\n",
       "   Deaths - Tracheal, bronchus, and lung cancer - Sex: Both - Age: All Ages (Number)  \\\n",
       "0                                                748                                   \n",
       "1                                                734                                   \n",
       "2                                                765                                   \n",
       "3                                                806                                   \n",
       "4                                                817                                   \n",
       "\n",
       "   Deaths - Larynx cancer - Sex: Both - Age: All Ages (Number)  \\\n",
       "0                                                 70             \n",
       "1                                                 68             \n",
       "2                                                 72             \n",
       "3                                                 77             \n",
       "4                                                 77             \n",
       "\n",
       "   Deaths - Gallbladder and biliary tract cancer - Sex: Both - Age: All Ages (Number)  \\\n",
       "0                                                 26                                    \n",
       "1                                                 26                                    \n",
       "2                                                 28                                    \n",
       "3                                                 30                                    \n",
       "4                                                 31                                    \n",
       "\n",
       "   Deaths - Malignant skin melanoma - Sex: Both - Age: All Ages (Number)  ...  \\\n",
       "0                                                 23                      ...   \n",
       "1                                                 21                      ...   \n",
       "2                                                 21                      ...   \n",
       "3                                                 21                      ...   \n",
       "4                                                 21                      ...   \n",
       "\n",
       "   Gini index (World Bank estimate) - SI.POV.GINI  \\\n",
       "0                                             NaN   \n",
       "1                                             NaN   \n",
       "2                                            31.7   \n",
       "3                                             NaN   \n",
       "4                                             NaN   \n",
       "\n",
       "   Income Classification (World Bank Definition)  \\\n",
       "0                            Lower-middle income   \n",
       "1                            Lower-middle income   \n",
       "2                            Lower-middle income   \n",
       "3                            Lower-middle income   \n",
       "4                            Lower-middle income   \n",
       "\n",
       "   Individuals using the Internet (% of population) - IT.NET.USER.ZS  \\\n",
       "0                                                NaN                   \n",
       "1                                           0.325798                   \n",
       "2                                           0.390081                   \n",
       "3                                           0.971900                   \n",
       "4                                           2.420388                   \n",
       "\n",
       "   Life expectancy at birth, total (years) - SP.DYN.LE00.IN  \\\n",
       "0                                                NaN          \n",
       "1                                             74.288          \n",
       "2                                             74.579          \n",
       "3                                             74.828          \n",
       "4                                             75.039          \n",
       "\n",
       "   Population, total - SP.POP.TOTL  Regime Type (RoW Measure Definition)  \\\n",
       "0                              NaN                   Electoral Autocracy   \n",
       "1                        3060173.0                   Electoral Autocracy   \n",
       "2                        3051010.0                   Electoral Autocracy   \n",
       "3                        3039616.0                   Electoral Autocracy   \n",
       "4                        3026939.0                   Electoral Autocracy   \n",
       "\n",
       "   Rural population (% of total population) - SP.RUR.TOTL.ZS  \\\n",
       "0                                             58.259           \n",
       "1                                             57.565           \n",
       "2                                             56.499           \n",
       "3                                             55.427           \n",
       "4                                             54.349           \n",
       "\n",
       "   Total natural resources rents (% of GDP) - NY.GDP.TOTL.RT.ZS  \\\n",
       "0                                                NaN              \n",
       "1                                           0.755950              \n",
       "2                                           0.760798              \n",
       "3                                           0.733194              \n",
       "4                                           0.770849              \n",
       "\n",
       "   Urban population (% of total population) - SP.URB.TOTL.IN.ZS  \\\n",
       "0                                                NaN              \n",
       "1                                             42.435              \n",
       "2                                             43.501              \n",
       "3                                             44.573              \n",
       "4                                             45.651              \n",
       "\n",
       "   World Regions (UN SDG Definition)  \n",
       "0        Europe and Northern America  \n",
       "1        Europe and Northern America  \n",
       "2        Europe and Northern America  \n",
       "3        Europe and Northern America  \n",
       "4        Europe and Northern America  \n",
       "\n",
       "[5 rows x 85 columns]"
      ]
     },
     "execution_count": 35,
     "metadata": {},
     "output_type": "execute_result"
    }
   ],
   "source": [
    "# Review new data frame\n",
    "cancer_merge_df.head()"
   ]
  },
  {
   "cell_type": "code",
   "execution_count": 36,
   "id": "60a75c5f",
   "metadata": {},
   "outputs": [
    {
     "data": {
      "text/plain": [
       "Index(['Entity', 'Code', 'Year',\n",
       "       'Deaths - Liver cancer - Sex: Both - Age: All Ages (Number)',\n",
       "       'Deaths - Kidney cancer - Sex: Both - Age: All Ages (Number)',\n",
       "       'Deaths - Lip and oral cavity cancer - Sex: Both - Age: All Ages (Number)',\n",
       "       'Deaths - Tracheal, bronchus, and lung cancer - Sex: Both - Age: All Ages (Number)',\n",
       "       'Deaths - Larynx cancer - Sex: Both - Age: All Ages (Number)',\n",
       "       'Deaths - Gallbladder and biliary tract cancer - Sex: Both - Age: All Ages (Number)',\n",
       "       'Deaths - Malignant skin melanoma - Sex: Both - Age: All Ages (Number)',\n",
       "       'Deaths - Leukemia - Sex: Both - Age: All Ages (Number)',\n",
       "       'Deaths - Hodgkin lymphoma - Sex: Both - Age: All Ages (Number)',\n",
       "       'Deaths - Multiple myeloma - Sex: Both - Age: All Ages (Number)',\n",
       "       'Deaths - Other neoplasms - Sex: Both - Age: All Ages (Number)',\n",
       "       'Deaths - Breast cancer - Sex: Both - Age: All Ages (Number)',\n",
       "       'Deaths - Prostate cancer - Sex: Both - Age: All Ages (Number)',\n",
       "       'Deaths - Thyroid cancer - Sex: Both - Age: All Ages (Number)',\n",
       "       'Deaths - Stomach cancer - Sex: Both - Age: All Ages (Number)',\n",
       "       'Deaths - Bladder cancer - Sex: Both - Age: All Ages (Number)',\n",
       "       'Deaths - Uterine cancer - Sex: Both - Age: All Ages (Number)',\n",
       "       'Deaths - Ovarian cancer - Sex: Both - Age: All Ages (Number)',\n",
       "       'Deaths - Cervical cancer - Sex: Both - Age: All Ages (Number)',\n",
       "       'Deaths - Brain and central nervous system cancer - Sex: Both - Age: All Ages (Number)',\n",
       "       'Deaths - Non-Hodgkin lymphoma - Sex: Both - Age: All Ages (Number)',\n",
       "       'Deaths - Pancreatic cancer - Sex: Both - Age: All Ages (Number)',\n",
       "       'Deaths - Esophageal cancer - Sex: Both - Age: All Ages (Number)',\n",
       "       'Deaths - Testicular cancer - Sex: Both - Age: All Ages (Number)',\n",
       "       'Deaths - Nasopharynx cancer - Sex: Both - Age: All Ages (Number)',\n",
       "       'Deaths - Other pharynx cancer - Sex: Both - Age: All Ages (Number)',\n",
       "       'Deaths - Colon and rectum cancer - Sex: Both - Age: All Ages (Number)',\n",
       "       'Deaths - Non-melanoma skin cancer - Sex: Both - Age: All Ages (Number)',\n",
       "       'Deaths - Mesothelioma - Sex: Both - Age: All Ages (Number)',\n",
       "       'Country Name', 'Country Code',\n",
       "       'Access to electricity (% of population) - EG.ELC.ACCS.ZS',\n",
       "       'Adjusted net national income per capita (annual % growth) - NY.ADJ.NNTY.PC.KD.ZG',\n",
       "       'Adjusted net savings, excluding particulate emission damage (% of GNI) - NY.ADJ.SVNX.GN.ZS',\n",
       "       'Adjusted savings: carbon dioxide damage (% of GNI) - NY.ADJ.DCO2.GN.ZS',\n",
       "       'Adjusted savings: natural resources depletion (% of GNI) - NY.ADJ.DRES.GN.ZS',\n",
       "       'Adjusted savings: net forest depletion (% of GNI) - NY.ADJ.DFOR.GN.ZS',\n",
       "       'Adjusted savings: particulate emission damage (% of GNI) - NY.ADJ.DPEM.GN.ZS',\n",
       "       'Automated teller machines (ATMs) (per 100,000 adults) - FB.ATM.TOTL.P5',\n",
       "       'Broad money (% of GDP) - FM.LBL.BMNY.GD.ZS',\n",
       "       'Children out of school (% of primary school age) - SE.PRM.UNER.ZS',\n",
       "       'Compulsory education, duration (years) - SE.COM.DURS',\n",
       "       'Cost of business start-up procedures, female (% of GNI per capita) - IC.REG.COST.PC.FE.ZS',\n",
       "       'Cost of business start-up procedures, male (% of GNI per capita) - IC.REG.COST.PC.MA.ZS',\n",
       "       'Exports of goods and services (% of GDP) - NE.EXP.GNFS.ZS',\n",
       "       'Final consumption expenditure (% of GDP) - NE.CON.TOTL.ZS',\n",
       "       'GDP (current US$) - NY.GDP.MKTP.CD',\n",
       "       'GDP per capita (current US$) - NY.GDP.PCAP.CD',\n",
       "       'General government final consumption expenditure (% of GDP) - NE.CON.GOVT.ZS',\n",
       "       'Gross national expenditure (% of GDP) - NE.DAB.TOTL.ZS',\n",
       "       'Gross savings (% of GDP) - NY.GNS.ICTR.ZS',\n",
       "       'Imports of goods and services (% of GDP) - NE.IMP.GNFS.ZS',\n",
       "       'Inflation, consumer prices (annual %) - FP.CPI.TOTL.ZG',\n",
       "       'Primary completion rate, total (% of relevant age group) - SE.PRM.CMPT.ZS',\n",
       "       'Proportion of seats held by women in national parliaments (%) - SG.GEN.PARL.ZS',\n",
       "       'Pupil-teacher ratio, primary - SE.PRM.ENRL.TC.ZS',\n",
       "       'Renewable electricity output (% of total electricity output) - EG.ELC.RNEW.ZS',\n",
       "       'Renewable energy consumption (% of total final energy consumption) - EG.FEC.RNEW.ZS',\n",
       "       'School enrollment, preprimary (% gross) - SE.PRE.ENRR',\n",
       "       'School enrollment, primary (% gross) - SE.PRM.ENRR',\n",
       "       'School enrollment, secondary (% gross) - SE.SEC.ENRR',\n",
       "       'Trade (% of GDP) - NE.TRD.GNFS.ZS',\n",
       "       'Women Business and the Law Index Score (scale 1-100) - SG.LAW.INDX',\n",
       "       'Prevalence of undernourishment (%) - SN_ITK_DEFC - 2.1.1',\n",
       "       'Proportion of population below international poverty line (%) - SI_POV_DAY1 - 1.1.1',\n",
       "       'Proportion of population covered by at least a 2G mobile network (%) - IT_MOB_2GNTWK - 9.c.1',\n",
       "       'Proportion of population covered by at least a 3G mobile network (%) - IT_MOB_3GNTWK - 9.c.1',\n",
       "       'Proportion of population using basic drinking water services (%) - SP_ACS_BSRVH2O - 1.4.1',\n",
       "       'Unemployment rate, male (%) - SL_TLF_UEM - 8.5.2',\n",
       "       'Unemployment rate, women (%) - SL_TLF_UEM - 8.5.2',\n",
       "       'Annual production-based emissions of carbon dioxide (CO2), measured in million tonnes',\n",
       "       'Continent', 'Gini index (World Bank estimate) - SI.POV.GINI',\n",
       "       'Income Classification (World Bank Definition)',\n",
       "       'Individuals using the Internet (% of population) - IT.NET.USER.ZS',\n",
       "       'Life expectancy at birth, total (years) - SP.DYN.LE00.IN',\n",
       "       'Population, total - SP.POP.TOTL',\n",
       "       'Regime Type (RoW Measure Definition)',\n",
       "       'Rural population (% of total population) - SP.RUR.TOTL.ZS',\n",
       "       'Total natural resources rents (% of GDP) - NY.GDP.TOTL.RT.ZS',\n",
       "       'Urban population (% of total population) - SP.URB.TOTL.IN.ZS',\n",
       "       'World Regions (UN SDG Definition)'],\n",
       "      dtype='object')"
      ]
     },
     "execution_count": 36,
     "metadata": {},
     "output_type": "execute_result"
    }
   ],
   "source": [
    "# View column names\n",
    "cancer_merge_df.columns"
   ]
  },
  {
   "cell_type": "code",
   "execution_count": 37,
   "id": "ad8d0fdd",
   "metadata": {},
   "outputs": [],
   "source": [
    "# Creat keep list of columns from group for first review\n",
    "\n",
    "keep = ['Entity','Year',\n",
    "       'Deaths - Liver cancer - Sex: Both - Age: All Ages (Number)',\n",
    "       'Deaths - Kidney cancer - Sex: Both - Age: All Ages (Number)',\n",
    "       'Deaths - Tracheal, bronchus, and lung cancer - Sex: Both - Age: All Ages (Number)',\n",
    "       'Deaths - Malignant skin melanoma - Sex: Both - Age: All Ages (Number)',\n",
    "       'Deaths - Leukemia - Sex: Both - Age: All Ages (Number)',\n",
    "       'Deaths - Breast cancer - Sex: Both - Age: All Ages (Number)',\n",
    "       'Deaths - Prostate cancer - Sex: Both - Age: All Ages (Number)',\n",
    "       'Deaths - Thyroid cancer - Sex: Both - Age: All Ages (Number)',\n",
    "       'Deaths - Bladder cancer - Sex: Both - Age: All Ages (Number)',\n",
    "       'Deaths - Uterine cancer - Sex: Both - Age: All Ages (Number)',\n",
    "       'Deaths - Ovarian cancer - Sex: Both - Age: All Ages (Number)',\n",
    "       'Deaths - Cervical cancer - Sex: Both - Age: All Ages (Number)',\n",
    "       'Deaths - Non-Hodgkin lymphoma - Sex: Both - Age: All Ages (Number)',\n",
    "       'Deaths - Pancreatic cancer - Sex: Both - Age: All Ages (Number)',\n",
    "       'Deaths - Colon and rectum cancer - Sex: Both - Age: All Ages (Number)',\n",
    "       'Access to electricity (% of population) - EG.ELC.ACCS.ZS',\n",
    "       'Adjusted savings: carbon dioxide damage (% of GNI) - NY.ADJ.DCO2.GN.ZS',\n",
    "       'Adjusted savings: natural resources depletion (% of GNI) - NY.ADJ.DRES.GN.ZS',\n",
    "       'Adjusted savings: net forest depletion (% of GNI) - NY.ADJ.DFOR.GN.ZS',\n",
    "       'Adjusted savings: particulate emission damage (% of GNI) - NY.ADJ.DPEM.GN.ZS',\n",
    "       'Final consumption expenditure (% of GDP) - NE.CON.TOTL.ZS',\n",
    "       'GDP (current US$) - NY.GDP.MKTP.CD','Continent',\n",
    "       'General government final consumption expenditure (% of GDP) - NE.CON.GOVT.ZS',\n",
    "       'Inflation, consumer prices (annual %) - FP.CPI.TOTL.ZG',\n",
    "       'Renewable energy consumption (% of total final energy consumption) - EG.FEC.RNEW.ZS',\n",
    "       'Prevalence of undernourishment (%) - SN_ITK_DEFC - 2.1.1',\n",
    "       'Proportion of population below international poverty line (%) - SI_POV_DAY1 - 1.1.1',\n",
    "       'Proportion of population using basic drinking water services (%) - SP_ACS_BSRVH2O - 1.4.1',\n",
    "       'Annual production-based emissions of carbon dioxide (CO2), measured in million tonnes',\n",
    "       'Income Classification (World Bank Definition)',\n",
    "       'Life expectancy at birth, total (years) - SP.DYN.LE00.IN',\n",
    "       'Population, total - SP.POP.TOTL',\n",
    "       'Regime Type (RoW Measure Definition)',\n",
    "       'Rural population (% of total population) - SP.RUR.TOTL.ZS',\n",
    "       'Total natural resources rents (% of GDP) - NY.GDP.TOTL.RT.ZS',\n",
    "       'Urban population (% of total population) - SP.URB.TOTL.IN.ZS',\n",
    "       'World Regions (UN SDG Definition)']"
   ]
  },
  {
   "cell_type": "code",
   "execution_count": 38,
   "id": "ec253933",
   "metadata": {},
   "outputs": [
    {
     "data": {
      "text/html": [
       "<div>\n",
       "<style scoped>\n",
       "    .dataframe tbody tr th:only-of-type {\n",
       "        vertical-align: middle;\n",
       "    }\n",
       "\n",
       "    .dataframe tbody tr th {\n",
       "        vertical-align: top;\n",
       "    }\n",
       "\n",
       "    .dataframe thead th {\n",
       "        text-align: right;\n",
       "    }\n",
       "</style>\n",
       "<table border=\"1\" class=\"dataframe\">\n",
       "  <thead>\n",
       "    <tr style=\"text-align: right;\">\n",
       "      <th></th>\n",
       "      <th>Entity</th>\n",
       "      <th>Year</th>\n",
       "      <th>Deaths - Liver cancer - Sex: Both - Age: All Ages (Number)</th>\n",
       "      <th>Deaths - Kidney cancer - Sex: Both - Age: All Ages (Number)</th>\n",
       "      <th>Deaths - Tracheal, bronchus, and lung cancer - Sex: Both - Age: All Ages (Number)</th>\n",
       "      <th>Deaths - Malignant skin melanoma - Sex: Both - Age: All Ages (Number)</th>\n",
       "      <th>Deaths - Leukemia - Sex: Both - Age: All Ages (Number)</th>\n",
       "      <th>Deaths - Breast cancer - Sex: Both - Age: All Ages (Number)</th>\n",
       "      <th>Deaths - Prostate cancer - Sex: Both - Age: All Ages (Number)</th>\n",
       "      <th>Deaths - Thyroid cancer - Sex: Both - Age: All Ages (Number)</th>\n",
       "      <th>...</th>\n",
       "      <th>Proportion of population using basic drinking water services (%) - SP_ACS_BSRVH2O - 1.4.1</th>\n",
       "      <th>Annual production-based emissions of carbon dioxide (CO2), measured in million tonnes</th>\n",
       "      <th>Income Classification (World Bank Definition)</th>\n",
       "      <th>Life expectancy at birth, total (years) - SP.DYN.LE00.IN</th>\n",
       "      <th>Population, total - SP.POP.TOTL</th>\n",
       "      <th>Regime Type (RoW Measure Definition)</th>\n",
       "      <th>Rural population (% of total population) - SP.RUR.TOTL.ZS</th>\n",
       "      <th>Total natural resources rents (% of GDP) - NY.GDP.TOTL.RT.ZS</th>\n",
       "      <th>Urban population (% of total population) - SP.URB.TOTL.IN.ZS</th>\n",
       "      <th>World Regions (UN SDG Definition)</th>\n",
       "    </tr>\n",
       "  </thead>\n",
       "  <tbody>\n",
       "    <tr>\n",
       "      <th>0</th>\n",
       "      <td>Albania</td>\n",
       "      <td>2000</td>\n",
       "      <td>316</td>\n",
       "      <td>40</td>\n",
       "      <td>748</td>\n",
       "      <td>23</td>\n",
       "      <td>125</td>\n",
       "      <td>162</td>\n",
       "      <td>192</td>\n",
       "      <td>14</td>\n",
       "      <td>...</td>\n",
       "      <td>NaN</td>\n",
       "      <td>3.004</td>\n",
       "      <td>Lower-middle income</td>\n",
       "      <td>NaN</td>\n",
       "      <td>NaN</td>\n",
       "      <td>Electoral Autocracy</td>\n",
       "      <td>58.259</td>\n",
       "      <td>NaN</td>\n",
       "      <td>NaN</td>\n",
       "      <td>Europe and Northern America</td>\n",
       "    </tr>\n",
       "    <tr>\n",
       "      <th>1</th>\n",
       "      <td>Albania</td>\n",
       "      <td>2001</td>\n",
       "      <td>301</td>\n",
       "      <td>42</td>\n",
       "      <td>734</td>\n",
       "      <td>21</td>\n",
       "      <td>121</td>\n",
       "      <td>163</td>\n",
       "      <td>195</td>\n",
       "      <td>14</td>\n",
       "      <td>...</td>\n",
       "      <td>NaN</td>\n",
       "      <td>3.221</td>\n",
       "      <td>Lower-middle income</td>\n",
       "      <td>74.288</td>\n",
       "      <td>3060173.0</td>\n",
       "      <td>Electoral Autocracy</td>\n",
       "      <td>57.565</td>\n",
       "      <td>0.755950</td>\n",
       "      <td>42.435</td>\n",
       "      <td>Europe and Northern America</td>\n",
       "    </tr>\n",
       "    <tr>\n",
       "      <th>2</th>\n",
       "      <td>Albania</td>\n",
       "      <td>2002</td>\n",
       "      <td>295</td>\n",
       "      <td>47</td>\n",
       "      <td>765</td>\n",
       "      <td>21</td>\n",
       "      <td>124</td>\n",
       "      <td>175</td>\n",
       "      <td>206</td>\n",
       "      <td>14</td>\n",
       "      <td>...</td>\n",
       "      <td>NaN</td>\n",
       "      <td>3.748</td>\n",
       "      <td>Lower-middle income</td>\n",
       "      <td>74.579</td>\n",
       "      <td>3051010.0</td>\n",
       "      <td>Electoral Autocracy</td>\n",
       "      <td>56.499</td>\n",
       "      <td>0.760798</td>\n",
       "      <td>43.501</td>\n",
       "      <td>Europe and Northern America</td>\n",
       "    </tr>\n",
       "    <tr>\n",
       "      <th>3</th>\n",
       "      <td>Albania</td>\n",
       "      <td>2003</td>\n",
       "      <td>290</td>\n",
       "      <td>53</td>\n",
       "      <td>806</td>\n",
       "      <td>21</td>\n",
       "      <td>129</td>\n",
       "      <td>191</td>\n",
       "      <td>219</td>\n",
       "      <td>15</td>\n",
       "      <td>...</td>\n",
       "      <td>NaN</td>\n",
       "      <td>4.232</td>\n",
       "      <td>Lower-middle income</td>\n",
       "      <td>74.828</td>\n",
       "      <td>3039616.0</td>\n",
       "      <td>Electoral Autocracy</td>\n",
       "      <td>55.427</td>\n",
       "      <td>0.733194</td>\n",
       "      <td>44.573</td>\n",
       "      <td>Europe and Northern America</td>\n",
       "    </tr>\n",
       "    <tr>\n",
       "      <th>4</th>\n",
       "      <td>Albania</td>\n",
       "      <td>2004</td>\n",
       "      <td>272</td>\n",
       "      <td>57</td>\n",
       "      <td>817</td>\n",
       "      <td>21</td>\n",
       "      <td>132</td>\n",
       "      <td>198</td>\n",
       "      <td>227</td>\n",
       "      <td>15</td>\n",
       "      <td>...</td>\n",
       "      <td>NaN</td>\n",
       "      <td>4.104</td>\n",
       "      <td>Lower-middle income</td>\n",
       "      <td>75.039</td>\n",
       "      <td>3026939.0</td>\n",
       "      <td>Electoral Autocracy</td>\n",
       "      <td>54.349</td>\n",
       "      <td>0.770849</td>\n",
       "      <td>45.651</td>\n",
       "      <td>Europe and Northern America</td>\n",
       "    </tr>\n",
       "  </tbody>\n",
       "</table>\n",
       "<p>5 rows × 40 columns</p>\n",
       "</div>"
      ],
      "text/plain": [
       "    Entity  Year  Deaths - Liver cancer - Sex: Both - Age: All Ages (Number)  \\\n",
       "0  Albania  2000                                                316            \n",
       "1  Albania  2001                                                301            \n",
       "2  Albania  2002                                                295            \n",
       "3  Albania  2003                                                290            \n",
       "4  Albania  2004                                                272            \n",
       "\n",
       "   Deaths - Kidney cancer - Sex: Both - Age: All Ages (Number)  \\\n",
       "0                                                 40             \n",
       "1                                                 42             \n",
       "2                                                 47             \n",
       "3                                                 53             \n",
       "4                                                 57             \n",
       "\n",
       "   Deaths - Tracheal, bronchus, and lung cancer - Sex: Both - Age: All Ages (Number)  \\\n",
       "0                                                748                                   \n",
       "1                                                734                                   \n",
       "2                                                765                                   \n",
       "3                                                806                                   \n",
       "4                                                817                                   \n",
       "\n",
       "   Deaths - Malignant skin melanoma - Sex: Both - Age: All Ages (Number)  \\\n",
       "0                                                 23                       \n",
       "1                                                 21                       \n",
       "2                                                 21                       \n",
       "3                                                 21                       \n",
       "4                                                 21                       \n",
       "\n",
       "   Deaths - Leukemia - Sex: Both - Age: All Ages (Number)  \\\n",
       "0                                                125        \n",
       "1                                                121        \n",
       "2                                                124        \n",
       "3                                                129        \n",
       "4                                                132        \n",
       "\n",
       "   Deaths - Breast cancer - Sex: Both - Age: All Ages (Number)  \\\n",
       "0                                                162             \n",
       "1                                                163             \n",
       "2                                                175             \n",
       "3                                                191             \n",
       "4                                                198             \n",
       "\n",
       "   Deaths - Prostate cancer - Sex: Both - Age: All Ages (Number)  \\\n",
       "0                                                192               \n",
       "1                                                195               \n",
       "2                                                206               \n",
       "3                                                219               \n",
       "4                                                227               \n",
       "\n",
       "   Deaths - Thyroid cancer - Sex: Both - Age: All Ages (Number)  ...  \\\n",
       "0                                                 14             ...   \n",
       "1                                                 14             ...   \n",
       "2                                                 14             ...   \n",
       "3                                                 15             ...   \n",
       "4                                                 15             ...   \n",
       "\n",
       "   Proportion of population using basic drinking water services (%) - SP_ACS_BSRVH2O - 1.4.1  \\\n",
       "0                                                NaN                                           \n",
       "1                                                NaN                                           \n",
       "2                                                NaN                                           \n",
       "3                                                NaN                                           \n",
       "4                                                NaN                                           \n",
       "\n",
       "   Annual production-based emissions of carbon dioxide (CO2), measured in million tonnes  \\\n",
       "0                                              3.004                                       \n",
       "1                                              3.221                                       \n",
       "2                                              3.748                                       \n",
       "3                                              4.232                                       \n",
       "4                                              4.104                                       \n",
       "\n",
       "   Income Classification (World Bank Definition)  \\\n",
       "0                            Lower-middle income   \n",
       "1                            Lower-middle income   \n",
       "2                            Lower-middle income   \n",
       "3                            Lower-middle income   \n",
       "4                            Lower-middle income   \n",
       "\n",
       "   Life expectancy at birth, total (years) - SP.DYN.LE00.IN  \\\n",
       "0                                                NaN          \n",
       "1                                             74.288          \n",
       "2                                             74.579          \n",
       "3                                             74.828          \n",
       "4                                             75.039          \n",
       "\n",
       "   Population, total - SP.POP.TOTL  Regime Type (RoW Measure Definition)  \\\n",
       "0                              NaN                   Electoral Autocracy   \n",
       "1                        3060173.0                   Electoral Autocracy   \n",
       "2                        3051010.0                   Electoral Autocracy   \n",
       "3                        3039616.0                   Electoral Autocracy   \n",
       "4                        3026939.0                   Electoral Autocracy   \n",
       "\n",
       "   Rural population (% of total population) - SP.RUR.TOTL.ZS  \\\n",
       "0                                             58.259           \n",
       "1                                             57.565           \n",
       "2                                             56.499           \n",
       "3                                             55.427           \n",
       "4                                             54.349           \n",
       "\n",
       "   Total natural resources rents (% of GDP) - NY.GDP.TOTL.RT.ZS  \\\n",
       "0                                                NaN              \n",
       "1                                           0.755950              \n",
       "2                                           0.760798              \n",
       "3                                           0.733194              \n",
       "4                                           0.770849              \n",
       "\n",
       "   Urban population (% of total population) - SP.URB.TOTL.IN.ZS  \\\n",
       "0                                                NaN              \n",
       "1                                             42.435              \n",
       "2                                             43.501              \n",
       "3                                             44.573              \n",
       "4                                             45.651              \n",
       "\n",
       "   World Regions (UN SDG Definition)  \n",
       "0        Europe and Northern America  \n",
       "1        Europe and Northern America  \n",
       "2        Europe and Northern America  \n",
       "3        Europe and Northern America  \n",
       "4        Europe and Northern America  \n",
       "\n",
       "[5 rows x 40 columns]"
      ]
     },
     "execution_count": 38,
     "metadata": {},
     "output_type": "execute_result"
    }
   ],
   "source": [
    "# Create new df to hold kept columns\n",
    "cancer_clean_df = cancer_merge_df[keep]\n",
    "\n",
    "cancer_clean_df.head()"
   ]
  },
  {
   "cell_type": "code",
   "execution_count": 39,
   "id": "67a2abf1",
   "metadata": {},
   "outputs": [],
   "source": [
    "# CReate list of for new df columns\n",
    "\n",
    "kept_list = cancer_clean_df.columns\n"
   ]
  },
  {
   "cell_type": "code",
   "execution_count": 40,
   "id": "5adae0b9",
   "metadata": {},
   "outputs": [
    {
     "name": "stdout",
     "output_type": "stream",
     "text": [
      "Entity has 0.0 nulls\n",
      "Year has 0.0 nulls\n",
      "Deaths - Liver cancer - Sex: Both - Age: All Ages (Number) has 0.0 nulls\n",
      "Deaths - Kidney cancer - Sex: Both - Age: All Ages (Number) has 0.0 nulls\n",
      "Deaths - Tracheal, bronchus, and lung cancer - Sex: Both - Age: All Ages (Number) has 0.0 nulls\n",
      "Deaths - Malignant skin melanoma - Sex: Both - Age: All Ages (Number) has 0.0 nulls\n",
      "Deaths - Leukemia - Sex: Both - Age: All Ages (Number) has 0.0 nulls\n",
      "Deaths - Breast cancer - Sex: Both - Age: All Ages (Number) has 0.0 nulls\n",
      "Deaths - Prostate cancer - Sex: Both - Age: All Ages (Number) has 0.0 nulls\n",
      "Deaths - Thyroid cancer - Sex: Both - Age: All Ages (Number) has 0.0 nulls\n",
      "Deaths - Bladder cancer - Sex: Both - Age: All Ages (Number) has 0.0 nulls\n",
      "Deaths - Uterine cancer - Sex: Both - Age: All Ages (Number) has 0.0 nulls\n",
      "Deaths - Ovarian cancer - Sex: Both - Age: All Ages (Number) has 0.0 nulls\n",
      "Deaths - Cervical cancer - Sex: Both - Age: All Ages (Number) has 0.0 nulls\n",
      "Deaths - Non-Hodgkin lymphoma - Sex: Both - Age: All Ages (Number) has 0.0 nulls\n",
      "Deaths - Pancreatic cancer - Sex: Both - Age: All Ages (Number) has 0.0 nulls\n",
      "Deaths - Colon and rectum cancer - Sex: Both - Age: All Ages (Number) has 0.0 nulls\n",
      "Access to electricity (% of population) - EG.ELC.ACCS.ZS has 2.6139173436948075 nulls\n",
      "Adjusted savings: carbon dioxide damage (% of GNI) - NY.ADJ.DCO2.GN.ZS has 1.0596962204168139 nulls\n",
      "Adjusted savings: natural resources depletion (% of GNI) - NY.ADJ.DRES.GN.ZS has 3.179088661250441 nulls\n",
      "Adjusted savings: net forest depletion (% of GNI) - NY.ADJ.DFOR.GN.ZS has 2.9671494171670787 nulls\n",
      "Adjusted savings: particulate emission damage (% of GNI) - NY.ADJ.DPEM.GN.ZS has 3.1437654539032143 nulls\n",
      "Final consumption expenditure (% of GDP) - NE.CON.TOTL.ZS has 5.616389968209114 nulls\n",
      "GDP (current US$) - NY.GDP.MKTP.CD has 0.24726245143058992 nulls\n",
      "Continent has 0.0 nulls\n",
      "General government final consumption expenditure (% of GDP) - NE.CON.GOVT.ZS has 6.181561285764747 nulls\n",
      "Inflation, consumer prices (annual %) - FP.CPI.TOTL.ZG has 5.757682797598021 nulls\n",
      "Renewable energy consumption (% of total final energy consumption) - EG.FEC.RNEW.ZS has 0.0 nulls\n",
      "Prevalence of undernourishment (%) - SN_ITK_DEFC - 2.1.1 has 44.25997880607559 nulls\n",
      "Proportion of population below international poverty line (%) - SI_POV_DAY1 - 1.1.1 has 58.24796891557753 nulls\n",
      "Proportion of population using basic drinking water services (%) - SP_ACS_BSRVH2O - 1.4.1 has 41.71670787707524 nulls\n",
      "Annual production-based emissions of carbon dioxide (CO2), measured in million tonnes has 0.0 nulls\n",
      "Income Classification (World Bank Definition) has 0.0 nulls\n",
      "Life expectancy at birth, total (years) - SP.DYN.LE00.IN has 5.8636524196397035 nulls\n",
      "Population, total - SP.POP.TOTL has 5.510420346167432 nulls\n",
      "Regime Type (RoW Measure Definition) has 2.684563758389262 nulls\n",
      "Rural population (% of total population) - SP.RUR.TOTL.ZS has 0.24726245143058992 nulls\n",
      "Total natural resources rents (% of GDP) - NY.GDP.TOTL.RT.ZS has 5.793006004945249 nulls\n",
      "Urban population (% of total population) - SP.URB.TOTL.IN.ZS has 5.510420346167432 nulls\n",
      "World Regions (UN SDG Definition) has 0.0 nulls\n"
     ]
    }
   ],
   "source": [
    "# Check null values and print column and % of null values remaining in dataset\n",
    "\n",
    "for name in kept_list:\n",
    "    null = cancer_clean_df[name].isnull().sum(axis=0)\n",
    "    perc_null = (null/2831)*100\n",
    "    print(f'{name} has {perc_null} nulls')"
   ]
  },
  {
   "cell_type": "code",
   "execution_count": 41,
   "id": "b1f643b9",
   "metadata": {},
   "outputs": [
    {
     "data": {
      "text/html": [
       "<div>\n",
       "<style scoped>\n",
       "    .dataframe tbody tr th:only-of-type {\n",
       "        vertical-align: middle;\n",
       "    }\n",
       "\n",
       "    .dataframe tbody tr th {\n",
       "        vertical-align: top;\n",
       "    }\n",
       "\n",
       "    .dataframe thead th {\n",
       "        text-align: right;\n",
       "    }\n",
       "</style>\n",
       "<table border=\"1\" class=\"dataframe\">\n",
       "  <thead>\n",
       "    <tr style=\"text-align: right;\">\n",
       "      <th></th>\n",
       "      <th>Entity</th>\n",
       "      <th>Prevalence of undernourishment (%) - SN_ITK_DEFC - 2.1.1</th>\n",
       "      <th>Proportion of population using basic drinking water services (%) - SP_ACS_BSRVH2O - 1.4.1</th>\n",
       "    </tr>\n",
       "  </thead>\n",
       "  <tbody>\n",
       "    <tr>\n",
       "      <th>0</th>\n",
       "      <td>Albania</td>\n",
       "      <td>NaN</td>\n",
       "      <td>NaN</td>\n",
       "    </tr>\n",
       "    <tr>\n",
       "      <th>1</th>\n",
       "      <td>Albania</td>\n",
       "      <td>4.9</td>\n",
       "      <td>NaN</td>\n",
       "    </tr>\n",
       "    <tr>\n",
       "      <th>2</th>\n",
       "      <td>Albania</td>\n",
       "      <td>6.1</td>\n",
       "      <td>NaN</td>\n",
       "    </tr>\n",
       "    <tr>\n",
       "      <th>3</th>\n",
       "      <td>Albania</td>\n",
       "      <td>7.5</td>\n",
       "      <td>NaN</td>\n",
       "    </tr>\n",
       "    <tr>\n",
       "      <th>4</th>\n",
       "      <td>Albania</td>\n",
       "      <td>8.6</td>\n",
       "      <td>NaN</td>\n",
       "    </tr>\n",
       "  </tbody>\n",
       "</table>\n",
       "</div>"
      ],
      "text/plain": [
       "    Entity  Prevalence of undernourishment (%) - SN_ITK_DEFC - 2.1.1  \\\n",
       "0  Albania                                                NaN          \n",
       "1  Albania                                                4.9          \n",
       "2  Albania                                                6.1          \n",
       "3  Albania                                                7.5          \n",
       "4  Albania                                                8.6          \n",
       "\n",
       "   Proportion of population using basic drinking water services (%) - SP_ACS_BSRVH2O - 1.4.1  \n",
       "0                                                NaN                                          \n",
       "1                                                NaN                                          \n",
       "2                                                NaN                                          \n",
       "3                                                NaN                                          \n",
       "4                                                NaN                                          "
      ]
     },
     "execution_count": 41,
     "metadata": {},
     "output_type": "execute_result"
    }
   ],
   "source": [
    "# Make a new dataframe comparing countries to high null % columns\n",
    "\n",
    "check_nulls = cancer_clean_df[['Entity','Prevalence of undernourishment (%) - SN_ITK_DEFC - 2.1.1',\n",
    "       'Proportion of population using basic drinking water services (%) - SP_ACS_BSRVH2O - 1.4.1']]\n",
    "\n",
    "check_nulls.head()"
   ]
  },
  {
   "cell_type": "code",
   "execution_count": 42,
   "id": "b7871528",
   "metadata": {},
   "outputs": [
    {
     "name": "stderr",
     "output_type": "stream",
     "text": [
      "C:\\Users\\Big Pappa J\\anaconda3\\envs\\mlenv\\lib\\site-packages\\ipykernel_launcher.py:11: UserWarning: FixedFormatter should only be used together with FixedLocator\n",
      "  # This is added back by InteractiveShellApp.init_path()\n"
     ]
    },
    {
     "data": {
      "image/png": "[encoded data removed]",
      "text/plain": [
       "<Figure size 3600x1800 with 1 Axes>"
      ]
     },
     "metadata": {
      "needs_background": "light"
     },
     "output_type": "display_data"
    }
   ],
   "source": [
    "# Check water column for null data totals 41% of data is Null\n",
    "\n",
    "country = check_nulls.groupby(check_nulls['Entity']).sum()\n",
    "country.reset_index(inplace=True)\n",
    "x = country['Entity'].tolist()\n",
    "y = country['Proportion of population using basic drinking water services (%) - SP_ACS_BSRVH2O - 1.4.1']\n",
    "\n",
    "plt.figure(figsize=(50, 25))\n",
    "plt.bar(x, y)\n",
    "ax = plt.gca()\n",
    "ax.set_xticklabels(ax.get_xticks(), rotation = 90)\n",
    "\n",
    "plt.show()"
   ]
  },
  {
   "cell_type": "code",
   "execution_count": 43,
   "id": "f3c9dec4",
   "metadata": {},
   "outputs": [
    {
     "name": "stderr",
     "output_type": "stream",
     "text": [
      "C:\\Users\\Big Pappa J\\anaconda3\\envs\\mlenv\\lib\\site-packages\\ipykernel_launcher.py:9: UserWarning: FixedFormatter should only be used together with FixedLocator\n",
      "  if __name__ == '__main__':\n"
     ]
    },
    {
     "data": {
      "image/png": "[encoded data removed]",
      "text/plain": [
       "<Figure size 3600x1800 with 1 Axes>"
      ]
     },
     "metadata": {
      "needs_background": "light"
     },
     "output_type": "display_data"
    }
   ],
   "source": [
    "# Check undernourishment column for data amounts  44%  of data is Null\n",
    "\n",
    "x = country['Entity'].tolist()\n",
    "y = country['Prevalence of undernourishment (%) - SN_ITK_DEFC - 2.1.1']\n",
    "\n",
    "plt.figure(figsize=(50, 25))\n",
    "plt.bar(x, y)\n",
    "ax = plt.gca()\n",
    "ax.set_xticklabels(ax.get_xticks(), rotation = 90)\n",
    "\n",
    "plt.show()"
   ]
  },
  {
   "cell_type": "code",
   "execution_count": 44,
   "id": "6d2a2634",
   "metadata": {},
   "outputs": [
    {
     "data": {
      "text/plain": [
       "(2831, 37)"
      ]
     },
     "execution_count": 44,
     "metadata": {},
     "output_type": "execute_result"
    }
   ],
   "source": [
    "# Delete Columns with insufficient Data\n",
    "\n",
    "eco_cancer_data = cancer_clean_df.drop(columns=['Prevalence of undernourishment (%) - SN_ITK_DEFC - 2.1.1',\n",
    "                                  'Proportion of population below international poverty line (%) - SI_POV_DAY1 - 1.1.1',\n",
    "                                  'Proportion of population using basic drinking water services (%) - SP_ACS_BSRVH2O - 1.4.1'], axis=1)\n",
    "# Create list of final columns\n",
    "final_column = eco_cancer_data.columns\n",
    "\n",
    "eco_cancer_data.shape"
   ]
  },
  {
   "cell_type": "code",
   "execution_count": 45,
   "id": "9daedbf4",
   "metadata": {},
   "outputs": [
    {
     "data": {
      "text/html": [
       "<div>\n",
       "<style scoped>\n",
       "    .dataframe tbody tr th:only-of-type {\n",
       "        vertical-align: middle;\n",
       "    }\n",
       "\n",
       "    .dataframe tbody tr th {\n",
       "        vertical-align: top;\n",
       "    }\n",
       "\n",
       "    .dataframe thead th {\n",
       "        text-align: right;\n",
       "    }\n",
       "</style>\n",
       "<table border=\"1\" class=\"dataframe\">\n",
       "  <thead>\n",
       "    <tr style=\"text-align: right;\">\n",
       "      <th></th>\n",
       "      <th>Country</th>\n",
       "      <th>Year</th>\n",
       "      <th>Liver cancer</th>\n",
       "      <th>Kidney cancer</th>\n",
       "      <th>Tracheal, bronchus, and lung cancer</th>\n",
       "      <th>Malignant skin melanoma</th>\n",
       "      <th>Leukemia</th>\n",
       "      <th>Breast cancer</th>\n",
       "      <th>Prostate cancer</th>\n",
       "      <th>Thyroid cancer</th>\n",
       "      <th>...</th>\n",
       "      <th>Renewable energy consumption</th>\n",
       "      <th>Annual production-based emissions of carbon dioxide (CO2), measured in million tonnes</th>\n",
       "      <th>Income Classification (World Bank Definition)</th>\n",
       "      <th>Life expectancy at birth, total (years)</th>\n",
       "      <th>Population</th>\n",
       "      <th>Regime Type (RoW Measure Definition)</th>\n",
       "      <th>Rural population (% of total population)</th>\n",
       "      <th>Total natural resources rents (% of GDP)</th>\n",
       "      <th>Urban population (% of total population)</th>\n",
       "      <th>World Regions</th>\n",
       "    </tr>\n",
       "  </thead>\n",
       "  <tbody>\n",
       "    <tr>\n",
       "      <th>0</th>\n",
       "      <td>Albania</td>\n",
       "      <td>2000</td>\n",
       "      <td>316</td>\n",
       "      <td>40</td>\n",
       "      <td>748</td>\n",
       "      <td>23</td>\n",
       "      <td>125</td>\n",
       "      <td>162</td>\n",
       "      <td>192</td>\n",
       "      <td>14</td>\n",
       "      <td>...</td>\n",
       "      <td>41.445000</td>\n",
       "      <td>3.004</td>\n",
       "      <td>Lower-middle income</td>\n",
       "      <td>NaN</td>\n",
       "      <td>NaN</td>\n",
       "      <td>Electoral Autocracy</td>\n",
       "      <td>58.259</td>\n",
       "      <td>NaN</td>\n",
       "      <td>NaN</td>\n",
       "      <td>Europe and Northern America</td>\n",
       "    </tr>\n",
       "    <tr>\n",
       "      <th>1</th>\n",
       "      <td>Albania</td>\n",
       "      <td>2001</td>\n",
       "      <td>301</td>\n",
       "      <td>42</td>\n",
       "      <td>734</td>\n",
       "      <td>21</td>\n",
       "      <td>121</td>\n",
       "      <td>163</td>\n",
       "      <td>195</td>\n",
       "      <td>14</td>\n",
       "      <td>...</td>\n",
       "      <td>39.125301</td>\n",
       "      <td>3.221</td>\n",
       "      <td>Lower-middle income</td>\n",
       "      <td>74.288</td>\n",
       "      <td>3060173.0</td>\n",
       "      <td>Electoral Autocracy</td>\n",
       "      <td>57.565</td>\n",
       "      <td>0.755950</td>\n",
       "      <td>42.435</td>\n",
       "      <td>Europe and Northern America</td>\n",
       "    </tr>\n",
       "    <tr>\n",
       "      <th>2</th>\n",
       "      <td>Albania</td>\n",
       "      <td>2002</td>\n",
       "      <td>295</td>\n",
       "      <td>47</td>\n",
       "      <td>765</td>\n",
       "      <td>21</td>\n",
       "      <td>124</td>\n",
       "      <td>175</td>\n",
       "      <td>206</td>\n",
       "      <td>14</td>\n",
       "      <td>...</td>\n",
       "      <td>35.895802</td>\n",
       "      <td>3.748</td>\n",
       "      <td>Lower-middle income</td>\n",
       "      <td>74.579</td>\n",
       "      <td>3051010.0</td>\n",
       "      <td>Electoral Autocracy</td>\n",
       "      <td>56.499</td>\n",
       "      <td>0.760798</td>\n",
       "      <td>43.501</td>\n",
       "      <td>Europe and Northern America</td>\n",
       "    </tr>\n",
       "    <tr>\n",
       "      <th>3</th>\n",
       "      <td>Albania</td>\n",
       "      <td>2003</td>\n",
       "      <td>290</td>\n",
       "      <td>53</td>\n",
       "      <td>806</td>\n",
       "      <td>21</td>\n",
       "      <td>129</td>\n",
       "      <td>191</td>\n",
       "      <td>219</td>\n",
       "      <td>15</td>\n",
       "      <td>...</td>\n",
       "      <td>33.751701</td>\n",
       "      <td>4.232</td>\n",
       "      <td>Lower-middle income</td>\n",
       "      <td>74.828</td>\n",
       "      <td>3039616.0</td>\n",
       "      <td>Electoral Autocracy</td>\n",
       "      <td>55.427</td>\n",
       "      <td>0.733194</td>\n",
       "      <td>44.573</td>\n",
       "      <td>Europe and Northern America</td>\n",
       "    </tr>\n",
       "    <tr>\n",
       "      <th>4</th>\n",
       "      <td>Albania</td>\n",
       "      <td>2004</td>\n",
       "      <td>272</td>\n",
       "      <td>57</td>\n",
       "      <td>817</td>\n",
       "      <td>21</td>\n",
       "      <td>132</td>\n",
       "      <td>198</td>\n",
       "      <td>227</td>\n",
       "      <td>15</td>\n",
       "      <td>...</td>\n",
       "      <td>35.934700</td>\n",
       "      <td>4.104</td>\n",
       "      <td>Lower-middle income</td>\n",
       "      <td>75.039</td>\n",
       "      <td>3026939.0</td>\n",
       "      <td>Electoral Autocracy</td>\n",
       "      <td>54.349</td>\n",
       "      <td>0.770849</td>\n",
       "      <td>45.651</td>\n",
       "      <td>Europe and Northern America</td>\n",
       "    </tr>\n",
       "  </tbody>\n",
       "</table>\n",
       "<p>5 rows × 37 columns</p>\n",
       "</div>"
      ],
      "text/plain": [
       "   Country  Year  Liver cancer  Kidney cancer  \\\n",
       "0  Albania  2000           316             40   \n",
       "1  Albania  2001           301             42   \n",
       "2  Albania  2002           295             47   \n",
       "3  Albania  2003           290             53   \n",
       "4  Albania  2004           272             57   \n",
       "\n",
       "   Tracheal, bronchus, and lung cancer  Malignant skin melanoma  Leukemia  \\\n",
       "0                                  748                       23       125   \n",
       "1                                  734                       21       121   \n",
       "2                                  765                       21       124   \n",
       "3                                  806                       21       129   \n",
       "4                                  817                       21       132   \n",
       "\n",
       "   Breast cancer  Prostate cancer  Thyroid cancer  ...  \\\n",
       "0            162              192              14  ...   \n",
       "1            163              195              14  ...   \n",
       "2            175              206              14  ...   \n",
       "3            191              219              15  ...   \n",
       "4            198              227              15  ...   \n",
       "\n",
       "   Renewable energy consumption  \\\n",
       "0                     41.445000   \n",
       "1                     39.125301   \n",
       "2                     35.895802   \n",
       "3                     33.751701   \n",
       "4                     35.934700   \n",
       "\n",
       "   Annual production-based emissions of carbon dioxide (CO2), measured in million tonnes  \\\n",
       "0                                              3.004                                       \n",
       "1                                              3.221                                       \n",
       "2                                              3.748                                       \n",
       "3                                              4.232                                       \n",
       "4                                              4.104                                       \n",
       "\n",
       "   Income Classification (World Bank Definition)  \\\n",
       "0                            Lower-middle income   \n",
       "1                            Lower-middle income   \n",
       "2                            Lower-middle income   \n",
       "3                            Lower-middle income   \n",
       "4                            Lower-middle income   \n",
       "\n",
       "   Life expectancy at birth, total (years)  Population  \\\n",
       "0                                      NaN         NaN   \n",
       "1                                   74.288   3060173.0   \n",
       "2                                   74.579   3051010.0   \n",
       "3                                   74.828   3039616.0   \n",
       "4                                   75.039   3026939.0   \n",
       "\n",
       "   Regime Type (RoW Measure Definition)  \\\n",
       "0                   Electoral Autocracy   \n",
       "1                   Electoral Autocracy   \n",
       "2                   Electoral Autocracy   \n",
       "3                   Electoral Autocracy   \n",
       "4                   Electoral Autocracy   \n",
       "\n",
       "   Rural population (% of total population)  \\\n",
       "0                                    58.259   \n",
       "1                                    57.565   \n",
       "2                                    56.499   \n",
       "3                                    55.427   \n",
       "4                                    54.349   \n",
       "\n",
       "   Total natural resources rents (% of GDP)  \\\n",
       "0                                       NaN   \n",
       "1                                  0.755950   \n",
       "2                                  0.760798   \n",
       "3                                  0.733194   \n",
       "4                                  0.770849   \n",
       "\n",
       "   Urban population (% of total population)                World Regions  \n",
       "0                                       NaN  Europe and Northern America  \n",
       "1                                    42.435  Europe and Northern America  \n",
       "2                                    43.501  Europe and Northern America  \n",
       "3                                    44.573  Europe and Northern America  \n",
       "4                                    45.651  Europe and Northern America  \n",
       "\n",
       "[5 rows x 37 columns]"
      ]
     },
     "execution_count": 45,
     "metadata": {},
     "output_type": "execute_result"
    }
   ],
   "source": [
    "# Rename columns to more manageable lengths\n",
    "\n",
    "# Create list of new column names\n",
    "\n",
    "rename = ['Country', 'Year',\n",
    "       'Liver cancer',\n",
    "       'Kidney cancer',\n",
    "       'Tracheal, bronchus, and lung cancer',\n",
    "       'Malignant skin melanoma',\n",
    "       'Leukemia',\n",
    "       'Breast cancer',\n",
    "       'Prostate cancer',\n",
    "       'Thyroid cancer',\n",
    "       'Bladder cancer',\n",
    "       'Uterine cancer',\n",
    "       'Ovarian cancer',\n",
    "       'Cervical cancer',\n",
    "       'Non-Hodgkin lymphoma',\n",
    "       'Pancreatic cancer',\n",
    "       'Colon and rectum cancer',\n",
    "       'Access to electricity (% of population)',\n",
    "       'Adjusted savings: carbon dioxide damage (% of GNI)',\n",
    "       'Adjusted savings: natural resources depletion (% of GNI)',\n",
    "       'Adjusted savings: net forest depletion (% of GNI)',\n",
    "       'Adjusted savings: particulate emission damage (% of GNI)',\n",
    "       'Final consumption expenditure (% of GDP)',\n",
    "       'GDP (current US$)', 'Continent',\n",
    "       'General government final consumption expenditure (% of GDP)',\n",
    "       'Inflation (annual %)',\n",
    "       'Renewable energy consumption',\n",
    "       'Annual production-based emissions of carbon dioxide (CO2), measured in million tonnes',\n",
    "       'Income Classification (World Bank Definition)',\n",
    "       'Life expectancy at birth, total (years)',\n",
    "       'Population',\n",
    "       'Regime Type (RoW Measure Definition)',\n",
    "       'Rural population (% of total population)',\n",
    "       'Total natural resources rents (% of GDP)',\n",
    "       'Urban population (% of total population)',\n",
    "       'World Regions']\n",
    "\n",
    "# Create dictionary of new and old column names\n",
    "dictionary = dict(zip(final_column, rename))\n",
    "\n",
    "# Rename columns\n",
    "eco_cancer_data.rename(columns=dictionary, inplace=True)\n",
    "\n",
    "# Check Column Names\n",
    "eco_cancer_data.head()"
   ]
  },
  {
   "cell_type": "code",
   "execution_count": 46,
   "id": "c01199c4",
   "metadata": {},
   "outputs": [
    {
     "data": {
      "text/plain": [
       "(2234, 37)"
      ]
     },
     "execution_count": 46,
     "metadata": {},
     "output_type": "execute_result"
    }
   ],
   "source": [
    "# Clean data for mock up ml unsupervised pca\n",
    "eco_cancer_data_ml = eco_cancer_data.dropna()\n",
    "\n",
    "eco_cancer_data_ml.shape"
   ]
  },
  {
   "cell_type": "code",
   "execution_count": 50,
   "id": "e4de64e7",
   "metadata": {},
   "outputs": [
    {
     "name": "stderr",
     "output_type": "stream",
     "text": [
      "C:\\Users\\Big Pappa J\\anaconda3\\envs\\mlenv\\lib\\site-packages\\pandas\\core\\frame.py:4913: SettingWithCopyWarning: \n",
      "A value is trying to be set on a copy of a slice from a DataFrame\n",
      "\n",
      "See the caveats in the documentation: https://pandas.pydata.org/pandas-docs/stable/user_guide/indexing.html#returning-a-view-versus-a-copy\n",
      "  errors=errors,\n"
     ]
    },
    {
     "data": {
      "text/html": [
       "<div>\n",
       "<style scoped>\n",
       "    .dataframe tbody tr th:only-of-type {\n",
       "        vertical-align: middle;\n",
       "    }\n",
       "\n",
       "    .dataframe tbody tr th {\n",
       "        vertical-align: top;\n",
       "    }\n",
       "\n",
       "    .dataframe thead th {\n",
       "        text-align: right;\n",
       "    }\n",
       "</style>\n",
       "<table border=\"1\" class=\"dataframe\">\n",
       "  <thead>\n",
       "    <tr style=\"text-align: right;\">\n",
       "      <th></th>\n",
       "      <th>Year</th>\n",
       "      <th>Liver cancer</th>\n",
       "      <th>Kidney cancer</th>\n",
       "      <th>Tracheal, bronchus, and lung cancer</th>\n",
       "      <th>Malignant skin melanoma</th>\n",
       "      <th>Leukemia</th>\n",
       "      <th>Breast cancer</th>\n",
       "      <th>Prostate cancer</th>\n",
       "      <th>Thyroid cancer</th>\n",
       "      <th>Bladder cancer</th>\n",
       "      <th>...</th>\n",
       "      <th>Inflation (annual %)</th>\n",
       "      <th>Renewable energy consumption</th>\n",
       "      <th>Annual production-based emissions of carbon dioxide (CO2), measured in million tonnes</th>\n",
       "      <th>Income Classification (World Bank Definition)</th>\n",
       "      <th>Life expectancy at birth, total (years)</th>\n",
       "      <th>Population</th>\n",
       "      <th>Regime Type (RoW Measure Definition)</th>\n",
       "      <th>Rural population (% of total population)</th>\n",
       "      <th>Total natural resources rents (% of GDP)</th>\n",
       "      <th>Urban population (% of total population)</th>\n",
       "    </tr>\n",
       "  </thead>\n",
       "  <tbody>\n",
       "    <tr>\n",
       "      <th>1</th>\n",
       "      <td>2001</td>\n",
       "      <td>301</td>\n",
       "      <td>42</td>\n",
       "      <td>734</td>\n",
       "      <td>21</td>\n",
       "      <td>121</td>\n",
       "      <td>163</td>\n",
       "      <td>195</td>\n",
       "      <td>14</td>\n",
       "      <td>26</td>\n",
       "      <td>...</td>\n",
       "      <td>3.107588</td>\n",
       "      <td>39.125301</td>\n",
       "      <td>3.221</td>\n",
       "      <td>Lower-middle income</td>\n",
       "      <td>74.288</td>\n",
       "      <td>3060173.0</td>\n",
       "      <td>Electoral Autocracy</td>\n",
       "      <td>57.565</td>\n",
       "      <td>0.755950</td>\n",
       "      <td>42.435</td>\n",
       "    </tr>\n",
       "    <tr>\n",
       "      <th>2</th>\n",
       "      <td>2002</td>\n",
       "      <td>295</td>\n",
       "      <td>47</td>\n",
       "      <td>765</td>\n",
       "      <td>21</td>\n",
       "      <td>124</td>\n",
       "      <td>175</td>\n",
       "      <td>206</td>\n",
       "      <td>14</td>\n",
       "      <td>28</td>\n",
       "      <td>...</td>\n",
       "      <td>7.770526</td>\n",
       "      <td>35.895802</td>\n",
       "      <td>3.748</td>\n",
       "      <td>Lower-middle income</td>\n",
       "      <td>74.579</td>\n",
       "      <td>3051010.0</td>\n",
       "      <td>Electoral Autocracy</td>\n",
       "      <td>56.499</td>\n",
       "      <td>0.760798</td>\n",
       "      <td>43.501</td>\n",
       "    </tr>\n",
       "    <tr>\n",
       "      <th>3</th>\n",
       "      <td>2003</td>\n",
       "      <td>290</td>\n",
       "      <td>53</td>\n",
       "      <td>806</td>\n",
       "      <td>21</td>\n",
       "      <td>129</td>\n",
       "      <td>191</td>\n",
       "      <td>219</td>\n",
       "      <td>15</td>\n",
       "      <td>30</td>\n",
       "      <td>...</td>\n",
       "      <td>0.484003</td>\n",
       "      <td>33.751701</td>\n",
       "      <td>4.232</td>\n",
       "      <td>Lower-middle income</td>\n",
       "      <td>74.828</td>\n",
       "      <td>3039616.0</td>\n",
       "      <td>Electoral Autocracy</td>\n",
       "      <td>55.427</td>\n",
       "      <td>0.733194</td>\n",
       "      <td>44.573</td>\n",
       "    </tr>\n",
       "    <tr>\n",
       "      <th>4</th>\n",
       "      <td>2004</td>\n",
       "      <td>272</td>\n",
       "      <td>57</td>\n",
       "      <td>817</td>\n",
       "      <td>21</td>\n",
       "      <td>132</td>\n",
       "      <td>198</td>\n",
       "      <td>227</td>\n",
       "      <td>15</td>\n",
       "      <td>31</td>\n",
       "      <td>...</td>\n",
       "      <td>2.280019</td>\n",
       "      <td>35.934700</td>\n",
       "      <td>4.104</td>\n",
       "      <td>Lower-middle income</td>\n",
       "      <td>75.039</td>\n",
       "      <td>3026939.0</td>\n",
       "      <td>Electoral Autocracy</td>\n",
       "      <td>54.349</td>\n",
       "      <td>0.770849</td>\n",
       "      <td>45.651</td>\n",
       "    </tr>\n",
       "    <tr>\n",
       "      <th>5</th>\n",
       "      <td>2005</td>\n",
       "      <td>246</td>\n",
       "      <td>60</td>\n",
       "      <td>804</td>\n",
       "      <td>20</td>\n",
       "      <td>131</td>\n",
       "      <td>208</td>\n",
       "      <td>230</td>\n",
       "      <td>15</td>\n",
       "      <td>31</td>\n",
       "      <td>...</td>\n",
       "      <td>2.366582</td>\n",
       "      <td>36.868301</td>\n",
       "      <td>4.199</td>\n",
       "      <td>Lower-middle income</td>\n",
       "      <td>75.228</td>\n",
       "      <td>3011487.0</td>\n",
       "      <td>Electoral Democracy</td>\n",
       "      <td>53.269</td>\n",
       "      <td>1.018382</td>\n",
       "      <td>46.731</td>\n",
       "    </tr>\n",
       "  </tbody>\n",
       "</table>\n",
       "<p>5 rows × 34 columns</p>\n",
       "</div>"
      ],
      "text/plain": [
       "   Year  Liver cancer  Kidney cancer  Tracheal, bronchus, and lung cancer  \\\n",
       "1  2001           301             42                                  734   \n",
       "2  2002           295             47                                  765   \n",
       "3  2003           290             53                                  806   \n",
       "4  2004           272             57                                  817   \n",
       "5  2005           246             60                                  804   \n",
       "\n",
       "   Malignant skin melanoma  Leukemia  Breast cancer  Prostate cancer  \\\n",
       "1                       21       121            163              195   \n",
       "2                       21       124            175              206   \n",
       "3                       21       129            191              219   \n",
       "4                       21       132            198              227   \n",
       "5                       20       131            208              230   \n",
       "\n",
       "   Thyroid cancer  Bladder cancer  ...  Inflation (annual %)  \\\n",
       "1              14              26  ...              3.107588   \n",
       "2              14              28  ...              7.770526   \n",
       "3              15              30  ...              0.484003   \n",
       "4              15              31  ...              2.280019   \n",
       "5              15              31  ...              2.366582   \n",
       "\n",
       "   Renewable energy consumption  \\\n",
       "1                     39.125301   \n",
       "2                     35.895802   \n",
       "3                     33.751701   \n",
       "4                     35.934700   \n",
       "5                     36.868301   \n",
       "\n",
       "   Annual production-based emissions of carbon dioxide (CO2), measured in million tonnes  \\\n",
       "1                                              3.221                                       \n",
       "2                                              3.748                                       \n",
       "3                                              4.232                                       \n",
       "4                                              4.104                                       \n",
       "5                                              4.199                                       \n",
       "\n",
       "   Income Classification (World Bank Definition)  \\\n",
       "1                            Lower-middle income   \n",
       "2                            Lower-middle income   \n",
       "3                            Lower-middle income   \n",
       "4                            Lower-middle income   \n",
       "5                            Lower-middle income   \n",
       "\n",
       "   Life expectancy at birth, total (years)  Population  \\\n",
       "1                                   74.288   3060173.0   \n",
       "2                                   74.579   3051010.0   \n",
       "3                                   74.828   3039616.0   \n",
       "4                                   75.039   3026939.0   \n",
       "5                                   75.228   3011487.0   \n",
       "\n",
       "   Regime Type (RoW Measure Definition)  \\\n",
       "1                   Electoral Autocracy   \n",
       "2                   Electoral Autocracy   \n",
       "3                   Electoral Autocracy   \n",
       "4                   Electoral Autocracy   \n",
       "5                   Electoral Democracy   \n",
       "\n",
       "   Rural population (% of total population)  \\\n",
       "1                                    57.565   \n",
       "2                                    56.499   \n",
       "3                                    55.427   \n",
       "4                                    54.349   \n",
       "5                                    53.269   \n",
       "\n",
       "   Total natural resources rents (% of GDP)  \\\n",
       "1                                  0.755950   \n",
       "2                                  0.760798   \n",
       "3                                  0.733194   \n",
       "4                                  0.770849   \n",
       "5                                  1.018382   \n",
       "\n",
       "   Urban population (% of total population)  \n",
       "1                                    42.435  \n",
       "2                                    43.501  \n",
       "3                                    44.573  \n",
       "4                                    45.651  \n",
       "5                                    46.731  \n",
       "\n",
       "[5 rows x 34 columns]"
      ]
     },
     "execution_count": 50,
     "metadata": {},
     "output_type": "execute_result"
    }
   ],
   "source": [
    "# Keep Country Names\n",
    "country_name_df = pd.DataFrame(eco_cancer_data_ml['Country'])\n",
    "\n",
    "eco_cancer_data_ml.drop(columns = ['Country',\"World Regions\",\"Continent\"], axis=1, inplace=True)\n",
    "eco_cancer_data_ml.head()"
   ]
  },
  {
   "cell_type": "code",
   "execution_count": 51,
   "id": "ca3067ce",
   "metadata": {},
   "outputs": [
    {
     "data": {
      "text/plain": [
       "Year                                                                                       int64\n",
       "Liver cancer                                                                               int64\n",
       "Kidney cancer                                                                              int64\n",
       "Tracheal, bronchus, and lung cancer                                                        int64\n",
       "Malignant skin melanoma                                                                    int64\n",
       "Leukemia                                                                                   int64\n",
       "Breast cancer                                                                              int64\n",
       "Prostate cancer                                                                            int64\n",
       "Thyroid cancer                                                                             int64\n",
       "Bladder cancer                                                                             int64\n",
       "Uterine cancer                                                                             int64\n",
       "Ovarian cancer                                                                             int64\n",
       "Cervical cancer                                                                            int64\n",
       "Non-Hodgkin lymphoma                                                                       int64\n",
       "Pancreatic cancer                                                                          int64\n",
       "Colon and rectum cancer                                                                    int64\n",
       "Access to electricity (% of population)                                                  float64\n",
       "Adjusted savings: carbon dioxide damage (% of GNI)                                       float64\n",
       "Adjusted savings: natural resources depletion (% of GNI)                                 float64\n",
       "Adjusted savings: net forest depletion (% of GNI)                                        float64\n",
       "Adjusted savings: particulate emission damage (% of GNI)                                 float64\n",
       "Final consumption expenditure (% of GDP)                                                 float64\n",
       "GDP (current US$)                                                                        float64\n",
       "General government final consumption expenditure (% of GDP)                              float64\n",
       "Inflation (annual %)                                                                     float64\n",
       "Renewable energy consumption                                                             float64\n",
       "Annual production-based emissions of carbon dioxide (CO2), measured in million tonnes    float64\n",
       "Income Classification (World Bank Definition)                                             object\n",
       "Life expectancy at birth, total (years)                                                  float64\n",
       "Population                                                                               float64\n",
       "Regime Type (RoW Measure Definition)                                                      object\n",
       "Rural population (% of total population)                                                 float64\n",
       "Total natural resources rents (% of GDP)                                                 float64\n",
       "Urban population (% of total population)                                                 float64\n",
       "dtype: object"
      ]
     },
     "execution_count": 51,
     "metadata": {},
     "output_type": "execute_result"
    }
   ],
   "source": [
    "eco_cancer_data_ml.dtypes"
   ]
  },
  {
   "cell_type": "code",
   "execution_count": 120,
   "id": "c66f2efc",
   "metadata": {},
   "outputs": [
    {
     "name": "stdout",
     "output_type": "stream",
     "text": [
      "(2234, 40)\n"
     ]
    },
    {
     "data": {
      "text/html": [
       "<div>\n",
       "<style scoped>\n",
       "    .dataframe tbody tr th:only-of-type {\n",
       "        vertical-align: middle;\n",
       "    }\n",
       "\n",
       "    .dataframe tbody tr th {\n",
       "        vertical-align: top;\n",
       "    }\n",
       "\n",
       "    .dataframe thead th {\n",
       "        text-align: right;\n",
       "    }\n",
       "</style>\n",
       "<table border=\"1\" class=\"dataframe\">\n",
       "  <thead>\n",
       "    <tr style=\"text-align: right;\">\n",
       "      <th></th>\n",
       "      <th>Year</th>\n",
       "      <th>Liver cancer</th>\n",
       "      <th>Kidney cancer</th>\n",
       "      <th>Tracheal, bronchus, and lung cancer</th>\n",
       "      <th>Malignant skin melanoma</th>\n",
       "      <th>Leukemia</th>\n",
       "      <th>Breast cancer</th>\n",
       "      <th>Prostate cancer</th>\n",
       "      <th>Thyroid cancer</th>\n",
       "      <th>Bladder cancer</th>\n",
       "      <th>...</th>\n",
       "      <th>Total natural resources rents (% of GDP)</th>\n",
       "      <th>Urban population (% of total population)</th>\n",
       "      <th>Income Classification (World Bank Definition)_High income</th>\n",
       "      <th>Income Classification (World Bank Definition)_Low income</th>\n",
       "      <th>Income Classification (World Bank Definition)_Lower-middle income</th>\n",
       "      <th>Income Classification (World Bank Definition)_Upper-middle income</th>\n",
       "      <th>Regime Type (RoW Measure Definition)_Closed Autocracy</th>\n",
       "      <th>Regime Type (RoW Measure Definition)_Electoral Autocracy</th>\n",
       "      <th>Regime Type (RoW Measure Definition)_Electoral Democracy</th>\n",
       "      <th>Regime Type (RoW Measure Definition)_Liberal Democracy</th>\n",
       "    </tr>\n",
       "  </thead>\n",
       "  <tbody>\n",
       "    <tr>\n",
       "      <th>1</th>\n",
       "      <td>2001</td>\n",
       "      <td>301</td>\n",
       "      <td>42</td>\n",
       "      <td>734</td>\n",
       "      <td>21</td>\n",
       "      <td>121</td>\n",
       "      <td>163</td>\n",
       "      <td>195</td>\n",
       "      <td>14</td>\n",
       "      <td>26</td>\n",
       "      <td>...</td>\n",
       "      <td>0.755950</td>\n",
       "      <td>42.435</td>\n",
       "      <td>0</td>\n",
       "      <td>0</td>\n",
       "      <td>1</td>\n",
       "      <td>0</td>\n",
       "      <td>0</td>\n",
       "      <td>1</td>\n",
       "      <td>0</td>\n",
       "      <td>0</td>\n",
       "    </tr>\n",
       "    <tr>\n",
       "      <th>2</th>\n",
       "      <td>2002</td>\n",
       "      <td>295</td>\n",
       "      <td>47</td>\n",
       "      <td>765</td>\n",
       "      <td>21</td>\n",
       "      <td>124</td>\n",
       "      <td>175</td>\n",
       "      <td>206</td>\n",
       "      <td>14</td>\n",
       "      <td>28</td>\n",
       "      <td>...</td>\n",
       "      <td>0.760798</td>\n",
       "      <td>43.501</td>\n",
       "      <td>0</td>\n",
       "      <td>0</td>\n",
       "      <td>1</td>\n",
       "      <td>0</td>\n",
       "      <td>0</td>\n",
       "      <td>1</td>\n",
       "      <td>0</td>\n",
       "      <td>0</td>\n",
       "    </tr>\n",
       "    <tr>\n",
       "      <th>3</th>\n",
       "      <td>2003</td>\n",
       "      <td>290</td>\n",
       "      <td>53</td>\n",
       "      <td>806</td>\n",
       "      <td>21</td>\n",
       "      <td>129</td>\n",
       "      <td>191</td>\n",
       "      <td>219</td>\n",
       "      <td>15</td>\n",
       "      <td>30</td>\n",
       "      <td>...</td>\n",
       "      <td>0.733194</td>\n",
       "      <td>44.573</td>\n",
       "      <td>0</td>\n",
       "      <td>0</td>\n",
       "      <td>1</td>\n",
       "      <td>0</td>\n",
       "      <td>0</td>\n",
       "      <td>1</td>\n",
       "      <td>0</td>\n",
       "      <td>0</td>\n",
       "    </tr>\n",
       "    <tr>\n",
       "      <th>4</th>\n",
       "      <td>2004</td>\n",
       "      <td>272</td>\n",
       "      <td>57</td>\n",
       "      <td>817</td>\n",
       "      <td>21</td>\n",
       "      <td>132</td>\n",
       "      <td>198</td>\n",
       "      <td>227</td>\n",
       "      <td>15</td>\n",
       "      <td>31</td>\n",
       "      <td>...</td>\n",
       "      <td>0.770849</td>\n",
       "      <td>45.651</td>\n",
       "      <td>0</td>\n",
       "      <td>0</td>\n",
       "      <td>1</td>\n",
       "      <td>0</td>\n",
       "      <td>0</td>\n",
       "      <td>1</td>\n",
       "      <td>0</td>\n",
       "      <td>0</td>\n",
       "    </tr>\n",
       "    <tr>\n",
       "      <th>5</th>\n",
       "      <td>2005</td>\n",
       "      <td>246</td>\n",
       "      <td>60</td>\n",
       "      <td>804</td>\n",
       "      <td>20</td>\n",
       "      <td>131</td>\n",
       "      <td>208</td>\n",
       "      <td>230</td>\n",
       "      <td>15</td>\n",
       "      <td>31</td>\n",
       "      <td>...</td>\n",
       "      <td>1.018382</td>\n",
       "      <td>46.731</td>\n",
       "      <td>0</td>\n",
       "      <td>0</td>\n",
       "      <td>1</td>\n",
       "      <td>0</td>\n",
       "      <td>0</td>\n",
       "      <td>0</td>\n",
       "      <td>1</td>\n",
       "      <td>0</td>\n",
       "    </tr>\n",
       "    <tr>\n",
       "      <th>6</th>\n",
       "      <td>2006</td>\n",
       "      <td>224</td>\n",
       "      <td>61</td>\n",
       "      <td>780</td>\n",
       "      <td>20</td>\n",
       "      <td>126</td>\n",
       "      <td>210</td>\n",
       "      <td>229</td>\n",
       "      <td>14</td>\n",
       "      <td>31</td>\n",
       "      <td>...</td>\n",
       "      <td>1.321831</td>\n",
       "      <td>47.815</td>\n",
       "      <td>0</td>\n",
       "      <td>0</td>\n",
       "      <td>1</td>\n",
       "      <td>0</td>\n",
       "      <td>0</td>\n",
       "      <td>0</td>\n",
       "      <td>1</td>\n",
       "      <td>0</td>\n",
       "    </tr>\n",
       "    <tr>\n",
       "      <th>7</th>\n",
       "      <td>2007</td>\n",
       "      <td>211</td>\n",
       "      <td>63</td>\n",
       "      <td>768</td>\n",
       "      <td>20</td>\n",
       "      <td>122</td>\n",
       "      <td>209</td>\n",
       "      <td>233</td>\n",
       "      <td>13</td>\n",
       "      <td>31</td>\n",
       "      <td>...</td>\n",
       "      <td>1.761086</td>\n",
       "      <td>48.902</td>\n",
       "      <td>0</td>\n",
       "      <td>0</td>\n",
       "      <td>1</td>\n",
       "      <td>0</td>\n",
       "      <td>0</td>\n",
       "      <td>0</td>\n",
       "      <td>1</td>\n",
       "      <td>0</td>\n",
       "    </tr>\n",
       "    <tr>\n",
       "      <th>8</th>\n",
       "      <td>2008</td>\n",
       "      <td>208</td>\n",
       "      <td>66</td>\n",
       "      <td>796</td>\n",
       "      <td>20</td>\n",
       "      <td>125</td>\n",
       "      <td>219</td>\n",
       "      <td>245</td>\n",
       "      <td>13</td>\n",
       "      <td>32</td>\n",
       "      <td>...</td>\n",
       "      <td>1.109999</td>\n",
       "      <td>49.991</td>\n",
       "      <td>0</td>\n",
       "      <td>0</td>\n",
       "      <td>1</td>\n",
       "      <td>0</td>\n",
       "      <td>0</td>\n",
       "      <td>0</td>\n",
       "      <td>1</td>\n",
       "      <td>0</td>\n",
       "    </tr>\n",
       "    <tr>\n",
       "      <th>9</th>\n",
       "      <td>2009</td>\n",
       "      <td>207</td>\n",
       "      <td>67</td>\n",
       "      <td>809</td>\n",
       "      <td>21</td>\n",
       "      <td>126</td>\n",
       "      <td>220</td>\n",
       "      <td>256</td>\n",
       "      <td>14</td>\n",
       "      <td>33</td>\n",
       "      <td>...</td>\n",
       "      <td>0.605980</td>\n",
       "      <td>51.076</td>\n",
       "      <td>0</td>\n",
       "      <td>0</td>\n",
       "      <td>0</td>\n",
       "      <td>1</td>\n",
       "      <td>0</td>\n",
       "      <td>0</td>\n",
       "      <td>1</td>\n",
       "      <td>0</td>\n",
       "    </tr>\n",
       "    <tr>\n",
       "      <th>10</th>\n",
       "      <td>2010</td>\n",
       "      <td>214</td>\n",
       "      <td>67</td>\n",
       "      <td>826</td>\n",
       "      <td>22</td>\n",
       "      <td>127</td>\n",
       "      <td>225</td>\n",
       "      <td>269</td>\n",
       "      <td>14</td>\n",
       "      <td>34</td>\n",
       "      <td>...</td>\n",
       "      <td>1.574506</td>\n",
       "      <td>52.163</td>\n",
       "      <td>0</td>\n",
       "      <td>0</td>\n",
       "      <td>0</td>\n",
       "      <td>1</td>\n",
       "      <td>0</td>\n",
       "      <td>0</td>\n",
       "      <td>1</td>\n",
       "      <td>0</td>\n",
       "    </tr>\n",
       "  </tbody>\n",
       "</table>\n",
       "<p>10 rows × 40 columns</p>\n",
       "</div>"
      ],
      "text/plain": [
       "    Year  Liver cancer  Kidney cancer  Tracheal, bronchus, and lung cancer  \\\n",
       "1   2001           301             42                                  734   \n",
       "2   2002           295             47                                  765   \n",
       "3   2003           290             53                                  806   \n",
       "4   2004           272             57                                  817   \n",
       "5   2005           246             60                                  804   \n",
       "6   2006           224             61                                  780   \n",
       "7   2007           211             63                                  768   \n",
       "8   2008           208             66                                  796   \n",
       "9   2009           207             67                                  809   \n",
       "10  2010           214             67                                  826   \n",
       "\n",
       "    Malignant skin melanoma  Leukemia  Breast cancer  Prostate cancer  \\\n",
       "1                        21       121            163              195   \n",
       "2                        21       124            175              206   \n",
       "3                        21       129            191              219   \n",
       "4                        21       132            198              227   \n",
       "5                        20       131            208              230   \n",
       "6                        20       126            210              229   \n",
       "7                        20       122            209              233   \n",
       "8                        20       125            219              245   \n",
       "9                        21       126            220              256   \n",
       "10                       22       127            225              269   \n",
       "\n",
       "    Thyroid cancer  Bladder cancer  ...  \\\n",
       "1               14              26  ...   \n",
       "2               14              28  ...   \n",
       "3               15              30  ...   \n",
       "4               15              31  ...   \n",
       "5               15              31  ...   \n",
       "6               14              31  ...   \n",
       "7               13              31  ...   \n",
       "8               13              32  ...   \n",
       "9               14              33  ...   \n",
       "10              14              34  ...   \n",
       "\n",
       "    Total natural resources rents (% of GDP)  \\\n",
       "1                                   0.755950   \n",
       "2                                   0.760798   \n",
       "3                                   0.733194   \n",
       "4                                   0.770849   \n",
       "5                                   1.018382   \n",
       "6                                   1.321831   \n",
       "7                                   1.761086   \n",
       "8                                   1.109999   \n",
       "9                                   0.605980   \n",
       "10                                  1.574506   \n",
       "\n",
       "    Urban population (% of total population)  \\\n",
       "1                                     42.435   \n",
       "2                                     43.501   \n",
       "3                                     44.573   \n",
       "4                                     45.651   \n",
       "5                                     46.731   \n",
       "6                                     47.815   \n",
       "7                                     48.902   \n",
       "8                                     49.991   \n",
       "9                                     51.076   \n",
       "10                                    52.163   \n",
       "\n",
       "    Income Classification (World Bank Definition)_High income  \\\n",
       "1                                                   0           \n",
       "2                                                   0           \n",
       "3                                                   0           \n",
       "4                                                   0           \n",
       "5                                                   0           \n",
       "6                                                   0           \n",
       "7                                                   0           \n",
       "8                                                   0           \n",
       "9                                                   0           \n",
       "10                                                  0           \n",
       "\n",
       "    Income Classification (World Bank Definition)_Low income  \\\n",
       "1                                                   0          \n",
       "2                                                   0          \n",
       "3                                                   0          \n",
       "4                                                   0          \n",
       "5                                                   0          \n",
       "6                                                   0          \n",
       "7                                                   0          \n",
       "8                                                   0          \n",
       "9                                                   0          \n",
       "10                                                  0          \n",
       "\n",
       "    Income Classification (World Bank Definition)_Lower-middle income  \\\n",
       "1                                                   1                   \n",
       "2                                                   1                   \n",
       "3                                                   1                   \n",
       "4                                                   1                   \n",
       "5                                                   1                   \n",
       "6                                                   1                   \n",
       "7                                                   1                   \n",
       "8                                                   1                   \n",
       "9                                                   0                   \n",
       "10                                                  0                   \n",
       "\n",
       "    Income Classification (World Bank Definition)_Upper-middle income  \\\n",
       "1                                                   0                   \n",
       "2                                                   0                   \n",
       "3                                                   0                   \n",
       "4                                                   0                   \n",
       "5                                                   0                   \n",
       "6                                                   0                   \n",
       "7                                                   0                   \n",
       "8                                                   0                   \n",
       "9                                                   1                   \n",
       "10                                                  1                   \n",
       "\n",
       "    Regime Type (RoW Measure Definition)_Closed Autocracy  \\\n",
       "1                                                   0       \n",
       "2                                                   0       \n",
       "3                                                   0       \n",
       "4                                                   0       \n",
       "5                                                   0       \n",
       "6                                                   0       \n",
       "7                                                   0       \n",
       "8                                                   0       \n",
       "9                                                   0       \n",
       "10                                                  0       \n",
       "\n",
       "    Regime Type (RoW Measure Definition)_Electoral Autocracy  \\\n",
       "1                                                   1          \n",
       "2                                                   1          \n",
       "3                                                   1          \n",
       "4                                                   1          \n",
       "5                                                   0          \n",
       "6                                                   0          \n",
       "7                                                   0          \n",
       "8                                                   0          \n",
       "9                                                   0          \n",
       "10                                                  0          \n",
       "\n",
       "    Regime Type (RoW Measure Definition)_Electoral Democracy  \\\n",
       "1                                                   0          \n",
       "2                                                   0          \n",
       "3                                                   0          \n",
       "4                                                   0          \n",
       "5                                                   1          \n",
       "6                                                   1          \n",
       "7                                                   1          \n",
       "8                                                   1          \n",
       "9                                                   1          \n",
       "10                                                  1          \n",
       "\n",
       "    Regime Type (RoW Measure Definition)_Liberal Democracy  \n",
       "1                                                   0       \n",
       "2                                                   0       \n",
       "3                                                   0       \n",
       "4                                                   0       \n",
       "5                                                   0       \n",
       "6                                                   0       \n",
       "7                                                   0       \n",
       "8                                                   0       \n",
       "9                                                   0       \n",
       "10                                                  0       \n",
       "\n",
       "[10 rows x 40 columns]"
      ]
     },
     "execution_count": 120,
     "metadata": {},
     "output_type": "execute_result"
    }
   ],
   "source": [
    "X = pd.get_dummies(eco_cancer_data_ml, columns=[\"Income Classification (World Bank Definition)\",\"Regime Type (RoW Measure Definition)\"])\n",
    "print(X.shape)\n",
    "X.head(10)"
   ]
  },
  {
   "cell_type": "code",
   "execution_count": 147,
   "id": "9b3229b9",
   "metadata": {},
   "outputs": [
    {
     "data": {
      "text/html": [
       "<div>\n",
       "<style scoped>\n",
       "    .dataframe tbody tr th:only-of-type {\n",
       "        vertical-align: middle;\n",
       "    }\n",
       "\n",
       "    .dataframe tbody tr th {\n",
       "        vertical-align: top;\n",
       "    }\n",
       "\n",
       "    .dataframe thead th {\n",
       "        text-align: right;\n",
       "    }\n",
       "</style>\n",
       "<table border=\"1\" class=\"dataframe\">\n",
       "  <thead>\n",
       "    <tr style=\"text-align: right;\">\n",
       "      <th></th>\n",
       "      <th>Year</th>\n",
       "      <th>Colon and rectum cancer</th>\n",
       "      <th>Access to electricity (% of population)</th>\n",
       "      <th>Adjusted savings: carbon dioxide damage (% of GNI)</th>\n",
       "      <th>Adjusted savings: natural resources depletion (% of GNI)</th>\n",
       "      <th>Adjusted savings: net forest depletion (% of GNI)</th>\n",
       "      <th>Adjusted savings: particulate emission damage (% of GNI)</th>\n",
       "      <th>Final consumption expenditure (% of GDP)</th>\n",
       "      <th>GDP (current US$)</th>\n",
       "      <th>General government final consumption expenditure (% of GDP)</th>\n",
       "      <th>...</th>\n",
       "      <th>Total natural resources rents (% of GDP)</th>\n",
       "      <th>Urban population (% of total population)</th>\n",
       "      <th>Income Classification (World Bank Definition)_High income</th>\n",
       "      <th>Income Classification (World Bank Definition)_Low income</th>\n",
       "      <th>Income Classification (World Bank Definition)_Lower-middle income</th>\n",
       "      <th>Income Classification (World Bank Definition)_Upper-middle income</th>\n",
       "      <th>Regime Type (RoW Measure Definition)_Closed Autocracy</th>\n",
       "      <th>Regime Type (RoW Measure Definition)_Electoral Autocracy</th>\n",
       "      <th>Regime Type (RoW Measure Definition)_Electoral Democracy</th>\n",
       "      <th>Regime Type (RoW Measure Definition)_Liberal Democracy</th>\n",
       "    </tr>\n",
       "  </thead>\n",
       "  <tbody>\n",
       "    <tr>\n",
       "      <th>1</th>\n",
       "      <td>2001</td>\n",
       "      <td>188</td>\n",
       "      <td>100.000000</td>\n",
       "      <td>1.534561</td>\n",
       "      <td>0.214370</td>\n",
       "      <td>0.0</td>\n",
       "      <td>0.381428</td>\n",
       "      <td>88.835577</td>\n",
       "      <td>3.922099e+09</td>\n",
       "      <td>10.625987</td>\n",
       "      <td>...</td>\n",
       "      <td>0.755950</td>\n",
       "      <td>42.435</td>\n",
       "      <td>0</td>\n",
       "      <td>0</td>\n",
       "      <td>1</td>\n",
       "      <td>0</td>\n",
       "      <td>0</td>\n",
       "      <td>1</td>\n",
       "      <td>0</td>\n",
       "      <td>0</td>\n",
       "    </tr>\n",
       "    <tr>\n",
       "      <th>2</th>\n",
       "      <td>2002</td>\n",
       "      <td>202</td>\n",
       "      <td>100.000000</td>\n",
       "      <td>1.688402</td>\n",
       "      <td>0.229341</td>\n",
       "      <td>0.0</td>\n",
       "      <td>0.366751</td>\n",
       "      <td>91.369736</td>\n",
       "      <td>4.348070e+09</td>\n",
       "      <td>11.335078</td>\n",
       "      <td>...</td>\n",
       "      <td>0.760798</td>\n",
       "      <td>43.501</td>\n",
       "      <td>0</td>\n",
       "      <td>0</td>\n",
       "      <td>1</td>\n",
       "      <td>0</td>\n",
       "      <td>0</td>\n",
       "      <td>1</td>\n",
       "      <td>0</td>\n",
       "      <td>0</td>\n",
       "    </tr>\n",
       "    <tr>\n",
       "      <th>3</th>\n",
       "      <td>2003</td>\n",
       "      <td>221</td>\n",
       "      <td>100.000000</td>\n",
       "      <td>1.556741</td>\n",
       "      <td>0.230807</td>\n",
       "      <td>0.0</td>\n",
       "      <td>0.354888</td>\n",
       "      <td>91.428906</td>\n",
       "      <td>5.611492e+09</td>\n",
       "      <td>11.098397</td>\n",
       "      <td>...</td>\n",
       "      <td>0.733194</td>\n",
       "      <td>44.573</td>\n",
       "      <td>0</td>\n",
       "      <td>0</td>\n",
       "      <td>1</td>\n",
       "      <td>0</td>\n",
       "      <td>0</td>\n",
       "      <td>1</td>\n",
       "      <td>0</td>\n",
       "      <td>0</td>\n",
       "    </tr>\n",
       "    <tr>\n",
       "      <th>4</th>\n",
       "      <td>2004</td>\n",
       "      <td>230</td>\n",
       "      <td>100.000000</td>\n",
       "      <td>1.248493</td>\n",
       "      <td>0.248708</td>\n",
       "      <td>0.0</td>\n",
       "      <td>0.333259</td>\n",
       "      <td>88.415250</td>\n",
       "      <td>7.184681e+09</td>\n",
       "      <td>11.205908</td>\n",
       "      <td>...</td>\n",
       "      <td>0.770849</td>\n",
       "      <td>45.651</td>\n",
       "      <td>0</td>\n",
       "      <td>0</td>\n",
       "      <td>1</td>\n",
       "      <td>0</td>\n",
       "      <td>0</td>\n",
       "      <td>1</td>\n",
       "      <td>0</td>\n",
       "      <td>0</td>\n",
       "    </tr>\n",
       "    <tr>\n",
       "      <th>5</th>\n",
       "      <td>2005</td>\n",
       "      <td>236</td>\n",
       "      <td>100.000000</td>\n",
       "      <td>1.200393</td>\n",
       "      <td>0.353888</td>\n",
       "      <td>0.0</td>\n",
       "      <td>0.308829</td>\n",
       "      <td>87.976668</td>\n",
       "      <td>8.052076e+09</td>\n",
       "      <td>11.031218</td>\n",
       "      <td>...</td>\n",
       "      <td>1.018382</td>\n",
       "      <td>46.731</td>\n",
       "      <td>0</td>\n",
       "      <td>0</td>\n",
       "      <td>1</td>\n",
       "      <td>0</td>\n",
       "      <td>0</td>\n",
       "      <td>0</td>\n",
       "      <td>1</td>\n",
       "      <td>0</td>\n",
       "    </tr>\n",
       "    <tr>\n",
       "      <th>...</th>\n",
       "      <td>...</td>\n",
       "      <td>...</td>\n",
       "      <td>...</td>\n",
       "      <td>...</td>\n",
       "      <td>...</td>\n",
       "      <td>...</td>\n",
       "      <td>...</td>\n",
       "      <td>...</td>\n",
       "      <td>...</td>\n",
       "      <td>...</td>\n",
       "      <td>...</td>\n",
       "      <td>...</td>\n",
       "      <td>...</td>\n",
       "      <td>...</td>\n",
       "      <td>...</td>\n",
       "      <td>...</td>\n",
       "      <td>...</td>\n",
       "      <td>...</td>\n",
       "      <td>...</td>\n",
       "      <td>...</td>\n",
       "      <td>...</td>\n",
       "    </tr>\n",
       "    <tr>\n",
       "      <th>2826</th>\n",
       "      <td>2014</td>\n",
       "      <td>693</td>\n",
       "      <td>32.300000</td>\n",
       "      <td>2.310859</td>\n",
       "      <td>1.573499</td>\n",
       "      <td>0.0</td>\n",
       "      <td>1.426705</td>\n",
       "      <td>103.172100</td>\n",
       "      <td>1.949552e+10</td>\n",
       "      <td>19.560283</td>\n",
       "      <td>...</td>\n",
       "      <td>5.531514</td>\n",
       "      <td>32.504</td>\n",
       "      <td>0</td>\n",
       "      <td>1</td>\n",
       "      <td>0</td>\n",
       "      <td>0</td>\n",
       "      <td>0</td>\n",
       "      <td>1</td>\n",
       "      <td>0</td>\n",
       "      <td>0</td>\n",
       "    </tr>\n",
       "    <tr>\n",
       "      <th>2827</th>\n",
       "      <td>2015</td>\n",
       "      <td>719</td>\n",
       "      <td>33.700000</td>\n",
       "      <td>2.381654</td>\n",
       "      <td>0.844003</td>\n",
       "      <td>0.0</td>\n",
       "      <td>1.492774</td>\n",
       "      <td>108.392819</td>\n",
       "      <td>1.996312e+10</td>\n",
       "      <td>18.877513</td>\n",
       "      <td>...</td>\n",
       "      <td>4.561981</td>\n",
       "      <td>32.385</td>\n",
       "      <td>0</td>\n",
       "      <td>1</td>\n",
       "      <td>0</td>\n",
       "      <td>0</td>\n",
       "      <td>0</td>\n",
       "      <td>1</td>\n",
       "      <td>0</td>\n",
       "      <td>0</td>\n",
       "    </tr>\n",
       "    <tr>\n",
       "      <th>2828</th>\n",
       "      <td>2016</td>\n",
       "      <td>744</td>\n",
       "      <td>39.676228</td>\n",
       "      <td>2.101249</td>\n",
       "      <td>0.823740</td>\n",
       "      <td>0.0</td>\n",
       "      <td>1.496494</td>\n",
       "      <td>101.470591</td>\n",
       "      <td>2.054868e+10</td>\n",
       "      <td>18.123938</td>\n",
       "      <td>...</td>\n",
       "      <td>4.473632</td>\n",
       "      <td>32.296</td>\n",
       "      <td>0</td>\n",
       "      <td>1</td>\n",
       "      <td>0</td>\n",
       "      <td>0</td>\n",
       "      <td>0</td>\n",
       "      <td>1</td>\n",
       "      <td>0</td>\n",
       "      <td>0</td>\n",
       "    </tr>\n",
       "    <tr>\n",
       "      <th>2829</th>\n",
       "      <td>2017</td>\n",
       "      <td>767</td>\n",
       "      <td>40.144283</td>\n",
       "      <td>2.102515</td>\n",
       "      <td>1.300127</td>\n",
       "      <td>0.0</td>\n",
       "      <td>1.422511</td>\n",
       "      <td>93.411534</td>\n",
       "      <td>1.901533e+10</td>\n",
       "      <td>20.022695</td>\n",
       "      <td>...</td>\n",
       "      <td>4.844665</td>\n",
       "      <td>32.237</td>\n",
       "      <td>0</td>\n",
       "      <td>1</td>\n",
       "      <td>0</td>\n",
       "      <td>0</td>\n",
       "      <td>0</td>\n",
       "      <td>1</td>\n",
       "      <td>0</td>\n",
       "      <td>0</td>\n",
       "    </tr>\n",
       "    <tr>\n",
       "      <th>2830</th>\n",
       "      <td>2018</td>\n",
       "      <td>792</td>\n",
       "      <td>40.616360</td>\n",
       "      <td>2.003068</td>\n",
       "      <td>2.085152</td>\n",
       "      <td>0.0</td>\n",
       "      <td>1.422511</td>\n",
       "      <td>62.721238</td>\n",
       "      <td>1.952362e+10</td>\n",
       "      <td>15.652537</td>\n",
       "      <td>...</td>\n",
       "      <td>4.363782</td>\n",
       "      <td>32.209</td>\n",
       "      <td>0</td>\n",
       "      <td>1</td>\n",
       "      <td>0</td>\n",
       "      <td>0</td>\n",
       "      <td>0</td>\n",
       "      <td>1</td>\n",
       "      <td>0</td>\n",
       "      <td>0</td>\n",
       "    </tr>\n",
       "  </tbody>\n",
       "</table>\n",
       "<p>2234 rows × 26 columns</p>\n",
       "</div>"
      ],
      "text/plain": [
       "      Year  Colon and rectum cancer  Access to electricity (% of population)  \\\n",
       "1     2001                      188                               100.000000   \n",
       "2     2002                      202                               100.000000   \n",
       "3     2003                      221                               100.000000   \n",
       "4     2004                      230                               100.000000   \n",
       "5     2005                      236                               100.000000   \n",
       "...    ...                      ...                                      ...   \n",
       "2826  2014                      693                                32.300000   \n",
       "2827  2015                      719                                33.700000   \n",
       "2828  2016                      744                                39.676228   \n",
       "2829  2017                      767                                40.144283   \n",
       "2830  2018                      792                                40.616360   \n",
       "\n",
       "      Adjusted savings: carbon dioxide damage (% of GNI)  \\\n",
       "1                                              1.534561    \n",
       "2                                              1.688402    \n",
       "3                                              1.556741    \n",
       "4                                              1.248493    \n",
       "5                                              1.200393    \n",
       "...                                                 ...    \n",
       "2826                                           2.310859    \n",
       "2827                                           2.381654    \n",
       "2828                                           2.101249    \n",
       "2829                                           2.102515    \n",
       "2830                                           2.003068    \n",
       "\n",
       "      Adjusted savings: natural resources depletion (% of GNI)  \\\n",
       "1                                              0.214370          \n",
       "2                                              0.229341          \n",
       "3                                              0.230807          \n",
       "4                                              0.248708          \n",
       "5                                              0.353888          \n",
       "...                                                 ...          \n",
       "2826                                           1.573499          \n",
       "2827                                           0.844003          \n",
       "2828                                           0.823740          \n",
       "2829                                           1.300127          \n",
       "2830                                           2.085152          \n",
       "\n",
       "      Adjusted savings: net forest depletion (% of GNI)  \\\n",
       "1                                                   0.0   \n",
       "2                                                   0.0   \n",
       "3                                                   0.0   \n",
       "4                                                   0.0   \n",
       "5                                                   0.0   \n",
       "...                                                 ...   \n",
       "2826                                                0.0   \n",
       "2827                                                0.0   \n",
       "2828                                                0.0   \n",
       "2829                                                0.0   \n",
       "2830                                                0.0   \n",
       "\n",
       "      Adjusted savings: particulate emission damage (% of GNI)  \\\n",
       "1                                              0.381428          \n",
       "2                                              0.366751          \n",
       "3                                              0.354888          \n",
       "4                                              0.333259          \n",
       "5                                              0.308829          \n",
       "...                                                 ...          \n",
       "2826                                           1.426705          \n",
       "2827                                           1.492774          \n",
       "2828                                           1.496494          \n",
       "2829                                           1.422511          \n",
       "2830                                           1.422511          \n",
       "\n",
       "      Final consumption expenditure (% of GDP)  GDP (current US$)  \\\n",
       "1                                    88.835577       3.922099e+09   \n",
       "2                                    91.369736       4.348070e+09   \n",
       "3                                    91.428906       5.611492e+09   \n",
       "4                                    88.415250       7.184681e+09   \n",
       "5                                    87.976668       8.052076e+09   \n",
       "...                                        ...                ...   \n",
       "2826                                103.172100       1.949552e+10   \n",
       "2827                                108.392819       1.996312e+10   \n",
       "2828                                101.470591       2.054868e+10   \n",
       "2829                                 93.411534       1.901533e+10   \n",
       "2830                                 62.721238       1.952362e+10   \n",
       "\n",
       "      General government final consumption expenditure (% of GDP)  ...  \\\n",
       "1                                             10.625987            ...   \n",
       "2                                             11.335078            ...   \n",
       "3                                             11.098397            ...   \n",
       "4                                             11.205908            ...   \n",
       "5                                             11.031218            ...   \n",
       "...                                                 ...            ...   \n",
       "2826                                          19.560283            ...   \n",
       "2827                                          18.877513            ...   \n",
       "2828                                          18.123938            ...   \n",
       "2829                                          20.022695            ...   \n",
       "2830                                          15.652537            ...   \n",
       "\n",
       "      Total natural resources rents (% of GDP)  \\\n",
       "1                                     0.755950   \n",
       "2                                     0.760798   \n",
       "3                                     0.733194   \n",
       "4                                     0.770849   \n",
       "5                                     1.018382   \n",
       "...                                        ...   \n",
       "2826                                  5.531514   \n",
       "2827                                  4.561981   \n",
       "2828                                  4.473632   \n",
       "2829                                  4.844665   \n",
       "2830                                  4.363782   \n",
       "\n",
       "      Urban population (% of total population)  \\\n",
       "1                                       42.435   \n",
       "2                                       43.501   \n",
       "3                                       44.573   \n",
       "4                                       45.651   \n",
       "5                                       46.731   \n",
       "...                                        ...   \n",
       "2826                                    32.504   \n",
       "2827                                    32.385   \n",
       "2828                                    32.296   \n",
       "2829                                    32.237   \n",
       "2830                                    32.209   \n",
       "\n",
       "      Income Classification (World Bank Definition)_High income  \\\n",
       "1                                                     0           \n",
       "2                                                     0           \n",
       "3                                                     0           \n",
       "4                                                     0           \n",
       "5                                                     0           \n",
       "...                                                 ...           \n",
       "2826                                                  0           \n",
       "2827                                                  0           \n",
       "2828                                                  0           \n",
       "2829                                                  0           \n",
       "2830                                                  0           \n",
       "\n",
       "      Income Classification (World Bank Definition)_Low income  \\\n",
       "1                                                     0          \n",
       "2                                                     0          \n",
       "3                                                     0          \n",
       "4                                                     0          \n",
       "5                                                     0          \n",
       "...                                                 ...          \n",
       "2826                                                  1          \n",
       "2827                                                  1          \n",
       "2828                                                  1          \n",
       "2829                                                  1          \n",
       "2830                                                  1          \n",
       "\n",
       "      Income Classification (World Bank Definition)_Lower-middle income  \\\n",
       "1                                                     1                   \n",
       "2                                                     1                   \n",
       "3                                                     1                   \n",
       "4                                                     1                   \n",
       "5                                                     1                   \n",
       "...                                                 ...                   \n",
       "2826                                                  0                   \n",
       "2827                                                  0                   \n",
       "2828                                                  0                   \n",
       "2829                                                  0                   \n",
       "2830                                                  0                   \n",
       "\n",
       "      Income Classification (World Bank Definition)_Upper-middle income  \\\n",
       "1                                                     0                   \n",
       "2                                                     0                   \n",
       "3                                                     0                   \n",
       "4                                                     0                   \n",
       "5                                                     0                   \n",
       "...                                                 ...                   \n",
       "2826                                                  0                   \n",
       "2827                                                  0                   \n",
       "2828                                                  0                   \n",
       "2829                                                  0                   \n",
       "2830                                                  0                   \n",
       "\n",
       "      Regime Type (RoW Measure Definition)_Closed Autocracy  \\\n",
       "1                                                     0       \n",
       "2                                                     0       \n",
       "3                                                     0       \n",
       "4                                                     0       \n",
       "5                                                     0       \n",
       "...                                                 ...       \n",
       "2826                                                  0       \n",
       "2827                                                  0       \n",
       "2828                                                  0       \n",
       "2829                                                  0       \n",
       "2830                                                  0       \n",
       "\n",
       "      Regime Type (RoW Measure Definition)_Electoral Autocracy  \\\n",
       "1                                                     1          \n",
       "2                                                     1          \n",
       "3                                                     1          \n",
       "4                                                     1          \n",
       "5                                                     0          \n",
       "...                                                 ...          \n",
       "2826                                                  1          \n",
       "2827                                                  1          \n",
       "2828                                                  1          \n",
       "2829                                                  1          \n",
       "2830                                                  1          \n",
       "\n",
       "      Regime Type (RoW Measure Definition)_Electoral Democracy  \\\n",
       "1                                                     0          \n",
       "2                                                     0          \n",
       "3                                                     0          \n",
       "4                                                     0          \n",
       "5                                                     1          \n",
       "...                                                 ...          \n",
       "2826                                                  0          \n",
       "2827                                                  0          \n",
       "2828                                                  0          \n",
       "2829                                                  0          \n",
       "2830                                                  0          \n",
       "\n",
       "      Regime Type (RoW Measure Definition)_Liberal Democracy  \n",
       "1                                                     0       \n",
       "2                                                     0       \n",
       "3                                                     0       \n",
       "4                                                     0       \n",
       "5                                                     0       \n",
       "...                                                 ...       \n",
       "2826                                                  0       \n",
       "2827                                                  0       \n",
       "2828                                                  0       \n",
       "2829                                                  0       \n",
       "2830                                                  0       \n",
       "\n",
       "[2234 rows x 26 columns]"
      ]
     },
     "execution_count": 147,
     "metadata": {},
     "output_type": "execute_result"
    }
   ],
   "source": [
    "cancer_list=['Liver cancer', 'Kidney cancer',\n",
    "       'Tracheal, bronchus, and lung cancer', 'Malignant skin melanoma',\n",
    "       'Leukemia', 'Breast cancer', 'Prostate cancer', 'Thyroid cancer',\n",
    "       'Bladder cancer', 'Uterine cancer', 'Ovarian cancer', 'Cervical cancer',\n",
    "       'Non-Hodgkin lymphoma', 'Pancreatic cancer', 'Colon and rectum cancer']\n",
    "k =[]\n",
    "temp_list=[]\n",
    "v = []\n",
    "df_list ={}\n",
    "\n",
    "for name in cancer_list:\n",
    "    temp_list = [x for x in cancer_list if x != name]\n",
    "    k.append(f'X_{name}')\n",
    "    v.append(X.drop(columns = temp_list, axis=1))\n",
    "\n",
    "for key in k:\n",
    "    for value in v:\n",
    "        df_list[key] = value\n",
    "\n",
    "        \n",
    "df_list['X_Liver cancer']        \n",
    "        \n",
    "\n",
    "\n"
   ]
  },
  {
   "cell_type": "code",
   "execution_count": null,
   "id": "695e845b",
   "metadata": {},
   "outputs": [],
   "source": []
  },
  {
   "cell_type": "code",
   "execution_count": 54,
   "id": "fceadb59",
   "metadata": {},
   "outputs": [
    {
     "name": "stdout",
     "output_type": "stream",
     "text": [
      "[[-1.71482379 -0.16612554 -0.34537699 -0.20572924 -0.32260492 -0.29870906\n",
      "  -0.37217115 -0.40433518 -0.31793555 -0.34338413 -0.3185679  -0.36482574\n",
      "  -0.3029556  -0.32509826 -0.29141391 -0.28823446  0.69503533 -0.03824041\n",
      "  -0.51341204 -0.26670012 -0.43647091  0.53829364 -0.27194423 -0.97101019\n",
      "  -0.25517981  0.11836587 -0.23400184  0.42289308 -0.26936827  0.68494984\n",
      "  -0.55962087 -0.68494984 -0.63572662 -0.53144518  1.68870487 -0.55011263\n",
      "  -0.34368317  1.59035402 -0.7052085  -0.6218652 ]\n",
      " [-1.52004464 -0.16651906 -0.34328576 -0.20515532 -0.32260492 -0.29824714\n",
      "  -0.37097989 -0.40253052 -0.31793555 -0.34282051 -0.31729771 -0.36377495\n",
      "  -0.30238434 -0.3246321  -0.28994614 -0.28753022  0.69503533  0.06209625\n",
      "  -0.51097761 -0.26670012 -0.45040166  0.69196217 -0.27168718 -0.83578551\n",
      "   0.42510237  0.00806783 -0.23340954  0.45386642 -0.26942383  0.63726777\n",
      "  -0.55914182 -0.63726777 -0.63572662 -0.53144518  1.68870487 -0.55011263\n",
      "  -0.34368317  1.59035402 -0.7052085  -0.6218652 ]\n",
      " [-1.32526549 -0.16684699 -0.3407763  -0.20439627 -0.32260492 -0.29747727\n",
      "  -0.36939155 -0.40039774 -0.31660657 -0.3422569  -0.31602753 -0.36272415\n",
      "  -0.30162265 -0.32393285 -0.28825256 -0.28657448  0.69503533 -0.02377431\n",
      "  -0.51073918 -0.26670012 -0.46166166  0.6955502  -0.27092478 -0.88092093\n",
      "  -0.63793823 -0.06516024 -0.23286557  0.48036938 -0.26949292  0.58931732\n",
      "  -0.56186957 -0.58931732 -0.63572662 -0.53144518  1.68870487 -0.55011263\n",
      "  -0.34368317  1.59035402 -0.7052085  -0.6218652 ]\n",
      " [-1.13048634 -0.16802754 -0.33910332 -0.20419262 -0.32260492 -0.29701535\n",
      "  -0.36869666 -0.39908526 -0.31660657 -0.34197509 -0.31539244 -0.36202363\n",
      "  -0.30143223 -0.32369977 -0.28701061 -0.28612176  0.69503533 -0.22481715\n",
      "  -0.50782806 -0.26670012 -0.48219048  0.51280551 -0.26997545 -0.86041845\n",
      "  -0.37591497  0.00939634 -0.23300943  0.50282771 -0.26956979  0.54109849\n",
      "  -0.55814858 -0.54109849 -0.63572662 -0.53144518  1.68870487 -0.55011263\n",
      "  -0.34368317  1.59035402 -0.7052085  -0.6218652 ]\n",
      " [-0.93570719 -0.16973278 -0.33784858 -0.2044333  -0.32355121 -0.29716933\n",
      "  -0.36770394 -0.39859308 -0.31660657 -0.34197509 -0.31412225 -0.3613231\n",
      "  -0.30105139 -0.32369977 -0.28622027 -0.28581995  0.69503533 -0.25618847\n",
      "  -0.49072387 -0.26670012 -0.50537849  0.4862104  -0.26945203 -0.89373198\n",
      "  -0.36328621  0.0412819  -0.23290266  0.52294442 -0.26966348  0.4927902\n",
      "  -0.53368795 -0.4927902  -0.63572662 -0.53144518  1.68870487 -0.55011263\n",
      "  -0.34368317 -0.62879081  1.41802034 -0.6218652 ]]\n"
     ]
    }
   ],
   "source": [
    "# Standardize the data with StandardScaler().\n",
    "# YOUR CODE HERE\n",
    "X_scaled = StandardScaler().fit_transform(X)\n",
    "print(X_scaled[0:5])"
   ]
  },
  {
   "cell_type": "code",
   "execution_count": 56,
   "id": "46707d14",
   "metadata": {},
   "outputs": [
    {
     "data": {
      "text/plain": [
       "array([[-1.34355749,  0.47395748,  0.03415429],\n",
       "       [-1.34352734,  0.45792508,  0.13289697],\n",
       "       [-1.30584047,  0.28826953, -0.02785351],\n",
       "       ...,\n",
       "       [-1.58504626,  2.94813221, -1.36158472],\n",
       "       [-1.55153219,  2.81874665, -1.14460156],\n",
       "       [-1.48265391,  2.77173011, -0.28521092]])"
      ]
     },
     "execution_count": 56,
     "metadata": {},
     "output_type": "execute_result"
    }
   ],
   "source": [
    "# Using PCA to reduce dimension to three principal components.\n",
    "# YOUR CODE HERE\n",
    "pca = PCA(n_components=3, random_state=32)\n",
    "X_pca = pca.fit_transform(X_scaled)\n",
    "X_pca"
   ]
  },
  {
   "cell_type": "code",
   "execution_count": 57,
   "id": "1fc50e35",
   "metadata": {},
   "outputs": [
    {
     "name": "stdout",
     "output_type": "stream",
     "text": [
      "(2234, 3)\n"
     ]
    },
    {
     "data": {
      "text/html": [
       "<div>\n",
       "<style scoped>\n",
       "    .dataframe tbody tr th:only-of-type {\n",
       "        vertical-align: middle;\n",
       "    }\n",
       "\n",
       "    .dataframe tbody tr th {\n",
       "        vertical-align: top;\n",
       "    }\n",
       "\n",
       "    .dataframe thead th {\n",
       "        text-align: right;\n",
       "    }\n",
       "</style>\n",
       "<table border=\"1\" class=\"dataframe\">\n",
       "  <thead>\n",
       "    <tr style=\"text-align: right;\">\n",
       "      <th></th>\n",
       "      <th>PC 1</th>\n",
       "      <th>PC 2</th>\n",
       "      <th>PC 3</th>\n",
       "    </tr>\n",
       "  </thead>\n",
       "  <tbody>\n",
       "    <tr>\n",
       "      <th>1</th>\n",
       "      <td>-1.343557</td>\n",
       "      <td>0.473957</td>\n",
       "      <td>0.034154</td>\n",
       "    </tr>\n",
       "    <tr>\n",
       "      <th>2</th>\n",
       "      <td>-1.343527</td>\n",
       "      <td>0.457925</td>\n",
       "      <td>0.132897</td>\n",
       "    </tr>\n",
       "    <tr>\n",
       "      <th>3</th>\n",
       "      <td>-1.305840</td>\n",
       "      <td>0.288270</td>\n",
       "      <td>-0.027854</td>\n",
       "    </tr>\n",
       "    <tr>\n",
       "      <th>4</th>\n",
       "      <td>-1.303552</td>\n",
       "      <td>0.251858</td>\n",
       "      <td>-0.008955</td>\n",
       "    </tr>\n",
       "    <tr>\n",
       "      <th>5</th>\n",
       "      <td>-1.236340</td>\n",
       "      <td>-0.011186</td>\n",
       "      <td>-0.203594</td>\n",
       "    </tr>\n",
       "    <tr>\n",
       "      <th>6</th>\n",
       "      <td>-1.223191</td>\n",
       "      <td>-0.100708</td>\n",
       "      <td>-0.179063</td>\n",
       "    </tr>\n",
       "    <tr>\n",
       "      <th>7</th>\n",
       "      <td>-1.234192</td>\n",
       "      <td>-0.102491</td>\n",
       "      <td>-0.243343</td>\n",
       "    </tr>\n",
       "    <tr>\n",
       "      <th>8</th>\n",
       "      <td>-1.234622</td>\n",
       "      <td>-0.100923</td>\n",
       "      <td>-0.315419</td>\n",
       "    </tr>\n",
       "    <tr>\n",
       "      <th>9</th>\n",
       "      <td>-1.201960</td>\n",
       "      <td>-0.542023</td>\n",
       "      <td>-0.285938</td>\n",
       "    </tr>\n",
       "    <tr>\n",
       "      <th>10</th>\n",
       "      <td>-1.165449</td>\n",
       "      <td>-0.703219</td>\n",
       "      <td>-0.270856</td>\n",
       "    </tr>\n",
       "  </tbody>\n",
       "</table>\n",
       "</div>"
      ],
      "text/plain": [
       "        PC 1      PC 2      PC 3\n",
       "1  -1.343557  0.473957  0.034154\n",
       "2  -1.343527  0.457925  0.132897\n",
       "3  -1.305840  0.288270 -0.027854\n",
       "4  -1.303552  0.251858 -0.008955\n",
       "5  -1.236340 -0.011186 -0.203594\n",
       "6  -1.223191 -0.100708 -0.179063\n",
       "7  -1.234192 -0.102491 -0.243343\n",
       "8  -1.234622 -0.100923 -0.315419\n",
       "9  -1.201960 -0.542023 -0.285938\n",
       "10 -1.165449 -0.703219 -0.270856"
      ]
     },
     "execution_count": 57,
     "metadata": {},
     "output_type": "execute_result"
    }
   ],
   "source": [
    "# Create a DataFrame with the three principal components.\n",
    "# YOUR CODE HERE\n",
    "pcs_df = pd.DataFrame(X_pca, columns=[\"PC 1\", \"PC 2\", \"PC 3\"], index = eco_cancer_data_ml.index)\n",
    "print(pcs_df.shape)\n",
    "pcs_df.head(10)"
   ]
  },
  {
   "cell_type": "code",
   "execution_count": 58,
   "id": "ac937ab2",
   "metadata": {},
   "outputs": [
    {
     "data": {
      "image/png": "[encoded data removed]",
      "text/plain": [
       "<Figure size 432x288 with 1 Axes>"
      ]
     },
     "metadata": {
      "needs_background": "light"
     },
     "output_type": "display_data"
    }
   ],
   "source": [
    "# Create an elbow curve to find the best value for K.\n",
    "# YOUR CODE HERE\n",
    "from matplotlib import pyplot as plt\n",
    "\n",
    "sse = {}\n",
    "K = range(1,10)\n",
    "for k in K:\n",
    "    kmeanmodel = KMeans(n_clusters=k).fit(X_pca)\n",
    "    sse[k]= kmeanmodel.inertia_\n",
    "    \n",
    "# Plot\n",
    "plt.plot(list(sse.keys()), list(sse.values()))\n",
    "plt.xlabel('k')\n",
    "plt.ylabel('SSE')\n",
    "plt.title('Elbow Method')\n",
    "plt.show()"
   ]
  },
  {
   "cell_type": "code",
   "execution_count": 65,
   "id": "784ed488",
   "metadata": {},
   "outputs": [
    {
     "data": {
      "text/plain": [
       "array([0, 0, 0, ..., 2, 2, 2])"
      ]
     },
     "execution_count": 65,
     "metadata": {},
     "output_type": "execute_result"
    }
   ],
   "source": [
    "# Initialize the K-Means model.\n",
    "\n",
    "model = KMeans(n_clusters=3, random_state=32)\n",
    "# Fit the model\n",
    "\n",
    "model.fit(X_pca)\n",
    "# Predict clusters\n",
    "\n",
    "predicted = model.predict(X_pca)\n",
    "predicted"
   ]
  },
  {
   "cell_type": "code",
   "execution_count": 66,
   "id": "eda12a4d",
   "metadata": {},
   "outputs": [
    {
     "name": "stdout",
     "output_type": "stream",
     "text": [
      "(2234, 39)\n"
     ]
    },
    {
     "data": {
      "text/html": [
       "<div>\n",
       "<style scoped>\n",
       "    .dataframe tbody tr th:only-of-type {\n",
       "        vertical-align: middle;\n",
       "    }\n",
       "\n",
       "    .dataframe tbody tr th {\n",
       "        vertical-align: top;\n",
       "    }\n",
       "\n",
       "    .dataframe thead th {\n",
       "        text-align: right;\n",
       "    }\n",
       "</style>\n",
       "<table border=\"1\" class=\"dataframe\">\n",
       "  <thead>\n",
       "    <tr style=\"text-align: right;\">\n",
       "      <th></th>\n",
       "      <th>Year</th>\n",
       "      <th>Liver cancer</th>\n",
       "      <th>Kidney cancer</th>\n",
       "      <th>Tracheal, bronchus, and lung cancer</th>\n",
       "      <th>Malignant skin melanoma</th>\n",
       "      <th>Leukemia</th>\n",
       "      <th>Breast cancer</th>\n",
       "      <th>Prostate cancer</th>\n",
       "      <th>Thyroid cancer</th>\n",
       "      <th>Bladder cancer</th>\n",
       "      <th>...</th>\n",
       "      <th>Population</th>\n",
       "      <th>Regime Type (RoW Measure Definition)</th>\n",
       "      <th>Rural population (% of total population)</th>\n",
       "      <th>Total natural resources rents (% of GDP)</th>\n",
       "      <th>Urban population (% of total population)</th>\n",
       "      <th>PC 1</th>\n",
       "      <th>PC 2</th>\n",
       "      <th>PC 3</th>\n",
       "      <th>Country</th>\n",
       "      <th>Class</th>\n",
       "    </tr>\n",
       "  </thead>\n",
       "  <tbody>\n",
       "    <tr>\n",
       "      <th>1</th>\n",
       "      <td>2001</td>\n",
       "      <td>301</td>\n",
       "      <td>42</td>\n",
       "      <td>734</td>\n",
       "      <td>21</td>\n",
       "      <td>121</td>\n",
       "      <td>163</td>\n",
       "      <td>195</td>\n",
       "      <td>14</td>\n",
       "      <td>26</td>\n",
       "      <td>...</td>\n",
       "      <td>3060173.0</td>\n",
       "      <td>Electoral Autocracy</td>\n",
       "      <td>57.565</td>\n",
       "      <td>0.755950</td>\n",
       "      <td>42.435</td>\n",
       "      <td>-1.343557</td>\n",
       "      <td>0.473957</td>\n",
       "      <td>0.034154</td>\n",
       "      <td>Albania</td>\n",
       "      <td>0</td>\n",
       "    </tr>\n",
       "    <tr>\n",
       "      <th>2</th>\n",
       "      <td>2002</td>\n",
       "      <td>295</td>\n",
       "      <td>47</td>\n",
       "      <td>765</td>\n",
       "      <td>21</td>\n",
       "      <td>124</td>\n",
       "      <td>175</td>\n",
       "      <td>206</td>\n",
       "      <td>14</td>\n",
       "      <td>28</td>\n",
       "      <td>...</td>\n",
       "      <td>3051010.0</td>\n",
       "      <td>Electoral Autocracy</td>\n",
       "      <td>56.499</td>\n",
       "      <td>0.760798</td>\n",
       "      <td>43.501</td>\n",
       "      <td>-1.343527</td>\n",
       "      <td>0.457925</td>\n",
       "      <td>0.132897</td>\n",
       "      <td>Albania</td>\n",
       "      <td>0</td>\n",
       "    </tr>\n",
       "    <tr>\n",
       "      <th>3</th>\n",
       "      <td>2003</td>\n",
       "      <td>290</td>\n",
       "      <td>53</td>\n",
       "      <td>806</td>\n",
       "      <td>21</td>\n",
       "      <td>129</td>\n",
       "      <td>191</td>\n",
       "      <td>219</td>\n",
       "      <td>15</td>\n",
       "      <td>30</td>\n",
       "      <td>...</td>\n",
       "      <td>3039616.0</td>\n",
       "      <td>Electoral Autocracy</td>\n",
       "      <td>55.427</td>\n",
       "      <td>0.733194</td>\n",
       "      <td>44.573</td>\n",
       "      <td>-1.305840</td>\n",
       "      <td>0.288270</td>\n",
       "      <td>-0.027854</td>\n",
       "      <td>Albania</td>\n",
       "      <td>0</td>\n",
       "    </tr>\n",
       "    <tr>\n",
       "      <th>4</th>\n",
       "      <td>2004</td>\n",
       "      <td>272</td>\n",
       "      <td>57</td>\n",
       "      <td>817</td>\n",
       "      <td>21</td>\n",
       "      <td>132</td>\n",
       "      <td>198</td>\n",
       "      <td>227</td>\n",
       "      <td>15</td>\n",
       "      <td>31</td>\n",
       "      <td>...</td>\n",
       "      <td>3026939.0</td>\n",
       "      <td>Electoral Autocracy</td>\n",
       "      <td>54.349</td>\n",
       "      <td>0.770849</td>\n",
       "      <td>45.651</td>\n",
       "      <td>-1.303552</td>\n",
       "      <td>0.251858</td>\n",
       "      <td>-0.008955</td>\n",
       "      <td>Albania</td>\n",
       "      <td>0</td>\n",
       "    </tr>\n",
       "    <tr>\n",
       "      <th>5</th>\n",
       "      <td>2005</td>\n",
       "      <td>246</td>\n",
       "      <td>60</td>\n",
       "      <td>804</td>\n",
       "      <td>20</td>\n",
       "      <td>131</td>\n",
       "      <td>208</td>\n",
       "      <td>230</td>\n",
       "      <td>15</td>\n",
       "      <td>31</td>\n",
       "      <td>...</td>\n",
       "      <td>3011487.0</td>\n",
       "      <td>Electoral Democracy</td>\n",
       "      <td>53.269</td>\n",
       "      <td>1.018382</td>\n",
       "      <td>46.731</td>\n",
       "      <td>-1.236340</td>\n",
       "      <td>-0.011186</td>\n",
       "      <td>-0.203594</td>\n",
       "      <td>Albania</td>\n",
       "      <td>0</td>\n",
       "    </tr>\n",
       "    <tr>\n",
       "      <th>6</th>\n",
       "      <td>2006</td>\n",
       "      <td>224</td>\n",
       "      <td>61</td>\n",
       "      <td>780</td>\n",
       "      <td>20</td>\n",
       "      <td>126</td>\n",
       "      <td>210</td>\n",
       "      <td>229</td>\n",
       "      <td>14</td>\n",
       "      <td>31</td>\n",
       "      <td>...</td>\n",
       "      <td>2992547.0</td>\n",
       "      <td>Electoral Democracy</td>\n",
       "      <td>52.185</td>\n",
       "      <td>1.321831</td>\n",
       "      <td>47.815</td>\n",
       "      <td>-1.223191</td>\n",
       "      <td>-0.100708</td>\n",
       "      <td>-0.179063</td>\n",
       "      <td>Albania</td>\n",
       "      <td>0</td>\n",
       "    </tr>\n",
       "    <tr>\n",
       "      <th>7</th>\n",
       "      <td>2007</td>\n",
       "      <td>211</td>\n",
       "      <td>63</td>\n",
       "      <td>768</td>\n",
       "      <td>20</td>\n",
       "      <td>122</td>\n",
       "      <td>209</td>\n",
       "      <td>233</td>\n",
       "      <td>13</td>\n",
       "      <td>31</td>\n",
       "      <td>...</td>\n",
       "      <td>2970017.0</td>\n",
       "      <td>Electoral Democracy</td>\n",
       "      <td>51.098</td>\n",
       "      <td>1.761086</td>\n",
       "      <td>48.902</td>\n",
       "      <td>-1.234192</td>\n",
       "      <td>-0.102491</td>\n",
       "      <td>-0.243343</td>\n",
       "      <td>Albania</td>\n",
       "      <td>0</td>\n",
       "    </tr>\n",
       "    <tr>\n",
       "      <th>8</th>\n",
       "      <td>2008</td>\n",
       "      <td>208</td>\n",
       "      <td>66</td>\n",
       "      <td>796</td>\n",
       "      <td>20</td>\n",
       "      <td>125</td>\n",
       "      <td>219</td>\n",
       "      <td>245</td>\n",
       "      <td>13</td>\n",
       "      <td>32</td>\n",
       "      <td>...</td>\n",
       "      <td>2947314.0</td>\n",
       "      <td>Electoral Democracy</td>\n",
       "      <td>50.009</td>\n",
       "      <td>1.109999</td>\n",
       "      <td>49.991</td>\n",
       "      <td>-1.234622</td>\n",
       "      <td>-0.100923</td>\n",
       "      <td>-0.315419</td>\n",
       "      <td>Albania</td>\n",
       "      <td>0</td>\n",
       "    </tr>\n",
       "    <tr>\n",
       "      <th>9</th>\n",
       "      <td>2009</td>\n",
       "      <td>207</td>\n",
       "      <td>67</td>\n",
       "      <td>809</td>\n",
       "      <td>21</td>\n",
       "      <td>126</td>\n",
       "      <td>220</td>\n",
       "      <td>256</td>\n",
       "      <td>14</td>\n",
       "      <td>33</td>\n",
       "      <td>...</td>\n",
       "      <td>2927519.0</td>\n",
       "      <td>Electoral Democracy</td>\n",
       "      <td>48.924</td>\n",
       "      <td>0.605980</td>\n",
       "      <td>51.076</td>\n",
       "      <td>-1.201960</td>\n",
       "      <td>-0.542023</td>\n",
       "      <td>-0.285938</td>\n",
       "      <td>Albania</td>\n",
       "      <td>0</td>\n",
       "    </tr>\n",
       "    <tr>\n",
       "      <th>10</th>\n",
       "      <td>2010</td>\n",
       "      <td>214</td>\n",
       "      <td>67</td>\n",
       "      <td>826</td>\n",
       "      <td>22</td>\n",
       "      <td>127</td>\n",
       "      <td>225</td>\n",
       "      <td>269</td>\n",
       "      <td>14</td>\n",
       "      <td>34</td>\n",
       "      <td>...</td>\n",
       "      <td>2913021.0</td>\n",
       "      <td>Electoral Democracy</td>\n",
       "      <td>47.837</td>\n",
       "      <td>1.574506</td>\n",
       "      <td>52.163</td>\n",
       "      <td>-1.165449</td>\n",
       "      <td>-0.703219</td>\n",
       "      <td>-0.270856</td>\n",
       "      <td>Albania</td>\n",
       "      <td>0</td>\n",
       "    </tr>\n",
       "  </tbody>\n",
       "</table>\n",
       "<p>10 rows × 39 columns</p>\n",
       "</div>"
      ],
      "text/plain": [
       "    Year  Liver cancer  Kidney cancer  Tracheal, bronchus, and lung cancer  \\\n",
       "1   2001           301             42                                  734   \n",
       "2   2002           295             47                                  765   \n",
       "3   2003           290             53                                  806   \n",
       "4   2004           272             57                                  817   \n",
       "5   2005           246             60                                  804   \n",
       "6   2006           224             61                                  780   \n",
       "7   2007           211             63                                  768   \n",
       "8   2008           208             66                                  796   \n",
       "9   2009           207             67                                  809   \n",
       "10  2010           214             67                                  826   \n",
       "\n",
       "    Malignant skin melanoma  Leukemia  Breast cancer  Prostate cancer  \\\n",
       "1                        21       121            163              195   \n",
       "2                        21       124            175              206   \n",
       "3                        21       129            191              219   \n",
       "4                        21       132            198              227   \n",
       "5                        20       131            208              230   \n",
       "6                        20       126            210              229   \n",
       "7                        20       122            209              233   \n",
       "8                        20       125            219              245   \n",
       "9                        21       126            220              256   \n",
       "10                       22       127            225              269   \n",
       "\n",
       "    Thyroid cancer  Bladder cancer  ...  Population  \\\n",
       "1               14              26  ...   3060173.0   \n",
       "2               14              28  ...   3051010.0   \n",
       "3               15              30  ...   3039616.0   \n",
       "4               15              31  ...   3026939.0   \n",
       "5               15              31  ...   3011487.0   \n",
       "6               14              31  ...   2992547.0   \n",
       "7               13              31  ...   2970017.0   \n",
       "8               13              32  ...   2947314.0   \n",
       "9               14              33  ...   2927519.0   \n",
       "10              14              34  ...   2913021.0   \n",
       "\n",
       "    Regime Type (RoW Measure Definition)  \\\n",
       "1                    Electoral Autocracy   \n",
       "2                    Electoral Autocracy   \n",
       "3                    Electoral Autocracy   \n",
       "4                    Electoral Autocracy   \n",
       "5                    Electoral Democracy   \n",
       "6                    Electoral Democracy   \n",
       "7                    Electoral Democracy   \n",
       "8                    Electoral Democracy   \n",
       "9                    Electoral Democracy   \n",
       "10                   Electoral Democracy   \n",
       "\n",
       "    Rural population (% of total population)  \\\n",
       "1                                     57.565   \n",
       "2                                     56.499   \n",
       "3                                     55.427   \n",
       "4                                     54.349   \n",
       "5                                     53.269   \n",
       "6                                     52.185   \n",
       "7                                     51.098   \n",
       "8                                     50.009   \n",
       "9                                     48.924   \n",
       "10                                    47.837   \n",
       "\n",
       "    Total natural resources rents (% of GDP)  \\\n",
       "1                                   0.755950   \n",
       "2                                   0.760798   \n",
       "3                                   0.733194   \n",
       "4                                   0.770849   \n",
       "5                                   1.018382   \n",
       "6                                   1.321831   \n",
       "7                                   1.761086   \n",
       "8                                   1.109999   \n",
       "9                                   0.605980   \n",
       "10                                  1.574506   \n",
       "\n",
       "    Urban population (% of total population)      PC 1      PC 2      PC 3  \\\n",
       "1                                     42.435 -1.343557  0.473957  0.034154   \n",
       "2                                     43.501 -1.343527  0.457925  0.132897   \n",
       "3                                     44.573 -1.305840  0.288270 -0.027854   \n",
       "4                                     45.651 -1.303552  0.251858 -0.008955   \n",
       "5                                     46.731 -1.236340 -0.011186 -0.203594   \n",
       "6                                     47.815 -1.223191 -0.100708 -0.179063   \n",
       "7                                     48.902 -1.234192 -0.102491 -0.243343   \n",
       "8                                     49.991 -1.234622 -0.100923 -0.315419   \n",
       "9                                     51.076 -1.201960 -0.542023 -0.285938   \n",
       "10                                    52.163 -1.165449 -0.703219 -0.270856   \n",
       "\n",
       "    Country  Class  \n",
       "1   Albania      0  \n",
       "2   Albania      0  \n",
       "3   Albania      0  \n",
       "4   Albania      0  \n",
       "5   Albania      0  \n",
       "6   Albania      0  \n",
       "7   Albania      0  \n",
       "8   Albania      0  \n",
       "9   Albania      0  \n",
       "10  Albania      0  \n",
       "\n",
       "[10 rows x 39 columns]"
      ]
     },
     "execution_count": 66,
     "metadata": {},
     "output_type": "execute_result"
    }
   ],
   "source": [
    "# Create a new DataFrame including predicted clusters and cryptocurrencies features.\n",
    "# Concatentate the crypto_df and pcs_df DataFrames on the same columns.\n",
    "# YOUR CODE HERE\n",
    "clustered_df = pd.concat([eco_cancer_data_ml, pcs_df], axis=1, join=\"outer\")\n",
    "#  Add a new column, \"CoinName\" to the clustered_df DataFrame that holds the names of the cryptocurrencies. \n",
    "# # YOUR CODE HERE\n",
    "clustered_df[\"Country\"] = country_name_df[\"Country\"]\n",
    "# #  Add a new column, \"Class\" to the clustered_df DataFrame that holds the predictions.\n",
    "# # YOUR CODE HERE\n",
    "clustered_df[\"Class\"] = predicted\n",
    "# # Print the shape of the clustered_df\n",
    "print(clustered_df.shape)\n",
    "clustered_df.head(10)"
   ]
  },
  {
   "cell_type": "code",
   "execution_count": 67,
   "id": "72956088",
   "metadata": {},
   "outputs": [
    {
     "data": {
      "application/vnd.plotly.v1+json": {
       "config": {
        "plotlyServerURL": "https://plot.ly"
       },
       "data": [
        {
         "customdata": [
          [
           "Albania"
          ],
          [
           "Albania"
          ],
          [
           "Albania"
          ],
          [
           "Albania"
          ],
          [
           "Albania"
          ],
          [
           "Albania"
          ],
          [
           "Albania"
          ],
          [
           "Albania"
          ],
          [
           "Albania"
          ],
          [
           "Albania"
          ],
          [
           "Albania"
          ],
          [
           "Albania"
          ],
          [
           "Albania"
          ],
          [
           "Albania"
          ],
          [
           "Albania"
          ],
          [
           "Albania"
          ],
          [
           "Albania"
          ],
          [
           "Albania"
          ],
          [
           "Algeria"
          ],
          [
           "Algeria"
          ],
          [
           "Algeria"
          ],
          [
           "Algeria"
          ],
          [
           "Algeria"
          ],
          [
           "Algeria"
          ],
          [
           "Algeria"
          ],
          [
           "Algeria"
          ],
          [
           "Algeria"
          ],
          [
           "Algeria"
          ],
          [
           "Algeria"
          ],
          [
           "Angola"
          ],
          [
           "Angola"
          ],
          [
           "Angola"
          ],
          [
           "Armenia"
          ],
          [
           "Armenia"
          ],
          [
           "Armenia"
          ],
          [
           "Armenia"
          ],
          [
           "Armenia"
          ],
          [
           "Armenia"
          ],
          [
           "Armenia"
          ],
          [
           "Armenia"
          ],
          [
           "Armenia"
          ],
          [
           "Armenia"
          ],
          [
           "Armenia"
          ],
          [
           "Armenia"
          ],
          [
           "Armenia"
          ],
          [
           "Armenia"
          ],
          [
           "Armenia"
          ],
          [
           "Armenia"
          ],
          [
           "Armenia"
          ],
          [
           "Armenia"
          ],
          [
           "Australia"
          ],
          [
           "Australia"
          ],
          [
           "Australia"
          ],
          [
           "Australia"
          ],
          [
           "Australia"
          ],
          [
           "Australia"
          ],
          [
           "Australia"
          ],
          [
           "Australia"
          ],
          [
           "Australia"
          ],
          [
           "Australia"
          ],
          [
           "Australia"
          ],
          [
           "Australia"
          ],
          [
           "Australia"
          ],
          [
           "Australia"
          ],
          [
           "Australia"
          ],
          [
           "Australia"
          ],
          [
           "Australia"
          ],
          [
           "Australia"
          ],
          [
           "Austria"
          ],
          [
           "Austria"
          ],
          [
           "Austria"
          ],
          [
           "Austria"
          ],
          [
           "Austria"
          ],
          [
           "Austria"
          ],
          [
           "Austria"
          ],
          [
           "Austria"
          ],
          [
           "Austria"
          ],
          [
           "Austria"
          ],
          [
           "Austria"
          ],
          [
           "Austria"
          ],
          [
           "Austria"
          ],
          [
           "Austria"
          ],
          [
           "Austria"
          ],
          [
           "Austria"
          ],
          [
           "Austria"
          ],
          [
           "Austria"
          ],
          [
           "Azerbaijan"
          ],
          [
           "Azerbaijan"
          ],
          [
           "Azerbaijan"
          ],
          [
           "Azerbaijan"
          ],
          [
           "Azerbaijan"
          ],
          [
           "Azerbaijan"
          ],
          [
           "Azerbaijan"
          ],
          [
           "Azerbaijan"
          ],
          [
           "Azerbaijan"
          ],
          [
           "Azerbaijan"
          ],
          [
           "Azerbaijan"
          ],
          [
           "Azerbaijan"
          ],
          [
           "Azerbaijan"
          ],
          [
           "Azerbaijan"
          ],
          [
           "Azerbaijan"
          ],
          [
           "Azerbaijan"
          ],
          [
           "Azerbaijan"
          ],
          [
           "Azerbaijan"
          ],
          [
           "Bahrain"
          ],
          [
           "Bahrain"
          ],
          [
           "Bahrain"
          ],
          [
           "Bahrain"
          ],
          [
           "Bahrain"
          ],
          [
           "Bahrain"
          ],
          [
           "Bahrain"
          ],
          [
           "Bahrain"
          ],
          [
           "Bahrain"
          ],
          [
           "Bahrain"
          ],
          [
           "Bahrain"
          ],
          [
           "Bahrain"
          ],
          [
           "Bahrain"
          ],
          [
           "Bahrain"
          ],
          [
           "Bahrain"
          ],
          [
           "Bahrain"
          ],
          [
           "Bahrain"
          ],
          [
           "Bahrain"
          ],
          [
           "Barbados"
          ],
          [
           "Barbados"
          ],
          [
           "Barbados"
          ],
          [
           "Barbados"
          ],
          [
           "Barbados"
          ],
          [
           "Barbados"
          ],
          [
           "Barbados"
          ],
          [
           "Barbados"
          ],
          [
           "Barbados"
          ],
          [
           "Barbados"
          ],
          [
           "Barbados"
          ],
          [
           "Barbados"
          ],
          [
           "Barbados"
          ],
          [
           "Barbados"
          ],
          [
           "Barbados"
          ],
          [
           "Barbados"
          ],
          [
           "Barbados"
          ],
          [
           "Barbados"
          ],
          [
           "Belarus"
          ],
          [
           "Belarus"
          ],
          [
           "Belarus"
          ],
          [
           "Belarus"
          ],
          [
           "Belarus"
          ],
          [
           "Belarus"
          ],
          [
           "Belarus"
          ],
          [
           "Belarus"
          ],
          [
           "Belarus"
          ],
          [
           "Belarus"
          ],
          [
           "Belarus"
          ],
          [
           "Belarus"
          ],
          [
           "Belarus"
          ],
          [
           "Belarus"
          ],
          [
           "Belarus"
          ],
          [
           "Belarus"
          ],
          [
           "Belarus"
          ],
          [
           "Belarus"
          ],
          [
           "Belgium"
          ],
          [
           "Belgium"
          ],
          [
           "Belgium"
          ],
          [
           "Belgium"
          ],
          [
           "Belgium"
          ],
          [
           "Belgium"
          ],
          [
           "Belgium"
          ],
          [
           "Belgium"
          ],
          [
           "Belgium"
          ],
          [
           "Belgium"
          ],
          [
           "Belgium"
          ],
          [
           "Belgium"
          ],
          [
           "Belgium"
          ],
          [
           "Belgium"
          ],
          [
           "Belgium"
          ],
          [
           "Belgium"
          ],
          [
           "Belgium"
          ],
          [
           "Belgium"
          ],
          [
           "Bolivia"
          ],
          [
           "Bolivia"
          ],
          [
           "Bolivia"
          ],
          [
           "Bolivia"
          ],
          [
           "Bolivia"
          ],
          [
           "Bolivia"
          ],
          [
           "Bolivia"
          ],
          [
           "Bolivia"
          ],
          [
           "Bolivia"
          ],
          [
           "Bolivia"
          ],
          [
           "Bolivia"
          ],
          [
           "Bolivia"
          ],
          [
           "Bolivia"
          ],
          [
           "Bolivia"
          ],
          [
           "Bolivia"
          ],
          [
           "Bolivia"
          ],
          [
           "Bolivia"
          ],
          [
           "Bolivia"
          ],
          [
           "Bosnia and Herzegovina"
          ],
          [
           "Bosnia and Herzegovina"
          ],
          [
           "Bosnia and Herzegovina"
          ],
          [
           "Bosnia and Herzegovina"
          ],
          [
           "Bosnia and Herzegovina"
          ],
          [
           "Bosnia and Herzegovina"
          ],
          [
           "Bosnia and Herzegovina"
          ],
          [
           "Bosnia and Herzegovina"
          ],
          [
           "Bosnia and Herzegovina"
          ],
          [
           "Bosnia and Herzegovina"
          ],
          [
           "Bosnia and Herzegovina"
          ],
          [
           "Bosnia and Herzegovina"
          ],
          [
           "Bosnia and Herzegovina"
          ],
          [
           "Botswana"
          ],
          [
           "Botswana"
          ],
          [
           "Botswana"
          ],
          [
           "Botswana"
          ],
          [
           "Botswana"
          ],
          [
           "Botswana"
          ],
          [
           "Botswana"
          ],
          [
           "Botswana"
          ],
          [
           "Botswana"
          ],
          [
           "Botswana"
          ],
          [
           "Botswana"
          ],
          [
           "Botswana"
          ],
          [
           "Botswana"
          ],
          [
           "Botswana"
          ],
          [
           "Botswana"
          ],
          [
           "Botswana"
          ],
          [
           "Botswana"
          ],
          [
           "Brazil"
          ],
          [
           "Brazil"
          ],
          [
           "Brazil"
          ],
          [
           "Brazil"
          ],
          [
           "Brazil"
          ],
          [
           "Brazil"
          ],
          [
           "Brazil"
          ],
          [
           "Brazil"
          ],
          [
           "Brazil"
          ],
          [
           "Brazil"
          ],
          [
           "Brazil"
          ],
          [
           "Brazil"
          ],
          [
           "Brazil"
          ],
          [
           "Brazil"
          ],
          [
           "Brazil"
          ],
          [
           "Brazil"
          ],
          [
           "Brazil"
          ],
          [
           "Brazil"
          ],
          [
           "Bulgaria"
          ],
          [
           "Bulgaria"
          ],
          [
           "Bulgaria"
          ],
          [
           "Bulgaria"
          ],
          [
           "Bulgaria"
          ],
          [
           "Bulgaria"
          ],
          [
           "Bulgaria"
          ],
          [
           "Bulgaria"
          ],
          [
           "Bulgaria"
          ],
          [
           "Bulgaria"
          ],
          [
           "Bulgaria"
          ],
          [
           "Bulgaria"
          ],
          [
           "Bulgaria"
          ],
          [
           "Bulgaria"
          ],
          [
           "Bulgaria"
          ],
          [
           "Bulgaria"
          ],
          [
           "Bulgaria"
          ],
          [
           "Bulgaria"
          ],
          [
           "Canada"
          ],
          [
           "Canada"
          ],
          [
           "Canada"
          ],
          [
           "Canada"
          ],
          [
           "Canada"
          ],
          [
           "Canada"
          ],
          [
           "Canada"
          ],
          [
           "Canada"
          ],
          [
           "Canada"
          ],
          [
           "Canada"
          ],
          [
           "Canada"
          ],
          [
           "Canada"
          ],
          [
           "Canada"
          ],
          [
           "Canada"
          ],
          [
           "Canada"
          ],
          [
           "Canada"
          ],
          [
           "Canada"
          ],
          [
           "Canada"
          ],
          [
           "Chile"
          ],
          [
           "Chile"
          ],
          [
           "Chile"
          ],
          [
           "Chile"
          ],
          [
           "Chile"
          ],
          [
           "Chile"
          ],
          [
           "Chile"
          ],
          [
           "Chile"
          ],
          [
           "Chile"
          ],
          [
           "Chile"
          ],
          [
           "Chile"
          ],
          [
           "Chile"
          ],
          [
           "Chile"
          ],
          [
           "Chile"
          ],
          [
           "Chile"
          ],
          [
           "Chile"
          ],
          [
           "Chile"
          ],
          [
           "Chile"
          ],
          [
           "Colombia"
          ],
          [
           "Colombia"
          ],
          [
           "Colombia"
          ],
          [
           "Colombia"
          ],
          [
           "Colombia"
          ],
          [
           "Colombia"
          ],
          [
           "Colombia"
          ],
          [
           "Colombia"
          ],
          [
           "Colombia"
          ],
          [
           "Colombia"
          ],
          [
           "Colombia"
          ],
          [
           "Colombia"
          ],
          [
           "Colombia"
          ],
          [
           "Colombia"
          ],
          [
           "Colombia"
          ],
          [
           "Colombia"
          ],
          [
           "Colombia"
          ],
          [
           "Colombia"
          ],
          [
           "Costa Rica"
          ],
          [
           "Costa Rica"
          ],
          [
           "Costa Rica"
          ],
          [
           "Costa Rica"
          ],
          [
           "Costa Rica"
          ],
          [
           "Costa Rica"
          ],
          [
           "Costa Rica"
          ],
          [
           "Costa Rica"
          ],
          [
           "Costa Rica"
          ],
          [
           "Costa Rica"
          ],
          [
           "Costa Rica"
          ],
          [
           "Costa Rica"
          ],
          [
           "Costa Rica"
          ],
          [
           "Costa Rica"
          ],
          [
           "Costa Rica"
          ],
          [
           "Costa Rica"
          ],
          [
           "Costa Rica"
          ],
          [
           "Costa Rica"
          ],
          [
           "Croatia"
          ],
          [
           "Croatia"
          ],
          [
           "Croatia"
          ],
          [
           "Croatia"
          ],
          [
           "Croatia"
          ],
          [
           "Croatia"
          ],
          [
           "Croatia"
          ],
          [
           "Croatia"
          ],
          [
           "Croatia"
          ],
          [
           "Croatia"
          ],
          [
           "Croatia"
          ],
          [
           "Croatia"
          ],
          [
           "Croatia"
          ],
          [
           "Croatia"
          ],
          [
           "Croatia"
          ],
          [
           "Croatia"
          ],
          [
           "Croatia"
          ],
          [
           "Croatia"
          ],
          [
           "Cyprus"
          ],
          [
           "Cyprus"
          ],
          [
           "Cyprus"
          ],
          [
           "Cyprus"
          ],
          [
           "Cyprus"
          ],
          [
           "Cyprus"
          ],
          [
           "Cyprus"
          ],
          [
           "Cyprus"
          ],
          [
           "Cyprus"
          ],
          [
           "Cyprus"
          ],
          [
           "Cyprus"
          ],
          [
           "Cyprus"
          ],
          [
           "Cyprus"
          ],
          [
           "Cyprus"
          ],
          [
           "Cyprus"
          ],
          [
           "Cyprus"
          ],
          [
           "Cyprus"
          ],
          [
           "Cyprus"
          ],
          [
           "Denmark"
          ],
          [
           "Denmark"
          ],
          [
           "Denmark"
          ],
          [
           "Denmark"
          ],
          [
           "Denmark"
          ],
          [
           "Denmark"
          ],
          [
           "Denmark"
          ],
          [
           "Denmark"
          ],
          [
           "Denmark"
          ],
          [
           "Denmark"
          ],
          [
           "Denmark"
          ],
          [
           "Denmark"
          ],
          [
           "Denmark"
          ],
          [
           "Denmark"
          ],
          [
           "Denmark"
          ],
          [
           "Denmark"
          ],
          [
           "Denmark"
          ],
          [
           "Denmark"
          ],
          [
           "Dominican Republic"
          ],
          [
           "Dominican Republic"
          ],
          [
           "Dominican Republic"
          ],
          [
           "Dominican Republic"
          ],
          [
           "Dominican Republic"
          ],
          [
           "Dominican Republic"
          ],
          [
           "Dominican Republic"
          ],
          [
           "Dominican Republic"
          ],
          [
           "Dominican Republic"
          ],
          [
           "Dominican Republic"
          ],
          [
           "Dominican Republic"
          ],
          [
           "Dominican Republic"
          ],
          [
           "Dominican Republic"
          ],
          [
           "Dominican Republic"
          ],
          [
           "Dominican Republic"
          ],
          [
           "Dominican Republic"
          ],
          [
           "Dominican Republic"
          ],
          [
           "Dominican Republic"
          ],
          [
           "Ecuador"
          ],
          [
           "Ecuador"
          ],
          [
           "Ecuador"
          ],
          [
           "Ecuador"
          ],
          [
           "Ecuador"
          ],
          [
           "Ecuador"
          ],
          [
           "Ecuador"
          ],
          [
           "Ecuador"
          ],
          [
           "Ecuador"
          ],
          [
           "Ecuador"
          ],
          [
           "Ecuador"
          ],
          [
           "Ecuador"
          ],
          [
           "Ecuador"
          ],
          [
           "Ecuador"
          ],
          [
           "Ecuador"
          ],
          [
           "Ecuador"
          ],
          [
           "Ecuador"
          ],
          [
           "Ecuador"
          ],
          [
           "El Salvador"
          ],
          [
           "El Salvador"
          ],
          [
           "El Salvador"
          ],
          [
           "El Salvador"
          ],
          [
           "El Salvador"
          ],
          [
           "El Salvador"
          ],
          [
           "El Salvador"
          ],
          [
           "El Salvador"
          ],
          [
           "El Salvador"
          ],
          [
           "El Salvador"
          ],
          [
           "El Salvador"
          ],
          [
           "El Salvador"
          ],
          [
           "El Salvador"
          ],
          [
           "El Salvador"
          ],
          [
           "El Salvador"
          ],
          [
           "El Salvador"
          ],
          [
           "El Salvador"
          ],
          [
           "El Salvador"
          ],
          [
           "Equatorial Guinea"
          ],
          [
           "Equatorial Guinea"
          ],
          [
           "Equatorial Guinea"
          ],
          [
           "Equatorial Guinea"
          ],
          [
           "Equatorial Guinea"
          ],
          [
           "Equatorial Guinea"
          ],
          [
           "Equatorial Guinea"
          ],
          [
           "Equatorial Guinea"
          ],
          [
           "Estonia"
          ],
          [
           "Estonia"
          ],
          [
           "Estonia"
          ],
          [
           "Estonia"
          ],
          [
           "Estonia"
          ],
          [
           "Estonia"
          ],
          [
           "Estonia"
          ],
          [
           "Estonia"
          ],
          [
           "Estonia"
          ],
          [
           "Estonia"
          ],
          [
           "Estonia"
          ],
          [
           "Estonia"
          ],
          [
           "Estonia"
          ],
          [
           "Estonia"
          ],
          [
           "Estonia"
          ],
          [
           "Estonia"
          ],
          [
           "Estonia"
          ],
          [
           "Estonia"
          ],
          [
           "Fiji"
          ],
          [
           "Fiji"
          ],
          [
           "Fiji"
          ],
          [
           "Fiji"
          ],
          [
           "Fiji"
          ],
          [
           "Fiji"
          ],
          [
           "Fiji"
          ],
          [
           "Fiji"
          ],
          [
           "Fiji"
          ],
          [
           "Fiji"
          ],
          [
           "Fiji"
          ],
          [
           "Fiji"
          ],
          [
           "Fiji"
          ],
          [
           "Fiji"
          ],
          [
           "Fiji"
          ],
          [
           "Fiji"
          ],
          [
           "Finland"
          ],
          [
           "Finland"
          ],
          [
           "Finland"
          ],
          [
           "Finland"
          ],
          [
           "Finland"
          ],
          [
           "Finland"
          ],
          [
           "Finland"
          ],
          [
           "Finland"
          ],
          [
           "Finland"
          ],
          [
           "Finland"
          ],
          [
           "Finland"
          ],
          [
           "Finland"
          ],
          [
           "Finland"
          ],
          [
           "Finland"
          ],
          [
           "Finland"
          ],
          [
           "Finland"
          ],
          [
           "Finland"
          ],
          [
           "Finland"
          ],
          [
           "France"
          ],
          [
           "France"
          ],
          [
           "France"
          ],
          [
           "France"
          ],
          [
           "France"
          ],
          [
           "France"
          ],
          [
           "France"
          ],
          [
           "France"
          ],
          [
           "France"
          ],
          [
           "France"
          ],
          [
           "France"
          ],
          [
           "France"
          ],
          [
           "France"
          ],
          [
           "France"
          ],
          [
           "France"
          ],
          [
           "France"
          ],
          [
           "France"
          ],
          [
           "France"
          ],
          [
           "Gabon"
          ],
          [
           "Gabon"
          ],
          [
           "Gabon"
          ],
          [
           "Gabon"
          ],
          [
           "Gabon"
          ],
          [
           "Gabon"
          ],
          [
           "Gabon"
          ],
          [
           "Gabon"
          ],
          [
           "Gabon"
          ],
          [
           "Gabon"
          ],
          [
           "Gabon"
          ],
          [
           "Gabon"
          ],
          [
           "Gabon"
          ],
          [
           "Gabon"
          ],
          [
           "Gabon"
          ],
          [
           "Gabon"
          ],
          [
           "Gabon"
          ],
          [
           "Gabon"
          ],
          [
           "Georgia"
          ],
          [
           "Georgia"
          ],
          [
           "Georgia"
          ],
          [
           "Georgia"
          ],
          [
           "Georgia"
          ],
          [
           "Georgia"
          ],
          [
           "Georgia"
          ],
          [
           "Georgia"
          ],
          [
           "Georgia"
          ],
          [
           "Georgia"
          ],
          [
           "Georgia"
          ],
          [
           "Georgia"
          ],
          [
           "Georgia"
          ],
          [
           "Georgia"
          ],
          [
           "Georgia"
          ],
          [
           "Georgia"
          ],
          [
           "Germany"
          ],
          [
           "Germany"
          ],
          [
           "Germany"
          ],
          [
           "Germany"
          ],
          [
           "Germany"
          ],
          [
           "Germany"
          ],
          [
           "Germany"
          ],
          [
           "Germany"
          ],
          [
           "Germany"
          ],
          [
           "Germany"
          ],
          [
           "Germany"
          ],
          [
           "Germany"
          ],
          [
           "Germany"
          ],
          [
           "Germany"
          ],
          [
           "Germany"
          ],
          [
           "Germany"
          ],
          [
           "Germany"
          ],
          [
           "Germany"
          ],
          [
           "Ghana"
          ],
          [
           "Ghana"
          ],
          [
           "Ghana"
          ],
          [
           "Ghana"
          ],
          [
           "Greece"
          ],
          [
           "Greece"
          ],
          [
           "Greece"
          ],
          [
           "Greece"
          ],
          [
           "Greece"
          ],
          [
           "Greece"
          ],
          [
           "Greece"
          ],
          [
           "Greece"
          ],
          [
           "Greece"
          ],
          [
           "Greece"
          ],
          [
           "Greece"
          ],
          [
           "Greece"
          ],
          [
           "Greece"
          ],
          [
           "Guatemala"
          ],
          [
           "Guatemala"
          ],
          [
           "Honduras"
          ],
          [
           "Honduras"
          ],
          [
           "Honduras"
          ],
          [
           "Honduras"
          ],
          [
           "Honduras"
          ],
          [
           "Honduras"
          ],
          [
           "Honduras"
          ],
          [
           "Honduras"
          ],
          [
           "Honduras"
          ],
          [
           "Honduras"
          ],
          [
           "Honduras"
          ],
          [
           "Hungary"
          ],
          [
           "Hungary"
          ],
          [
           "Hungary"
          ],
          [
           "Hungary"
          ],
          [
           "Hungary"
          ],
          [
           "Hungary"
          ],
          [
           "Hungary"
          ],
          [
           "Hungary"
          ],
          [
           "Hungary"
          ],
          [
           "Hungary"
          ],
          [
           "Hungary"
          ],
          [
           "Hungary"
          ],
          [
           "Hungary"
          ],
          [
           "Hungary"
          ],
          [
           "Hungary"
          ],
          [
           "Hungary"
          ],
          [
           "Hungary"
          ],
          [
           "Hungary"
          ],
          [
           "Iceland"
          ],
          [
           "Iceland"
          ],
          [
           "Iceland"
          ],
          [
           "Iceland"
          ],
          [
           "Iceland"
          ],
          [
           "Iceland"
          ],
          [
           "Iceland"
          ],
          [
           "Iceland"
          ],
          [
           "Indonesia"
          ],
          [
           "Indonesia"
          ],
          [
           "Indonesia"
          ],
          [
           "Indonesia"
          ],
          [
           "Indonesia"
          ],
          [
           "Indonesia"
          ],
          [
           "Indonesia"
          ],
          [
           "Indonesia"
          ],
          [
           "Indonesia"
          ],
          [
           "Indonesia"
          ],
          [
           "Indonesia"
          ],
          [
           "Indonesia"
          ],
          [
           "Indonesia"
          ],
          [
           "Indonesia"
          ],
          [
           "Indonesia"
          ],
          [
           "Indonesia"
          ],
          [
           "Iraq"
          ],
          [
           "Iraq"
          ],
          [
           "Iraq"
          ],
          [
           "Iraq"
          ],
          [
           "Iraq"
          ],
          [
           "Iraq"
          ],
          [
           "Iraq"
          ],
          [
           "Iraq"
          ],
          [
           "Iraq"
          ],
          [
           "Iraq"
          ],
          [
           "Iraq"
          ],
          [
           "Iraq"
          ],
          [
           "Iraq"
          ],
          [
           "Ireland"
          ],
          [
           "Ireland"
          ],
          [
           "Ireland"
          ],
          [
           "Ireland"
          ],
          [
           "Ireland"
          ],
          [
           "Ireland"
          ],
          [
           "Ireland"
          ],
          [
           "Ireland"
          ],
          [
           "Ireland"
          ],
          [
           "Ireland"
          ],
          [
           "Ireland"
          ],
          [
           "Ireland"
          ],
          [
           "Ireland"
          ],
          [
           "Ireland"
          ],
          [
           "Ireland"
          ],
          [
           "Ireland"
          ],
          [
           "Ireland"
          ],
          [
           "Ireland"
          ],
          [
           "Israel"
          ],
          [
           "Israel"
          ],
          [
           "Israel"
          ],
          [
           "Israel"
          ],
          [
           "Israel"
          ],
          [
           "Israel"
          ],
          [
           "Israel"
          ],
          [
           "Israel"
          ],
          [
           "Israel"
          ],
          [
           "Israel"
          ],
          [
           "Israel"
          ],
          [
           "Israel"
          ],
          [
           "Israel"
          ],
          [
           "Israel"
          ],
          [
           "Israel"
          ],
          [
           "Israel"
          ],
          [
           "Israel"
          ],
          [
           "Israel"
          ],
          [
           "Italy"
          ],
          [
           "Italy"
          ],
          [
           "Italy"
          ],
          [
           "Italy"
          ],
          [
           "Italy"
          ],
          [
           "Italy"
          ],
          [
           "Italy"
          ],
          [
           "Italy"
          ],
          [
           "Italy"
          ],
          [
           "Italy"
          ],
          [
           "Italy"
          ],
          [
           "Italy"
          ],
          [
           "Italy"
          ],
          [
           "Italy"
          ],
          [
           "Italy"
          ],
          [
           "Italy"
          ],
          [
           "Italy"
          ],
          [
           "Italy"
          ],
          [
           "Jamaica"
          ],
          [
           "Jamaica"
          ],
          [
           "Jamaica"
          ],
          [
           "Jamaica"
          ],
          [
           "Jamaica"
          ],
          [
           "Jamaica"
          ],
          [
           "Jamaica"
          ],
          [
           "Jamaica"
          ],
          [
           "Jamaica"
          ],
          [
           "Jamaica"
          ],
          [
           "Jamaica"
          ],
          [
           "Jamaica"
          ],
          [
           "Jamaica"
          ],
          [
           "Jamaica"
          ],
          [
           "Jamaica"
          ],
          [
           "Jamaica"
          ],
          [
           "Jamaica"
          ],
          [
           "Jamaica"
          ],
          [
           "Japan"
          ],
          [
           "Japan"
          ],
          [
           "Japan"
          ],
          [
           "Japan"
          ],
          [
           "Japan"
          ],
          [
           "Japan"
          ],
          [
           "Japan"
          ],
          [
           "Japan"
          ],
          [
           "Japan"
          ],
          [
           "Japan"
          ],
          [
           "Japan"
          ],
          [
           "Japan"
          ],
          [
           "Japan"
          ],
          [
           "Japan"
          ],
          [
           "Japan"
          ],
          [
           "Japan"
          ],
          [
           "Japan"
          ],
          [
           "Japan"
          ],
          [
           "Jordan"
          ],
          [
           "Jordan"
          ],
          [
           "Jordan"
          ],
          [
           "Jordan"
          ],
          [
           "Jordan"
          ],
          [
           "Jordan"
          ],
          [
           "Jordan"
          ],
          [
           "Jordan"
          ],
          [
           "Jordan"
          ],
          [
           "Jordan"
          ],
          [
           "Jordan"
          ],
          [
           "Jordan"
          ],
          [
           "Jordan"
          ],
          [
           "Jordan"
          ],
          [
           "Jordan"
          ],
          [
           "Jordan"
          ],
          [
           "Jordan"
          ],
          [
           "Jordan"
          ],
          [
           "Kazakhstan"
          ],
          [
           "Kazakhstan"
          ],
          [
           "Kazakhstan"
          ],
          [
           "Kazakhstan"
          ],
          [
           "Kazakhstan"
          ],
          [
           "Kazakhstan"
          ],
          [
           "Kazakhstan"
          ],
          [
           "Kazakhstan"
          ],
          [
           "Kazakhstan"
          ],
          [
           "Kazakhstan"
          ],
          [
           "Kazakhstan"
          ],
          [
           "Kazakhstan"
          ],
          [
           "Kazakhstan"
          ],
          [
           "Kazakhstan"
          ],
          [
           "Kazakhstan"
          ],
          [
           "Kazakhstan"
          ],
          [
           "Kazakhstan"
          ],
          [
           "Kazakhstan"
          ],
          [
           "Kuwait"
          ],
          [
           "Kuwait"
          ],
          [
           "Kuwait"
          ],
          [
           "Kuwait"
          ],
          [
           "Kuwait"
          ],
          [
           "Kuwait"
          ],
          [
           "Kuwait"
          ],
          [
           "Kuwait"
          ],
          [
           "Kuwait"
          ],
          [
           "Kuwait"
          ],
          [
           "Kuwait"
          ],
          [
           "Kuwait"
          ],
          [
           "Kuwait"
          ],
          [
           "Kuwait"
          ],
          [
           "Kuwait"
          ],
          [
           "Latvia"
          ],
          [
           "Latvia"
          ],
          [
           "Latvia"
          ],
          [
           "Latvia"
          ],
          [
           "Latvia"
          ],
          [
           "Latvia"
          ],
          [
           "Latvia"
          ],
          [
           "Latvia"
          ],
          [
           "Latvia"
          ],
          [
           "Latvia"
          ],
          [
           "Latvia"
          ],
          [
           "Latvia"
          ],
          [
           "Latvia"
          ],
          [
           "Latvia"
          ],
          [
           "Latvia"
          ],
          [
           "Latvia"
          ],
          [
           "Latvia"
          ],
          [
           "Latvia"
          ],
          [
           "Lebanon"
          ],
          [
           "Lebanon"
          ],
          [
           "Lebanon"
          ],
          [
           "Lebanon"
          ],
          [
           "Lebanon"
          ],
          [
           "Lebanon"
          ],
          [
           "Lebanon"
          ],
          [
           "Lebanon"
          ],
          [
           "Lebanon"
          ],
          [
           "Lebanon"
          ],
          [
           "Lithuania"
          ],
          [
           "Lithuania"
          ],
          [
           "Lithuania"
          ],
          [
           "Lithuania"
          ],
          [
           "Lithuania"
          ],
          [
           "Lithuania"
          ],
          [
           "Lithuania"
          ],
          [
           "Lithuania"
          ],
          [
           "Lithuania"
          ],
          [
           "Lithuania"
          ],
          [
           "Lithuania"
          ],
          [
           "Lithuania"
          ],
          [
           "Lithuania"
          ],
          [
           "Lithuania"
          ],
          [
           "Lithuania"
          ],
          [
           "Lithuania"
          ],
          [
           "Lithuania"
          ],
          [
           "Lithuania"
          ],
          [
           "Luxembourg"
          ],
          [
           "Luxembourg"
          ],
          [
           "Luxembourg"
          ],
          [
           "Luxembourg"
          ],
          [
           "Luxembourg"
          ],
          [
           "Luxembourg"
          ],
          [
           "Luxembourg"
          ],
          [
           "Luxembourg"
          ],
          [
           "Luxembourg"
          ],
          [
           "Luxembourg"
          ],
          [
           "Luxembourg"
          ],
          [
           "Luxembourg"
          ],
          [
           "Luxembourg"
          ],
          [
           "Luxembourg"
          ],
          [
           "Luxembourg"
          ],
          [
           "Luxembourg"
          ],
          [
           "Luxembourg"
          ],
          [
           "Luxembourg"
          ],
          [
           "Malaysia"
          ],
          [
           "Malaysia"
          ],
          [
           "Malaysia"
          ],
          [
           "Malaysia"
          ],
          [
           "Malaysia"
          ],
          [
           "Malaysia"
          ],
          [
           "Malaysia"
          ],
          [
           "Malaysia"
          ],
          [
           "Malaysia"
          ],
          [
           "Malaysia"
          ],
          [
           "Maldives"
          ],
          [
           "Maldives"
          ],
          [
           "Maldives"
          ],
          [
           "Maldives"
          ],
          [
           "Maldives"
          ],
          [
           "Mauritius"
          ],
          [
           "Mauritius"
          ],
          [
           "Mauritius"
          ],
          [
           "Mauritius"
          ],
          [
           "Mauritius"
          ],
          [
           "Mauritius"
          ],
          [
           "Mauritius"
          ],
          [
           "Mauritius"
          ],
          [
           "Mauritius"
          ],
          [
           "Mauritius"
          ],
          [
           "Mauritius"
          ],
          [
           "Mauritius"
          ],
          [
           "Mauritius"
          ],
          [
           "Mauritius"
          ],
          [
           "Mauritius"
          ],
          [
           "Mauritius"
          ],
          [
           "Mauritius"
          ],
          [
           "Mauritius"
          ],
          [
           "Mexico"
          ],
          [
           "Mexico"
          ],
          [
           "Mexico"
          ],
          [
           "Mexico"
          ],
          [
           "Mexico"
          ],
          [
           "Mexico"
          ],
          [
           "Mexico"
          ],
          [
           "Mexico"
          ],
          [
           "Mexico"
          ],
          [
           "Mexico"
          ],
          [
           "Mexico"
          ],
          [
           "Mexico"
          ],
          [
           "Mexico"
          ],
          [
           "Mexico"
          ],
          [
           "Mexico"
          ],
          [
           "Mexico"
          ],
          [
           "Mexico"
          ],
          [
           "Mexico"
          ],
          [
           "Moldova"
          ],
          [
           "Moldova"
          ],
          [
           "Moldova"
          ],
          [
           "Moldova"
          ],
          [
           "Moldova"
          ],
          [
           "Moldova"
          ],
          [
           "Moldova"
          ],
          [
           "Moldova"
          ],
          [
           "Moldova"
          ],
          [
           "Moldova"
          ],
          [
           "Moldova"
          ],
          [
           "Moldova"
          ],
          [
           "Moldova"
          ],
          [
           "Moldova"
          ],
          [
           "Mongolia"
          ],
          [
           "Mongolia"
          ],
          [
           "Mongolia"
          ],
          [
           "Mongolia"
          ],
          [
           "Mongolia"
          ],
          [
           "Mongolia"
          ],
          [
           "Mongolia"
          ],
          [
           "Mongolia"
          ],
          [
           "Mongolia"
          ],
          [
           "Mongolia"
          ],
          [
           "Mongolia"
          ],
          [
           "Mongolia"
          ],
          [
           "Mongolia"
          ],
          [
           "Mongolia"
          ],
          [
           "Mongolia"
          ],
          [
           "Mongolia"
          ],
          [
           "Mongolia"
          ],
          [
           "Mongolia"
          ],
          [
           "Montenegro"
          ],
          [
           "Montenegro"
          ],
          [
           "Montenegro"
          ],
          [
           "Montenegro"
          ],
          [
           "Montenegro"
          ],
          [
           "Montenegro"
          ],
          [
           "Montenegro"
          ],
          [
           "Montenegro"
          ],
          [
           "Montenegro"
          ],
          [
           "Montenegro"
          ],
          [
           "Montenegro"
          ],
          [
           "Montenegro"
          ],
          [
           "Montenegro"
          ],
          [
           "Morocco"
          ],
          [
           "Morocco"
          ],
          [
           "Morocco"
          ],
          [
           "Morocco"
          ],
          [
           "Morocco"
          ],
          [
           "Morocco"
          ],
          [
           "Morocco"
          ],
          [
           "Morocco"
          ],
          [
           "Morocco"
          ],
          [
           "Morocco"
          ],
          [
           "Morocco"
          ],
          [
           "Morocco"
          ],
          [
           "Morocco"
          ],
          [
           "Morocco"
          ],
          [
           "Morocco"
          ],
          [
           "Morocco"
          ],
          [
           "Morocco"
          ],
          [
           "Morocco"
          ],
          [
           "Namibia"
          ],
          [
           "Namibia"
          ],
          [
           "Namibia"
          ],
          [
           "Namibia"
          ],
          [
           "Namibia"
          ],
          [
           "Namibia"
          ],
          [
           "Netherlands"
          ],
          [
           "Netherlands"
          ],
          [
           "Netherlands"
          ],
          [
           "Netherlands"
          ],
          [
           "Netherlands"
          ],
          [
           "Netherlands"
          ],
          [
           "Netherlands"
          ],
          [
           "Netherlands"
          ],
          [
           "Netherlands"
          ],
          [
           "Netherlands"
          ],
          [
           "Netherlands"
          ],
          [
           "Netherlands"
          ],
          [
           "Netherlands"
          ],
          [
           "Netherlands"
          ],
          [
           "Netherlands"
          ],
          [
           "Netherlands"
          ],
          [
           "Netherlands"
          ],
          [
           "Netherlands"
          ],
          [
           "New Zealand"
          ],
          [
           "New Zealand"
          ],
          [
           "New Zealand"
          ],
          [
           "New Zealand"
          ],
          [
           "New Zealand"
          ],
          [
           "New Zealand"
          ],
          [
           "New Zealand"
          ],
          [
           "New Zealand"
          ],
          [
           "New Zealand"
          ],
          [
           "New Zealand"
          ],
          [
           "New Zealand"
          ],
          [
           "New Zealand"
          ],
          [
           "New Zealand"
          ],
          [
           "New Zealand"
          ],
          [
           "New Zealand"
          ],
          [
           "New Zealand"
          ],
          [
           "New Zealand"
          ],
          [
           "New Zealand"
          ],
          [
           "Nicaragua"
          ],
          [
           "Nicaragua"
          ],
          [
           "Nicaragua"
          ],
          [
           "Nicaragua"
          ],
          [
           "Nicaragua"
          ],
          [
           "Nicaragua"
          ],
          [
           "Nicaragua"
          ],
          [
           "Nicaragua"
          ],
          [
           "Nicaragua"
          ],
          [
           "Nicaragua"
          ],
          [
           "Nicaragua"
          ],
          [
           "North Macedonia"
          ],
          [
           "North Macedonia"
          ],
          [
           "North Macedonia"
          ],
          [
           "North Macedonia"
          ],
          [
           "North Macedonia"
          ],
          [
           "North Macedonia"
          ],
          [
           "North Macedonia"
          ],
          [
           "North Macedonia"
          ],
          [
           "North Macedonia"
          ],
          [
           "North Macedonia"
          ],
          [
           "North Macedonia"
          ],
          [
           "North Macedonia"
          ],
          [
           "North Macedonia"
          ],
          [
           "North Macedonia"
          ],
          [
           "North Macedonia"
          ],
          [
           "North Macedonia"
          ],
          [
           "North Macedonia"
          ],
          [
           "North Macedonia"
          ],
          [
           "Norway"
          ],
          [
           "Norway"
          ],
          [
           "Norway"
          ],
          [
           "Norway"
          ],
          [
           "Norway"
          ],
          [
           "Norway"
          ],
          [
           "Norway"
          ],
          [
           "Norway"
          ],
          [
           "Norway"
          ],
          [
           "Norway"
          ],
          [
           "Norway"
          ],
          [
           "Norway"
          ],
          [
           "Norway"
          ],
          [
           "Norway"
          ],
          [
           "Norway"
          ],
          [
           "Norway"
          ],
          [
           "Norway"
          ],
          [
           "Norway"
          ],
          [
           "Oman"
          ],
          [
           "Oman"
          ],
          [
           "Oman"
          ],
          [
           "Oman"
          ],
          [
           "Oman"
          ],
          [
           "Oman"
          ],
          [
           "Oman"
          ],
          [
           "Oman"
          ],
          [
           "Oman"
          ],
          [
           "Oman"
          ],
          [
           "Oman"
          ],
          [
           "Oman"
          ],
          [
           "Oman"
          ],
          [
           "Oman"
          ],
          [
           "Oman"
          ],
          [
           "Oman"
          ],
          [
           "Oman"
          ],
          [
           "Oman"
          ],
          [
           "Panama"
          ],
          [
           "Panama"
          ],
          [
           "Panama"
          ],
          [
           "Panama"
          ],
          [
           "Panama"
          ],
          [
           "Panama"
          ],
          [
           "Panama"
          ],
          [
           "Panama"
          ],
          [
           "Panama"
          ],
          [
           "Panama"
          ],
          [
           "Panama"
          ],
          [
           "Panama"
          ],
          [
           "Panama"
          ],
          [
           "Panama"
          ],
          [
           "Panama"
          ],
          [
           "Panama"
          ],
          [
           "Panama"
          ],
          [
           "Panama"
          ],
          [
           "Paraguay"
          ],
          [
           "Paraguay"
          ],
          [
           "Paraguay"
          ],
          [
           "Paraguay"
          ],
          [
           "Paraguay"
          ],
          [
           "Paraguay"
          ],
          [
           "Paraguay"
          ],
          [
           "Paraguay"
          ],
          [
           "Paraguay"
          ],
          [
           "Paraguay"
          ],
          [
           "Paraguay"
          ],
          [
           "Paraguay"
          ],
          [
           "Paraguay"
          ],
          [
           "Paraguay"
          ],
          [
           "Paraguay"
          ],
          [
           "Paraguay"
          ],
          [
           "Paraguay"
          ],
          [
           "Paraguay"
          ],
          [
           "Peru"
          ],
          [
           "Peru"
          ],
          [
           "Peru"
          ],
          [
           "Peru"
          ],
          [
           "Peru"
          ],
          [
           "Peru"
          ],
          [
           "Peru"
          ],
          [
           "Peru"
          ],
          [
           "Peru"
          ],
          [
           "Peru"
          ],
          [
           "Peru"
          ],
          [
           "Peru"
          ],
          [
           "Peru"
          ],
          [
           "Peru"
          ],
          [
           "Peru"
          ],
          [
           "Peru"
          ],
          [
           "Peru"
          ],
          [
           "Peru"
          ],
          [
           "Philippines"
          ],
          [
           "Philippines"
          ],
          [
           "Philippines"
          ],
          [
           "Philippines"
          ],
          [
           "Philippines"
          ],
          [
           "Philippines"
          ],
          [
           "Philippines"
          ],
          [
           "Philippines"
          ],
          [
           "Philippines"
          ],
          [
           "Philippines"
          ],
          [
           "Philippines"
          ],
          [
           "Philippines"
          ],
          [
           "Philippines"
          ],
          [
           "Poland"
          ],
          [
           "Poland"
          ],
          [
           "Poland"
          ],
          [
           "Poland"
          ],
          [
           "Poland"
          ],
          [
           "Poland"
          ],
          [
           "Poland"
          ],
          [
           "Poland"
          ],
          [
           "Poland"
          ],
          [
           "Poland"
          ],
          [
           "Poland"
          ],
          [
           "Poland"
          ],
          [
           "Poland"
          ],
          [
           "Poland"
          ],
          [
           "Poland"
          ],
          [
           "Poland"
          ],
          [
           "Poland"
          ],
          [
           "Poland"
          ],
          [
           "Portugal"
          ],
          [
           "Portugal"
          ],
          [
           "Portugal"
          ],
          [
           "Portugal"
          ],
          [
           "Portugal"
          ],
          [
           "Portugal"
          ],
          [
           "Portugal"
          ],
          [
           "Portugal"
          ],
          [
           "Portugal"
          ],
          [
           "Portugal"
          ],
          [
           "Portugal"
          ],
          [
           "Portugal"
          ],
          [
           "Portugal"
          ],
          [
           "Portugal"
          ],
          [
           "Portugal"
          ],
          [
           "Portugal"
          ],
          [
           "Portugal"
          ],
          [
           "Portugal"
          ],
          [
           "Qatar"
          ],
          [
           "Qatar"
          ],
          [
           "Qatar"
          ],
          [
           "Qatar"
          ],
          [
           "Qatar"
          ],
          [
           "Qatar"
          ],
          [
           "Qatar"
          ],
          [
           "Qatar"
          ],
          [
           "Qatar"
          ],
          [
           "Qatar"
          ],
          [
           "Qatar"
          ],
          [
           "Qatar"
          ],
          [
           "Qatar"
          ],
          [
           "Qatar"
          ],
          [
           "Qatar"
          ],
          [
           "Qatar"
          ],
          [
           "Romania"
          ],
          [
           "Romania"
          ],
          [
           "Romania"
          ],
          [
           "Romania"
          ],
          [
           "Romania"
          ],
          [
           "Romania"
          ],
          [
           "Romania"
          ],
          [
           "Romania"
          ],
          [
           "Romania"
          ],
          [
           "Romania"
          ],
          [
           "Romania"
          ],
          [
           "Romania"
          ],
          [
           "Romania"
          ],
          [
           "Romania"
          ],
          [
           "Romania"
          ],
          [
           "Romania"
          ],
          [
           "Romania"
          ],
          [
           "Romania"
          ],
          [
           "Saudi Arabia"
          ],
          [
           "Saudi Arabia"
          ],
          [
           "Saudi Arabia"
          ],
          [
           "Saudi Arabia"
          ],
          [
           "Saudi Arabia"
          ],
          [
           "Saudi Arabia"
          ],
          [
           "Saudi Arabia"
          ],
          [
           "Saudi Arabia"
          ],
          [
           "Saudi Arabia"
          ],
          [
           "Saudi Arabia"
          ],
          [
           "Saudi Arabia"
          ],
          [
           "Saudi Arabia"
          ],
          [
           "Saudi Arabia"
          ],
          [
           "Saudi Arabia"
          ],
          [
           "Saudi Arabia"
          ],
          [
           "Saudi Arabia"
          ],
          [
           "Saudi Arabia"
          ],
          [
           "Saudi Arabia"
          ],
          [
           "Serbia"
          ],
          [
           "Serbia"
          ],
          [
           "Serbia"
          ],
          [
           "Serbia"
          ],
          [
           "Serbia"
          ],
          [
           "Serbia"
          ],
          [
           "Serbia"
          ],
          [
           "Serbia"
          ],
          [
           "Serbia"
          ],
          [
           "Serbia"
          ],
          [
           "Serbia"
          ],
          [
           "Serbia"
          ],
          [
           "Serbia"
          ],
          [
           "Singapore"
          ],
          [
           "Singapore"
          ],
          [
           "Singapore"
          ],
          [
           "Singapore"
          ],
          [
           "Singapore"
          ],
          [
           "Singapore"
          ],
          [
           "Singapore"
          ],
          [
           "Singapore"
          ],
          [
           "Singapore"
          ],
          [
           "Singapore"
          ],
          [
           "Singapore"
          ],
          [
           "Singapore"
          ],
          [
           "Singapore"
          ],
          [
           "Singapore"
          ],
          [
           "Singapore"
          ],
          [
           "Singapore"
          ],
          [
           "Singapore"
          ],
          [
           "Singapore"
          ],
          [
           "Slovenia"
          ],
          [
           "Slovenia"
          ],
          [
           "Slovenia"
          ],
          [
           "Slovenia"
          ],
          [
           "Slovenia"
          ],
          [
           "Slovenia"
          ],
          [
           "Slovenia"
          ],
          [
           "Slovenia"
          ],
          [
           "Slovenia"
          ],
          [
           "Slovenia"
          ],
          [
           "Slovenia"
          ],
          [
           "Slovenia"
          ],
          [
           "Slovenia"
          ],
          [
           "Slovenia"
          ],
          [
           "Slovenia"
          ],
          [
           "Slovenia"
          ],
          [
           "Slovenia"
          ],
          [
           "Slovenia"
          ],
          [
           "South Africa"
          ],
          [
           "South Africa"
          ],
          [
           "South Africa"
          ],
          [
           "South Africa"
          ],
          [
           "South Africa"
          ],
          [
           "South Africa"
          ],
          [
           "South Africa"
          ],
          [
           "South Africa"
          ],
          [
           "South Africa"
          ],
          [
           "South Africa"
          ],
          [
           "South Africa"
          ],
          [
           "South Africa"
          ],
          [
           "South Africa"
          ],
          [
           "South Africa"
          ],
          [
           "South Africa"
          ],
          [
           "South Africa"
          ],
          [
           "South Africa"
          ],
          [
           "South Africa"
          ],
          [
           "Spain"
          ],
          [
           "Spain"
          ],
          [
           "Spain"
          ],
          [
           "Spain"
          ],
          [
           "Spain"
          ],
          [
           "Spain"
          ],
          [
           "Spain"
          ],
          [
           "Spain"
          ],
          [
           "Spain"
          ],
          [
           "Spain"
          ],
          [
           "Spain"
          ],
          [
           "Spain"
          ],
          [
           "Spain"
          ],
          [
           "Spain"
          ],
          [
           "Spain"
          ],
          [
           "Spain"
          ],
          [
           "Spain"
          ],
          [
           "Spain"
          ],
          [
           "Suriname"
          ],
          [
           "Suriname"
          ],
          [
           "Suriname"
          ],
          [
           "Suriname"
          ],
          [
           "Suriname"
          ],
          [
           "Sweden"
          ],
          [
           "Sweden"
          ],
          [
           "Sweden"
          ],
          [
           "Sweden"
          ],
          [
           "Sweden"
          ],
          [
           "Sweden"
          ],
          [
           "Sweden"
          ],
          [
           "Sweden"
          ],
          [
           "Sweden"
          ],
          [
           "Sweden"
          ],
          [
           "Sweden"
          ],
          [
           "Sweden"
          ],
          [
           "Sweden"
          ],
          [
           "Sweden"
          ],
          [
           "Sweden"
          ],
          [
           "Sweden"
          ],
          [
           "Sweden"
          ],
          [
           "Sweden"
          ],
          [
           "Switzerland"
          ],
          [
           "Switzerland"
          ],
          [
           "Switzerland"
          ],
          [
           "Switzerland"
          ],
          [
           "Switzerland"
          ],
          [
           "Switzerland"
          ],
          [
           "Switzerland"
          ],
          [
           "Switzerland"
          ],
          [
           "Switzerland"
          ],
          [
           "Switzerland"
          ],
          [
           "Switzerland"
          ],
          [
           "Switzerland"
          ],
          [
           "Switzerland"
          ],
          [
           "Switzerland"
          ],
          [
           "Switzerland"
          ],
          [
           "Switzerland"
          ],
          [
           "Switzerland"
          ],
          [
           "Switzerland"
          ],
          [
           "Thailand"
          ],
          [
           "Thailand"
          ],
          [
           "Thailand"
          ],
          [
           "Thailand"
          ],
          [
           "Thailand"
          ],
          [
           "Thailand"
          ],
          [
           "Thailand"
          ],
          [
           "Thailand"
          ],
          [
           "Thailand"
          ],
          [
           "Thailand"
          ],
          [
           "Thailand"
          ],
          [
           "Thailand"
          ],
          [
           "Thailand"
          ],
          [
           "Thailand"
          ],
          [
           "Thailand"
          ],
          [
           "Thailand"
          ],
          [
           "Thailand"
          ],
          [
           "Thailand"
          ],
          [
           "Tunisia"
          ],
          [
           "Tunisia"
          ],
          [
           "Tunisia"
          ],
          [
           "Tunisia"
          ],
          [
           "Tunisia"
          ],
          [
           "Tunisia"
          ],
          [
           "Tunisia"
          ],
          [
           "Tunisia"
          ],
          [
           "Tunisia"
          ],
          [
           "Tunisia"
          ],
          [
           "Tunisia"
          ],
          [
           "Tunisia"
          ],
          [
           "Tunisia"
          ],
          [
           "Tunisia"
          ],
          [
           "Tunisia"
          ],
          [
           "Tunisia"
          ],
          [
           "Tunisia"
          ],
          [
           "Tunisia"
          ],
          [
           "Turkey"
          ],
          [
           "Turkey"
          ],
          [
           "Turkey"
          ],
          [
           "Turkey"
          ],
          [
           "Turkey"
          ],
          [
           "Turkey"
          ],
          [
           "Turkey"
          ],
          [
           "Turkey"
          ],
          [
           "Turkey"
          ],
          [
           "Ukraine"
          ],
          [
           "Ukraine"
          ],
          [
           "Ukraine"
          ],
          [
           "Ukraine"
          ],
          [
           "Ukraine"
          ],
          [
           "Ukraine"
          ],
          [
           "Ukraine"
          ],
          [
           "Ukraine"
          ],
          [
           "Ukraine"
          ],
          [
           "Ukraine"
          ],
          [
           "United Arab Emirates"
          ],
          [
           "United Arab Emirates"
          ],
          [
           "United Arab Emirates"
          ],
          [
           "United Arab Emirates"
          ],
          [
           "United Arab Emirates"
          ],
          [
           "United Arab Emirates"
          ],
          [
           "United Arab Emirates"
          ],
          [
           "United Arab Emirates"
          ],
          [
           "United Arab Emirates"
          ],
          [
           "United Arab Emirates"
          ],
          [
           "United Arab Emirates"
          ],
          [
           "United Kingdom"
          ],
          [
           "United Kingdom"
          ],
          [
           "United Kingdom"
          ],
          [
           "United Kingdom"
          ],
          [
           "United Kingdom"
          ],
          [
           "United Kingdom"
          ],
          [
           "United Kingdom"
          ],
          [
           "United Kingdom"
          ],
          [
           "United Kingdom"
          ],
          [
           "United Kingdom"
          ],
          [
           "United Kingdom"
          ],
          [
           "United Kingdom"
          ],
          [
           "United Kingdom"
          ],
          [
           "United Kingdom"
          ],
          [
           "United Kingdom"
          ],
          [
           "United Kingdom"
          ],
          [
           "United Kingdom"
          ],
          [
           "United Kingdom"
          ],
          [
           "Uruguay"
          ],
          [
           "Uruguay"
          ],
          [
           "Uruguay"
          ],
          [
           "Uruguay"
          ],
          [
           "Uruguay"
          ],
          [
           "Uruguay"
          ],
          [
           "Uruguay"
          ],
          [
           "Uruguay"
          ],
          [
           "Uruguay"
          ],
          [
           "Uruguay"
          ],
          [
           "Uruguay"
          ],
          [
           "Uruguay"
          ],
          [
           "Uruguay"
          ],
          [
           "Uruguay"
          ],
          [
           "Uruguay"
          ],
          [
           "Vietnam"
          ],
          [
           "Vietnam"
          ],
          [
           "Vietnam"
          ],
          [
           "Vietnam"
          ],
          [
           "Vietnam"
          ],
          [
           "Vietnam"
          ],
          [
           "Vietnam"
          ],
          [
           "Vietnam"
          ],
          [
           "Vietnam"
          ]
         ],
         "hovertemplate": "<b>%{hovertext}</b><br><br>Class=%{marker.color}<br>PC 1=%{x}<br>PC 2=%{y}<br>PC 3=%{z}<br>Country=%{customdata[0]}<extra></extra>",
         "hovertext": [
          "Albania",
          "Albania",
          "Albania",
          "Albania",
          "Albania",
          "Albania",
          "Albania",
          "Albania",
          "Albania",
          "Albania",
          "Albania",
          "Albania",
          "Albania",
          "Albania",
          "Albania",
          "Albania",
          "Albania",
          "Albania",
          "Algeria",
          "Algeria",
          "Algeria",
          "Algeria",
          "Algeria",
          "Algeria",
          "Algeria",
          "Algeria",
          "Algeria",
          "Algeria",
          "Algeria",
          "Angola",
          "Angola",
          "Angola",
          "Armenia",
          "Armenia",
          "Armenia",
          "Armenia",
          "Armenia",
          "Armenia",
          "Armenia",
          "Armenia",
          "Armenia",
          "Armenia",
          "Armenia",
          "Armenia",
          "Armenia",
          "Armenia",
          "Armenia",
          "Armenia",
          "Armenia",
          "Armenia",
          "Australia",
          "Australia",
          "Australia",
          "Australia",
          "Australia",
          "Australia",
          "Australia",
          "Australia",
          "Australia",
          "Australia",
          "Australia",
          "Australia",
          "Australia",
          "Australia",
          "Australia",
          "Australia",
          "Australia",
          "Australia",
          "Austria",
          "Austria",
          "Austria",
          "Austria",
          "Austria",
          "Austria",
          "Austria",
          "Austria",
          "Austria",
          "Austria",
          "Austria",
          "Austria",
          "Austria",
          "Austria",
          "Austria",
          "Austria",
          "Austria",
          "Austria",
          "Azerbaijan",
          "Azerbaijan",
          "Azerbaijan",
          "Azerbaijan",
          "Azerbaijan",
          "Azerbaijan",
          "Azerbaijan",
          "Azerbaijan",
          "Azerbaijan",
          "Azerbaijan",
          "Azerbaijan",
          "Azerbaijan",
          "Azerbaijan",
          "Azerbaijan",
          "Azerbaijan",
          "Azerbaijan",
          "Azerbaijan",
          "Azerbaijan",
          "Bahrain",
          "Bahrain",
          "Bahrain",
          "Bahrain",
          "Bahrain",
          "Bahrain",
          "Bahrain",
          "Bahrain",
          "Bahrain",
          "Bahrain",
          "Bahrain",
          "Bahrain",
          "Bahrain",
          "Bahrain",
          "Bahrain",
          "Bahrain",
          "Bahrain",
          "Bahrain",
          "Barbados",
          "Barbados",
          "Barbados",
          "Barbados",
          "Barbados",
          "Barbados",
          "Barbados",
          "Barbados",
          "Barbados",
          "Barbados",
          "Barbados",
          "Barbados",
          "Barbados",
          "Barbados",
          "Barbados",
          "Barbados",
          "Barbados",
          "Barbados",
          "Belarus",
          "Belarus",
          "Belarus",
          "Belarus",
          "Belarus",
          "Belarus",
          "Belarus",
          "Belarus",
          "Belarus",
          "Belarus",
          "Belarus",
          "Belarus",
          "Belarus",
          "Belarus",
          "Belarus",
          "Belarus",
          "Belarus",
          "Belarus",
          "Belgium",
          "Belgium",
          "Belgium",
          "Belgium",
          "Belgium",
          "Belgium",
          "Belgium",
          "Belgium",
          "Belgium",
          "Belgium",
          "Belgium",
          "Belgium",
          "Belgium",
          "Belgium",
          "Belgium",
          "Belgium",
          "Belgium",
          "Belgium",
          "Bolivia",
          "Bolivia",
          "Bolivia",
          "Bolivia",
          "Bolivia",
          "Bolivia",
          "Bolivia",
          "Bolivia",
          "Bolivia",
          "Bolivia",
          "Bolivia",
          "Bolivia",
          "Bolivia",
          "Bolivia",
          "Bolivia",
          "Bolivia",
          "Bolivia",
          "Bolivia",
          "Bosnia and Herzegovina",
          "Bosnia and Herzegovina",
          "Bosnia and Herzegovina",
          "Bosnia and Herzegovina",
          "Bosnia and Herzegovina",
          "Bosnia and Herzegovina",
          "Bosnia and Herzegovina",
          "Bosnia and Herzegovina",
          "Bosnia and Herzegovina",
          "Bosnia and Herzegovina",
          "Bosnia and Herzegovina",
          "Bosnia and Herzegovina",
          "Bosnia and Herzegovina",
          "Botswana",
          "Botswana",
          "Botswana",
          "Botswana",
          "Botswana",
          "Botswana",
          "Botswana",
          "Botswana",
          "Botswana",
          "Botswana",
          "Botswana",
          "Botswana",
          "Botswana",
          "Botswana",
          "Botswana",
          "Botswana",
          "Botswana",
          "Brazil",
          "Brazil",
          "Brazil",
          "Brazil",
          "Brazil",
          "Brazil",
          "Brazil",
          "Brazil",
          "Brazil",
          "Brazil",
          "Brazil",
          "Brazil",
          "Brazil",
          "Brazil",
          "Brazil",
          "Brazil",
          "Brazil",
          "Brazil",
          "Bulgaria",
          "Bulgaria",
          "Bulgaria",
          "Bulgaria",
          "Bulgaria",
          "Bulgaria",
          "Bulgaria",
          "Bulgaria",
          "Bulgaria",
          "Bulgaria",
          "Bulgaria",
          "Bulgaria",
          "Bulgaria",
          "Bulgaria",
          "Bulgaria",
          "Bulgaria",
          "Bulgaria",
          "Bulgaria",
          "Canada",
          "Canada",
          "Canada",
          "Canada",
          "Canada",
          "Canada",
          "Canada",
          "Canada",
          "Canada",
          "Canada",
          "Canada",
          "Canada",
          "Canada",
          "Canada",
          "Canada",
          "Canada",
          "Canada",
          "Canada",
          "Chile",
          "Chile",
          "Chile",
          "Chile",
          "Chile",
          "Chile",
          "Chile",
          "Chile",
          "Chile",
          "Chile",
          "Chile",
          "Chile",
          "Chile",
          "Chile",
          "Chile",
          "Chile",
          "Chile",
          "Chile",
          "Colombia",
          "Colombia",
          "Colombia",
          "Colombia",
          "Colombia",
          "Colombia",
          "Colombia",
          "Colombia",
          "Colombia",
          "Colombia",
          "Colombia",
          "Colombia",
          "Colombia",
          "Colombia",
          "Colombia",
          "Colombia",
          "Colombia",
          "Colombia",
          "Costa Rica",
          "Costa Rica",
          "Costa Rica",
          "Costa Rica",
          "Costa Rica",
          "Costa Rica",
          "Costa Rica",
          "Costa Rica",
          "Costa Rica",
          "Costa Rica",
          "Costa Rica",
          "Costa Rica",
          "Costa Rica",
          "Costa Rica",
          "Costa Rica",
          "Costa Rica",
          "Costa Rica",
          "Costa Rica",
          "Croatia",
          "Croatia",
          "Croatia",
          "Croatia",
          "Croatia",
          "Croatia",
          "Croatia",
          "Croatia",
          "Croatia",
          "Croatia",
          "Croatia",
          "Croatia",
          "Croatia",
          "Croatia",
          "Croatia",
          "Croatia",
          "Croatia",
          "Croatia",
          "Cyprus",
          "Cyprus",
          "Cyprus",
          "Cyprus",
          "Cyprus",
          "Cyprus",
          "Cyprus",
          "Cyprus",
          "Cyprus",
          "Cyprus",
          "Cyprus",
          "Cyprus",
          "Cyprus",
          "Cyprus",
          "Cyprus",
          "Cyprus",
          "Cyprus",
          "Cyprus",
          "Denmark",
          "Denmark",
          "Denmark",
          "Denmark",
          "Denmark",
          "Denmark",
          "Denmark",
          "Denmark",
          "Denmark",
          "Denmark",
          "Denmark",
          "Denmark",
          "Denmark",
          "Denmark",
          "Denmark",
          "Denmark",
          "Denmark",
          "Denmark",
          "Dominican Republic",
          "Dominican Republic",
          "Dominican Republic",
          "Dominican Republic",
          "Dominican Republic",
          "Dominican Republic",
          "Dominican Republic",
          "Dominican Republic",
          "Dominican Republic",
          "Dominican Republic",
          "Dominican Republic",
          "Dominican Republic",
          "Dominican Republic",
          "Dominican Republic",
          "Dominican Republic",
          "Dominican Republic",
          "Dominican Republic",
          "Dominican Republic",
          "Ecuador",
          "Ecuador",
          "Ecuador",
          "Ecuador",
          "Ecuador",
          "Ecuador",
          "Ecuador",
          "Ecuador",
          "Ecuador",
          "Ecuador",
          "Ecuador",
          "Ecuador",
          "Ecuador",
          "Ecuador",
          "Ecuador",
          "Ecuador",
          "Ecuador",
          "Ecuador",
          "El Salvador",
          "El Salvador",
          "El Salvador",
          "El Salvador",
          "El Salvador",
          "El Salvador",
          "El Salvador",
          "El Salvador",
          "El Salvador",
          "El Salvador",
          "El Salvador",
          "El Salvador",
          "El Salvador",
          "El Salvador",
          "El Salvador",
          "El Salvador",
          "El Salvador",
          "El Salvador",
          "Equatorial Guinea",
          "Equatorial Guinea",
          "Equatorial Guinea",
          "Equatorial Guinea",
          "Equatorial Guinea",
          "Equatorial Guinea",
          "Equatorial Guinea",
          "Equatorial Guinea",
          "Estonia",
          "Estonia",
          "Estonia",
          "Estonia",
          "Estonia",
          "Estonia",
          "Estonia",
          "Estonia",
          "Estonia",
          "Estonia",
          "Estonia",
          "Estonia",
          "Estonia",
          "Estonia",
          "Estonia",
          "Estonia",
          "Estonia",
          "Estonia",
          "Fiji",
          "Fiji",
          "Fiji",
          "Fiji",
          "Fiji",
          "Fiji",
          "Fiji",
          "Fiji",
          "Fiji",
          "Fiji",
          "Fiji",
          "Fiji",
          "Fiji",
          "Fiji",
          "Fiji",
          "Fiji",
          "Finland",
          "Finland",
          "Finland",
          "Finland",
          "Finland",
          "Finland",
          "Finland",
          "Finland",
          "Finland",
          "Finland",
          "Finland",
          "Finland",
          "Finland",
          "Finland",
          "Finland",
          "Finland",
          "Finland",
          "Finland",
          "France",
          "France",
          "France",
          "France",
          "France",
          "France",
          "France",
          "France",
          "France",
          "France",
          "France",
          "France",
          "France",
          "France",
          "France",
          "France",
          "France",
          "France",
          "Gabon",
          "Gabon",
          "Gabon",
          "Gabon",
          "Gabon",
          "Gabon",
          "Gabon",
          "Gabon",
          "Gabon",
          "Gabon",
          "Gabon",
          "Gabon",
          "Gabon",
          "Gabon",
          "Gabon",
          "Gabon",
          "Gabon",
          "Gabon",
          "Georgia",
          "Georgia",
          "Georgia",
          "Georgia",
          "Georgia",
          "Georgia",
          "Georgia",
          "Georgia",
          "Georgia",
          "Georgia",
          "Georgia",
          "Georgia",
          "Georgia",
          "Georgia",
          "Georgia",
          "Georgia",
          "Germany",
          "Germany",
          "Germany",
          "Germany",
          "Germany",
          "Germany",
          "Germany",
          "Germany",
          "Germany",
          "Germany",
          "Germany",
          "Germany",
          "Germany",
          "Germany",
          "Germany",
          "Germany",
          "Germany",
          "Germany",
          "Ghana",
          "Ghana",
          "Ghana",
          "Ghana",
          "Greece",
          "Greece",
          "Greece",
          "Greece",
          "Greece",
          "Greece",
          "Greece",
          "Greece",
          "Greece",
          "Greece",
          "Greece",
          "Greece",
          "Greece",
          "Guatemala",
          "Guatemala",
          "Honduras",
          "Honduras",
          "Honduras",
          "Honduras",
          "Honduras",
          "Honduras",
          "Honduras",
          "Honduras",
          "Honduras",
          "Honduras",
          "Honduras",
          "Hungary",
          "Hungary",
          "Hungary",
          "Hungary",
          "Hungary",
          "Hungary",
          "Hungary",
          "Hungary",
          "Hungary",
          "Hungary",
          "Hungary",
          "Hungary",
          "Hungary",
          "Hungary",
          "Hungary",
          "Hungary",
          "Hungary",
          "Hungary",
          "Iceland",
          "Iceland",
          "Iceland",
          "Iceland",
          "Iceland",
          "Iceland",
          "Iceland",
          "Iceland",
          "Indonesia",
          "Indonesia",
          "Indonesia",
          "Indonesia",
          "Indonesia",
          "Indonesia",
          "Indonesia",
          "Indonesia",
          "Indonesia",
          "Indonesia",
          "Indonesia",
          "Indonesia",
          "Indonesia",
          "Indonesia",
          "Indonesia",
          "Indonesia",
          "Iraq",
          "Iraq",
          "Iraq",
          "Iraq",
          "Iraq",
          "Iraq",
          "Iraq",
          "Iraq",
          "Iraq",
          "Iraq",
          "Iraq",
          "Iraq",
          "Iraq",
          "Ireland",
          "Ireland",
          "Ireland",
          "Ireland",
          "Ireland",
          "Ireland",
          "Ireland",
          "Ireland",
          "Ireland",
          "Ireland",
          "Ireland",
          "Ireland",
          "Ireland",
          "Ireland",
          "Ireland",
          "Ireland",
          "Ireland",
          "Ireland",
          "Israel",
          "Israel",
          "Israel",
          "Israel",
          "Israel",
          "Israel",
          "Israel",
          "Israel",
          "Israel",
          "Israel",
          "Israel",
          "Israel",
          "Israel",
          "Israel",
          "Israel",
          "Israel",
          "Israel",
          "Israel",
          "Italy",
          "Italy",
          "Italy",
          "Italy",
          "Italy",
          "Italy",
          "Italy",
          "Italy",
          "Italy",
          "Italy",
          "Italy",
          "Italy",
          "Italy",
          "Italy",
          "Italy",
          "Italy",
          "Italy",
          "Italy",
          "Jamaica",
          "Jamaica",
          "Jamaica",
          "Jamaica",
          "Jamaica",
          "Jamaica",
          "Jamaica",
          "Jamaica",
          "Jamaica",
          "Jamaica",
          "Jamaica",
          "Jamaica",
          "Jamaica",
          "Jamaica",
          "Jamaica",
          "Jamaica",
          "Jamaica",
          "Jamaica",
          "Japan",
          "Japan",
          "Japan",
          "Japan",
          "Japan",
          "Japan",
          "Japan",
          "Japan",
          "Japan",
          "Japan",
          "Japan",
          "Japan",
          "Japan",
          "Japan",
          "Japan",
          "Japan",
          "Japan",
          "Japan",
          "Jordan",
          "Jordan",
          "Jordan",
          "Jordan",
          "Jordan",
          "Jordan",
          "Jordan",
          "Jordan",
          "Jordan",
          "Jordan",
          "Jordan",
          "Jordan",
          "Jordan",
          "Jordan",
          "Jordan",
          "Jordan",
          "Jordan",
          "Jordan",
          "Kazakhstan",
          "Kazakhstan",
          "Kazakhstan",
          "Kazakhstan",
          "Kazakhstan",
          "Kazakhstan",
          "Kazakhstan",
          "Kazakhstan",
          "Kazakhstan",
          "Kazakhstan",
          "Kazakhstan",
          "Kazakhstan",
          "Kazakhstan",
          "Kazakhstan",
          "Kazakhstan",
          "Kazakhstan",
          "Kazakhstan",
          "Kazakhstan",
          "Kuwait",
          "Kuwait",
          "Kuwait",
          "Kuwait",
          "Kuwait",
          "Kuwait",
          "Kuwait",
          "Kuwait",
          "Kuwait",
          "Kuwait",
          "Kuwait",
          "Kuwait",
          "Kuwait",
          "Kuwait",
          "Kuwait",
          "Latvia",
          "Latvia",
          "Latvia",
          "Latvia",
          "Latvia",
          "Latvia",
          "Latvia",
          "Latvia",
          "Latvia",
          "Latvia",
          "Latvia",
          "Latvia",
          "Latvia",
          "Latvia",
          "Latvia",
          "Latvia",
          "Latvia",
          "Latvia",
          "Lebanon",
          "Lebanon",
          "Lebanon",
          "Lebanon",
          "Lebanon",
          "Lebanon",
          "Lebanon",
          "Lebanon",
          "Lebanon",
          "Lebanon",
          "Lithuania",
          "Lithuania",
          "Lithuania",
          "Lithuania",
          "Lithuania",
          "Lithuania",
          "Lithuania",
          "Lithuania",
          "Lithuania",
          "Lithuania",
          "Lithuania",
          "Lithuania",
          "Lithuania",
          "Lithuania",
          "Lithuania",
          "Lithuania",
          "Lithuania",
          "Lithuania",
          "Luxembourg",
          "Luxembourg",
          "Luxembourg",
          "Luxembourg",
          "Luxembourg",
          "Luxembourg",
          "Luxembourg",
          "Luxembourg",
          "Luxembourg",
          "Luxembourg",
          "Luxembourg",
          "Luxembourg",
          "Luxembourg",
          "Luxembourg",
          "Luxembourg",
          "Luxembourg",
          "Luxembourg",
          "Luxembourg",
          "Malaysia",
          "Malaysia",
          "Malaysia",
          "Malaysia",
          "Malaysia",
          "Malaysia",
          "Malaysia",
          "Malaysia",
          "Malaysia",
          "Malaysia",
          "Maldives",
          "Maldives",
          "Maldives",
          "Maldives",
          "Maldives",
          "Mauritius",
          "Mauritius",
          "Mauritius",
          "Mauritius",
          "Mauritius",
          "Mauritius",
          "Mauritius",
          "Mauritius",
          "Mauritius",
          "Mauritius",
          "Mauritius",
          "Mauritius",
          "Mauritius",
          "Mauritius",
          "Mauritius",
          "Mauritius",
          "Mauritius",
          "Mauritius",
          "Mexico",
          "Mexico",
          "Mexico",
          "Mexico",
          "Mexico",
          "Mexico",
          "Mexico",
          "Mexico",
          "Mexico",
          "Mexico",
          "Mexico",
          "Mexico",
          "Mexico",
          "Mexico",
          "Mexico",
          "Mexico",
          "Mexico",
          "Mexico",
          "Moldova",
          "Moldova",
          "Moldova",
          "Moldova",
          "Moldova",
          "Moldova",
          "Moldova",
          "Moldova",
          "Moldova",
          "Moldova",
          "Moldova",
          "Moldova",
          "Moldova",
          "Moldova",
          "Mongolia",
          "Mongolia",
          "Mongolia",
          "Mongolia",
          "Mongolia",
          "Mongolia",
          "Mongolia",
          "Mongolia",
          "Mongolia",
          "Mongolia",
          "Mongolia",
          "Mongolia",
          "Mongolia",
          "Mongolia",
          "Mongolia",
          "Mongolia",
          "Mongolia",
          "Mongolia",
          "Montenegro",
          "Montenegro",
          "Montenegro",
          "Montenegro",
          "Montenegro",
          "Montenegro",
          "Montenegro",
          "Montenegro",
          "Montenegro",
          "Montenegro",
          "Montenegro",
          "Montenegro",
          "Montenegro",
          "Morocco",
          "Morocco",
          "Morocco",
          "Morocco",
          "Morocco",
          "Morocco",
          "Morocco",
          "Morocco",
          "Morocco",
          "Morocco",
          "Morocco",
          "Morocco",
          "Morocco",
          "Morocco",
          "Morocco",
          "Morocco",
          "Morocco",
          "Morocco",
          "Namibia",
          "Namibia",
          "Namibia",
          "Namibia",
          "Namibia",
          "Namibia",
          "Netherlands",
          "Netherlands",
          "Netherlands",
          "Netherlands",
          "Netherlands",
          "Netherlands",
          "Netherlands",
          "Netherlands",
          "Netherlands",
          "Netherlands",
          "Netherlands",
          "Netherlands",
          "Netherlands",
          "Netherlands",
          "Netherlands",
          "Netherlands",
          "Netherlands",
          "Netherlands",
          "New Zealand",
          "New Zealand",
          "New Zealand",
          "New Zealand",
          "New Zealand",
          "New Zealand",
          "New Zealand",
          "New Zealand",
          "New Zealand",
          "New Zealand",
          "New Zealand",
          "New Zealand",
          "New Zealand",
          "New Zealand",
          "New Zealand",
          "New Zealand",
          "New Zealand",
          "New Zealand",
          "Nicaragua",
          "Nicaragua",
          "Nicaragua",
          "Nicaragua",
          "Nicaragua",
          "Nicaragua",
          "Nicaragua",
          "Nicaragua",
          "Nicaragua",
          "Nicaragua",
          "Nicaragua",
          "North Macedonia",
          "North Macedonia",
          "North Macedonia",
          "North Macedonia",
          "North Macedonia",
          "North Macedonia",
          "North Macedonia",
          "North Macedonia",
          "North Macedonia",
          "North Macedonia",
          "North Macedonia",
          "North Macedonia",
          "North Macedonia",
          "North Macedonia",
          "North Macedonia",
          "North Macedonia",
          "North Macedonia",
          "North Macedonia",
          "Norway",
          "Norway",
          "Norway",
          "Norway",
          "Norway",
          "Norway",
          "Norway",
          "Norway",
          "Norway",
          "Norway",
          "Norway",
          "Norway",
          "Norway",
          "Norway",
          "Norway",
          "Norway",
          "Norway",
          "Norway",
          "Oman",
          "Oman",
          "Oman",
          "Oman",
          "Oman",
          "Oman",
          "Oman",
          "Oman",
          "Oman",
          "Oman",
          "Oman",
          "Oman",
          "Oman",
          "Oman",
          "Oman",
          "Oman",
          "Oman",
          "Oman",
          "Panama",
          "Panama",
          "Panama",
          "Panama",
          "Panama",
          "Panama",
          "Panama",
          "Panama",
          "Panama",
          "Panama",
          "Panama",
          "Panama",
          "Panama",
          "Panama",
          "Panama",
          "Panama",
          "Panama",
          "Panama",
          "Paraguay",
          "Paraguay",
          "Paraguay",
          "Paraguay",
          "Paraguay",
          "Paraguay",
          "Paraguay",
          "Paraguay",
          "Paraguay",
          "Paraguay",
          "Paraguay",
          "Paraguay",
          "Paraguay",
          "Paraguay",
          "Paraguay",
          "Paraguay",
          "Paraguay",
          "Paraguay",
          "Peru",
          "Peru",
          "Peru",
          "Peru",
          "Peru",
          "Peru",
          "Peru",
          "Peru",
          "Peru",
          "Peru",
          "Peru",
          "Peru",
          "Peru",
          "Peru",
          "Peru",
          "Peru",
          "Peru",
          "Peru",
          "Philippines",
          "Philippines",
          "Philippines",
          "Philippines",
          "Philippines",
          "Philippines",
          "Philippines",
          "Philippines",
          "Philippines",
          "Philippines",
          "Philippines",
          "Philippines",
          "Philippines",
          "Poland",
          "Poland",
          "Poland",
          "Poland",
          "Poland",
          "Poland",
          "Poland",
          "Poland",
          "Poland",
          "Poland",
          "Poland",
          "Poland",
          "Poland",
          "Poland",
          "Poland",
          "Poland",
          "Poland",
          "Poland",
          "Portugal",
          "Portugal",
          "Portugal",
          "Portugal",
          "Portugal",
          "Portugal",
          "Portugal",
          "Portugal",
          "Portugal",
          "Portugal",
          "Portugal",
          "Portugal",
          "Portugal",
          "Portugal",
          "Portugal",
          "Portugal",
          "Portugal",
          "Portugal",
          "Qatar",
          "Qatar",
          "Qatar",
          "Qatar",
          "Qatar",
          "Qatar",
          "Qatar",
          "Qatar",
          "Qatar",
          "Qatar",
          "Qatar",
          "Qatar",
          "Qatar",
          "Qatar",
          "Qatar",
          "Qatar",
          "Romania",
          "Romania",
          "Romania",
          "Romania",
          "Romania",
          "Romania",
          "Romania",
          "Romania",
          "Romania",
          "Romania",
          "Romania",
          "Romania",
          "Romania",
          "Romania",
          "Romania",
          "Romania",
          "Romania",
          "Romania",
          "Saudi Arabia",
          "Saudi Arabia",
          "Saudi Arabia",
          "Saudi Arabia",
          "Saudi Arabia",
          "Saudi Arabia",
          "Saudi Arabia",
          "Saudi Arabia",
          "Saudi Arabia",
          "Saudi Arabia",
          "Saudi Arabia",
          "Saudi Arabia",
          "Saudi Arabia",
          "Saudi Arabia",
          "Saudi Arabia",
          "Saudi Arabia",
          "Saudi Arabia",
          "Saudi Arabia",
          "Serbia",
          "Serbia",
          "Serbia",
          "Serbia",
          "Serbia",
          "Serbia",
          "Serbia",
          "Serbia",
          "Serbia",
          "Serbia",
          "Serbia",
          "Serbia",
          "Serbia",
          "Singapore",
          "Singapore",
          "Singapore",
          "Singapore",
          "Singapore",
          "Singapore",
          "Singapore",
          "Singapore",
          "Singapore",
          "Singapore",
          "Singapore",
          "Singapore",
          "Singapore",
          "Singapore",
          "Singapore",
          "Singapore",
          "Singapore",
          "Singapore",
          "Slovenia",
          "Slovenia",
          "Slovenia",
          "Slovenia",
          "Slovenia",
          "Slovenia",
          "Slovenia",
          "Slovenia",
          "Slovenia",
          "Slovenia",
          "Slovenia",
          "Slovenia",
          "Slovenia",
          "Slovenia",
          "Slovenia",
          "Slovenia",
          "Slovenia",
          "Slovenia",
          "South Africa",
          "South Africa",
          "South Africa",
          "South Africa",
          "South Africa",
          "South Africa",
          "South Africa",
          "South Africa",
          "South Africa",
          "South Africa",
          "South Africa",
          "South Africa",
          "South Africa",
          "South Africa",
          "South Africa",
          "South Africa",
          "South Africa",
          "South Africa",
          "Spain",
          "Spain",
          "Spain",
          "Spain",
          "Spain",
          "Spain",
          "Spain",
          "Spain",
          "Spain",
          "Spain",
          "Spain",
          "Spain",
          "Spain",
          "Spain",
          "Spain",
          "Spain",
          "Spain",
          "Spain",
          "Suriname",
          "Suriname",
          "Suriname",
          "Suriname",
          "Suriname",
          "Sweden",
          "Sweden",
          "Sweden",
          "Sweden",
          "Sweden",
          "Sweden",
          "Sweden",
          "Sweden",
          "Sweden",
          "Sweden",
          "Sweden",
          "Sweden",
          "Sweden",
          "Sweden",
          "Sweden",
          "Sweden",
          "Sweden",
          "Sweden",
          "Switzerland",
          "Switzerland",
          "Switzerland",
          "Switzerland",
          "Switzerland",
          "Switzerland",
          "Switzerland",
          "Switzerland",
          "Switzerland",
          "Switzerland",
          "Switzerland",
          "Switzerland",
          "Switzerland",
          "Switzerland",
          "Switzerland",
          "Switzerland",
          "Switzerland",
          "Switzerland",
          "Thailand",
          "Thailand",
          "Thailand",
          "Thailand",
          "Thailand",
          "Thailand",
          "Thailand",
          "Thailand",
          "Thailand",
          "Thailand",
          "Thailand",
          "Thailand",
          "Thailand",
          "Thailand",
          "Thailand",
          "Thailand",
          "Thailand",
          "Thailand",
          "Tunisia",
          "Tunisia",
          "Tunisia",
          "Tunisia",
          "Tunisia",
          "Tunisia",
          "Tunisia",
          "Tunisia",
          "Tunisia",
          "Tunisia",
          "Tunisia",
          "Tunisia",
          "Tunisia",
          "Tunisia",
          "Tunisia",
          "Tunisia",
          "Tunisia",
          "Tunisia",
          "Turkey",
          "Turkey",
          "Turkey",
          "Turkey",
          "Turkey",
          "Turkey",
          "Turkey",
          "Turkey",
          "Turkey",
          "Ukraine",
          "Ukraine",
          "Ukraine",
          "Ukraine",
          "Ukraine",
          "Ukraine",
          "Ukraine",
          "Ukraine",
          "Ukraine",
          "Ukraine",
          "United Arab Emirates",
          "United Arab Emirates",
          "United Arab Emirates",
          "United Arab Emirates",
          "United Arab Emirates",
          "United Arab Emirates",
          "United Arab Emirates",
          "United Arab Emirates",
          "United Arab Emirates",
          "United Arab Emirates",
          "United Arab Emirates",
          "United Kingdom",
          "United Kingdom",
          "United Kingdom",
          "United Kingdom",
          "United Kingdom",
          "United Kingdom",
          "United Kingdom",
          "United Kingdom",
          "United Kingdom",
          "United Kingdom",
          "United Kingdom",
          "United Kingdom",
          "United Kingdom",
          "United Kingdom",
          "United Kingdom",
          "United Kingdom",
          "United Kingdom",
          "United Kingdom",
          "Uruguay",
          "Uruguay",
          "Uruguay",
          "Uruguay",
          "Uruguay",
          "Uruguay",
          "Uruguay",
          "Uruguay",
          "Uruguay",
          "Uruguay",
          "Uruguay",
          "Uruguay",
          "Uruguay",
          "Uruguay",
          "Uruguay",
          "Vietnam",
          "Vietnam",
          "Vietnam",
          "Vietnam",
          "Vietnam",
          "Vietnam",
          "Vietnam",
          "Vietnam",
          "Vietnam"
         ],
         "legendgroup": "0",
         "marker": {
          "color": [
           0,
           0,
           0,
           0,
           0,
           0,
           0,
           0,
           0,
           0,
           0,
           0,
           0,
           0,
           0,
           0,
           0,
           0,
           0,
           0,
           0,
           0,
           0,
           0,
           0,
           0,
           0,
           0,
           0,
           0,
           0,
           0,
           0,
           0,
           0,
           0,
           0,
           0,
           0,
           0,
           0,
           0,
           0,
           0,
           0,
           0,
           0,
           0,
           0,
           0,
           0,
           0,
           0,
           0,
           0,
           0,
           0,
           0,
           0,
           0,
           0,
           0,
           0,
           0,
           0,
           0,
           0,
           0,
           0,
           0,
           0,
           0,
           0,
           0,
           0,
           0,
           0,
           0,
           0,
           0,
           0,
           0,
           0,
           0,
           0,
           0,
           0,
           0,
           0,
           0,
           0,
           0,
           0,
           0,
           0,
           0,
           0,
           0,
           0,
           0,
           0,
           0,
           0,
           0,
           0,
           0,
           0,
           0,
           0,
           0,
           0,
           0,
           0,
           0,
           0,
           0,
           0,
           0,
           0,
           0,
           0,
           0,
           0,
           0,
           0,
           0,
           0,
           0,
           0,
           0,
           0,
           0,
           0,
           0,
           0,
           0,
           0,
           0,
           0,
           0,
           0,
           0,
           0,
           0,
           0,
           0,
           0,
           0,
           0,
           0,
           0,
           0,
           0,
           0,
           0,
           0,
           0,
           0,
           0,
           0,
           0,
           0,
           0,
           0,
           0,
           0,
           0,
           0,
           0,
           0,
           0,
           0,
           0,
           0,
           0,
           0,
           0,
           0,
           0,
           0,
           0,
           0,
           0,
           0,
           0,
           0,
           0,
           0,
           0,
           0,
           0,
           0,
           0,
           0,
           0,
           0,
           0,
           0,
           0,
           0,
           0,
           0,
           0,
           0,
           0,
           0,
           0,
           0,
           0,
           0,
           0,
           0,
           0,
           0,
           0,
           0,
           0,
           0,
           0,
           0,
           0,
           0,
           0,
           0,
           0,
           0,
           0,
           0,
           0,
           0,
           0,
           0,
           0,
           0,
           0,
           0,
           0,
           0,
           0,
           0,
           0,
           0,
           0,
           0,
           0,
           0,
           0,
           0,
           0,
           0,
           0,
           0,
           0,
           0,
           0,
           0,
           0,
           0,
           0,
           0,
           0,
           0,
           0,
           0,
           0,
           0,
           0,
           0,
           0,
           0,
           0,
           0,
           0,
           0,
           0,
           0,
           0,
           0,
           0,
           0,
           0,
           0,
           0,
           0,
           0,
           0,
           0,
           0,
           0,
           0,
           0,
           0,
           0,
           0,
           0,
           0,
           0,
           0,
           0,
           0,
           0,
           0,
           0,
           0,
           0,
           0,
           0,
           0,
           0,
           0,
           0,
           0,
           0,
           0,
           0,
           0,
           0,
           0,
           0,
           0,
           0,
           0,
           0,
           0,
           0,
           0,
           0,
           0,
           0,
           0,
           0,
           0,
           0,
           0,
           0,
           0,
           0,
           0,
           0,
           0,
           0,
           0,
           0,
           0,
           0,
           0,
           0,
           0,
           0,
           0,
           0,
           0,
           0,
           0,
           0,
           0,
           0,
           0,
           0,
           0,
           0,
           0,
           0,
           0,
           0,
           0,
           0,
           0,
           0,
           0,
           0,
           0,
           0,
           0,
           0,
           0,
           0,
           0,
           0,
           0,
           0,
           0,
           0,
           0,
           0,
           0,
           0,
           0,
           0,
           0,
           0,
           0,
           0,
           0,
           0,
           0,
           0,
           0,
           0,
           0,
           0,
           0,
           0,
           0,
           0,
           0,
           0,
           0,
           0,
           0,
           0,
           0,
           0,
           0,
           0,
           0,
           0,
           0,
           0,
           0,
           0,
           0,
           0,
           0,
           0,
           0,
           0,
           0,
           0,
           0,
           0,
           0,
           0,
           0,
           0,
           0,
           0,
           0,
           0,
           0,
           0,
           0,
           0,
           0,
           0,
           0,
           0,
           0,
           0,
           0,
           0,
           0,
           0,
           0,
           0,
           0,
           0,
           0,
           0,
           0,
           0,
           0,
           0,
           0,
           0,
           0,
           0,
           0,
           0,
           0,
           0,
           0,
           0,
           0,
           0,
           0,
           0,
           0,
           0,
           0,
           0,
           0,
           0,
           0,
           0,
           0,
           0,
           0,
           0,
           0,
           0,
           0,
           0,
           0,
           0,
           0,
           0,
           0,
           0,
           0,
           0,
           0,
           0,
           0,
           0,
           0,
           0,
           0,
           0,
           0,
           0,
           0,
           0,
           0,
           0,
           0,
           0,
           0,
           0,
           0,
           0,
           0,
           0,
           0,
           0,
           0,
           0,
           0,
           0,
           0,
           0,
           0,
           0,
           0,
           0,
           0,
           0,
           0,
           0,
           0,
           0,
           0,
           0,
           0,
           0,
           0,
           0,
           0,
           0,
           0,
           0,
           0,
           0,
           0,
           0,
           0,
           0,
           0,
           0,
           0,
           0,
           0,
           0,
           0,
           0,
           0,
           0,
           0,
           0,
           0,
           0,
           0,
           0,
           0,
           0,
           0,
           0,
           0,
           0,
           0,
           0,
           0,
           0,
           0,
           0,
           0,
           0,
           0,
           0,
           0,
           0,
           0,
           0,
           0,
           0,
           0,
           0,
           0,
           0,
           0,
           0,
           0,
           0,
           0,
           0,
           0,
           0,
           0,
           0,
           0,
           0,
           0,
           0,
           0,
           0,
           0,
           0,
           0,
           0,
           0,
           0,
           0,
           0,
           0,
           0,
           0,
           0,
           0,
           0,
           0,
           0,
           0,
           0,
           0,
           0,
           0,
           0,
           0,
           0,
           0,
           0,
           0,
           0,
           0,
           0,
           0,
           0,
           0,
           0,
           0,
           0,
           0,
           0,
           0,
           0,
           0,
           0,
           0,
           0,
           0,
           0,
           0,
           0,
           0,
           0,
           0,
           0,
           0,
           0,
           0,
           0,
           0,
           0,
           0,
           0,
           0,
           0,
           0,
           0,
           0,
           0,
           0,
           0,
           0,
           0,
           0,
           0,
           0,
           0,
           0,
           0,
           0,
           0,
           0,
           0,
           0,
           0,
           0,
           0,
           0,
           0,
           0,
           0,
           0,
           0,
           0,
           0,
           0,
           0,
           0,
           0,
           0,
           0,
           0,
           0,
           0,
           0,
           0,
           0,
           0,
           0,
           0,
           0,
           0,
           0,
           0,
           0,
           0,
           0,
           0,
           0,
           0,
           0,
           0,
           0,
           0,
           0,
           0,
           0,
           0,
           0,
           0,
           0,
           0,
           0,
           0,
           0,
           0,
           0,
           0,
           0,
           0,
           0,
           0,
           0,
           0,
           0,
           0,
           0,
           0,
           0,
           0,
           0,
           0,
           0,
           0,
           0,
           0,
           0,
           0,
           0,
           0,
           0,
           0,
           0,
           0,
           0,
           0,
           0,
           0,
           0,
           0,
           0,
           0,
           0,
           0,
           0,
           0,
           0,
           0,
           0,
           0,
           0,
           0,
           0,
           0,
           0,
           0,
           0,
           0,
           0,
           0,
           0,
           0,
           0,
           0,
           0,
           0,
           0,
           0,
           0,
           0,
           0,
           0,
           0,
           0,
           0,
           0,
           0,
           0,
           0,
           0,
           0,
           0,
           0,
           0,
           0,
           0,
           0,
           0,
           0,
           0,
           0,
           0,
           0,
           0,
           0,
           0,
           0,
           0,
           0,
           0,
           0,
           0,
           0,
           0,
           0,
           0,
           0,
           0,
           0,
           0,
           0,
           0,
           0,
           0,
           0,
           0,
           0,
           0,
           0,
           0,
           0,
           0,
           0,
           0,
           0,
           0,
           0,
           0,
           0,
           0,
           0,
           0,
           0,
           0,
           0,
           0,
           0,
           0,
           0,
           0,
           0,
           0,
           0,
           0,
           0,
           0,
           0,
           0,
           0,
           0,
           0,
           0,
           0,
           0,
           0,
           0,
           0,
           0,
           0,
           0,
           0,
           0,
           0,
           0,
           0,
           0,
           0,
           0,
           0,
           0,
           0,
           0,
           0,
           0,
           0,
           0,
           0,
           0,
           0,
           0,
           0,
           0,
           0,
           0,
           0,
           0,
           0,
           0,
           0,
           0,
           0,
           0,
           0,
           0,
           0,
           0,
           0,
           0,
           0,
           0,
           0,
           0,
           0,
           0,
           0,
           0,
           0,
           0,
           0,
           0,
           0,
           0,
           0,
           0,
           0,
           0,
           0,
           0,
           0,
           0,
           0,
           0,
           0,
           0,
           0,
           0,
           0,
           0,
           0,
           0,
           0,
           0,
           0,
           0,
           0,
           0,
           0,
           0,
           0,
           0,
           0,
           0,
           0,
           0,
           0,
           0,
           0,
           0,
           0,
           0,
           0,
           0,
           0,
           0,
           0,
           0,
           0,
           0,
           0,
           0,
           0,
           0,
           0,
           0,
           0,
           0,
           0,
           0,
           0,
           0,
           0,
           0,
           0,
           0,
           0,
           0,
           0,
           0,
           0,
           0,
           0,
           0,
           0,
           0,
           0,
           0,
           0,
           0,
           0,
           0,
           0,
           0,
           0,
           0,
           0,
           0,
           0,
           0,
           0,
           0,
           0,
           0,
           0,
           0,
           0,
           0,
           0,
           0,
           0,
           0,
           0,
           0,
           0,
           0,
           0,
           0,
           0,
           0,
           0,
           0,
           0,
           0,
           0,
           0,
           0,
           0,
           0,
           0,
           0,
           0,
           0,
           0,
           0,
           0,
           0,
           0,
           0,
           0,
           0,
           0,
           0,
           0,
           0,
           0,
           0,
           0,
           0,
           0,
           0,
           0,
           0,
           0,
           0,
           0,
           0,
           0,
           0,
           0,
           0,
           0,
           0,
           0,
           0,
           0,
           0,
           0,
           0,
           0,
           0,
           0,
           0,
           0,
           0,
           0,
           0,
           0,
           0,
           0,
           0,
           0,
           0,
           0,
           0,
           0,
           0,
           0,
           0,
           0,
           0,
           0,
           0,
           0,
           0,
           0,
           0,
           0,
           0,
           0,
           0,
           0,
           0,
           0,
           0,
           0,
           0,
           0,
           0,
           0,
           0,
           0,
           0,
           0,
           0,
           0,
           0,
           0,
           0,
           0,
           0,
           0,
           0,
           0,
           0,
           0,
           0,
           0,
           0,
           0,
           0,
           0,
           0,
           0,
           0,
           0,
           0,
           0,
           0,
           0,
           0,
           0,
           0,
           0,
           0,
           0,
           0,
           0,
           0,
           0,
           0,
           0,
           0,
           0,
           0,
           0,
           0,
           0,
           0,
           0,
           0,
           0,
           0,
           0,
           0,
           0,
           0,
           0,
           0,
           0,
           0,
           0,
           0,
           0,
           0,
           0,
           0,
           0,
           0,
           0,
           0,
           0,
           0,
           0,
           0,
           0,
           0,
           0,
           0,
           0,
           0,
           0,
           0,
           0,
           0,
           0,
           0,
           0,
           0,
           0,
           0,
           0,
           0,
           0,
           0,
           0,
           0,
           0,
           0,
           0,
           0,
           0,
           0,
           0,
           0,
           0,
           0,
           0,
           0,
           0,
           0,
           0,
           0,
           0,
           0,
           0,
           0,
           0,
           0,
           0,
           0,
           0,
           0,
           0,
           0,
           0,
           0,
           0,
           0,
           0,
           0,
           0,
           0,
           0,
           0,
           0,
           0,
           0,
           0,
           0,
           0,
           0,
           0,
           0,
           0,
           0,
           0,
           0,
           0,
           0,
           0,
           0,
           0,
           0,
           0,
           0,
           0,
           0,
           0,
           0,
           0,
           0,
           0,
           0,
           0,
           0,
           0,
           0,
           0,
           0,
           0,
           0,
           0,
           0,
           0,
           0,
           0,
           0,
           0,
           0,
           0,
           0,
           0,
           0,
           0,
           0,
           0,
           0,
           0,
           0,
           0,
           0,
           0,
           0,
           0,
           0,
           0,
           0,
           0,
           0,
           0,
           0,
           0,
           0,
           0,
           0,
           0,
           0,
           0,
           0,
           0,
           0,
           0,
           0,
           0,
           0,
           0,
           0,
           0,
           0,
           0,
           0,
           0,
           0,
           0,
           0,
           0,
           0,
           0,
           0,
           0,
           0,
           0,
           0,
           0,
           0,
           0,
           0,
           0,
           0,
           0,
           0,
           0,
           0,
           0,
           0,
           0,
           0,
           0,
           0,
           0,
           0,
           0,
           0,
           0,
           0,
           0,
           0,
           0,
           0,
           0,
           0,
           0,
           0,
           0,
           0,
           0,
           0,
           0,
           0,
           0,
           0,
           0,
           0,
           0,
           0,
           0,
           0,
           0,
           0,
           0,
           0,
           0,
           0,
           0,
           0,
           0,
           0,
           0,
           0,
           0,
           0,
           0,
           0,
           0,
           0,
           0,
           0,
           0,
           0,
           0,
           0,
           0,
           0,
           0,
           0,
           0,
           0,
           0,
           0,
           0,
           0,
           0,
           0,
           0,
           0,
           0,
           0,
           0,
           0
          ],
          "coloraxis": "coloraxis",
          "symbol": "circle"
         },
         "mode": "markers",
         "name": "0",
         "scene": "scene",
         "showlegend": true,
         "type": "scatter3d",
         "x": [
          -1.3435574875956144,
          -1.3435273447875575,
          -1.3058404708216917,
          -1.3035523344036286,
          -1.2363398006642041,
          -1.2231906673470074,
          -1.2341922687435254,
          -1.234621784774422,
          -1.2019595278271245,
          -1.165448589129817,
          -1.1998311530096817,
          -1.1832513761323789,
          -1.178460857683624,
          -1.1621284023776737,
          -1.1472996875044659,
          -1.1280348355133198,
          -1.1181607302316676,
          -1.1138565582252578,
          -0.8308729431914256,
          -0.7550409913202933,
          -0.7348375756209088,
          -0.7428692529116492,
          -0.7265539152574476,
          -0.6725267167950736,
          -0.6216486676262567,
          -0.5509071763294259,
          -0.5101905259129164,
          -0.49286122521159637,
          -0.4747052253918999,
          -1.432444713704587,
          -1.3754660282792126,
          -1.2698058281179125,
          -1.3242824600933643,
          -1.1957508193040605,
          -1.1758287827399978,
          -1.1803078536561682,
          -1.1274700623822616,
          -1.1294163893080886,
          -1.1295956385826578,
          -1.1430360060005793,
          -1.159956658680773,
          -1.1953364292184823,
          -1.1902801974165158,
          -1.139974558281031,
          -1.1483624882448433,
          -1.1239649525054907,
          -1.1064305349634924,
          -1.0796173541896974,
          -1.09185747051095,
          -1.092142691940124,
          0.41125499056169124,
          0.45051422740254393,
          0.45318308056829587,
          0.523215662145056,
          0.5534811350272698,
          0.5850982491029768,
          0.6373814650483649,
          0.6832661013584816,
          0.7244658217230976,
          0.7389679987652866,
          0.7943411892608743,
          0.8503394787223338,
          0.8734444831830945,
          0.8991575391329228,
          0.9306541423140503,
          0.9271567017564587,
          0.9790416682205149,
          1.0492015427101566,
          -0.34067421701079037,
          -0.3235577547195682,
          -0.3035181328461987,
          -0.2986952441193372,
          -0.2942048748709436,
          -0.28850316400545695,
          -0.27945992703044703,
          -0.27216426239212266,
          -0.26862605965686326,
          -0.2661557220996842,
          -0.2571896300600067,
          -0.25343896398282134,
          -0.24411164121523085,
          -0.2356521742732022,
          -0.22545539055541552,
          -0.21403860070095668,
          -0.21251050444517333,
          -0.198543584119807,
          -1.261905480193704,
          -1.2001011168874935,
          -1.0732149314826298,
          -1.0939947228407387,
          -1.160295377029704,
          -1.2062530549428438,
          -1.2656549541430522,
          -1.2803624675486995,
          -1.1351785629970303,
          -1.1662815666862512,
          -1.171483142742166,
          -1.1122750319149077,
          -1.0829915624197002,
          -1.0471585221222106,
          -1.0111239030685737,
          -1.0161687481248407,
          -1.0410637764907553,
          -1.043927290781524,
          -0.7090912199526278,
          -0.6887875410713813,
          -0.6869033228043863,
          -0.700775300757263,
          -0.6821043443693068,
          -0.6699402829481591,
          -0.6420410577502603,
          -0.6514871683745903,
          -0.6493584295017965,
          -0.6448339412635793,
          -0.6494292267590287,
          -0.6680205336047508,
          -0.6702577174433443,
          -0.6575893201894387,
          -0.6287304023472288,
          -0.6131895289996768,
          -0.5974848939661186,
          -0.6008205444997261,
          -1.2681177702357305,
          -1.1604004926949552,
          -1.2289476436987834,
          -1.2385981368989596,
          -1.2574593417694457,
          -1.1563197017884694,
          -1.1509758497596645,
          -1.1697677806338058,
          -1.138197656565331,
          -1.167588406971662,
          -1.1689452690982083,
          -1.1459331968532536,
          -1.1385669484366077,
          -1.1357059318487153,
          -0.9669602129387393,
          -0.9691602625951393,
          -0.9842883030631431,
          -0.9837468224972453,
          -0.7573760293599057,
          -0.7065492709633688,
          -0.6752546162516415,
          -0.6378802423516327,
          -0.6124485279934357,
          -0.608169887863004,
          -0.6173488394038299,
          -0.6390666554688194,
          -0.6204914138431096,
          -0.5898349884210249,
          -0.7132280549905656,
          -0.75945267502811,
          -0.6309824242023806,
          -0.6280160486107833,
          -0.5918577847020643,
          -0.5635948132712312,
          -0.5412928325638077,
          -0.5319826462354578,
          0.08264331925021262,
          0.09331654552433383,
          0.09641366962708656,
          0.10636166032567072,
          0.10808415951590923,
          0.11353578910008506,
          0.12726129566531744,
          0.10820249995434512,
          0.15913135394686423,
          0.1812034326378714,
          0.19555626914737587,
          0.2110093625280368,
          0.23470241482450344,
          0.24147348096304722,
          0.24871283830772295,
          0.24813692793097447,
          0.2550755317808719,
          0.26816436673155175,
          -1.217159898800862,
          -1.1886007825848648,
          -1.144616105742662,
          -1.1365922997760256,
          -1.1492813042186631,
          -1.1067627574717804,
          -1.1121643650303081,
          -1.078698915137642,
          -0.9912321194962291,
          -0.967567504019073,
          -0.991846513803499,
          -0.9373457777332936,
          -0.9267757412894979,
          -0.9019603231883454,
          -0.8512923297052445,
          -0.8217994621866349,
          -0.8143562653817851,
          -0.7902929492506617,
          -1.1128078011808034,
          -1.0765094433709266,
          -1.0864534454747512,
          -1.04130927632142,
          -1.043759316043424,
          -1.0251650846328215,
          -1.0144758429835412,
          -1.006366106942163,
          -1.0088132750981968,
          -0.9821102454729109,
          -0.9490090257461166,
          -0.935165968264938,
          -0.9633804091883054,
          -1.4713305063589446,
          -1.4828313156092625,
          -1.472005685590249,
          -1.4453289142662387,
          -1.4609791044193583,
          -1.4241218770390636,
          -1.4056706463937338,
          -1.3864531910428102,
          -1.1935699957296808,
          -1.1670094532347073,
          -1.152965798521581,
          -1.1139822061403735,
          -1.066152185484087,
          -1.0625686069482478,
          -1.0226880617915675,
          -1.1604375107749676,
          -1.1473573497371161,
          2.9243145915611057,
          3.033568254226463,
          3.1429739565015016,
          3.3277071288013786,
          3.4203637479858964,
          3.6084258349275924,
          3.78454296044693,
          3.9587888293262723,
          4.10700087159709,
          4.335332348325177,
          4.5279320225787165,
          4.636431548918592,
          4.788066965402163,
          4.917441248923567,
          4.992365356118112,
          5.19085054896047,
          5.312213451322773,
          5.427742824029676,
          -0.7303864979945266,
          -0.7261463205661614,
          -0.704810236787388,
          -0.6935264173314383,
          -0.657631986450149,
          -0.6247142313872233,
          -0.6094663026382912,
          -0.6101604403372446,
          -0.5575199444523621,
          -0.5475780843147684,
          -0.5277754448565621,
          -0.5288112372726209,
          -0.5154298208342877,
          -0.48499520494292553,
          -0.4716612566905628,
          -0.47426441802429936,
          -0.4880474490020929,
          -0.49498676199554636,
          1.0164821268636683,
          1.0440269775324382,
          1.1173458515790433,
          1.174225507021785,
          1.2322576605231705,
          1.2917117641394564,
          1.365142256030069,
          1.407587740345023,
          1.4257981992361708,
          1.4834401320630621,
          1.531183267222906,
          1.5924041062633654,
          1.6426135590358641,
          1.6922991977198165,
          1.70156386526752,
          1.7326951928598726,
          1.7930774337857545,
          1.8994302166287882,
          -0.4857809444850924,
          -0.4621161553877835,
          -0.442772410151991,
          -0.44323554294521644,
          -0.43591925456857994,
          -0.45810563682583993,
          -0.43519425882792134,
          -0.4269569045735269,
          -0.33587872222621296,
          -0.3111103910918163,
          -0.3032512956909312,
          -0.18056735910100186,
          -0.14632629356998753,
          -0.12750871558694768,
          -0.08091774593336616,
          -0.054260806668196,
          -0.031053438373788444,
          -0.010150945050303607,
          -0.46404650872768016,
          -0.397635251367963,
          -0.3952195591172714,
          -0.3673905942563207,
          -0.35273667732087455,
          -0.321690655190757,
          -0.2989539901321295,
          -0.2526639261531099,
          -0.16508091588923487,
          -0.12954655689801,
          -0.1375674749479953,
          -0.08731568865342688,
          -0.04735086453927558,
          -0.0071276071740620965,
          0.041370855057031516,
          0.0890709188139061,
          0.12875297859256712,
          0.1753212229193458,
          -0.9990725673363637,
          -0.9872756510278188,
          -0.9790573720490391,
          -0.9861038229622432,
          -0.9958835074975401,
          -0.9749539448617466,
          -0.9628591003827456,
          -0.966618031770503,
          -0.9231378461422697,
          -0.8999382731657185,
          -0.8882087443841378,
          -0.87938835168916,
          -0.8679960978930583,
          -0.8583989011323833,
          -0.8299788766586466,
          -0.8080334840789415,
          -0.8039007540827947,
          -0.7905852504257781,
          -0.9580689309377873,
          -0.9378648547167907,
          -0.9184325751516444,
          -0.9135509538164478,
          -0.9072128801023929,
          -0.8906787019700937,
          -0.8713356533456107,
          -0.7777317108570361,
          -0.7652484224146586,
          -0.7530806856340212,
          -0.746927159124594,
          -0.7466189020053451,
          -0.7446334778272934,
          -0.7174234145990607,
          -0.6911067886959071,
          -0.7733306401609269,
          -0.7757775466291964,
          -0.7811858502001577,
          -0.9420148102589279,
          -0.9435283811390717,
          -0.9461798481540499,
          -0.7932873028823882,
          -0.789559276742617,
          -0.7839442801758724,
          -0.7900271558774896,
          -0.8069244740058512,
          -0.7826464763088987,
          -0.792818395179235,
          -0.7961514702882256,
          -0.7931137358751867,
          -0.7834042220580587,
          -0.77607857934163,
          -0.7624784007043066,
          -0.7515261712105961,
          -0.755026562404741,
          -0.7552771492421836,
          -0.3086664731105532,
          -0.3072467318337501,
          -0.29949890311235483,
          -0.2978852481659391,
          -0.30203791307425426,
          -0.28561280851736603,
          -0.2796608107877548,
          -0.28229624243959145,
          -0.2714022413778424,
          -0.26793217578247785,
          -0.2735208873466769,
          -0.2762677922335021,
          -0.25946235531341394,
          -0.25740152047347487,
          -0.2617312772352322,
          -0.2444156849953899,
          -0.24191295751020775,
          -0.22932870967682742,
          -1.1120242399643252,
          -1.078319227886765,
          -1.1330021136850559,
          -1.2015066076899183,
          -1.0334894992971928,
          -1.0290076943148772,
          -1.0026656210663112,
          -0.9850733980191468,
          -0.9422449773566558,
          -0.9420830028240217,
          -0.93165544040929,
          -0.9029158022073037,
          -0.8840101903614639,
          -0.854689702562996,
          -0.8140567708280757,
          -0.8053988773523147,
          -0.7970239428104171,
          -0.7817886900026811,
          -1.1479351380136094,
          -1.0168920292953307,
          -0.9646810548845327,
          -0.9573431410367647,
          -0.9526159205322782,
          -0.9321233552363014,
          -0.8946463101072218,
          -0.8995628878288237,
          -0.8074502388906704,
          -0.7861514288251292,
          -0.8045226588953162,
          -0.7670514780011507,
          -0.7199345159120956,
          -0.6956361213153013,
          -0.6591132418651984,
          -0.624456282110798,
          -0.6133565586782312,
          -0.6044147695366792,
          -1.2770758264018771,
          -1.259544110652829,
          -1.2497551742219077,
          -1.250218780795839,
          -1.244092519410226,
          -1.2351381130569437,
          -1.2237370248147164,
          -1.236541648569798,
          -1.194685194494505,
          -1.1947587005615565,
          -1.185677683626083,
          -1.1657735756611676,
          -1.1465011318082585,
          -1.1250459892627218,
          -1.0918168462107027,
          -1.0821076126044173,
          -1.076627601981232,
          -1.0573443710913897,
          -1.559018877366828,
          -1.525302563304979,
          -1.4727402200986253,
          -1.4190856408833956,
          -1.404012099484196,
          -1.3951526737485715,
          -1.44332692478559,
          -1.4931854109061928,
          -0.8366610612586597,
          -0.8400268251560251,
          -0.8346763163347604,
          -0.8419566423349559,
          -0.8387820088590346,
          -0.7522303865774723,
          -0.7536671753219468,
          -0.7775153821362963,
          -0.7428694316686197,
          -0.7379257656277258,
          -0.7356651887443297,
          -0.7278587451558147,
          -0.7102209622885554,
          -0.6986474986157634,
          -0.6944519231908663,
          -0.6887354650748739,
          -0.6921589143187892,
          -0.6964442235922375,
          -1.2438573114202656,
          -1.3940100240321027,
          -1.3757815424851003,
          -1.3381575156341157,
          -1.216542491225393,
          -1.2527369779348108,
          -1.2132766361180802,
          -1.1846322405803695,
          -1.1887025019201676,
          -1.1572627038693064,
          -1.1338540290547447,
          -1.30978165825401,
          -1.2875155899682216,
          -1.2919625392163046,
          -1.2846172433043987,
          -1.2691897879326208,
          -0.46480208353143443,
          -0.45327117359835634,
          -0.4388418749740518,
          -0.43162898928408633,
          -0.43334550921657655,
          -0.4189902630277938,
          -0.4067386299662341,
          -0.41148957629495003,
          -0.3962915231696744,
          -0.3866733834375197,
          -0.3857850160431733,
          -0.38683526199293305,
          -0.36831474951979526,
          -0.36503599823949073,
          -0.36039390521678544,
          -0.3481826265147871,
          -0.33933285377029054,
          -0.3286537969530807,
          3.5310313895023113,
          3.6201248203303185,
          3.7186341861532726,
          3.7249784467693394,
          3.7822626040053664,
          3.8409707697911784,
          3.9434586149702207,
          4.0644860013531945,
          4.12378711450852,
          4.167097130215832,
          4.247245925198009,
          4.299259338276058,
          4.3551926040328635,
          4.378885114725779,
          4.444297228648101,
          4.451562683932842,
          4.5668956477194325,
          4.666166767031884,
          -1.530585311222137,
          -1.5161721017126422,
          -1.502303918676479,
          -1.5411645003071164,
          -1.5956227643670609,
          -1.5824391864015723,
          -1.596833613623337,
          -1.625959218399381,
          -1.4923103372622621,
          -1.4933562571742953,
          -1.493392730417938,
          -1.4722387756937607,
          -1.4419120365290048,
          -1.4060726853025198,
          -1.2888772142685758,
          -1.2829212230130642,
          -1.343087757490733,
          -1.3599989727205737,
          -1.2481337510672308,
          -1.181822074075679,
          -1.1485978112415407,
          -1.1662787684173384,
          -1.1520581760652564,
          -1.1741886125630603,
          -1.137780157676608,
          -1.1258210846882797,
          -1.1047784510383527,
          -1.0407640199143042,
          -1.0409941733237613,
          -1.0382174903637724,
          -1.0002847016173206,
          -0.9784240482175109,
          -0.982472357130761,
          -0.9631086264914142,
          5.553674375306997,
          5.653025211503763,
          5.753442267684595,
          5.76600544159222,
          5.811283668712419,
          5.862610612695248,
          5.972371093476568,
          6.099929666635516,
          6.122292553661673,
          6.1370609197433,
          6.170510733015455,
          6.208981236270917,
          6.349939218350256,
          6.401396548350481,
          6.4910125069450295,
          6.602131806994766,
          6.676769393696478,
          6.794276328008534,
          -0.9880311476842694,
          -0.9869767875690362,
          -0.8503591481026274,
          -0.7831043325944749,
          -0.041698130355626875,
          -0.024181293284702747,
          -0.021264046448988924,
          -0.023884424158022704,
          -0.039768966563177695,
          -0.02705737259248283,
          -0.0109592924025436,
          0.0034067521192520846,
          0.023112980922884586,
          0.03785157885112516,
          0.05530701053623653,
          0.05933972444480122,
          -0.059644106451898306,
          -1.1216388885246913,
          -1.0951452309375296,
          -1.295541573321777,
          -1.2971725057289962,
          -1.3112086656147164,
          -1.2903271572687678,
          -1.2623169171895252,
          -1.2494619293843496,
          -1.2418385528885776,
          -1.1999024270034262,
          -1.1827779482923562,
          -1.1701313145149665,
          -1.1600081775629838,
          -0.20592623592565124,
          -0.18603910110703054,
          -0.17270078516704104,
          -0.17198003903500436,
          -0.14936126374337463,
          -0.14461535008157983,
          -0.05945084585057018,
          -0.054910450598537074,
          -0.04754180095476801,
          -0.188320967146917,
          -0.17985256171561023,
          -0.2858811109556119,
          -0.27942360779658887,
          -0.16480728613579596,
          -0.1427387260701854,
          -0.150440709927795,
          -0.14227969363564727,
          -0.18177740494168737,
          -0.8357938222251744,
          -0.8401778689325142,
          -0.8345529241627785,
          -0.8209398712675442,
          -0.8118673559783516,
          -0.8111356606518794,
          -0.8084011597735303,
          -0.8113706036316104,
          2.333287677683989,
          2.4553140788515364,
          2.5551757382229328,
          2.6957381856680227,
          2.8569253464614452,
          2.9881173871533546,
          3.1816372339870784,
          3.3138083058944883,
          3.4992754931569987,
          3.659370038056578,
          3.7488698945057326,
          3.8768807210279776,
          4.051446931933641,
          4.244294885186687,
          4.407250118846053,
          4.597728021472091,
          -1.1604657368462734,
          -0.9444861907038903,
          -0.9657590278454918,
          -0.9175236351691567,
          -0.8705463357138558,
          -0.8509551856321605,
          -0.7954222816927401,
          -0.7180207992607682,
          -0.6995815203668496,
          -0.6687343993662801,
          -0.6098159167615895,
          -0.5884845450282463,
          -0.5859144798337833,
          -0.6181993597505512,
          -0.6067121524271774,
          -0.5928745100510565,
          -0.575199161603646,
          -0.5671087999432893,
          -0.563992201803866,
          -0.5599482386515922,
          -0.5565538463543785,
          -0.5249184083647921,
          -0.5289284066630081,
          -0.5287996492675567,
          -0.5145719642906389,
          -0.5007404874878303,
          -0.48405474363256035,
          -0.43589850930977053,
          -0.4311975316463527,
          -0.4123104206734354,
          -0.3955916231711807,
          -0.4047773225600389,
          -0.4166991060282897,
          -0.38673392321077515,
          -0.3765050232716862,
          -0.3717236367622551,
          -0.35861298024090715,
          -0.3431403218033504,
          -0.35145326514921615,
          -0.33486808055419065,
          -0.3171021907865357,
          -0.31032797374641324,
          -0.2765583304164896,
          -0.26834329748854685,
          -0.256163098855145,
          -0.23743832483015626,
          -0.22626683944520742,
          -0.21324911833484397,
          -0.19458614179492184,
          3.426866826980186,
          3.5060868216105385,
          3.642551831588262,
          3.6723929024451007,
          3.7172786001802347,
          3.7868830252836787,
          3.8974950417023684,
          3.98681462097305,
          4.019882479639589,
          4.038144222724411,
          4.110447596036474,
          4.132515005438552,
          4.13805893142715,
          4.170358917987447,
          4.239971169798875,
          4.232089755065101,
          4.26742434078375,
          4.370920683550442,
          -1.1541873970915169,
          -1.1574905550888916,
          -1.1602093271767404,
          -1.1664542859289415,
          -1.1835765980117936,
          -1.1502234739987738,
          -1.1501963661472405,
          -1.201371741328285,
          -1.1349857086660553,
          -1.1583947820030591,
          -1.1503496513102334,
          -1.1470532183965128,
          -1.1412150153181906,
          -1.130922250273281,
          -1.0910512700795911,
          -1.0581589739311712,
          -1.0607943039729533,
          -1.0399785134416266,
          5.853948173763453,
          5.981601818225091,
          6.2179415576700245,
          6.452009114632261,
          6.6717756703762525,
          6.768801896982249,
          6.942030335141381,
          7.131836424207633,
          7.27120503040755,
          7.562482173092107,
          7.868666350861796,
          8.039837387683622,
          8.053144450168222,
          8.110595296913177,
          8.145830254338371,
          8.358105054219443,
          8.418093017086184,
          8.536731497885777,
          -0.8963943914984848,
          -0.8720700931213923,
          -0.8682642834832145,
          -0.8759239182740821,
          -0.8784163460745105,
          -0.8778651279180529,
          -0.8732245931192383,
          -0.8854985252563833,
          -0.8053550084965003,
          -0.7855094979674035,
          -0.8038551410819571,
          -0.7951070993160406,
          -0.7976347128086981,
          -0.7666275700877236,
          -0.7390418683317792,
          -0.740926405981742,
          -0.7505190401939141,
          -0.7473438180360602,
          -0.7023434782762613,
          -0.7062453665805579,
          -0.7123568721645726,
          -0.7558537840012163,
          -0.7880801553981136,
          -0.780147769296085,
          -0.7291203236991853,
          -0.7760173647272451,
          -0.6830388159108368,
          -0.6795742259509774,
          -0.696442469056139,
          -0.6685195545548303,
          -0.6570889646676696,
          -0.6321450091668918,
          -0.5829362754915882,
          -0.5686636752290226,
          -0.5589051971480375,
          -0.5741980120339365,
          -0.8056298559561713,
          -0.7892552153239767,
          -0.7811967987478602,
          -0.7973972015948141,
          -0.8190506850470282,
          -0.7877838614935393,
          -0.8051231823711394,
          -0.7799995037944613,
          -0.743614275745791,
          -0.7368185629454943,
          -0.7374597978265873,
          -0.7061071894139255,
          -0.6837758110470512,
          -0.6911014979652783,
          -0.7075836324425459,
          -1.0547555207614463,
          -1.049076006338129,
          -1.0461804121997325,
          -1.0558995091424823,
          -1.049382753958978,
          -0.8979736906921072,
          -0.8941232512978372,
          -0.9012852437061951,
          -0.7848906254239368,
          -0.8419189680418803,
          -0.8584872547733056,
          -0.7705494190934298,
          -0.9019416239444885,
          -0.7568937615872737,
          -0.74126818380876,
          -0.8915084707205996,
          -0.7623955468695834,
          -0.7503096025615621,
          -0.9464344348991215,
          -0.9008147632935357,
          -0.9031332937019269,
          -0.9042931194863083,
          -0.8899689972402228,
          -0.8719855901827375,
          -0.8333938330168239,
          -0.8273672893158889,
          -0.8399378619371507,
          -0.9059764064861762,
          -0.7955266853881754,
          -0.789045259041715,
          -0.7833968625456255,
          -0.7919600488658087,
          -0.7865228880680688,
          -0.786915566753362,
          -0.7756636145005108,
          -0.7943894607547646,
          -0.792245941340928,
          -0.7607548841664845,
          -0.7658252131449685,
          -0.6712217595808541,
          -0.6661557261816965,
          -0.6618846177813265,
          -0.653542599711773,
          -0.8073328127987389,
          -0.8196342085865692,
          -0.8108018925972811,
          -0.6824970507931427,
          -0.6707635776081007,
          -0.6703386812371849,
          -0.6541394736347985,
          -0.6453610682710876,
          -0.6338300429787634,
          -0.628034160803428,
          -0.623738236177821,
          -0.6128718278547602,
          -0.6073979961876513,
          -0.6024590745375279,
          -0.5972135850976128,
          -0.5892584538132537,
          -0.5794951813364189,
          -0.57583348117165,
          -0.5774974208840428,
          -0.5877931517872254,
          -0.5834971274711825,
          -0.5209407303889857,
          -0.49559778189650294,
          -0.4866989197000473,
          -0.4583713495650092,
          -0.43522303602104834,
          -0.3962891555228537,
          -0.3568365410748558,
          -0.3022876964612254,
          -0.28094532548724416,
          -0.2553145306672738,
          -1.1385928437883022,
          -1.1446133267835175,
          -1.1429914985947973,
          -1.1499414777952761,
          -1.1319074095448078,
          -1.0851369919756095,
          -1.0839095892579516,
          -1.0753964538655376,
          -1.0853626949472146,
          -1.0916614189329745,
          -1.0938908418032873,
          -1.0883808661322794,
          -1.10253846032774,
          -1.0769264925030608,
          -1.0749593228504606,
          -1.0818226355423168,
          -1.0676251795639031,
          -1.0641265114383116,
          -1.0580291483140989,
          -1.0473233303000264,
          -1.0365936497267003,
          -1.1892673282971582,
          -1.1891399203427184,
          0.7748850553534204,
          0.8523627149352861,
          0.9168019719869025,
          0.9637523530962495,
          1.0593886042302498,
          1.1195026568728725,
          1.1834112930728657,
          1.2968884497094304,
          1.397658663418122,
          1.4319677111988294,
          1.4850470861600138,
          1.574718556422186,
          1.7207363860315175,
          1.825775957044581,
          1.9042211706732977,
          1.995625227403174,
          2.1176911258398836,
          2.211959561507848,
          -1.2694778226316197,
          -1.2729655203373251,
          -1.2765871202295491,
          -1.281886594045427,
          -1.2198957764244382,
          -1.2044686300048038,
          -1.2194746162059262,
          -1.2050461594999378,
          -1.1989282416847886,
          -1.1851853680302389,
          -1.1729588390264465,
          -1.1551401887441024,
          -1.1625390054585323,
          -1.149969805395371,
          -1.2645090394109364,
          -1.2363660802255572,
          -1.229037274496878,
          -1.2898140372066498,
          -1.283218309179699,
          -1.3380858502350303,
          -1.1956558602679903,
          -1.306727574761705,
          -1.151035646630952,
          -1.2493592929225896,
          -1.2504721308503521,
          -1.067600912212386,
          -0.989608440075108,
          -1.0284479247034097,
          -1.010829619738575,
          -0.9406559996932106,
          -0.9405121108068029,
          -0.9554024705374989,
          -1.3425048374172242,
          -1.3251124371068306,
          -1.333392640507112,
          -1.3123874439263616,
          -1.2261096223143375,
          -1.218901938634871,
          -1.2195673210402218,
          -1.2709671483580571,
          -1.2517260114647157,
          -1.23174563643639,
          -1.221682314197781,
          -1.2092070749876147,
          -1.2096432606219985,
          -0.7259129169337706,
          -0.7081665835465281,
          -0.6761182088397474,
          -0.6598917497450624,
          -0.6281179743116033,
          -0.5668184899825234,
          -0.5657660397258282,
          -0.5569105970908929,
          -0.5122430967428454,
          -0.4665744163123904,
          -0.4453876499315573,
          -0.41876119478223744,
          -0.36130475397658857,
          -0.3422333071587546,
          -0.29646332738634507,
          -0.2708005056568522,
          -0.23031375601777082,
          -0.20685992601134687,
          -1.4781024465304893,
          -1.4415553535337748,
          -1.4263203377344615,
          -1.4492933974225866,
          -1.4281856179283605,
          -1.4000490648475326,
          0.34973443055870396,
          0.3652796529712988,
          0.33678830796441667,
          0.42931204452232025,
          0.45819327881134714,
          0.5109451114332739,
          0.5551529670549343,
          0.5996782368618052,
          0.6237403645735372,
          0.653646581824202,
          0.6872420535951907,
          0.715104655707721,
          0.7451228078453457,
          0.7751128608008601,
          0.8044926082292609,
          0.8475015053323078,
          0.8702350588016434,
          0.9049691873167339,
          -0.5755814638409399,
          -0.5878339644531864,
          -0.5641136430303041,
          -0.5599917916879552,
          -0.5547627435733989,
          -0.5480364791945193,
          -0.5311132572385168,
          -0.536041303026185,
          -0.5249478835810246,
          -0.5223684430365788,
          -0.5201887959783846,
          -0.4947834894564549,
          -0.4785230086816529,
          -0.4680849798861595,
          -0.4586959226575646,
          -0.45509534189651646,
          -0.44670846992974117,
          -0.4309718723175424,
          -1.3570628724895308,
          -1.3717051056483094,
          -1.3870054992373195,
          -1.3721647446060385,
          -1.355069951704686,
          -1.3485872917332653,
          -1.324523807573018,
          -1.2756170628488837,
          -1.2670962317637326,
          -1.2448422390801213,
          -1.2372378563712707,
          -1.119859162084741,
          -1.069794965792751,
          -1.0835574509177397,
          -1.0947170048346926,
          -1.0866382191224286,
          -1.1065427581937002,
          -1.1170300553525154,
          -1.1231492989845537,
          -1.0802640645477417,
          -1.0900681939880161,
          -1.0811333838481088,
          -1.1238256548884862,
          -1.1217340988665407,
          -1.101611653193961,
          -1.0902864457320918,
          -1.073485517002669,
          -1.0102513159429147,
          -1.0106437419581684,
          -0.5956923516731548,
          -0.5814173442702986,
          -0.5701167183546721,
          -0.5545868273941348,
          -0.5513878789476394,
          -0.535981150724688,
          -0.504191106575477,
          -0.5129297520186703,
          -0.4927421791448308,
          -0.48111416373260096,
          -0.4697763905676763,
          -0.4558469722837443,
          -0.43996871359932965,
          -0.432317266071262,
          -0.43254112078755663,
          -0.4342490170290279,
          -0.4354137271992191,
          -0.43130146232050964,
          -1.0952975084401864,
          -1.052788988552682,
          -1.0321586640330196,
          -1.0615841611553718,
          -1.0899946570862986,
          -1.0554391161104437,
          -0.9405422086675237,
          -0.9563402164476478,
          -0.8952202256561244,
          -0.9217390128706134,
          -0.9814763940308928,
          -0.9382534409540785,
          -0.9120959312181764,
          -0.8696906336761908,
          -0.753109044815408,
          -0.7243886114196417,
          -0.7416612344063863,
          -0.7579731487155702,
          -1.1387438512760273,
          -1.1568590730684496,
          -1.1226857834158936,
          -1.1348673586040157,
          -1.11191094617626,
          -1.0927154710172817,
          -1.0843843585246813,
          -1.0863223443109737,
          -1.0466788452465505,
          -1.048945698568848,
          -1.036720448219165,
          -1.0225581684503289,
          -1.0046437279482998,
          -0.9902812981483795,
          -0.970012881157143,
          -0.9657534109792973,
          -0.9562797934742899,
          -0.9487785511501606,
          -1.2993542022283544,
          -1.2698967795778937,
          -1.2665376880161516,
          -1.2298409056913961,
          -1.2323697241246172,
          -1.2299845938525789,
          -1.2232519879287478,
          -1.2295262816677304,
          -1.195680502866438,
          -1.1787831451437458,
          -1.176464446929917,
          -1.1667104424782822,
          -1.1376223676650175,
          -1.1320644303476173,
          -1.1089227626391274,
          -1.0975841069462693,
          -1.080578244511988,
          -1.0736588212418425,
          -0.7554758011921706,
          -0.715147116183358,
          -0.6961518513570597,
          -0.6957401126114396,
          -0.6630121719906277,
          -0.67829716586169,
          -0.6558785306620515,
          -0.5994310253022356,
          -0.47963640720272255,
          -0.4327339586906252,
          -0.4220907980180401,
          -0.3892948974856657,
          -0.35253865291876346,
          -0.3303876367930661,
          -0.3025806016754704,
          -0.27537007842466193,
          -0.2481759342461728,
          -0.20891554019615577,
          -0.1351655800133377,
          -0.09792032038626841,
          -0.0839471311355298,
          0.13906656385171043,
          0.2726335073353383,
          0.3234328686766372,
          0.423975865037816,
          0.5225021488713834,
          0.6024247888140015,
          0.7150681062111256,
          0.7982142032196269,
          0.8671990973748793,
          0.8672674483297463,
          1.447642913032141,
          1.4860574012615304,
          1.5446684359059373,
          1.5932522945379737,
          1.6465788244486477,
          1.7179361835823181,
          1.7828767539124277,
          1.8077944584425145,
          1.933423895499973,
          1.9362820538670191,
          1.9785702615406942,
          2.0574546397118807,
          2.112141351396377,
          2.1330449616676703,
          2.2386847264992973,
          2.1233589994426163,
          2.1586456278938435,
          2.2189868812121465,
          -0.3360676388992335,
          -0.3088087782741919,
          -0.30267013813660054,
          -0.28664647193895954,
          -0.267091581918067,
          -0.26568341693346526,
          -0.24506605578772203,
          -0.22913061789145975,
          -0.20072160173525222,
          -0.20554831997790834,
          -0.18608275861325702,
          -0.16922950446277457,
          -0.15652834824707523,
          -0.1475049868667643,
          -0.12779562759905747,
          -0.11466202579987689,
          -0.0867774072348686,
          -0.07671177219017397,
          -0.6765902598353181,
          -0.654171333001367,
          -0.6807522253714219,
          -0.7296090577339241,
          -0.7717485976014116,
          -0.7453065506824512,
          -0.7379187217808053,
          -0.7424188588395223,
          -0.6816511203152003,
          -0.652604743098516,
          -0.6481955598494754,
          -0.6094826411019625,
          -0.5594070685705719,
          -0.5445986770146919,
          -0.5489226484439782,
          -0.5550531775762809,
          -0.3118310221362105,
          -0.23683550926773145,
          -0.20324278829609776,
          -0.21416797076890995,
          -0.18523455797343122,
          -0.16088780135710598,
          -0.14389683340100062,
          -0.11766882141028907,
          -0.0758315024915289,
          -0.06479714812399984,
          -0.06123616619393223,
          -0.016820745697841314,
          -0.018012820414406504,
          0.046813635901513356,
          0.06981851989467379,
          0.08660527448055937,
          0.09290904148863977,
          0.08302863716266327,
          -0.6663863340005987,
          -0.6320030503349038,
          -0.6468746096531555,
          -0.5380617103832782,
          -0.5662123416816549,
          -0.5417672349342159,
          -0.5353949245464596,
          -0.5502642598562186,
          -0.4402893127828215,
          -0.4258792833263029,
          -0.44668679099715647,
          -0.39337050745489394,
          -0.3756359025694068,
          -0.31497836361624154,
          -0.2283528096444115,
          -0.22304361532595382,
          -0.20026182380098845,
          -0.20284206908360608,
          -0.5852281562602404,
          -0.5700806593554126,
          -0.5947165674233931,
          -0.5759763299764192,
          -0.5645048125900242,
          -0.5712088003630673,
          -0.5448953867252576,
          -0.5882597978348754,
          -0.5742924600400602,
          -0.5180539149638589,
          -0.5105257557031249,
          -0.5159768678866804,
          -0.5066051732855349,
          -0.7598815032739136,
          -0.7502498642498577,
          -0.7505254304452367,
          -0.7337124026018271,
          -0.7180998050339413,
          -0.7043551850274146,
          -0.6944041096264796,
          -0.7012829543674833,
          -0.6538140308960745,
          -0.6501867056943107,
          -0.6571950537768285,
          -0.6395815001246776,
          -0.6216818002594474,
          -0.6092812301173122,
          -0.5930451274905697,
          -0.5951962641469293,
          -0.584121697801699,
          -0.5685836383514965,
          -0.8134337550607792,
          -0.8028233773328736,
          -0.7889345983339942,
          -0.7738344257534715,
          -0.7600821281423071,
          -0.7430692078929741,
          -0.7344882087426496,
          -0.7349380719109028,
          -0.7385063005552464,
          -0.7363753166608106,
          -0.7273018973507342,
          -0.7248078319049247,
          -0.7179839642584654,
          -0.7083217343422583,
          -0.6871610618509283,
          -0.6838869248721127,
          -0.6765394438505417,
          -0.6709991127449518,
          -0.07207199464984625,
          -0.03669689597453393,
          0.008982277828426406,
          0.05640585455371502,
          0.057778873925118886,
          0.11900763847113996,
          0.13687385815704306,
          0.15062636691110012,
          0.2542124676097772,
          0.272333784050671,
          0.29731642396646085,
          0.3363211747550245,
          0.24032514484422038,
          0.3323868097364748,
          0.3892562025168872,
          0.4112927807657371,
          0.4283652607461507,
          0.41035536195627503,
          1.6705351484539819,
          1.7395799665566687,
          1.8229575353413947,
          1.878860139822894,
          1.9382952310074584,
          1.9949727742622239,
          2.096755446218927,
          2.170494300181287,
          2.204294163784241,
          2.218693754502102,
          2.3007928798828328,
          2.3377680082551797,
          2.366224119037522,
          2.413594797526486,
          2.4721565436476056,
          2.494815166211133,
          2.5326868415408015,
          2.589212253386257,
          -1.2316894741312654,
          -1.1936956852037055,
          -1.2456658255929385,
          -1.155188679236657,
          -1.244395067853474,
          -0.0679395325716219,
          -0.056939027655569595,
          -0.04113351704426413,
          -0.02297633268657208,
          -0.02995086641404693,
          -0.016853519479799465,
          -0.00817652681912951,
          -0.008552639907864836,
          -0.00949243521268079,
          0.005549517137378418,
          0.01855324239808558,
          0.021836832807217554,
          0.03913651471315746,
          0.04802052850198833,
          0.04628761787161014,
          0.061297925310707636,
          0.07601627011812773,
          0.09296581735113978,
          -0.3442455943110378,
          -0.3303371551700393,
          -0.31591187228961626,
          -0.30230184322578263,
          -0.29401222239069913,
          -0.2757723159436398,
          -0.25822038841251477,
          -0.24350846694858302,
          -0.23109241357401902,
          -0.2181415035213723,
          -0.19224866008118624,
          -0.1827484466259823,
          -0.1713354853002861,
          -0.15635512254841152,
          -0.15292490032045242,
          -0.14233685438128826,
          -0.14043539910941905,
          -0.12329732003743121,
          0.13810413624345463,
          0.20542475451459954,
          0.24291333321029146,
          0.2813295520245237,
          0.3080305384739929,
          0.29864448582554726,
          0.5685279247693881,
          0.3658677653867597,
          0.4463147969622729,
          0.5168226102373926,
          0.546979540282728,
          0.6535631542911748,
          0.6357508863154496,
          0.904044623743636,
          0.9934304559348448,
          1.0905915990304587,
          1.1722957587116443,
          1.2569739576360694,
          -1.1055136240234529,
          -1.1054420321493175,
          -1.0975936712657095,
          -1.0920019101204543,
          -1.082081523770775,
          -1.0828639639373534,
          -1.0729411525747592,
          -1.0986280233624777,
          -1.0688325062119848,
          -1.031172308427642,
          -1.0395171197056359,
          -0.9728421206997001,
          -0.9603051889558962,
          -0.9382624801860963,
          -0.9204785530874886,
          -0.9032057100990811,
          -0.8955227565877991,
          -0.8853989323535814,
          0.8688842323334898,
          0.964525040627965,
          1.0137141229525564,
          1.0301749752170142,
          1.1024100217060024,
          1.1402387746805849,
          1.2016604920165561,
          1.2743266818984544,
          1.3112432216844516,
          1.536441873139246,
          1.6907423940722761,
          1.640071733073599,
          1.588276307718399,
          1.4469100927307126,
          1.1858762701032965,
          1.460930382147401,
          1.5478579255360623,
          1.4909581169460346,
          1.5229657160408894,
          -0.7658783653323088,
          -0.6521679863061304,
          -0.6274865900386584,
          -0.6337060557173481,
          -0.5800384669334727,
          -0.5596322923244512,
          -0.5466100289062689,
          -0.49008849820650124,
          -0.4590451142826044,
          -0.4694431186924634,
          -0.4731993044941749,
          3.64341838783916,
          3.7058667317490572,
          3.78737733747473,
          3.8186898666387266,
          3.837994811994819,
          3.888242848764814,
          3.986418692703622,
          4.006577348103617,
          3.9478667457149323,
          4.00096351287029,
          4.072180265843427,
          4.1849887304973485,
          4.284043504471753,
          4.372644901113221,
          4.4525916789084174,
          4.479358201843138,
          4.5226284848299,
          4.671594742452412,
          -0.7936719934183333,
          -0.8101893916132352,
          -0.8062893149778954,
          -0.7494687574059717,
          -0.7384270574627998,
          -0.7348438720851063,
          -0.7478865023923288,
          -0.7492797867954534,
          -0.7317841025515883,
          -0.7580151993371647,
          -0.7346519047189205,
          -0.6344530547369005,
          -0.6454510880993265,
          -0.6593153930958304,
          -0.663556618666544,
          0.5401975709266721,
          0.6085030051026199,
          0.48310696111588103,
          0.5613314990858806,
          0.657864827538799,
          0.7760702093440838,
          1.0667324498810482,
          1.1379466742585453,
          1.239339770528779
         ],
         "y": [
          0.47395748265397164,
          0.4579250773724254,
          0.2882695329501529,
          0.25185811920126133,
          -0.011186273976432662,
          -0.10070758110784972,
          -0.10249123119487205,
          -0.10092283570510059,
          -0.5420229935318723,
          -0.7032190100009805,
          -0.26278809263354935,
          -0.6342517001324826,
          -0.6721411246461982,
          -0.7470165600688093,
          -0.7809042353811582,
          -0.8720505458717475,
          -0.9180881655362784,
          -0.945666364345816,
          -0.8771458163646146,
          -1.0443485815252533,
          -1.1384079311651254,
          -1.2028674063457876,
          -1.1727787578410678,
          -1.2751783736057012,
          -1.3612784534027116,
          -1.4806920150502254,
          -1.5237408620740023,
          -1.490414016487827,
          -1.452189328808376,
          0.9195956725514793,
          0.9015867594763342,
          0.6579193268526885,
          0.339688197458821,
          -0.19416360344125425,
          -0.23732852818195016,
          -0.2400629695597855,
          -0.44631749262008635,
          -0.4294055075391178,
          -0.4381623250419044,
          -0.3807654878839945,
          -0.3970407352718122,
          -0.27236481156944564,
          -0.2813916263060607,
          -0.41645761145008237,
          -0.41684346462589256,
          -0.501629565745695,
          -0.554718949286493,
          -0.6445219867579033,
          -0.5844060630196024,
          -0.5662624862817095,
          -3.1415742155731126,
          -3.18444435155507,
          -3.2288554156597336,
          -3.2579271623190236,
          -3.263203127392105,
          -3.2592167410169686,
          -3.2775610252535614,
          -3.2478526978796483,
          -3.357638104318582,
          -3.318389028144615,
          -3.3331096700793332,
          -3.4096977431721625,
          -3.3949907823756265,
          -3.399686200141285,
          -3.4352924424150215,
          -3.4381270027213455,
          -3.443912607265614,
          -3.453009013310155,
          -2.3825450730125906,
          -2.4096254124471734,
          -2.434789263962591,
          -2.4414593699451177,
          -2.439777973985773,
          -2.452063138110899,
          -2.428956729472468,
          -2.4281155131608467,
          -2.4610109458566596,
          -2.447796298786496,
          -2.4243609896579383,
          -2.4148468185075656,
          -2.4379596518879483,
          -2.459653780582766,
          -2.4878691615234216,
          -2.522595303591455,
          -2.521568237570104,
          -2.54135888058171,
          0.8757194087735749,
          0.734505311539587,
          0.1686635959716364,
          0.18506595557915173,
          0.27512797364062563,
          0.30388982186597696,
          0.3317003136151576,
          0.38872923295122824,
          -0.4375791230452193,
          -0.3494190566727742,
          -0.32033245356117585,
          -0.5065696309918011,
          -0.5600095904979109,
          -0.653265743454601,
          -0.6899078486387267,
          -0.5649274936473492,
          -0.4856762711867425,
          -0.5609513557462407,
          -2.7974842036548515,
          -2.837635146986432,
          -2.843673539456301,
          -2.7719169471741028,
          -2.814729692073155,
          -2.8526106901451533,
          -2.875234621938322,
          -2.8320429357197416,
          -2.8680139831430917,
          -2.8767669134631997,
          -2.9207735292125907,
          -2.938044670581644,
          -2.912130201203769,
          -2.9603514840055425,
          -3.0307895679194394,
          -3.059950164680779,
          -3.1093073349871974,
          -3.1012518665562885,
          -0.36473840297590154,
          -0.8483263294901957,
          -0.619469660541301,
          -0.5534316673141739,
          -0.4543154618678553,
          -0.8269530847864708,
          -0.8245408179129529,
          -0.7486998696201078,
          -0.9100803544868389,
          -0.8097215682708687,
          -0.7978094563859635,
          -0.8864762690430847,
          -0.9081339428627759,
          -0.9151468817182933,
          -1.6321597122934175,
          -1.6069205116161065,
          -1.5125414392413792,
          -1.5094903475595407,
          0.022063271595581597,
          -0.2200222744056384,
          -0.5062244165995906,
          -0.712940635629736,
          -0.8575435211374148,
          -0.9229633213493952,
          -1.2925450090204296,
          -1.1916989975394692,
          -1.1848495162416475,
          -1.280266481501083,
          -0.6570852872101914,
          -0.6739607845099905,
          -1.2787907825706413,
          -1.3231443421807227,
          -1.4624083259913345,
          -1.5167870669300179,
          -1.6281816762185917,
          -1.6767205435245172,
          -3.7291583840176887,
          -3.7805143267119967,
          -3.8038530622504507,
          -3.8363956301411686,
          -3.833234962175114,
          -3.8680432175103143,
          -3.8829662461446346,
          -3.8582427203325285,
          -3.956314734375633,
          -3.915341645332776,
          -3.916414788266343,
          -3.917729615525108,
          -3.9512433468912596,
          -3.992192024262353,
          -3.9744307550129934,
          -3.975133776970526,
          -3.973254993288838,
          -3.9737972547561333,
          0.40701863121197546,
          0.36207495003250134,
          0.20180099500242502,
          0.14018418727200252,
          0.19960053978051992,
          0.07032450421527553,
          0.042297480400627745,
          -0.044742440527281956,
          -0.36064428695817496,
          -0.42252820128416885,
          -0.33920900559899614,
          -0.49720141695362496,
          -0.5252526319374732,
          -0.6111378482083906,
          -0.8030924713622762,
          -0.8463109345518667,
          -0.8522493470930848,
          -0.9099970348504646,
          -0.08934117464196131,
          -0.24027188731539878,
          -0.5649848022581073,
          -0.7310179077212474,
          -0.6815509003568272,
          -0.7387222195469468,
          -0.7692066722369639,
          -0.7819057931033598,
          -0.7891789232598482,
          -0.80828392584668,
          -0.8575156508750102,
          -0.8966106608922105,
          -0.7507326730101004,
          0.5919397627857097,
          0.5714111375844054,
          0.5127320044845278,
          0.42755768623632906,
          0.4777991057550085,
          0.2575149247438634,
          0.12635056996909852,
          -0.007773912555744626,
          -0.8560490104157205,
          -0.9694949423594854,
          -1.066478071822622,
          -1.2024308212402999,
          -1.4101645238553173,
          -1.4852032805595288,
          -1.5639114757882275,
          -0.9691765723475797,
          -1.0203673103220545,
          -0.5369834690092113,
          -0.1987145401419121,
          -0.09445928060486547,
          -0.23156655458575004,
          -0.24588552912210238,
          -0.6512624970430477,
          -0.6833282533080249,
          -0.6654245735014612,
          -0.699407697260975,
          -0.7320245037845315,
          -0.722925108483347,
          -0.7627826581532658,
          -0.7775228838568119,
          -0.7908348049251455,
          -0.7415514836757063,
          -0.7317251030187997,
          -0.8176749138372841,
          -0.7771874525700964,
          -0.9118501369975418,
          -0.9502623556923563,
          -1.0394267606961816,
          -0.9955380879577297,
          -1.0042722971983882,
          -1.339750302046766,
          -1.3099079618946188,
          -1.3086021906808092,
          -1.4930794581177642,
          -1.476251240989402,
          -1.4955417620438742,
          -1.4931888180547006,
          -1.5914127984374058,
          -1.6276689715944497,
          -1.6177261967843926,
          -1.6607715363690507,
          -1.6422463345476053,
          -1.6517745777068027,
          -2.8402249152245713,
          -2.8685736165348428,
          -2.878034240469907,
          -2.8851987568854804,
          -2.8891450679012896,
          -2.920516111171983,
          -2.9368029866945813,
          -2.948766520963557,
          -3.04640934252456,
          -3.0477422061787465,
          -3.0471218382373606,
          -3.083190380272246,
          -3.089706035560657,
          -3.0729417760877595,
          -3.0932552301175247,
          -3.0899712289472676,
          -3.082357207341193,
          -3.074923038043223,
          -2.276235176705073,
          -2.321268531964556,
          -2.337810585264466,
          -2.3135329920475636,
          -2.294539607117617,
          -2.2245593863699136,
          -2.251341177136947,
          -2.2360363741672287,
          -2.482780574534157,
          -2.491442675299957,
          -2.4415190313858273,
          -2.865529059633859,
          -2.9106145140767956,
          -2.933190433448699,
          -3.0059726763032732,
          -3.0628822709218375,
          -3.0774833450108634,
          -3.0696734967662436,
          -0.6667982049410304,
          -0.6506724459621782,
          -0.647544112609367,
          -0.7222733699342975,
          -0.7372989711365392,
          -0.7501473023911778,
          -0.7759739138778707,
          -1.1058591876255985,
          -1.2119814316641908,
          -1.2604832384235318,
          -1.241489474654989,
          -1.290519482205273,
          -1.332610742754541,
          -1.3576412527363444,
          -1.3951399416619399,
          -1.3899785550433452,
          -1.435079277012864,
          -1.4797110225493912,
          -1.568151029580863,
          -1.6470363612733252,
          -1.6778190370441632,
          -1.6267947586305964,
          -1.6039271973481801,
          -1.6733516791598746,
          -1.7563384386650445,
          -1.7604115687275748,
          -1.9807297338821535,
          -2.0705612377378664,
          -2.1542083011108626,
          -2.1886800245477716,
          -2.230126655920107,
          -2.266213564824823,
          -2.365908918442975,
          -2.4242578484404045,
          -2.424354757572432,
          -2.4641040336676086,
          -0.8595845052061237,
          -0.9195310994949568,
          -0.930216608496205,
          -0.9651587048868244,
          -0.9437815270947258,
          -1.0147528645761692,
          -1.0838119963821247,
          -1.4157411769817283,
          -1.5055102944504681,
          -1.5221592069887642,
          -1.5424624510077767,
          -1.515841988494131,
          -1.5258440425564983,
          -1.6092782251929938,
          -1.6239574029416266,
          -1.3050941450845168,
          -1.3044442434461654,
          -1.2931044139978307,
          -2.11795645554248,
          -2.1289783433267124,
          -2.1509506913398275,
          -2.812293779677705,
          -2.814432002430664,
          -2.8358684686977003,
          -2.8015683635768758,
          -2.7541599937158954,
          -2.880969587502867,
          -2.8329727464502876,
          -2.8352353444947833,
          -2.8320107685419673,
          -2.8620109612014795,
          -2.8398978220777975,
          -2.858990874743221,
          -2.857500242747274,
          -2.832092355163556,
          -2.816980899092431,
          -3.386124974744017,
          -3.400838793836882,
          -3.4211559358829904,
          -3.4354771054538804,
          -3.423617414455436,
          -3.4493105289953627,
          -3.4522287561470537,
          -3.4521292618895223,
          -3.554773313364624,
          -3.5440158035202174,
          -3.524841963877258,
          -3.521449232007231,
          -3.5667119179658986,
          -3.5701258466645998,
          -3.556807827428247,
          -3.578528240528305,
          -3.542256962076241,
          -3.5463127107924155,
          -0.16497476671110697,
          -0.29159216635066965,
          0.0472145960828523,
          0.36607880009143134,
          -0.40961563917274185,
          -0.4476446965903036,
          -0.6066079789995041,
          -0.998513210042177,
          -1.1955928265535087,
          -1.1734043434279362,
          -1.1899359597761863,
          -1.276792219272633,
          -1.3196049046837517,
          -1.3976039767967423,
          -1.506737557113707,
          -1.5313051007485894,
          -1.57499465655315,
          -1.617493578184994,
          0.22507327454489084,
          -0.18327995304680664,
          -0.31490636144693784,
          -0.3473324930094684,
          -0.33455314150687276,
          -0.36636263032095373,
          -0.4272553673284727,
          -0.3967980288291684,
          -0.6518602456705762,
          -1.0191475257478109,
          -0.9607083816983267,
          -1.0196484312570353,
          -1.133633809242535,
          -1.1769154934891628,
          -1.2454521282439397,
          -1.3061274043399174,
          -1.3059726224615342,
          -1.312816979528397,
          0.1072764611479246,
          0.02059331954811617,
          -0.004717504054628782,
          -0.0007239891879516584,
          -0.0319634596004526,
          -0.08307812492285116,
          -0.15948700123790754,
          -0.14235504592614084,
          -0.3176277260103527,
          -0.3377932385092442,
          -0.377299356340446,
          -0.4897667798493767,
          -0.58254160415542,
          -0.6393886570555095,
          -0.7821847231527164,
          -0.8105042707300097,
          -0.8244684339813054,
          -0.9005296919636322,
          0.18280331704295663,
          0.004979590365899674,
          -0.2280621457791316,
          -0.37954075540999627,
          -0.3678387370116515,
          -0.47415324431428696,
          -0.36913935439564216,
          -0.2776586891391242,
          -2.0066565832513694,
          -2.054381447340788,
          -2.0978429333119264,
          -2.0925415665565117,
          -2.1209336163435797,
          -2.513703661077589,
          -2.4951332927796837,
          -2.5029409737200035,
          -2.7075752071223955,
          -2.6552597101073183,
          -2.643334023398433,
          -2.6710580926920424,
          -2.7467650347596666,
          -2.8020948110290442,
          -2.837287523331847,
          -2.8537703720831744,
          -2.8310926265108973,
          -2.8238367919984695,
          0.38069274852177376,
          0.4568503453180783,
          0.3808289561477507,
          0.25313298229368303,
          -0.17615539564071572,
          -0.020811085151027423,
          -0.225031996451367,
          0.024071134034804664,
          -0.027934725035732487,
          -0.5120406689779355,
          -0.5989446638095683,
          -0.42801118544173744,
          -0.48394529406660697,
          -0.4727769731136904,
          -0.4986816008384235,
          -0.5851338674104433,
          -3.1067176868155455,
          -3.143388529853556,
          -3.1824810761875924,
          -3.1940935738923257,
          -3.202123472638099,
          -3.2115529786689523,
          -3.2054137951554247,
          -3.1867797254950223,
          -3.308907287526815,
          -3.2900386891076536,
          -3.2743321709548314,
          -3.2829822493958294,
          -3.3429354179831225,
          -3.3355545226468992,
          -3.3513453886907807,
          -3.3453268557214866,
          -3.3268942137128263,
          -3.3405904977797354,
          -2.626419871779568,
          -2.655816321852841,
          -2.6687895328997557,
          -2.7316989386683437,
          -2.75204204275267,
          -2.7856704320371293,
          -2.7991853279603855,
          -2.7801709161471226,
          -2.8448915760259443,
          -2.835482241419088,
          -2.86865015135109,
          -2.859157746601795,
          -2.8932026216821383,
          -2.939150213574978,
          -2.9231032413205718,
          -2.935641721434383,
          -2.9336274393431965,
          -2.9185462393074566,
          0.21962857006286918,
          0.14878941807384352,
          0.11901800634287692,
          0.19801262322563018,
          0.3127442051391863,
          0.20476454912107458,
          0.23208920035695627,
          0.27421978754557486,
          -0.14419921467974647,
          -0.18147376194948103,
          -0.2448346940953734,
          -0.3698101791062968,
          -0.4355618620008069,
          -0.5306171853485662,
          -0.818988120595675,
          -0.8346209373537631,
          -0.6366106257880284,
          -0.5664695928653206,
          0.6257258793338119,
          0.30450591990770104,
          0.0708245576295815,
          0.1338940260586382,
          -0.06095388793839551,
          -0.0788071130001799,
          -0.14379702496118202,
          -0.06905563038633564,
          -0.10017761699687189,
          -0.33362411497289607,
          -0.3455294606582986,
          -0.3563687776456897,
          -0.7540742963429182,
          -0.5297034750523387,
          -0.47402296735305743,
          -0.5407405504161119,
          -2.242667160163367,
          -2.2621851390813936,
          -2.27724727586947,
          -2.290609323054169,
          -2.3009057153257073,
          -2.311937477252209,
          -2.3241599444999026,
          -2.3473349421854413,
          -2.4045043557889447,
          -2.415479160535257,
          -2.4325520217034287,
          -2.4293031002494736,
          -2.4485139490022676,
          -2.498024348945389,
          -2.4721758239479863,
          -2.4938428619056863,
          -2.481336402445847,
          -2.4758830325957693,
          0.5683293865065216,
          0.6075254909482284,
          0.37953932767294385,
          0.1181225059617596,
          -2.9277065023800946,
          -2.9539299577298457,
          -2.949578199168426,
          -3.059748900709482,
          -2.998800539460698,
          -3.0166198331412954,
          -3.028635922372978,
          -3.055093086910566,
          -3.0937949146969443,
          -3.098401548059889,
          -3.126193295931148,
          -3.1092897742890675,
          -2.4515153897352686,
          0.5349683953348053,
          0.44614083053923803,
          0.5124257308626723,
          0.5062560776200765,
          0.5375327400278761,
          0.5507816438424541,
          0.48145020128731353,
          0.42852817489317174,
          0.4459648871330239,
          0.3225308692795965,
          0.260440283895582,
          0.24377222148250133,
          0.21747919671706345,
          -1.9738303668368469,
          -2.068909973319121,
          -2.104212115488728,
          -2.105801146823097,
          -2.1488069863592902,
          -2.1896347957691273,
          -2.4984350955627046,
          -2.5940410517685986,
          -2.6291373893857917,
          -1.980972967388462,
          -2.0057611919092424,
          -1.5797050219893283,
          -1.6811440307860304,
          -2.1639610890464223,
          -2.1742913531740786,
          -2.205925540407528,
          -2.1962202951222385,
          -1.9942903321617207,
          -3.282232396529143,
          -3.2675079983628965,
          -3.278270477585047,
          -3.3367708266428604,
          -3.340693738967362,
          -3.331625264217191,
          -3.3684014002016083,
          -3.3654678354911685,
          1.7081212383316315,
          1.6615106957170571,
          1.7435861363419405,
          1.6494545869562403,
          1.541451351406121,
          1.546924883323218,
          1.2966658622749336,
          1.2223540170569207,
          1.1675004597512826,
          1.071719997458833,
          1.06924065568346,
          1.0198402301200198,
          0.9561221612305126,
          0.9044235058449036,
          0.8725604471907615,
          0.8276253111676436,
          0.44113229334744347,
          -0.6372436814346221,
          -0.33336014466124286,
          -0.4609328697524826,
          -0.5081518850958898,
          -0.5058807726963768,
          -0.8068354212424531,
          -0.9415248889903841,
          -0.9296847786158274,
          -0.9268122008928752,
          -0.9802304140424724,
          -0.9524414086677933,
          -0.9372536537008697,
          -2.5692453144024117,
          -2.6230605378554794,
          -2.6841530130164726,
          -2.739018385837614,
          -2.759699330393546,
          -2.759663801784736,
          -2.7718459235890855,
          -2.8224309034825783,
          -2.9879468447952986,
          -2.939328781355746,
          -2.891369218864361,
          -2.9199919084169585,
          -2.9363804040126755,
          -2.9630455139025424,
          -2.9900656712145746,
          -3.0107269099308054,
          -3.0324484862913432,
          -3.046276553481261,
          -3.686858155200987,
          -3.648815064377161,
          -3.7224768853697676,
          -3.7343212752178934,
          -3.7101570464446194,
          -3.717627642813435,
          -3.7211909003053734,
          -3.6525282665773826,
          -3.710007405332417,
          -3.7305084821704932,
          -3.7197519412805407,
          -3.8300422302978046,
          -3.8550764814623872,
          -3.8815816402246934,
          -3.9052546569016964,
          -3.919750257668701,
          -3.932197750326551,
          -3.9478095019427033,
          -2.2979643646244647,
          -2.316453238496574,
          -2.3091770610049167,
          -2.3743096845016742,
          -2.3860207939915687,
          -2.3980606131041164,
          -2.3954268423349587,
          -2.366784661165832,
          -2.408639803476407,
          -2.414167431504575,
          -2.398440013935848,
          -2.375243925914476,
          -2.423188348847397,
          -2.4572536430030203,
          -2.4361168665095363,
          -2.497911187436873,
          -2.475570053059416,
          -2.4938578617651563,
          -0.2720571433872308,
          -0.2850077082847697,
          -0.2507366958237375,
          -0.21196403436096706,
          -0.21794993296849458,
          -0.33200108364308395,
          -0.6798228878456226,
          -0.4737792948998797,
          -0.7262531107462221,
          -0.6805082733322735,
          -0.6961791656445641,
          -0.7423197596342963,
          -0.7216449638540021,
          -0.713671699602351,
          -0.8324011924008399,
          -0.9337348696278803,
          -0.9202573224595935,
          -0.9992529083119109,
          -2.3167926517986723,
          -2.3648409074181354,
          -2.3930090070309524,
          -2.430002422611857,
          -2.4469877737982153,
          -2.465610547072759,
          -2.4937866980013825,
          -2.504436996782838,
          -2.5886883850077878,
          -2.5852975284000457,
          -2.5647668790932623,
          -2.5696335477989063,
          -2.538211375120313,
          -2.504807363885535,
          -2.539075654487458,
          -2.5685646474904242,
          -2.5584552110164296,
          -2.548700249748579,
          -1.4744812474445368,
          -1.5321308342112963,
          -1.5537181817775043,
          -1.4651906207815637,
          -1.4177236954841068,
          -1.4873768187864334,
          -1.5352730550882643,
          -1.4960695807885327,
          -1.8693192762008133,
          -2.193115700791311,
          -2.1779512487302943,
          -2.1655207505530547,
          -2.144680028093178,
          -2.2298433550841716,
          -2.3098262871869,
          -1.9573271025519436,
          -1.886373804572387,
          -1.8498359429400506,
          0.26536208703510605,
          0.24971783303585088,
          0.2242227075877613,
          0.2514760945276604,
          0.28292373919634284,
          -0.09228885905713174,
          -0.24695904590787995,
          -0.1391795777782575,
          -0.46394585590404025,
          -0.42552534028060657,
          -0.41630916324976525,
          -0.5520602597503016,
          -0.5803759711679567,
          -0.6524153566309268,
          -0.7587080355990254,
          -0.6271873241004702,
          -0.7059265422671522,
          -0.6136673989034772,
          -2.961392726265965,
          -3.0250148279762983,
          -3.0296764188951717,
          -2.950558976183674,
          -2.809921745468511,
          -2.8584566931393716,
          -2.7420858422122203,
          -2.897027199965368,
          -2.9732863337120756,
          -3.0300922446895306,
          -3.054111366295588,
          -3.1970903364301373,
          -3.2491544796419642,
          -3.2308792974762715,
          -3.1901879417555135,
          -1.1560122567490634,
          -1.188829550314097,
          -1.2155496682678864,
          -1.150079098728491,
          -1.0926224619519416,
          -1.7267176924939176,
          -1.7402436812189068,
          -1.777177032125012,
          -2.288424405888281,
          -2.002144538899807,
          -1.9341870592417765,
          -2.3115305681889096,
          -1.712252970606391,
          -2.387584021840948,
          -2.4595962545352705,
          -1.8050223925247704,
          -2.399324552693098,
          -2.4444354563772954,
          -1.771007422549852,
          -1.9149625416900364,
          -1.8916164801335988,
          -1.888096577800744,
          -1.9083767769849427,
          -1.95586103371109,
          -2.080488955433869,
          -2.0864817376746556,
          -2.023325838088824,
          -1.8189925217028287,
          -2.0059361236263302,
          -2.0285072950147174,
          -2.042602100021322,
          -2.0027797860458807,
          -1.9590961641948035,
          -1.9623823580778226,
          -1.9091662396046392,
          -1.8766970548051891,
          -2.0275069422671654,
          -2.079701112162426,
          -2.0290269040679534,
          -2.432575718988625,
          -2.4380041899160516,
          -2.4793115383149997,
          -2.4935886409864016,
          -1.8009433568199387,
          -1.7762671084629607,
          -1.8215001736058078,
          -3.457668547468915,
          -3.518274606089613,
          -3.5423338860769245,
          -3.6270591688477594,
          -3.6661468420132133,
          -3.6701688662472396,
          -3.6871404110981656,
          -3.729689893309324,
          -3.8128866796450747,
          -3.8180812830762094,
          -3.8320339750277106,
          -3.879019394256957,
          -3.911846539616975,
          -3.94577955269817,
          -3.9497489070990737,
          -3.931537895485516,
          -3.8978294253113686,
          -3.9213674839952892,
          -1.2941705358317506,
          -1.3243372362764478,
          -1.3407457934538303,
          -1.39001119849728,
          -1.4056340457351997,
          -1.405213278325126,
          -1.4446100119454828,
          -1.468650176037481,
          -1.4362423936543918,
          -1.4500478945683617,
          -0.9872979150899918,
          -0.9825295545531854,
          -0.9901564545306533,
          -0.8946753731526029,
          -0.9724671421390307,
          -1.1257485247315417,
          -1.138526307410974,
          -1.17460683260332,
          -1.1497818021963926,
          -1.134554312485534,
          -1.1016206608040355,
          -1.0905356864142253,
          -1.0598996318877694,
          -1.198585275079892,
          -1.197330602648482,
          -1.16820523105406,
          -1.226998830773525,
          -1.272393165813656,
          -1.2947610743564024,
          -1.3250460033880618,
          -1.3719284544486785,
          -0.6759865777656869,
          -0.6807816451220852,
          -0.9565839327148259,
          -1.0077421567910083,
          -1.0218806604542752,
          -1.0500345553208417,
          -1.049083149442323,
          -1.083324298029577,
          -1.0975720733784406,
          -1.081113142316455,
          -1.1432281388106067,
          -1.1799283511641865,
          -1.1800831308556488,
          -1.184480272467051,
          -1.1824419578473917,
          -1.1980680563402613,
          -1.2727699359298765,
          -1.2755730096311433,
          -1.2171388804478587,
          -1.2280338639186246,
          0.48670089527762694,
          0.4013481990889818,
          0.36374942264089116,
          0.3297211176742572,
          0.031100967877405607,
          0.15205570473802124,
          0.17785251962511903,
          0.11948599986759884,
          0.13068557548879856,
          0.14287195794517896,
          0.17826449180103404,
          0.08873364326894284,
          0.060255644123955364,
          -0.01921359111717682,
          0.7909481532844675,
          0.6587562214816667,
          0.5601327663090223,
          0.5920521299625977,
          0.4688136910806681,
          0.4739010747145735,
          -0.08058166965372066,
          0.15589008034130508,
          -0.21655652691270472,
          -0.09066070418390965,
          -0.04973330346628643,
          -0.36714617347098116,
          -0.444562281767763,
          -0.8421036461621845,
          -0.6870079414854903,
          -0.8542793005752922,
          -0.7100424616606034,
          -0.6549397650462693,
          -0.48217030427911417,
          -0.596287763403226,
          -0.6322578383557073,
          -0.704508281127491,
          -1.000366882833511,
          -1.0257211732174596,
          -1.0197127702372422,
          -0.8016361677887363,
          -0.8808044648410519,
          -0.9317307071449397,
          -1.0037134059941333,
          -1.035776619730753,
          -1.038956684486367,
          -0.10174466201805442,
          -0.1278406289065756,
          -0.22134386179727975,
          -0.237166749314947,
          -0.33125394820013687,
          -0.5453472411776559,
          -0.4621028849017413,
          -0.4704557928676152,
          -0.618127577754714,
          -0.7285638222981659,
          -0.7968904598280772,
          -0.8528425731084361,
          -0.924606495188674,
          -0.9201165549412248,
          -1.0068852705942941,
          -1.0377546427720739,
          -1.1095580386329071,
          -1.1074003102281895,
          0.401050491522492,
          0.2628931770443271,
          0.18048002518936354,
          0.2607794738886418,
          0.1832474339179364,
          0.08023178332800227,
          -3.117348821224121,
          -3.2004267082486204,
          -3.294844584133868,
          -3.362100104601355,
          -3.403615852495087,
          -3.487124078670413,
          -3.5325626451352545,
          -3.5597306919736322,
          -3.66892979338038,
          -3.7177637043194363,
          -3.7251918851734795,
          -3.7459091571500296,
          -3.7719655695977576,
          -3.8302681515308503,
          -3.8366817134404565,
          -3.8606689034654655,
          -3.859330050905344,
          -3.866240182002478,
          -3.1166583180881524,
          -3.1053623748957846,
          -3.1538080237467248,
          -3.150079275676555,
          -3.1833789499805527,
          -3.1979744365301173,
          -3.237770812711825,
          -3.23949767824461,
          -3.2686418337521834,
          -3.260160978095954,
          -3.2317620294000373,
          -3.304517759884948,
          -3.3313957605793685,
          -3.335654717977024,
          -3.353632621295783,
          -3.348859804400886,
          -3.3514745779913726,
          -3.363568580220404,
          0.4301074502027402,
          0.49669760931295115,
          0.554088948803086,
          0.5165627200775996,
          0.44587272339135453,
          0.41861585832063686,
          0.3303128553397986,
          0.16283995625242426,
          0.13234331699390534,
          0.06049315684414824,
          0.03498786823653013,
          -0.3907190727040076,
          -0.5635534425834666,
          -0.49707853946533176,
          -0.4939857422481755,
          -0.48726871392907534,
          -0.4401335408468812,
          -0.5021303730104019,
          -0.8394390070116736,
          -0.9982324399966332,
          -0.9325624241912094,
          -0.9641176168791699,
          -0.7928916878549437,
          -0.8029144154094446,
          -0.8772222286682794,
          -0.8760596135755808,
          -0.9006129096308467,
          -1.1363630722082096,
          -1.1300529645240103,
          -2.540760804929416,
          -2.6228646209106086,
          -2.6746502503165384,
          -2.705757458809246,
          -2.6728111628866125,
          -2.6901544768210064,
          -2.753183173956389,
          -2.6972059629594467,
          -2.8505690965835084,
          -2.870306915254371,
          -2.883276984447308,
          -2.917183346258535,
          -2.9624697748384285,
          -3.026044475926183,
          -3.083987378031018,
          -3.0974377697033972,
          -3.105269108613156,
          -3.0864628540912964,
          -1.5305598159102078,
          -1.6112001140909868,
          -1.5971805800304506,
          -1.5943218083028887,
          -1.5322027227098214,
          -1.5488469869984487,
          -1.9972398663710382,
          -1.8689592281069067,
          -2.164323291919381,
          -2.1126785231588743,
          -1.9774267103043197,
          -2.1445618631816403,
          -2.2934930608489235,
          -2.4929841954452323,
          -2.823022083965623,
          -2.937395977833147,
          -2.876850660985967,
          -2.8048460051088897,
          -1.0165035371258038,
          -0.9878271812032655,
          -1.0899021462657443,
          -1.0353978096317498,
          -1.0953640688515571,
          -1.1372361946825749,
          -1.1567429071099165,
          -1.1257231782891624,
          -1.2746659312178326,
          -1.2746785364198185,
          -1.2972614835749485,
          -1.3180731549271585,
          -1.3679619961791465,
          -1.4190018153247699,
          -1.4986484537082385,
          -1.5325748461022275,
          -1.5668491693087583,
          -1.5970490881927673,
          0.4213555499767772,
          0.36213803525862187,
          0.383795940234325,
          0.22110668019869975,
          0.20639253055158294,
          0.1706454529749204,
          0.13398100415713052,
          0.15652345129554904,
          -0.009971303617815647,
          -0.07029604935414338,
          -0.10166307989890086,
          -0.18959430823867057,
          -0.27554848890163613,
          -0.6100031340314349,
          -0.6929306629445423,
          -0.6702579487176664,
          -0.7206241028396406,
          -0.7441433461928751,
          -0.21683500593711594,
          -0.30719406868626786,
          -0.3046415983065774,
          -0.3333625486204361,
          -0.4197333021667673,
          -0.42090435807808163,
          -0.4972947451633791,
          -0.8713512519648811,
          -0.9935916054221984,
          -1.0326189210713812,
          -1.0532923901499858,
          -1.114964262705093,
          -1.230851141151421,
          -1.291908344467494,
          -1.3550740084866957,
          -1.3755878864184983,
          -1.3955477624969301,
          -1.4349910724837804,
          0.9415073377098669,
          0.892812717453982,
          0.8801237632674089,
          1.0525276895468798,
          0.7666560587576282,
          0.7962102472629977,
          0.7142978352817706,
          0.6685399607398153,
          0.6533761893982436,
          0.5863558187420638,
          0.5231652887576519,
          0.5102721052427326,
          0.7281229585321347,
          -1.5745698672504704,
          -1.6353956428325005,
          -1.6853596156175912,
          -1.6425648059513116,
          -1.6838852105177236,
          -1.7155840219347063,
          -1.7177167039299612,
          -1.6974270850606072,
          -2.1030089168902593,
          -2.1525133769943388,
          -2.115237183988381,
          -2.1214737653314537,
          -2.1808814010819115,
          -2.2319919096891456,
          -2.241248094500417,
          -1.5988784224460617,
          -1.5539348127900792,
          -1.5576256438450056,
          -2.0885871483669036,
          -2.168787760256623,
          -2.177208824428833,
          -2.259664726011392,
          -2.3243485161941817,
          -2.2924854575866482,
          -2.3004921659259,
          -2.323492058523478,
          -2.433881340051556,
          -2.383232833691616,
          -2.4137101427033993,
          -2.430468522351104,
          -2.4794686606339718,
          -2.5093197829438907,
          -2.5493191680165155,
          -2.5485880670970102,
          -2.6165689249246804,
          -2.608344241775224,
          -3.141364300072612,
          -3.1692064871644616,
          -3.113583541130084,
          -2.9548180510312116,
          -2.8898389281473205,
          -2.96089829398454,
          -2.940434193309576,
          -2.9016835980519553,
          -3.1734882841643084,
          -3.24430418625517,
          -3.3169156445346912,
          -3.387650981012768,
          -3.5919839445182093,
          -3.5959387899947264,
          -3.5666715600399743,
          -3.5354604395683515,
          0.30031242583001116,
          0.11661432949324242,
          -0.03610501306602183,
          -0.06657993120247604,
          -0.5018466956003598,
          -0.5869426424750264,
          -0.639546039431972,
          -0.6238803726801461,
          -0.6909488702654418,
          -0.6571450915321431,
          -0.7191114104408342,
          -0.7620355031950414,
          -0.8037281071348317,
          -0.8406036699424863,
          -0.8768209107531366,
          -0.9129785823684523,
          -0.9056412371152539,
          -0.8911842609808479,
          -2.0326356274440247,
          -2.033402161585385,
          -1.9938682388712956,
          -2.3562689841025133,
          -2.2874492817409164,
          -2.3155211024350186,
          -2.309683706650135,
          -2.126572742560346,
          -2.4268793489265916,
          -2.362389229584597,
          -2.3126619128954418,
          -2.380540483467554,
          -2.459078256625158,
          -2.603665614669192,
          -2.806642256322234,
          -2.7480315399949706,
          -2.7508407932232455,
          -2.6921854552584223,
          -0.6317301322406796,
          -0.767469759750915,
          -0.6750732506950884,
          -0.7080719722244123,
          -0.7550431130271216,
          -0.739010841496045,
          -0.7977835383247815,
          -0.587989508860683,
          -0.6443013266757446,
          -0.6801312191377598,
          -0.7181036968041715,
          -0.7082123829414676,
          -0.759284431936557,
          -2.9061963320733386,
          -2.9502938058314,
          -2.9616325619284702,
          -2.979950561888614,
          -3.0343080463899126,
          -3.0565944224404813,
          -3.0548720389607635,
          -2.9982639672289224,
          -3.109049519098287,
          -3.1207876939334698,
          -3.0892810455006097,
          -3.0980958320449696,
          -3.1624437920120494,
          -3.1923877850053173,
          -3.243732437375087,
          -3.2642510464570464,
          -3.274434283054665,
          -3.292905137459258,
          -2.052712455662051,
          -2.099457019771178,
          -2.1751285642083276,
          -2.226424417631902,
          -2.2905276000836987,
          -2.338458282064651,
          -2.3347624892488663,
          -2.3469448444806975,
          -2.390247608013795,
          -2.396371723216906,
          -2.4420078698744185,
          -2.427730455099412,
          -2.4367630951656563,
          -2.4929444184655916,
          -2.5307037128561825,
          -2.560484212747672,
          -2.560321542174515,
          -2.570573845438678,
          0.1517062791375808,
          0.08417832193368144,
          -0.03890624766733934,
          -0.5145738215043081,
          -0.5441459589498006,
          -0.5373575202887206,
          -0.565201561592206,
          -0.5097278978671566,
          -0.7602415276224944,
          -0.8776545290609963,
          -0.9394051596256482,
          -1.0288175851888663,
          -0.4474217825424611,
          -0.5200847299524372,
          -0.5929757859343755,
          -0.5946732644588814,
          -0.6672832389585376,
          -0.7177770682974653,
          -2.6759932489413814,
          -2.7231724142109495,
          -2.732744283633008,
          -2.771452172466005,
          -2.801717657589849,
          -2.8262935383706314,
          -2.8516098326771546,
          -2.8714357657998213,
          -2.971588302234376,
          -2.92480618733667,
          -2.9327891742779535,
          -2.9132358167416417,
          -2.9564569824746645,
          -2.983328269809584,
          -2.9938987678892817,
          -3.007569133873954,
          -2.992999857075793,
          -2.999170670911853,
          -0.5376748140670586,
          -0.951600047503435,
          -0.7922858830628069,
          -1.1648512052728757,
          -0.9236459937737148,
          -3.2065734947215496,
          -3.2523430244335514,
          -3.2967414865554563,
          -3.3261542160287574,
          -3.2856931182275813,
          -3.290778972576886,
          -3.2732447664124513,
          -3.2694567235571816,
          -3.328576208891835,
          -3.3136311803646774,
          -3.3126736078821284,
          -3.3412565540413306,
          -3.4024788169308575,
          -3.4181598974846272,
          -3.395790805440493,
          -3.4255668757968314,
          -3.4161668838561825,
          -3.4389981843951185,
          -2.7505929084116083,
          -2.7847591555622833,
          -2.8029166327111423,
          -2.8292504349481034,
          -2.8355290005274747,
          -2.867087352910302,
          -2.8823566742171964,
          -2.880026102863664,
          -2.931374825686102,
          -2.9289428219332714,
          -2.9671157705549387,
          -2.9760390251350977,
          -2.983102038559948,
          -3.0053059759682528,
          -3.000160311514658,
          -3.0202480618497467,
          -3.0004705059406493,
          -3.020722562466112,
          0.7172813481377849,
          0.6556394387098261,
          0.6477620397773826,
          0.5806493010408689,
          0.5426180173194494,
          0.6532613958218445,
          0.23951916072871024,
          0.6187268266427964,
          0.37149148670428583,
          0.009099137593331263,
          -0.013858978467299618,
          -0.2896733257981286,
          -0.14528830195012227,
          -0.5417874971622565,
          -0.6697071851587947,
          -0.6999045151642683,
          -0.7154634347166904,
          -0.7144809255934489,
          -0.5285642776395771,
          -0.550548955736811,
          -0.5969248415604692,
          -0.6182235329420301,
          -0.6542218012435066,
          -0.6405524862938032,
          -0.6697375915721261,
          -0.5941350679434169,
          -0.6664976201958824,
          -1.0758872062373082,
          -1.083665248913361,
          -1.3066883338825064,
          -1.3355108249571745,
          -1.3812081663655038,
          -1.0937890277372484,
          -1.156889909139634,
          -1.1547806834185834,
          -1.1313948125628492,
          -1.1492291297564923,
          -1.2013782741849903,
          -1.2190072028207168,
          -1.0453055474493609,
          -1.085283629938269,
          -1.1128313138998231,
          -1.1630091920664754,
          -1.1570446634643938,
          -1.128453755230839,
          0.3330335191039095,
          -0.3622794451337261,
          -0.3463269135588338,
          -0.31210640168435205,
          -0.48617224546108917,
          -0.4494451767129758,
          0.0897389521021791,
          -0.4427250378879884,
          -0.5000911071758347,
          -0.528557337291266,
          -2.128588259712316,
          -2.5105679719831997,
          -2.599479484499658,
          -2.580171922698604,
          -2.6535073211534215,
          -2.7061903599874197,
          -2.711654221229011,
          -2.839019468414074,
          -2.909815451221694,
          -2.9033424541918063,
          -2.8313803872956815,
          -2.5449786716879372,
          -2.587459192542376,
          -2.6389756936282365,
          -2.6900955888812836,
          -2.7180976573994067,
          -2.7449214685100776,
          -2.7696372844477706,
          -2.7637824038941865,
          -2.8463072263626565,
          -2.856285176678824,
          -2.84647161220062,
          -2.8627264284374814,
          -2.855085221342702,
          -2.884007890936246,
          -2.8770627036470473,
          -2.86721746844955,
          -2.839834578238732,
          -2.8267573085481277,
          -2.301724424675261,
          -2.188420535503731,
          -2.1549711905414384,
          -2.36265552275495,
          -2.42489930651804,
          -2.4508655957796592,
          -2.393396133700743,
          -2.40491556276633,
          -2.4929853745507105,
          -2.375762809549309,
          -2.449697149197167,
          -2.900273979629451,
          -2.8662136558855544,
          -2.811711323651415,
          -2.7827805956760217,
          1.0113692518004525,
          0.998842193146217,
          1.3284325542781021,
          1.2398617605704099,
          1.146888032160157,
          0.9872579311567669,
          0.6272832334003969,
          0.6273017508285954,
          0.5353944649872416
         ],
         "z": [
          0.034154294172462074,
          0.1328969739989454,
          -0.02785351363067793,
          -0.008955497882651365,
          -0.20359418209186844,
          -0.17906289729403013,
          -0.24334284919440755,
          -0.3154186454871059,
          -0.28593802834237225,
          -0.27085556519613857,
          0.011094652735151568,
          0.04557927976090348,
          -0.035914052449623424,
          0.0072712779450104965,
          -0.05685101641941174,
          -0.17840047192633687,
          -0.10087612707792121,
          -0.06832178072883899,
          4.229344425442631,
          3.30634791524404,
          3.3678720493115755,
          3.659435674782779,
          3.698622587183271,
          3.40383959382611,
          3.0928445607867348,
          2.5089940525492858,
          2.2436373573693227,
          2.4826874438203292,
          2.902405830231465,
          3.207569389559468,
          2.531600930509344,
          1.2683849002180236,
          -0.31637149855447155,
          0.3143077747819148,
          0.44079666463602374,
          0.4333655562136544,
          0.4000016213346721,
          0.4291765228259846,
          0.40946564536711416,
          0.48474486726567917,
          0.12035616188796852,
          0.3363890702390085,
          0.3662413722189594,
          0.2737469015384948,
          0.23293750745493672,
          0.13618205439698863,
          0.2675509960481658,
          0.16748026830836485,
          0.19027657998185996,
          0.3325885567621495,
          -0.8663602685244669,
          -0.8960471216583165,
          -0.9954520115533967,
          -1.0490974618280096,
          -0.9546748046232911,
          -0.844208612091216,
          -0.8170862376524018,
          -0.7226905195784282,
          -0.943519743645079,
          -0.85857930326712,
          -0.832395525254541,
          -1.0904588294925703,
          -1.1317965572578506,
          -1.137492548342432,
          -1.2613783330651378,
          -1.196995650163914,
          -1.144039278365785,
          -1.1021687106040179,
          -1.433358735506668,
          -1.4426733980232074,
          -1.477953350939661,
          -1.482194946033103,
          -1.5016616860590384,
          -1.5291898671819644,
          -1.5120383282170313,
          -1.5251302971102974,
          -1.6754535476725396,
          -1.6314614794107896,
          -1.5959234466631607,
          -1.623116164129636,
          -1.6482629355335177,
          -1.6646444707187276,
          -1.6332042558949396,
          -1.6267294047591034,
          -1.5987913541951275,
          -1.5906420083248134,
          4.271187313251448,
          3.4782101031804866,
          4.0574313646978695,
          4.303691104695644,
          5.203528777323037,
          5.61299502242011,
          5.284534829726436,
          5.380877895413314,
          3.6054475886320327,
          4.015693473895485,
          4.305080902593612,
          3.7466725248514785,
          3.338865947978071,
          2.8804945125470436,
          2.1317720395029607,
          2.6314409543190767,
          3.097252515604067,
          3.5693713414948016,
          1.7907499330982484,
          1.8540226325380265,
          1.904599828094778,
          1.859723333468785,
          2.1275515995568113,
          2.2308080187797583,
          2.439320885241351,
          2.492275592324815,
          2.298502905568324,
          2.246891681748913,
          2.408446096174334,
          2.341014910896394,
          2.4377906280108723,
          2.3701953410384173,
          1.9982317176840183,
          1.8154055061919068,
          1.847534937174216,
          1.9741300092498595,
          -0.3306403517853953,
          -1.0998354581362255,
          -0.3434423596121821,
          -0.3815384506164008,
          -0.2785625354204978,
          -0.8248787562831887,
          -0.9206824239080408,
          -0.863631091114614,
          -0.956505626552676,
          -1.0468266794185161,
          -0.9211416149229152,
          -1.002280832419924,
          -1.078474838983079,
          -1.0926241284861153,
          -1.7371491199170856,
          -1.6666372592146539,
          -1.5840083114607524,
          -1.6140968451622715,
          3.313133185414032,
          2.646018310504246,
          2.1635866629865252,
          1.870860601387136,
          1.5101505032433968,
          1.400360343573519,
          1.3245527831778292,
          1.3722437496078645,
          1.3548115437753618,
          1.2424806006775075,
          2.424345770012914,
          2.5305539457295,
          1.5483928961830349,
          1.484650035280036,
          1.5520396690318998,
          1.6591451111598712,
          1.4480139611524252,
          1.4039217385232643,
          -1.0256666811506343,
          -1.0809738148277852,
          -1.117879032641702,
          -1.107662324249729,
          -1.097845990053934,
          -1.119881988016902,
          -1.1289967210635343,
          -1.139764066244148,
          -1.3039709297323834,
          -1.2343107182124868,
          -1.2485339867987597,
          -1.2821385985674107,
          -1.3338980321852152,
          -1.3493355285028845,
          -1.2737995748605802,
          -1.2381049253048126,
          -1.240766796203346,
          -1.2650386697127667,
          0.14704475020387126,
          0.3251942669337158,
          0.5379687646657318,
          0.9567443286757127,
          1.373474870527789,
          1.8198156667944194,
          1.7764833176382644,
          1.6477493311658336,
          0.9108030511756645,
          1.18113305192729,
          1.6442154427259323,
          1.5677271967344129,
          1.497224254480501,
          1.2570772390517468,
          0.5670530416237549,
          0.5333847700890193,
          0.7871935903922146,
          0.7949461910451008,
          -0.18198088351020286,
          -0.26870260334609875,
          -0.054962928914375736,
          -0.2826244695478278,
          -0.0827143120119277,
          0.10646617544954066,
          0.005752326556731714,
          -0.08298723260905472,
          -0.21914985547267307,
          -0.05487071225661483,
          0.17519372580272258,
          0.32247824543057774,
          0.26374809369236757,
          0.3460453073103208,
          0.350460496984257,
          0.4579037080714607,
          0.4878323732803209,
          1.0088841062029295,
          0.9481720599751889,
          0.628255694559805,
          0.1859600251438886,
          -0.3656286013998943,
          -0.3157871439577218,
          -0.36236267010830947,
          -0.391143903279275,
          -0.3591828684390065,
          -0.5358966085153369,
          -0.3106131446069477,
          0.2936162240057508,
          0.3173420775984948,
          0.09925036596709737,
          0.18255684341764064,
          0.28067042724827596,
          0.11990573466074385,
          0.10240985904055298,
          0.03040402142289322,
          -0.021010016413909077,
          0.03236062001412421,
          -0.2736192564561726,
          -0.1889405842562034,
          -0.1349654671916463,
          -0.17506568078734097,
          -0.17486641303826014,
          -0.22101910122293975,
          -0.19990650904134713,
          -0.2769242677925098,
          -0.3864472911372184,
          -0.2650347870630684,
          1.2636708003542094,
          1.0001500530061493,
          0.7245436423520059,
          0.6996698587132334,
          0.6637855370874853,
          0.8211325789838895,
          0.7831389194083341,
          0.7567664734390475,
          0.4608953683844504,
          0.5506153854762681,
          0.6966620820084012,
          0.5592999594582124,
          0.41441074767208086,
          0.38917020665537555,
          0.587921275180595,
          0.5439478887885807,
          0.5928957038908883,
          0.5321229911856246,
          -1.0390597819499894,
          -1.1708903979737328,
          -1.1419427815226093,
          -1.0861736413884464,
          -1.0811528286342382,
          -1.1755483376123823,
          -1.231568051246648,
          -1.1826020047787775,
          -1.5503878188860865,
          -1.532665045171921,
          -1.4661470153489413,
          -1.56978371322212,
          -1.56923254755241,
          -1.5219132511618185,
          -1.6084648296765718,
          -1.588454897524077,
          -1.563463349599216,
          -1.51347280124136,
          0.039600985695007744,
          0.031367593244160295,
          0.20726885629180625,
          0.5989719110972013,
          0.6171792120982099,
          1.3582423882138714,
          1.3325721798752246,
          0.9716067244440033,
          0.3656070447256054,
          0.600399844429399,
          0.5902024964722159,
          -0.42606738945944034,
          -0.595168177928813,
          -0.5908260767601804,
          -0.7886592565922985,
          -0.8735029912380999,
          -0.7709731431005432,
          -0.7443095034380333,
          0.40426265232872466,
          0.3952707834894075,
          0.5605430790922624,
          0.6237187145283262,
          0.6862859806130549,
          0.7497954009385602,
          0.6555497646353321,
          0.9254750948632234,
          0.5193867967346156,
          0.6432111955800458,
          0.9700206865645137,
          0.8071495347581161,
          0.7114008682872008,
          0.6149426748528998,
          0.40940866712226287,
          0.41704595076391954,
          0.4154438814259273,
          0.5154271099982014,
          -0.4826118767015581,
          -0.5598314099303097,
          -0.5542086374063843,
          -0.48940687286250834,
          -0.48756392169947943,
          -0.4918848097614832,
          -0.5020304103707272,
          -0.4908716942655954,
          -0.5972658989472615,
          -0.6600775531186464,
          -0.7200072859831504,
          -0.7291299299945585,
          -0.691032430593623,
          -0.6802924453518691,
          -0.7522639223890916,
          -0.7128620671915847,
          -0.6780483713872124,
          -0.6620230967954305,
          0.0643855951847062,
          -0.016274051765761056,
          -0.027070901336087375,
          -0.08046260010300847,
          -0.057099297470740315,
          0.003745225266538085,
          -0.022279497062065293,
          -0.7254953674382048,
          -0.8598177434149782,
          -0.8956177256256409,
          -0.8579828872424943,
          -0.8694970368589827,
          -0.926095132606664,
          -0.9856282386201738,
          -0.9028610310302192,
          -0.14779369949565535,
          -0.07668161325978752,
          -0.09459355027184713,
          -0.4367347251310455,
          -0.46613784894806265,
          -0.5033387153698368,
          -1.1788492355674614,
          -1.1751626595684939,
          -1.1932859159556883,
          -1.2471630076576938,
          -1.3064589907862165,
          -1.3987778033038278,
          -1.3893540642328654,
          -1.4182194727155535,
          -1.438242082990646,
          -1.5098758670641863,
          -1.4860359099250522,
          -1.4290520425719266,
          -1.3252888122968813,
          -1.281797420307148,
          -1.2724186713259995,
          -1.09525552613452,
          -1.135248857219105,
          -1.1832174015658743,
          -1.225291645828775,
          -1.1780475672945123,
          -1.1268026129668265,
          -1.1946557555308874,
          -1.1636934602918865,
          -1.406130953011579,
          -1.3389659249302417,
          -1.3064072942436646,
          -1.3438671846309898,
          -1.398933686967852,
          -1.4389384797042593,
          -1.4766239629917448,
          -1.4642828287777476,
          -1.4372247261335807,
          -1.4427329623702587,
          0.3226519068653654,
          0.2656056739918434,
          0.9213230272893006,
          1.4750742858385817,
          0.27255467639503483,
          0.44253146158870577,
          0.5245651477350324,
          0.35676363631283226,
          0.1313927577836951,
          0.26153293718498016,
          0.2535281638036113,
          0.23032181365808063,
          0.327182181804132,
          0.32020137518010705,
          0.28169928464576943,
          0.3851714578616565,
          0.3975759259163478,
          0.4217740067120703,
          1.8552468275247405,
          1.181321170225152,
          1.0437720415404934,
          1.3830365534302516,
          1.7751902689835453,
          1.8960039853194395,
          1.7292858886307645,
          1.9933518052381105,
          1.0629275951679142,
          1.1966453123428658,
          1.5651819498199318,
          1.3607271677423096,
          1.2492125759997619,
          1.2014373446762578,
          0.6334851671531884,
          0.5148728338569156,
          0.6101024925379537,
          0.7633784743101959,
          -0.38821813028761504,
          -0.4126136509046322,
          -0.39163362286314934,
          -0.37648922806424207,
          -0.39329690632997694,
          -0.4059759445785347,
          -0.4225374765018213,
          -0.4389969353486813,
          -0.5134319342929662,
          -0.44100689504527946,
          -0.3687421185948252,
          -0.42325692847120494,
          -0.45100329390940375,
          -0.3677360808249191,
          -0.37090086813191164,
          -0.2734141395138008,
          -0.27952809807860257,
          -0.2781241551251678,
          5.912496808853399,
          5.496324542075922,
          4.586566503550832,
          3.8603923502312614,
          2.7560945549360762,
          2.2267505124560274,
          3.0370550652106445,
          3.4729785981836696,
          0.6621150256235637,
          0.41670871822822625,
          0.2756260901496017,
          0.16886819633817743,
          0.12588458180237394,
          -0.6566343546329513,
          -0.625631740578049,
          -0.7029636386650674,
          -1.012296562802003,
          -0.7040059655842787,
          -0.5926800534710416,
          -0.674224618094809,
          -0.7362587585632627,
          -0.8507248770882565,
          -0.9047017272814375,
          -0.904634820733872,
          -0.8029276124231168,
          -0.8286720857629514,
          0.8657850120253485,
          -0.17468126795961594,
          -0.0324064332072963,
          0.08181963759640531,
          0.605309951883922,
          0.5619823549581695,
          0.5383109267624406,
          0.8475919886469162,
          0.8434223469761507,
          0.7679528694372931,
          0.7662544291420424,
          0.12486374898451516,
          0.2784349502356366,
          0.3045569075613786,
          0.32914607195185536,
          0.370179482385331,
          -1.1111281257624948,
          -1.163072738067294,
          -1.2281976963757988,
          -1.2863836491511818,
          -1.3235906111000408,
          -1.2753801680466006,
          -1.2424296098484555,
          -1.3005212027214943,
          -1.503342214527282,
          -1.4441117999798594,
          -1.4280112084816918,
          -1.5021729424200296,
          -1.5624541859717929,
          -1.5946223182645247,
          -1.61699537526463,
          -1.5629744363945157,
          -1.5195549479548713,
          -1.5199857948729043,
          -1.816876080455317,
          -1.851195181841468,
          -1.9235676200964855,
          -1.9534860243941736,
          -1.9801756164297482,
          -1.9878035386402033,
          -2.0313125628541933,
          -2.0604989318654408,
          -2.1765861372376714,
          -2.145055910504903,
          -2.1498553919498136,
          -2.145980326910135,
          -2.196172509856222,
          -2.214542686114041,
          -2.1666507128332846,
          -2.175855719226706,
          -2.1710040978785012,
          -2.177933841709259,
          3.075209901567337,
          2.6324684173142563,
          2.312508250888512,
          3.0061407019246102,
          4.168255517808368,
          4.01859564505448,
          4.1736144705599925,
          4.833586833477901,
          2.8668890957310342,
          3.7151904826417868,
          4.203045031703084,
          4.0871609709854075,
          3.420002036856987,
          2.9004405849590893,
          1.605061513773496,
          1.555706080968959,
          2.1096563792091043,
          2.644377339264361,
          0.11039889869164454,
          -0.079752042453823,
          0.014093323575450834,
          -0.030532755418556632,
          -0.1350103781203757,
          -0.45277787591413343,
          -0.5639251131820593,
          -0.1748345231101424,
          0.008372080141087816,
          -0.18892908433292283,
          -0.20948180547535197,
          -0.12123812517050392,
          0.11185831982436827,
          0.17039202021709293,
          0.3166685327607678,
          0.29486000740165225,
          -1.8137314128539443,
          -1.8533870652946374,
          -1.958164664421515,
          -1.973038342604066,
          -2.0019489547802807,
          -2.000769867668632,
          -2.0278563858351806,
          -2.0867884515777577,
          -2.245461522753887,
          -2.2066792837244904,
          -2.2214985150790305,
          -2.2399546234405348,
          -2.2982595344907555,
          -2.331313879754266,
          -2.2858981547472226,
          -2.312197775886384,
          -2.313801461944854,
          -2.3583247602368567,
          -0.06452492156472327,
          0.16055780187817614,
          0.14213224097144675,
          -0.09569637184061214,
          -1.4068484832235257,
          -1.4460175500570405,
          -1.4971849433599815,
          -1.6701201731673838,
          -1.5418148493575738,
          -1.5940548126995895,
          -1.630530444313972,
          -1.659446267030867,
          -1.648032584813453,
          -1.6007305358154136,
          -1.5657951184625303,
          -1.5321621116752873,
          -0.9049272726793354,
          -0.47300739132084585,
          -0.5261111194686465,
          -0.29113027600810265,
          -0.3082793593941774,
          -0.18862629941203835,
          -0.09481630931173922,
          -0.12253833874888621,
          -0.16224272946167195,
          -0.02766035130394079,
          -0.021718436562349026,
          0.022013565371063665,
          0.07487084569184758,
          0.006124838709126555,
          -0.07305410375118003,
          -0.3053692847354925,
          -0.4478640659437886,
          -0.40430231677889306,
          -0.4959722895895971,
          -0.43984389392968376,
          -1.1254296605204783,
          -1.1858837425271522,
          -1.2540948088772612,
          -0.5659385778911482,
          -0.5697802723762085,
          0.21121550844785592,
          0.1309030052343124,
          -0.6194285012331605,
          -0.5313377026521329,
          -0.5526093504853195,
          -0.5218170092179961,
          -0.2697256742065717,
          -1.612419383264154,
          -1.6195585555734164,
          -1.616873703069679,
          -1.6508866209294721,
          -1.5851681849985075,
          -1.5746171085591276,
          -1.6218737569581625,
          -1.6330630433150457,
          1.1615910312519775,
          1.3673428636831297,
          1.6166374212760495,
          1.5405566812013862,
          1.4047309187543704,
          1.5985724313692982,
          1.153264942886269,
          1.1061389224386597,
          1.260231073168398,
          1.0713961933669442,
          0.9721277610534316,
          0.8992815218977251,
          0.9128167945656465,
          0.830642641956007,
          0.8939984767390688,
          1.044857480966356,
          5.995413322136849,
          3.5062946141805575,
          4.333702385856746,
          2.908494802872761,
          3.219582144317855,
          3.8936512132988765,
          3.825147472886896,
          3.538797381924997,
          3.543187773862931,
          2.955994825773898,
          2.9079743232357136,
          3.394850609153017,
          3.909500845004451,
          -0.8728555705344273,
          -0.9034786326766674,
          -0.9796577749457496,
          -1.0128861114487555,
          -1.0129080581601762,
          -0.9777299929143913,
          -1.022195177708727,
          -1.198586248318941,
          -1.3862928601880415,
          -1.2528276827808433,
          -1.1736088074327538,
          -1.1474410979379162,
          -1.1590993435807337,
          -1.1168181343148078,
          -0.810880142511359,
          -0.8200647460765496,
          -0.7624569786838424,
          -0.7454683139623968,
          -1.2481036061880468,
          -1.2058414320219817,
          -1.2729981949371474,
          -1.2820104750874843,
          -1.2442617364677395,
          -1.2051790235842357,
          -1.248788204366963,
          -1.1905029929499498,
          -1.1950925320987722,
          -1.230057982335115,
          -1.2210982757668603,
          -1.1883251228901095,
          -1.2242157725081508,
          -1.2586290044292363,
          -1.2461878450862962,
          -1.2700426505366502,
          -1.2786208495463334,
          -1.2806096332534829,
          -1.7371137134580812,
          -1.766839130334686,
          -1.8426239385712475,
          -1.886027773204571,
          -1.9214788200389465,
          -1.9399037972774749,
          -1.9765848352576607,
          -2.0127796815233636,
          -2.131763321713637,
          -2.1103525290937934,
          -2.0845287496688485,
          -2.075487271516802,
          -2.1391696458711467,
          -2.1655040289315988,
          -2.1102086026832754,
          -2.112179635324531,
          -2.0932445640635895,
          -2.123247274177762,
          0.28790548451410314,
          0.2227151653863201,
          0.35587494783604934,
          0.49739727931517214,
          0.40163097472405723,
          0.37454173337022556,
          0.2639005352153335,
          0.26813410163492574,
          0.061701123587394616,
          0.06307971180668859,
          -0.08643689847724208,
          -0.15220480743189327,
          -0.0014586235054912633,
          -0.003902465768827661,
          0.028352722869914145,
          0.13638347035537424,
          0.17969487131410664,
          0.22447392395731028,
          -1.4629191869545863,
          -1.4722567563392186,
          -1.4926471777300845,
          -1.5178848493289858,
          -1.5173921407972688,
          -1.4821914501150717,
          -1.478002589080397,
          -1.5515343179029828,
          -1.7281606249320391,
          -1.7453157745691463,
          -1.8253068765761433,
          -1.846094468600437,
          -1.736998828197948,
          -1.6584494252236617,
          -1.615764412404029,
          -1.7000137853792037,
          -1.6731581102882034,
          -1.6848904519510153,
          1.1643677069035563,
          1.2874536580726617,
          1.2610850374610687,
          1.2914235786784483,
          1.2805159289403516,
          1.2772793006788872,
          1.2062570433220225,
          1.7816077545561877,
          1.4027398710263004,
          1.529976365360337,
          1.4229856036603359,
          1.4326348501357844,
          1.2397250350385103,
          1.2807686739260722,
          1.2510560462775044,
          1.186237997300658,
          1.202726611538641,
          1.2047127369034654,
          4.767736352312541,
          4.949582752483253,
          4.618595484778917,
          4.8951227831237425,
          4.93672518765938,
          4.778492997934742,
          4.0034721500757335,
          4.337464032625407,
          3.373974297598392,
          3.6902094939318033,
          3.824662890430481,
          3.3054353103706333,
          2.925003811263695,
          2.8754832826218952,
          2.274975577766978,
          3.1035427250154513,
          3.1265926223980345,
          3.68727736729733,
          3.4513931355354264,
          3.047338122610713,
          3.3326636140374672,
          3.9061658669511377,
          4.574478964314266,
          4.454597381955618,
          4.6866855512616095,
          4.883555087169763,
          4.688355122703891,
          4.462872542185507,
          4.226683351353856,
          3.2269200474014204,
          2.925297303244046,
          3.1042246653529775,
          3.6206998077103645,
          0.11569375424208764,
          0.057011819144732974,
          0.0330986209126174,
          0.06660812442905005,
          0.12887819040446008,
          -0.546080268449531,
          -0.4728337806194537,
          -0.4451642346886159,
          -1.4510119411299398,
          -0.7422765162830307,
          -0.6429551356156245,
          -1.411211798276061,
          -0.87057601633822,
          -1.4880024496598772,
          -1.4419770470107827,
          -0.8220528765773168,
          -1.4210998922702538,
          -1.4105294555007657,
          0.33836772302851126,
          0.09553651684630658,
          0.06437395224698725,
          0.031078011376141818,
          0.010034932289403714,
          -0.04757066056410276,
          -0.08099676483121741,
          0.0194404126331431,
          0.09794575339450494,
          0.26530010817614563,
          -0.4555482916971185,
          -0.49880711648835435,
          -0.5989271496232085,
          -0.5937861350743909,
          -0.5467578191640832,
          -0.5643402277040422,
          -0.49212511603045106,
          -0.5042345885935178,
          -0.7935187925782358,
          -0.7121434765098741,
          -0.5961347591268099,
          -1.3162754399004215,
          -1.3841174146160122,
          -1.4050863673156608,
          -1.413182917189061,
          -0.7725406738579078,
          -0.6996218659302901,
          -0.7280346555867204,
          -0.6016450315165125,
          -0.6046445777956397,
          -0.6422617329492261,
          -0.6470872041040706,
          -0.6214804016110862,
          -0.5229746732547939,
          -0.5215877000461472,
          -0.5278013183385799,
          -0.6271631600274983,
          -0.543967219410874,
          -0.49762740102145797,
          -0.5445898147568959,
          -0.5751043197425438,
          -0.5844296805542932,
          -0.5526174136470532,
          -0.5584695100530387,
          -0.5663437335221668,
          -0.5922157183469794,
          1.912747739857785,
          1.8704144091998534,
          1.8804200456058042,
          1.7769320400494066,
          1.722527670360068,
          1.7373913477456902,
          1.6391352309231717,
          1.5559828587419289,
          1.694085129908347,
          1.750853017364071,
          0.6311412179800138,
          0.5157232397497595,
          0.4862588562538429,
          0.5946154086863118,
          0.5491971648608297,
          -0.46398927655307837,
          -0.46572320975699,
          -0.5423190231027126,
          -0.6046947434170657,
          -0.6626812525648956,
          -0.5213107972963751,
          -0.48610829004036893,
          -0.5949965774501843,
          -0.7886680007897372,
          -0.7780508037487118,
          -0.7121788349345294,
          -0.7855690306534058,
          -0.8389352039757277,
          -0.8541159581589554,
          -0.8790950620005594,
          -0.8704404830015618,
          -0.20870356037721763,
          -0.24672595557073407,
          0.576122277736402,
          0.5350765349701964,
          0.6411766771451679,
          0.7648423500658338,
          0.8604894789827686,
          0.9075380656945441,
          0.8441785012087322,
          0.9317614802194134,
          0.7666247674709253,
          0.762418981644457,
          0.9172121075068208,
          0.9050926642350055,
          0.7590342412364984,
          0.6644996084789297,
          0.47143629008321597,
          0.5031733047250111,
          0.6132780686958005,
          0.6338508281654328,
          0.3267072073392524,
          0.18062747345156815,
          0.020203467013104843,
          -0.11281009782510461,
          -0.37622816926910924,
          -0.41768017614389147,
          -0.4581349934347512,
          -0.5576588534534098,
          -0.4902832146535288,
          -0.42448104380642016,
          -0.17606392015188932,
          -0.2259072108158585,
          -0.2758762960147891,
          -0.3797528615180212,
          1.9696190144187575,
          1.830736456006246,
          1.8115059563852514,
          2.431253974712503,
          2.7201917172605756,
          3.373553453892618,
          4.148365940136496,
          4.0408395415097536,
          3.7011934938896722,
          4.1168290289071345,
          4.75038527838555,
          4.163300867852956,
          4.296400394440631,
          3.5764701484058006,
          2.566028261705778,
          2.8123137719530384,
          3.895963356631071,
          4.213854355166806,
          -0.3191665187832782,
          -0.28661683084343714,
          -0.22901168276706804,
          -0.3930246982816873,
          -0.5000162971866409,
          -0.3766221070850529,
          -0.40798030872556323,
          -0.21145819671494198,
          -0.23687972952862293,
          -0.06139636292954868,
          -0.11876109520400562,
          0.06499956019392471,
          0.06603505700821242,
          1.0297202527202813,
          1.0758743365614378,
          1.001262169262294,
          1.0068527665811884,
          1.0128443380300454,
          1.1901604721763828,
          1.126579826989595,
          1.3899731831048012,
          1.178518793722971,
          1.202709405868193,
          1.2429236079795491,
          1.2643475520494882,
          1.1771694617142445,
          1.1252838603272945,
          1.3090341197802735,
          1.2870748714823903,
          1.2953163089700523,
          1.2751518411976532,
          -0.7230003310580785,
          -0.5398209777869528,
          -0.5896791321485287,
          -0.5204880728160569,
          -0.37215564471369406,
          -0.4788218346086474,
          -1.1180496474051518,
          -1.1996899844198605,
          -1.2746284716198157,
          -1.3009386692045386,
          -1.2795615304228118,
          -1.2831224260849907,
          -1.2886883525142427,
          -1.248189982758688,
          -1.3657115766664158,
          -1.349956973155152,
          -1.317076179848013,
          -1.2913787197548123,
          -1.2862505943513094,
          -1.355322434444737,
          -1.3210483577670131,
          -1.3234068343609608,
          -1.292272041818123,
          -1.2964068179803636,
          -0.9305958525019714,
          -1.0306697507054088,
          -1.1300067283362831,
          -1.167658661827549,
          -1.1902035249906628,
          -1.183848777162648,
          -1.185744770738947,
          -1.1145994959579681,
          -1.2284847106823489,
          -1.2448108985912443,
          -1.2366305439740757,
          -1.3071723778356,
          -1.2901611658688377,
          -1.2979193457090066,
          -1.2958892236760355,
          -1.3202445468516777,
          -1.2603658629650305,
          -1.2677832221155172,
          -0.24591828946505478,
          -0.1742273860003047,
          0.0465909237711427,
          0.24749588927510838,
          0.2331209805898164,
          0.1896167863723947,
          0.16246048337415875,
          0.13811736950998968,
          0.18264063932909985,
          0.1847499773563551,
          0.1490157812790919,
          1.0737440456386733,
          0.5972177060585581,
          0.43891375826276763,
          0.3789076445911327,
          0.3905198844486641,
          0.4918341550498685,
          0.5637167243419525,
          0.33283697169834,
          0.01689800393971958,
          0.19761171642770967,
          0.33190932590689837,
          0.48027138067397335,
          0.3776918703292949,
          0.34031990218937963,
          0.3814960979410605,
          0.4669511414634428,
          0.3216781753376638,
          0.2809854515609785,
          -0.4418054575379374,
          -0.6730867381210679,
          -0.6842312151654527,
          -0.6002330036110753,
          -0.4074052458655771,
          -0.25973744884634387,
          -0.4529108402220928,
          -0.119773579419143,
          -0.6506210728001697,
          -0.6356789991675086,
          -0.43691282015267713,
          -0.4948834827968393,
          -0.6278482749873397,
          -0.7561306494879263,
          -1.0577127572945932,
          -1.2222492806930183,
          -1.085438928641225,
          -0.8274180208014675,
          5.186164627058034,
          5.021773666865138,
          5.091908612817065,
          5.209900157719156,
          6.01445389160271,
          6.017131524126658,
          5.001527944176227,
          5.1814192289719845,
          4.212019243069791,
          4.8596022538308254,
          5.973494216884333,
          5.652116770482634,
          5.438748474011618,
          4.817217196262325,
          3.2501459862009177,
          2.828040420479377,
          3.2355534082113917,
          3.9616936977558437,
          0.010842704487452242,
          -0.12863891047836476,
          -0.025203020139784413,
          -0.08430042909977858,
          0.07867692167889635,
          0.14940620444864616,
          0.23248129147551697,
          0.35738568378976543,
          0.2732146008804457,
          0.2588779280500871,
          0.3750766385402614,
          0.4219122056967419,
          0.408883387181276,
          0.3750173266816416,
          0.3355257153928354,
          0.30527739925692604,
          0.3043985125416527,
          0.28799715872135895,
          0.005541480094541117,
          0.3076934621878189,
          0.4320306946204072,
          0.12254816255235813,
          0.1256697441628312,
          0.1562207156947967,
          0.07900419157681642,
          0.03764433457513802,
          -0.1569938423437942,
          -0.0333838362223822,
          -0.00569422136776885,
          -0.20251147704709696,
          -0.14940233694311636,
          -0.08401267519388245,
          -0.07978532777759313,
          0.007457454550029783,
          0.00545684346107674,
          -0.02074519010726253,
          0.02006033538761898,
          0.04409508637445413,
          0.16132072808309145,
          0.5910521766433501,
          0.7453581237516808,
          1.2924660377274653,
          1.3559797796508177,
          1.2836283584911308,
          0.9646986766411986,
          1.1504722362707305,
          1.2822868102147718,
          1.0454869700042073,
          0.7600747503263354,
          0.5538841427835995,
          0.439910312896824,
          0.5286696976954807,
          0.636045988473517,
          0.6192994040601751,
          0.01408831325355445,
          -0.023793101661362902,
          -0.003832810022621819,
          0.22528847324705903,
          0.12903324985912085,
          0.1641665401207563,
          -0.02596777883593515,
          -0.039833008299695716,
          0.06275946867022149,
          -0.06651004576664322,
          -0.04773176342153315,
          0.04512594842726607,
          0.30413541299373276,
          -0.27193210015945674,
          -0.4212437827461332,
          -0.45075193404707187,
          -0.38429443273731784,
          -0.5004185299395476,
          -0.49791120470265676,
          -0.5489461188701593,
          -0.6311344413799352,
          -1.3517944828003348,
          -1.37418864001248,
          -1.3254289917386315,
          -1.3618067006222843,
          -1.455648731547076,
          -1.5015508711098566,
          -1.4324592746503,
          -0.7554963653660552,
          -0.7236508264996989,
          -0.7691062247500268,
          -1.4785916985950485,
          -1.4902341076243404,
          -1.6026184777835546,
          -1.6341182676201609,
          -1.651336948996072,
          -1.6439235766201483,
          -1.657069168578119,
          -1.7075369503731141,
          -1.807540441660353,
          -1.7778111990706882,
          -1.7053873787340426,
          -1.6525012382760105,
          -1.7378243267084628,
          -1.7461228494812409,
          -1.6286205510417637,
          -1.625961775297546,
          -1.5556462808275062,
          -1.5739149714297076,
          4.726920630322808,
          4.275054797585871,
          4.46259927951478,
          4.8461790232143285,
          5.390249633686134,
          4.940701936647288,
          4.709648681661812,
          4.800430599623604,
          4.685434314858862,
          4.423953444845134,
          4.1004008433201635,
          3.823777068903649,
          2.864543093463263,
          2.5754273425850913,
          2.7800029186385133,
          3.0774188343334807,
          1.5973730446559027,
          1.251729030696844,
          0.9071413581696587,
          0.6639395216301236,
          0.3803753170060109,
          0.3457181993957892,
          0.183727164923521,
          0.2326506242886139,
          0.143671210670855,
          0.18473006500160238,
          0.31485226728125704,
          0.26357159604659997,
          0.21133797917367947,
          0.08430003242324419,
          0.06906213436828025,
          -0.06370606208526781,
          -0.03765227562345775,
          -0.029206839898251513,
          3.7510333594432868,
          3.7625919683628086,
          4.230299051812837,
          4.014763628979673,
          4.634572561773397,
          4.597247196082625,
          4.27944403158089,
          4.946634615175752,
          3.3920878055229853,
          3.952767025531887,
          4.541996197805672,
          4.366311337274797,
          4.03171368487242,
          3.615778684673458,
          2.4532036341681276,
          2.2469473594430576,
          2.4986091069803633,
          2.957354556277377,
          0.6761717600523013,
          0.33326427789653185,
          0.3275673081160052,
          0.1773046686619257,
          0.3014350411283959,
          0.4476820639193193,
          0.3894883802564574,
          0.607644443560125,
          0.3594544483471002,
          0.682009684151917,
          0.7403290154490101,
          0.754244631968116,
          0.6530468577436241,
          0.3827165645527734,
          0.3378934240165284,
          0.29669200785132815,
          0.3949045204665981,
          0.41966893736466293,
          0.44487460113105515,
          0.4615753829965578,
          0.5095316910430245,
          0.48553701387995457,
          0.5447061963784777,
          0.5562706012204812,
          0.5454543969884391,
          0.4808635377250609,
          0.44974317899586586,
          0.43067845308367103,
          0.36976884259655535,
          0.4188781257561336,
          0.43088878596261043,
          -1.1143263972516093,
          -1.1324223005977414,
          -1.2338158443627896,
          -1.2783877518256341,
          -1.2926394192252004,
          -1.2460973853185464,
          -1.2048173844472727,
          -1.1888396366560434,
          -1.4734500377787156,
          -1.468119026221929,
          -1.4808067123246336,
          -1.4647895143420624,
          -1.4609347301336224,
          -1.469943703534642,
          -1.4106645010680139,
          -1.4089667855571233,
          -1.3326067327650317,
          -1.3336835215506446,
          0.7988801479453975,
          0.9751704372143369,
          0.4707815442567162,
          0.4098814678077156,
          0.29682685741327364,
          0.4810722671838084,
          0.6642098679873817,
          1.3284337513877509,
          0.7048265327194175,
          0.5050490684218629,
          0.5406834624607839,
          0.46685220078719675,
          1.168025109503804,
          1.2121695383102193,
          1.1657753676535985,
          1.4282332649887728,
          1.2329818788000946,
          1.167569455517836,
          -1.3335252181821209,
          -1.3468134538970717,
          -1.4056536476327748,
          -1.44718667577471,
          -1.448584513992523,
          -1.4682908746450627,
          -1.5302052002038593,
          -1.5805337422632775,
          -1.7353993787861992,
          -1.7220416640404563,
          -1.7162449986196882,
          -1.7095205546710177,
          -1.7461789639784797,
          -1.7855562057550007,
          -1.7203035590078648,
          -1.7127498966019055,
          -1.662566617761518,
          -1.6972131100489551,
          1.9761882641747601,
          2.1105731307748914,
          2.3308811568755954,
          1.6106190945847867,
          2.813093156832111,
          -1.4985135679773218,
          -1.5216258096882385,
          -1.5586097562624328,
          -1.5759796261634296,
          -1.5939553474545582,
          -1.55535620255164,
          -1.5297948492868088,
          -1.5421815430962642,
          -1.7373395217395915,
          -1.6298177393807831,
          -1.594669509649692,
          -1.7072670252837019,
          -1.751665457269509,
          -1.759396505426027,
          -1.7394079987690816,
          -1.7221586647730125,
          -1.697196073811783,
          -1.693957465577224,
          -1.2128288308818567,
          -1.2420550827550056,
          -1.2702421259024261,
          -1.2632620948040458,
          -1.237216063478558,
          -1.1907113476580387,
          -1.1802499654878196,
          -1.1522513455805627,
          -1.2693312345808145,
          -1.2406287199699464,
          -1.2647743394092708,
          -1.2897894367727343,
          -1.2855734898572861,
          -1.2849946188056056,
          -1.3217058239179522,
          -1.3101592766134311,
          -1.3030086494435655,
          -1.2720118204457884,
          0.6956763029737326,
          0.689868105458509,
          0.7625979546313516,
          0.7987672874329907,
          0.8758594150183665,
          1.1206523622184736,
          1.7464036811611825,
          1.0864442277308268,
          0.9000642810683176,
          1.0185737773340924,
          1.0254653048863303,
          0.8047761175917189,
          1.0129179169113576,
          1.7488683448471025,
          1.6794014247233962,
          1.6899429523059888,
          1.7436868590501395,
          1.7846191775843327,
          0.7179226565999917,
          0.6896003566395594,
          0.640450523941772,
          0.7361865588053249,
          0.8413760274333268,
          0.9472806918619486,
          0.9661386271021789,
          1.3663699388467525,
          1.0514213606138247,
          1.066263681785155,
          0.9451140007519905,
          0.812630869150866,
          0.7245518060925311,
          0.5833595865278222,
          0.3602157930406268,
          0.30537372417263764,
          0.43439845517424863,
          0.5720552906528177,
          0.2449929204028074,
          0.2689111346813007,
          0.3061870560869657,
          0.47379161688826266,
          0.5572232239815359,
          0.5725015314931484,
          0.5816234398745607,
          0.7288440340738424,
          0.9472202312667684,
          3.6744462348454165,
          3.7900504534710975,
          3.7528105824508673,
          3.1968229649861835,
          1.6369642277647258,
          1.42811963141757,
          2.482865637349682,
          1.8160105656343866,
          1.503532271804036,
          1.2184631564936401,
          2.8322347331244484,
          2.1809123949362212,
          2.5029166029552217,
          3.0182391236773034,
          3.2304879798010684,
          2.9891896031644576,
          2.8218921499898326,
          2.228353798813725,
          2.04295199111931,
          2.1327145038675233,
          2.4011031137903767,
          -1.823476907844105,
          -1.888226509112584,
          -1.948319321721972,
          -2.0223367013773013,
          -2.0103329450667813,
          -2.0057014406223153,
          -2.058384312266912,
          -2.0156406984017066,
          -2.102206008228665,
          -2.069753507258889,
          -2.055561066684685,
          -2.108330136973824,
          -2.147634759094157,
          -2.2224768639270462,
          -2.260154397530458,
          -2.2328793239153506,
          -2.1767439509088087,
          -2.207469186600215,
          -0.6759891736107075,
          -0.37653732000827916,
          -0.14455584055246215,
          -0.24448781422460553,
          -0.38804098324340874,
          -0.33502124222086377,
          -0.3564067888551303,
          -0.33690553994819716,
          -0.35414520310768693,
          -0.4127167251868909,
          -0.4059055537165254,
          -1.1541115742231818,
          -1.1968179315388077,
          -1.2157132902660415,
          -1.1985003977490654,
          2.2512188313953168,
          2.42063424109147,
          1.5757354612720489,
          1.3784260093660083,
          1.2831586338221086,
          1.0953155931226906,
          1.7840194556352917,
          1.8975000966081474,
          2.0096525178781044
         ]
        },
        {
         "customdata": [
          [
           "Angola"
          ],
          [
           "Angola"
          ],
          [
           "Angola"
          ],
          [
           "Angola"
          ],
          [
           "Angola"
          ],
          [
           "Angola"
          ],
          [
           "Angola"
          ],
          [
           "Angola"
          ],
          [
           "Angola"
          ],
          [
           "Angola"
          ],
          [
           "Angola"
          ],
          [
           "Angola"
          ],
          [
           "Angola"
          ],
          [
           "Angola"
          ],
          [
           "Angola"
          ],
          [
           "Bangladesh"
          ],
          [
           "Bangladesh"
          ],
          [
           "Bangladesh"
          ],
          [
           "Bangladesh"
          ],
          [
           "Bangladesh"
          ],
          [
           "Bangladesh"
          ],
          [
           "Bangladesh"
          ],
          [
           "Bangladesh"
          ],
          [
           "Bangladesh"
          ],
          [
           "Bangladesh"
          ],
          [
           "Bangladesh"
          ],
          [
           "Bangladesh"
          ],
          [
           "Bangladesh"
          ],
          [
           "Bangladesh"
          ],
          [
           "Bangladesh"
          ],
          [
           "Bangladesh"
          ],
          [
           "Bangladesh"
          ],
          [
           "Bangladesh"
          ],
          [
           "Benin"
          ],
          [
           "Benin"
          ],
          [
           "Benin"
          ],
          [
           "Benin"
          ],
          [
           "Benin"
          ],
          [
           "Benin"
          ],
          [
           "Benin"
          ],
          [
           "Benin"
          ],
          [
           "Benin"
          ],
          [
           "Benin"
          ],
          [
           "Benin"
          ],
          [
           "Benin"
          ],
          [
           "Benin"
          ],
          [
           "Benin"
          ],
          [
           "Benin"
          ],
          [
           "Benin"
          ],
          [
           "Benin"
          ],
          [
           "Benin"
          ],
          [
           "Bhutan"
          ],
          [
           "Bhutan"
          ],
          [
           "Bhutan"
          ],
          [
           "Bhutan"
          ],
          [
           "Bhutan"
          ],
          [
           "Bhutan"
          ],
          [
           "Bhutan"
          ],
          [
           "Bhutan"
          ],
          [
           "Bhutan"
          ],
          [
           "Bhutan"
          ],
          [
           "Bhutan"
          ],
          [
           "Bhutan"
          ],
          [
           "Bhutan"
          ],
          [
           "Bhutan"
          ],
          [
           "Bhutan"
          ],
          [
           "Bhutan"
          ],
          [
           "Bhutan"
          ],
          [
           "Bhutan"
          ],
          [
           "Botswana"
          ],
          [
           "Burkina Faso"
          ],
          [
           "Burkina Faso"
          ],
          [
           "Burkina Faso"
          ],
          [
           "Burkina Faso"
          ],
          [
           "Burkina Faso"
          ],
          [
           "Burkina Faso"
          ],
          [
           "Burkina Faso"
          ],
          [
           "Burkina Faso"
          ],
          [
           "Burkina Faso"
          ],
          [
           "Burkina Faso"
          ],
          [
           "Burkina Faso"
          ],
          [
           "Burkina Faso"
          ],
          [
           "Burkina Faso"
          ],
          [
           "Burkina Faso"
          ],
          [
           "Burkina Faso"
          ],
          [
           "Burkina Faso"
          ],
          [
           "Burkina Faso"
          ],
          [
           "Burkina Faso"
          ],
          [
           "Burundi"
          ],
          [
           "Burundi"
          ],
          [
           "Burundi"
          ],
          [
           "Burundi"
          ],
          [
           "Burundi"
          ],
          [
           "Burundi"
          ],
          [
           "Burundi"
          ],
          [
           "Burundi"
          ],
          [
           "Burundi"
          ],
          [
           "Burundi"
          ],
          [
           "Burundi"
          ],
          [
           "Burundi"
          ],
          [
           "Burundi"
          ],
          [
           "Burundi"
          ],
          [
           "Burundi"
          ],
          [
           "Burundi"
          ],
          [
           "Burundi"
          ],
          [
           "Burundi"
          ],
          [
           "Cambodia"
          ],
          [
           "Cambodia"
          ],
          [
           "Cambodia"
          ],
          [
           "Cambodia"
          ],
          [
           "Cambodia"
          ],
          [
           "Cambodia"
          ],
          [
           "Cambodia"
          ],
          [
           "Cambodia"
          ],
          [
           "Cambodia"
          ],
          [
           "Cambodia"
          ],
          [
           "Cambodia"
          ],
          [
           "Cambodia"
          ],
          [
           "Cambodia"
          ],
          [
           "Cambodia"
          ],
          [
           "Cambodia"
          ],
          [
           "Cambodia"
          ],
          [
           "Cambodia"
          ],
          [
           "Cambodia"
          ],
          [
           "Cameroon"
          ],
          [
           "Cameroon"
          ],
          [
           "Cameroon"
          ],
          [
           "Cameroon"
          ],
          [
           "Cameroon"
          ],
          [
           "Cameroon"
          ],
          [
           "Cameroon"
          ],
          [
           "Cameroon"
          ],
          [
           "Cameroon"
          ],
          [
           "Cameroon"
          ],
          [
           "Cameroon"
          ],
          [
           "Cameroon"
          ],
          [
           "Cameroon"
          ],
          [
           "Cameroon"
          ],
          [
           "Cameroon"
          ],
          [
           "Cameroon"
          ],
          [
           "Cameroon"
          ],
          [
           "Cameroon"
          ],
          [
           "Central African Republic"
          ],
          [
           "Central African Republic"
          ],
          [
           "Central African Republic"
          ],
          [
           "Central African Republic"
          ],
          [
           "Central African Republic"
          ],
          [
           "Central African Republic"
          ],
          [
           "Central African Republic"
          ],
          [
           "Central African Republic"
          ],
          [
           "Central African Republic"
          ],
          [
           "Central African Republic"
          ],
          [
           "Central African Republic"
          ],
          [
           "Central African Republic"
          ],
          [
           "Central African Republic"
          ],
          [
           "Central African Republic"
          ],
          [
           "Central African Republic"
          ],
          [
           "Central African Republic"
          ],
          [
           "Central African Republic"
          ],
          [
           "Central African Republic"
          ],
          [
           "Chad"
          ],
          [
           "Chad"
          ],
          [
           "Chad"
          ],
          [
           "Chad"
          ],
          [
           "Chad"
          ],
          [
           "Chad"
          ],
          [
           "Chad"
          ],
          [
           "Chad"
          ],
          [
           "Chad"
          ],
          [
           "Chad"
          ],
          [
           "Chad"
          ],
          [
           "Chad"
          ],
          [
           "Chad"
          ],
          [
           "Chad"
          ],
          [
           "Chad"
          ],
          [
           "Chad"
          ],
          [
           "Chad"
          ],
          [
           "Chad"
          ],
          [
           "Comoros"
          ],
          [
           "Comoros"
          ],
          [
           "Comoros"
          ],
          [
           "Comoros"
          ],
          [
           "Comoros"
          ],
          [
           "Comoros"
          ],
          [
           "Comoros"
          ],
          [
           "Comoros"
          ],
          [
           "Comoros"
          ],
          [
           "Comoros"
          ],
          [
           "Comoros"
          ],
          [
           "Comoros"
          ],
          [
           "Comoros"
          ],
          [
           "Cote d'Ivoire"
          ],
          [
           "Cote d'Ivoire"
          ],
          [
           "Cote d'Ivoire"
          ],
          [
           "Cote d'Ivoire"
          ],
          [
           "Cote d'Ivoire"
          ],
          [
           "Cote d'Ivoire"
          ],
          [
           "Cote d'Ivoire"
          ],
          [
           "Cote d'Ivoire"
          ],
          [
           "Cote d'Ivoire"
          ],
          [
           "Cote d'Ivoire"
          ],
          [
           "Cote d'Ivoire"
          ],
          [
           "Cote d'Ivoire"
          ],
          [
           "Cote d'Ivoire"
          ],
          [
           "Cote d'Ivoire"
          ],
          [
           "Cote d'Ivoire"
          ],
          [
           "Cote d'Ivoire"
          ],
          [
           "Cote d'Ivoire"
          ],
          [
           "Cote d'Ivoire"
          ],
          [
           "Eswatini"
          ],
          [
           "Eswatini"
          ],
          [
           "Eswatini"
          ],
          [
           "Eswatini"
          ],
          [
           "Eswatini"
          ],
          [
           "Eswatini"
          ],
          [
           "Eswatini"
          ],
          [
           "Eswatini"
          ],
          [
           "Eswatini"
          ],
          [
           "Eswatini"
          ],
          [
           "Eswatini"
          ],
          [
           "Eswatini"
          ],
          [
           "Eswatini"
          ],
          [
           "Eswatini"
          ],
          [
           "Eswatini"
          ],
          [
           "Eswatini"
          ],
          [
           "Eswatini"
          ],
          [
           "Eswatini"
          ],
          [
           "Ethiopia"
          ],
          [
           "Ethiopia"
          ],
          [
           "Ethiopia"
          ],
          [
           "Ethiopia"
          ],
          [
           "Ethiopia"
          ],
          [
           "Ethiopia"
          ],
          [
           "Ethiopia"
          ],
          [
           "Ethiopia"
          ],
          [
           "Fiji"
          ],
          [
           "Fiji"
          ],
          [
           "Georgia"
          ],
          [
           "Ghana"
          ],
          [
           "Ghana"
          ],
          [
           "Ghana"
          ],
          [
           "Ghana"
          ],
          [
           "Ghana"
          ],
          [
           "Ghana"
          ],
          [
           "Ghana"
          ],
          [
           "Ghana"
          ],
          [
           "Ghana"
          ],
          [
           "Ghana"
          ],
          [
           "Ghana"
          ],
          [
           "Ghana"
          ],
          [
           "Ghana"
          ],
          [
           "Ghana"
          ],
          [
           "Guatemala"
          ],
          [
           "Guatemala"
          ],
          [
           "Guatemala"
          ],
          [
           "Guatemala"
          ],
          [
           "Guatemala"
          ],
          [
           "Guatemala"
          ],
          [
           "Guatemala"
          ],
          [
           "Guatemala"
          ],
          [
           "Guatemala"
          ],
          [
           "Guatemala"
          ],
          [
           "Guatemala"
          ],
          [
           "Guatemala"
          ],
          [
           "Guatemala"
          ],
          [
           "Guatemala"
          ],
          [
           "Guatemala"
          ],
          [
           "Guatemala"
          ],
          [
           "Guinea-Bissau"
          ],
          [
           "Guinea-Bissau"
          ],
          [
           "Guinea-Bissau"
          ],
          [
           "Guinea-Bissau"
          ],
          [
           "Guinea-Bissau"
          ],
          [
           "Guinea-Bissau"
          ],
          [
           "Guinea-Bissau"
          ],
          [
           "Guinea-Bissau"
          ],
          [
           "Guinea-Bissau"
          ],
          [
           "Guinea-Bissau"
          ],
          [
           "Guinea-Bissau"
          ],
          [
           "Guinea-Bissau"
          ],
          [
           "Guinea-Bissau"
          ],
          [
           "Guyana"
          ],
          [
           "Guyana"
          ],
          [
           "Guyana"
          ],
          [
           "Guyana"
          ],
          [
           "Guyana"
          ],
          [
           "Haiti"
          ],
          [
           "Haiti"
          ],
          [
           "Haiti"
          ],
          [
           "Haiti"
          ],
          [
           "Haiti"
          ],
          [
           "Haiti"
          ],
          [
           "Haiti"
          ],
          [
           "Haiti"
          ],
          [
           "Haiti"
          ],
          [
           "Haiti"
          ],
          [
           "Haiti"
          ],
          [
           "Haiti"
          ],
          [
           "Haiti"
          ],
          [
           "Haiti"
          ],
          [
           "Haiti"
          ],
          [
           "Haiti"
          ],
          [
           "Haiti"
          ],
          [
           "Haiti"
          ],
          [
           "Honduras"
          ],
          [
           "Honduras"
          ],
          [
           "Honduras"
          ],
          [
           "Honduras"
          ],
          [
           "Honduras"
          ],
          [
           "Honduras"
          ],
          [
           "Honduras"
          ],
          [
           "India"
          ],
          [
           "India"
          ],
          [
           "India"
          ],
          [
           "India"
          ],
          [
           "India"
          ],
          [
           "Indonesia"
          ],
          [
           "Indonesia"
          ],
          [
           "Kenya"
          ],
          [
           "Kenya"
          ],
          [
           "Kenya"
          ],
          [
           "Kenya"
          ],
          [
           "Kenya"
          ],
          [
           "Kenya"
          ],
          [
           "Kenya"
          ],
          [
           "Kenya"
          ],
          [
           "Kenya"
          ],
          [
           "Kenya"
          ],
          [
           "Kenya"
          ],
          [
           "Kenya"
          ],
          [
           "Kenya"
          ],
          [
           "Kenya"
          ],
          [
           "Kenya"
          ],
          [
           "Kenya"
          ],
          [
           "Kenya"
          ],
          [
           "Kenya"
          ],
          [
           "Lesotho"
          ],
          [
           "Lesotho"
          ],
          [
           "Lesotho"
          ],
          [
           "Lesotho"
          ],
          [
           "Lesotho"
          ],
          [
           "Lesotho"
          ],
          [
           "Lesotho"
          ],
          [
           "Lesotho"
          ],
          [
           "Lesotho"
          ],
          [
           "Lesotho"
          ],
          [
           "Lesotho"
          ],
          [
           "Lesotho"
          ],
          [
           "Liberia"
          ],
          [
           "Liberia"
          ],
          [
           "Liberia"
          ],
          [
           "Liberia"
          ],
          [
           "Liberia"
          ],
          [
           "Liberia"
          ],
          [
           "Liberia"
          ],
          [
           "Liberia"
          ],
          [
           "Liberia"
          ],
          [
           "Liberia"
          ],
          [
           "Liberia"
          ],
          [
           "Liberia"
          ],
          [
           "Madagascar"
          ],
          [
           "Madagascar"
          ],
          [
           "Madagascar"
          ],
          [
           "Madagascar"
          ],
          [
           "Madagascar"
          ],
          [
           "Madagascar"
          ],
          [
           "Madagascar"
          ],
          [
           "Madagascar"
          ],
          [
           "Madagascar"
          ],
          [
           "Madagascar"
          ],
          [
           "Madagascar"
          ],
          [
           "Madagascar"
          ],
          [
           "Madagascar"
          ],
          [
           "Madagascar"
          ],
          [
           "Madagascar"
          ],
          [
           "Madagascar"
          ],
          [
           "Madagascar"
          ],
          [
           "Madagascar"
          ],
          [
           "Mali"
          ],
          [
           "Mali"
          ],
          [
           "Mali"
          ],
          [
           "Mali"
          ],
          [
           "Mali"
          ],
          [
           "Mali"
          ],
          [
           "Mali"
          ],
          [
           "Mali"
          ],
          [
           "Mali"
          ],
          [
           "Mali"
          ],
          [
           "Mali"
          ],
          [
           "Mali"
          ],
          [
           "Mali"
          ],
          [
           "Mali"
          ],
          [
           "Mali"
          ],
          [
           "Mali"
          ],
          [
           "Mali"
          ],
          [
           "Mali"
          ],
          [
           "Mauritania"
          ],
          [
           "Mauritania"
          ],
          [
           "Mauritania"
          ],
          [
           "Mauritania"
          ],
          [
           "Mauritania"
          ],
          [
           "Mauritania"
          ],
          [
           "Mauritania"
          ],
          [
           "Mauritania"
          ],
          [
           "Mauritania"
          ],
          [
           "Mauritania"
          ],
          [
           "Mauritania"
          ],
          [
           "Mauritania"
          ],
          [
           "Mauritania"
          ],
          [
           "Mauritania"
          ],
          [
           "Mauritania"
          ],
          [
           "Mauritania"
          ],
          [
           "Mauritania"
          ],
          [
           "Mauritania"
          ],
          [
           "Moldova"
          ],
          [
           "Moldova"
          ],
          [
           "Moldova"
          ],
          [
           "Moldova"
          ],
          [
           "Mozambique"
          ],
          [
           "Mozambique"
          ],
          [
           "Mozambique"
          ],
          [
           "Mozambique"
          ],
          [
           "Mozambique"
          ],
          [
           "Mozambique"
          ],
          [
           "Mozambique"
          ],
          [
           "Mozambique"
          ],
          [
           "Mozambique"
          ],
          [
           "Mozambique"
          ],
          [
           "Mozambique"
          ],
          [
           "Mozambique"
          ],
          [
           "Mozambique"
          ],
          [
           "Mozambique"
          ],
          [
           "Myanmar"
          ],
          [
           "Myanmar"
          ],
          [
           "Myanmar"
          ],
          [
           "Myanmar"
          ],
          [
           "Myanmar"
          ],
          [
           "Myanmar"
          ],
          [
           "Myanmar"
          ],
          [
           "Myanmar"
          ],
          [
           "Myanmar"
          ],
          [
           "Namibia"
          ],
          [
           "Namibia"
          ],
          [
           "Namibia"
          ],
          [
           "Namibia"
          ],
          [
           "Namibia"
          ],
          [
           "Namibia"
          ],
          [
           "Namibia"
          ],
          [
           "Namibia"
          ],
          [
           "Namibia"
          ],
          [
           "Namibia"
          ],
          [
           "Nepal"
          ],
          [
           "Nepal"
          ],
          [
           "Nepal"
          ],
          [
           "Nepal"
          ],
          [
           "Nepal"
          ],
          [
           "Nepal"
          ],
          [
           "Nepal"
          ],
          [
           "Nepal"
          ],
          [
           "Nepal"
          ],
          [
           "Nepal"
          ],
          [
           "Nepal"
          ],
          [
           "Nepal"
          ],
          [
           "Nepal"
          ],
          [
           "Nepal"
          ],
          [
           "Nepal"
          ],
          [
           "Nepal"
          ],
          [
           "Nepal"
          ],
          [
           "Nepal"
          ],
          [
           "Nicaragua"
          ],
          [
           "Nicaragua"
          ],
          [
           "Nicaragua"
          ],
          [
           "Nicaragua"
          ],
          [
           "Nicaragua"
          ],
          [
           "Nicaragua"
          ],
          [
           "Nicaragua"
          ],
          [
           "Niger"
          ],
          [
           "Niger"
          ],
          [
           "Niger"
          ],
          [
           "Niger"
          ],
          [
           "Niger"
          ],
          [
           "Niger"
          ],
          [
           "Niger"
          ],
          [
           "Niger"
          ],
          [
           "Niger"
          ],
          [
           "Niger"
          ],
          [
           "Niger"
          ],
          [
           "Niger"
          ],
          [
           "Niger"
          ],
          [
           "Niger"
          ],
          [
           "Niger"
          ],
          [
           "Niger"
          ],
          [
           "Niger"
          ],
          [
           "Niger"
          ],
          [
           "Nigeria"
          ],
          [
           "Nigeria"
          ],
          [
           "Nigeria"
          ],
          [
           "Nigeria"
          ],
          [
           "Nigeria"
          ],
          [
           "Nigeria"
          ],
          [
           "Nigeria"
          ],
          [
           "Nigeria"
          ],
          [
           "Nigeria"
          ],
          [
           "Nigeria"
          ],
          [
           "Nigeria"
          ],
          [
           "Nigeria"
          ],
          [
           "Nigeria"
          ],
          [
           "Nigeria"
          ],
          [
           "Nigeria"
          ],
          [
           "Nigeria"
          ],
          [
           "Nigeria"
          ],
          [
           "Nigeria"
          ],
          [
           "Pakistan"
          ],
          [
           "Pakistan"
          ],
          [
           "Pakistan"
          ],
          [
           "Pakistan"
          ],
          [
           "Pakistan"
          ],
          [
           "Pakistan"
          ],
          [
           "Pakistan"
          ],
          [
           "Pakistan"
          ],
          [
           "Pakistan"
          ],
          [
           "Pakistan"
          ],
          [
           "Pakistan"
          ],
          [
           "Pakistan"
          ],
          [
           "Pakistan"
          ],
          [
           "Pakistan"
          ],
          [
           "Pakistan"
          ],
          [
           "Pakistan"
          ],
          [
           "Pakistan"
          ],
          [
           "Pakistan"
          ],
          [
           "Philippines"
          ],
          [
           "Philippines"
          ],
          [
           "Philippines"
          ],
          [
           "Philippines"
          ],
          [
           "Philippines"
          ],
          [
           "Rwanda"
          ],
          [
           "Rwanda"
          ],
          [
           "Rwanda"
          ],
          [
           "Rwanda"
          ],
          [
           "Rwanda"
          ],
          [
           "Rwanda"
          ],
          [
           "Rwanda"
          ],
          [
           "Rwanda"
          ],
          [
           "Rwanda"
          ],
          [
           "Rwanda"
          ],
          [
           "Rwanda"
          ],
          [
           "Rwanda"
          ],
          [
           "Rwanda"
          ],
          [
           "Rwanda"
          ],
          [
           "Rwanda"
          ],
          [
           "Rwanda"
          ],
          [
           "Rwanda"
          ],
          [
           "Rwanda"
          ],
          [
           "Senegal"
          ],
          [
           "Senegal"
          ],
          [
           "Senegal"
          ],
          [
           "Senegal"
          ],
          [
           "Senegal"
          ],
          [
           "Senegal"
          ],
          [
           "Senegal"
          ],
          [
           "Senegal"
          ],
          [
           "Senegal"
          ],
          [
           "Senegal"
          ],
          [
           "Senegal"
          ],
          [
           "Senegal"
          ],
          [
           "Senegal"
          ],
          [
           "Senegal"
          ],
          [
           "Senegal"
          ],
          [
           "Senegal"
          ],
          [
           "Senegal"
          ],
          [
           "Senegal"
          ],
          [
           "Sierra Leone"
          ],
          [
           "Sierra Leone"
          ],
          [
           "Sierra Leone"
          ],
          [
           "Sierra Leone"
          ],
          [
           "Sierra Leone"
          ],
          [
           "Sierra Leone"
          ],
          [
           "Sierra Leone"
          ],
          [
           "Sierra Leone"
          ],
          [
           "Sierra Leone"
          ],
          [
           "Sierra Leone"
          ],
          [
           "Sierra Leone"
          ],
          [
           "Sierra Leone"
          ],
          [
           "Solomon Islands"
          ],
          [
           "Solomon Islands"
          ],
          [
           "Solomon Islands"
          ],
          [
           "Solomon Islands"
          ],
          [
           "Solomon Islands"
          ],
          [
           "Solomon Islands"
          ],
          [
           "Sri Lanka"
          ],
          [
           "Sri Lanka"
          ],
          [
           "Sri Lanka"
          ],
          [
           "Sri Lanka"
          ],
          [
           "Sri Lanka"
          ],
          [
           "Sri Lanka"
          ],
          [
           "Sri Lanka"
          ],
          [
           "Sri Lanka"
          ],
          [
           "Sri Lanka"
          ],
          [
           "Sri Lanka"
          ],
          [
           "Sri Lanka"
          ],
          [
           "Sri Lanka"
          ],
          [
           "Sri Lanka"
          ],
          [
           "Sri Lanka"
          ],
          [
           "Sri Lanka"
          ],
          [
           "Sri Lanka"
          ],
          [
           "Sri Lanka"
          ],
          [
           "Sri Lanka"
          ],
          [
           "Tajikistan"
          ],
          [
           "Tajikistan"
          ],
          [
           "Tajikistan"
          ],
          [
           "Tajikistan"
          ],
          [
           "Tajikistan"
          ],
          [
           "Tajikistan"
          ],
          [
           "Tajikistan"
          ],
          [
           "Tajikistan"
          ],
          [
           "Tajikistan"
          ],
          [
           "Tajikistan"
          ],
          [
           "Tajikistan"
          ],
          [
           "Tajikistan"
          ],
          [
           "Tajikistan"
          ],
          [
           "Tanzania"
          ],
          [
           "Tanzania"
          ],
          [
           "Tanzania"
          ],
          [
           "Tanzania"
          ],
          [
           "Tanzania"
          ],
          [
           "Tanzania"
          ],
          [
           "Tanzania"
          ],
          [
           "Tanzania"
          ],
          [
           "Tanzania"
          ],
          [
           "Tanzania"
          ],
          [
           "Tanzania"
          ],
          [
           "Tanzania"
          ],
          [
           "Tanzania"
          ],
          [
           "Tanzania"
          ],
          [
           "Tanzania"
          ],
          [
           "Tanzania"
          ],
          [
           "Tanzania"
          ],
          [
           "Tanzania"
          ],
          [
           "Togo"
          ],
          [
           "Togo"
          ],
          [
           "Togo"
          ],
          [
           "Togo"
          ],
          [
           "Togo"
          ],
          [
           "Togo"
          ],
          [
           "Togo"
          ],
          [
           "Togo"
          ],
          [
           "Togo"
          ],
          [
           "Togo"
          ],
          [
           "Togo"
          ],
          [
           "Togo"
          ],
          [
           "Togo"
          ],
          [
           "Togo"
          ],
          [
           "Togo"
          ],
          [
           "Togo"
          ],
          [
           "Togo"
          ],
          [
           "Togo"
          ],
          [
           "Uganda"
          ],
          [
           "Uganda"
          ],
          [
           "Uganda"
          ],
          [
           "Uganda"
          ],
          [
           "Uganda"
          ],
          [
           "Uganda"
          ],
          [
           "Uganda"
          ],
          [
           "Uganda"
          ],
          [
           "Uganda"
          ],
          [
           "Uganda"
          ],
          [
           "Uganda"
          ],
          [
           "Uganda"
          ],
          [
           "Uganda"
          ],
          [
           "Uganda"
          ],
          [
           "Uganda"
          ],
          [
           "Uganda"
          ],
          [
           "Uganda"
          ],
          [
           "Uganda"
          ],
          [
           "Vanuatu"
          ],
          [
           "Vanuatu"
          ],
          [
           "Vanuatu"
          ],
          [
           "Vanuatu"
          ],
          [
           "Vanuatu"
          ],
          [
           "Vanuatu"
          ],
          [
           "Vanuatu"
          ],
          [
           "Vanuatu"
          ],
          [
           "Vanuatu"
          ],
          [
           "Vanuatu"
          ],
          [
           "Vanuatu"
          ],
          [
           "Vanuatu"
          ],
          [
           "Vanuatu"
          ],
          [
           "Vanuatu"
          ],
          [
           "Vietnam"
          ],
          [
           "Vietnam"
          ],
          [
           "Vietnam"
          ],
          [
           "Vietnam"
          ],
          [
           "Vietnam"
          ],
          [
           "Vietnam"
          ],
          [
           "Vietnam"
          ],
          [
           "Vietnam"
          ],
          [
           "Vietnam"
          ],
          [
           "Zambia"
          ],
          [
           "Zambia"
          ],
          [
           "Zambia"
          ],
          [
           "Zambia"
          ],
          [
           "Zambia"
          ],
          [
           "Zambia"
          ],
          [
           "Zambia"
          ],
          [
           "Zambia"
          ],
          [
           "Zambia"
          ],
          [
           "Zimbabwe"
          ],
          [
           "Zimbabwe"
          ],
          [
           "Zimbabwe"
          ],
          [
           "Zimbabwe"
          ],
          [
           "Zimbabwe"
          ],
          [
           "Zimbabwe"
          ],
          [
           "Zimbabwe"
          ],
          [
           "Zimbabwe"
          ],
          [
           "Zimbabwe"
          ]
         ],
         "hovertemplate": "<b>%{hovertext}</b><br><br>Class=%{marker.color}<br>PC 1=%{x}<br>PC 2=%{y}<br>PC 3=%{z}<br>Country=%{customdata[0]}<extra></extra>",
         "hovertext": [
          "Angola",
          "Angola",
          "Angola",
          "Angola",
          "Angola",
          "Angola",
          "Angola",
          "Angola",
          "Angola",
          "Angola",
          "Angola",
          "Angola",
          "Angola",
          "Angola",
          "Angola",
          "Bangladesh",
          "Bangladesh",
          "Bangladesh",
          "Bangladesh",
          "Bangladesh",
          "Bangladesh",
          "Bangladesh",
          "Bangladesh",
          "Bangladesh",
          "Bangladesh",
          "Bangladesh",
          "Bangladesh",
          "Bangladesh",
          "Bangladesh",
          "Bangladesh",
          "Bangladesh",
          "Bangladesh",
          "Bangladesh",
          "Benin",
          "Benin",
          "Benin",
          "Benin",
          "Benin",
          "Benin",
          "Benin",
          "Benin",
          "Benin",
          "Benin",
          "Benin",
          "Benin",
          "Benin",
          "Benin",
          "Benin",
          "Benin",
          "Benin",
          "Benin",
          "Bhutan",
          "Bhutan",
          "Bhutan",
          "Bhutan",
          "Bhutan",
          "Bhutan",
          "Bhutan",
          "Bhutan",
          "Bhutan",
          "Bhutan",
          "Bhutan",
          "Bhutan",
          "Bhutan",
          "Bhutan",
          "Bhutan",
          "Bhutan",
          "Bhutan",
          "Bhutan",
          "Botswana",
          "Burkina Faso",
          "Burkina Faso",
          "Burkina Faso",
          "Burkina Faso",
          "Burkina Faso",
          "Burkina Faso",
          "Burkina Faso",
          "Burkina Faso",
          "Burkina Faso",
          "Burkina Faso",
          "Burkina Faso",
          "Burkina Faso",
          "Burkina Faso",
          "Burkina Faso",
          "Burkina Faso",
          "Burkina Faso",
          "Burkina Faso",
          "Burkina Faso",
          "Burundi",
          "Burundi",
          "Burundi",
          "Burundi",
          "Burundi",
          "Burundi",
          "Burundi",
          "Burundi",
          "Burundi",
          "Burundi",
          "Burundi",
          "Burundi",
          "Burundi",
          "Burundi",
          "Burundi",
          "Burundi",
          "Burundi",
          "Burundi",
          "Cambodia",
          "Cambodia",
          "Cambodia",
          "Cambodia",
          "Cambodia",
          "Cambodia",
          "Cambodia",
          "Cambodia",
          "Cambodia",
          "Cambodia",
          "Cambodia",
          "Cambodia",
          "Cambodia",
          "Cambodia",
          "Cambodia",
          "Cambodia",
          "Cambodia",
          "Cambodia",
          "Cameroon",
          "Cameroon",
          "Cameroon",
          "Cameroon",
          "Cameroon",
          "Cameroon",
          "Cameroon",
          "Cameroon",
          "Cameroon",
          "Cameroon",
          "Cameroon",
          "Cameroon",
          "Cameroon",
          "Cameroon",
          "Cameroon",
          "Cameroon",
          "Cameroon",
          "Cameroon",
          "Central African Republic",
          "Central African Republic",
          "Central African Republic",
          "Central African Republic",
          "Central African Republic",
          "Central African Republic",
          "Central African Republic",
          "Central African Republic",
          "Central African Republic",
          "Central African Republic",
          "Central African Republic",
          "Central African Republic",
          "Central African Republic",
          "Central African Republic",
          "Central African Republic",
          "Central African Republic",
          "Central African Republic",
          "Central African Republic",
          "Chad",
          "Chad",
          "Chad",
          "Chad",
          "Chad",
          "Chad",
          "Chad",
          "Chad",
          "Chad",
          "Chad",
          "Chad",
          "Chad",
          "Chad",
          "Chad",
          "Chad",
          "Chad",
          "Chad",
          "Chad",
          "Comoros",
          "Comoros",
          "Comoros",
          "Comoros",
          "Comoros",
          "Comoros",
          "Comoros",
          "Comoros",
          "Comoros",
          "Comoros",
          "Comoros",
          "Comoros",
          "Comoros",
          "Cote d'Ivoire",
          "Cote d'Ivoire",
          "Cote d'Ivoire",
          "Cote d'Ivoire",
          "Cote d'Ivoire",
          "Cote d'Ivoire",
          "Cote d'Ivoire",
          "Cote d'Ivoire",
          "Cote d'Ivoire",
          "Cote d'Ivoire",
          "Cote d'Ivoire",
          "Cote d'Ivoire",
          "Cote d'Ivoire",
          "Cote d'Ivoire",
          "Cote d'Ivoire",
          "Cote d'Ivoire",
          "Cote d'Ivoire",
          "Cote d'Ivoire",
          "Eswatini",
          "Eswatini",
          "Eswatini",
          "Eswatini",
          "Eswatini",
          "Eswatini",
          "Eswatini",
          "Eswatini",
          "Eswatini",
          "Eswatini",
          "Eswatini",
          "Eswatini",
          "Eswatini",
          "Eswatini",
          "Eswatini",
          "Eswatini",
          "Eswatini",
          "Eswatini",
          "Ethiopia",
          "Ethiopia",
          "Ethiopia",
          "Ethiopia",
          "Ethiopia",
          "Ethiopia",
          "Ethiopia",
          "Ethiopia",
          "Fiji",
          "Fiji",
          "Georgia",
          "Ghana",
          "Ghana",
          "Ghana",
          "Ghana",
          "Ghana",
          "Ghana",
          "Ghana",
          "Ghana",
          "Ghana",
          "Ghana",
          "Ghana",
          "Ghana",
          "Ghana",
          "Ghana",
          "Guatemala",
          "Guatemala",
          "Guatemala",
          "Guatemala",
          "Guatemala",
          "Guatemala",
          "Guatemala",
          "Guatemala",
          "Guatemala",
          "Guatemala",
          "Guatemala",
          "Guatemala",
          "Guatemala",
          "Guatemala",
          "Guatemala",
          "Guatemala",
          "Guinea-Bissau",
          "Guinea-Bissau",
          "Guinea-Bissau",
          "Guinea-Bissau",
          "Guinea-Bissau",
          "Guinea-Bissau",
          "Guinea-Bissau",
          "Guinea-Bissau",
          "Guinea-Bissau",
          "Guinea-Bissau",
          "Guinea-Bissau",
          "Guinea-Bissau",
          "Guinea-Bissau",
          "Guyana",
          "Guyana",
          "Guyana",
          "Guyana",
          "Guyana",
          "Haiti",
          "Haiti",
          "Haiti",
          "Haiti",
          "Haiti",
          "Haiti",
          "Haiti",
          "Haiti",
          "Haiti",
          "Haiti",
          "Haiti",
          "Haiti",
          "Haiti",
          "Haiti",
          "Haiti",
          "Haiti",
          "Haiti",
          "Haiti",
          "Honduras",
          "Honduras",
          "Honduras",
          "Honduras",
          "Honduras",
          "Honduras",
          "Honduras",
          "India",
          "India",
          "India",
          "India",
          "India",
          "Indonesia",
          "Indonesia",
          "Kenya",
          "Kenya",
          "Kenya",
          "Kenya",
          "Kenya",
          "Kenya",
          "Kenya",
          "Kenya",
          "Kenya",
          "Kenya",
          "Kenya",
          "Kenya",
          "Kenya",
          "Kenya",
          "Kenya",
          "Kenya",
          "Kenya",
          "Kenya",
          "Lesotho",
          "Lesotho",
          "Lesotho",
          "Lesotho",
          "Lesotho",
          "Lesotho",
          "Lesotho",
          "Lesotho",
          "Lesotho",
          "Lesotho",
          "Lesotho",
          "Lesotho",
          "Liberia",
          "Liberia",
          "Liberia",
          "Liberia",
          "Liberia",
          "Liberia",
          "Liberia",
          "Liberia",
          "Liberia",
          "Liberia",
          "Liberia",
          "Liberia",
          "Madagascar",
          "Madagascar",
          "Madagascar",
          "Madagascar",
          "Madagascar",
          "Madagascar",
          "Madagascar",
          "Madagascar",
          "Madagascar",
          "Madagascar",
          "Madagascar",
          "Madagascar",
          "Madagascar",
          "Madagascar",
          "Madagascar",
          "Madagascar",
          "Madagascar",
          "Madagascar",
          "Mali",
          "Mali",
          "Mali",
          "Mali",
          "Mali",
          "Mali",
          "Mali",
          "Mali",
          "Mali",
          "Mali",
          "Mali",
          "Mali",
          "Mali",
          "Mali",
          "Mali",
          "Mali",
          "Mali",
          "Mali",
          "Mauritania",
          "Mauritania",
          "Mauritania",
          "Mauritania",
          "Mauritania",
          "Mauritania",
          "Mauritania",
          "Mauritania",
          "Mauritania",
          "Mauritania",
          "Mauritania",
          "Mauritania",
          "Mauritania",
          "Mauritania",
          "Mauritania",
          "Mauritania",
          "Mauritania",
          "Mauritania",
          "Moldova",
          "Moldova",
          "Moldova",
          "Moldova",
          "Mozambique",
          "Mozambique",
          "Mozambique",
          "Mozambique",
          "Mozambique",
          "Mozambique",
          "Mozambique",
          "Mozambique",
          "Mozambique",
          "Mozambique",
          "Mozambique",
          "Mozambique",
          "Mozambique",
          "Mozambique",
          "Myanmar",
          "Myanmar",
          "Myanmar",
          "Myanmar",
          "Myanmar",
          "Myanmar",
          "Myanmar",
          "Myanmar",
          "Myanmar",
          "Namibia",
          "Namibia",
          "Namibia",
          "Namibia",
          "Namibia",
          "Namibia",
          "Namibia",
          "Namibia",
          "Namibia",
          "Namibia",
          "Nepal",
          "Nepal",
          "Nepal",
          "Nepal",
          "Nepal",
          "Nepal",
          "Nepal",
          "Nepal",
          "Nepal",
          "Nepal",
          "Nepal",
          "Nepal",
          "Nepal",
          "Nepal",
          "Nepal",
          "Nepal",
          "Nepal",
          "Nepal",
          "Nicaragua",
          "Nicaragua",
          "Nicaragua",
          "Nicaragua",
          "Nicaragua",
          "Nicaragua",
          "Nicaragua",
          "Niger",
          "Niger",
          "Niger",
          "Niger",
          "Niger",
          "Niger",
          "Niger",
          "Niger",
          "Niger",
          "Niger",
          "Niger",
          "Niger",
          "Niger",
          "Niger",
          "Niger",
          "Niger",
          "Niger",
          "Niger",
          "Nigeria",
          "Nigeria",
          "Nigeria",
          "Nigeria",
          "Nigeria",
          "Nigeria",
          "Nigeria",
          "Nigeria",
          "Nigeria",
          "Nigeria",
          "Nigeria",
          "Nigeria",
          "Nigeria",
          "Nigeria",
          "Nigeria",
          "Nigeria",
          "Nigeria",
          "Nigeria",
          "Pakistan",
          "Pakistan",
          "Pakistan",
          "Pakistan",
          "Pakistan",
          "Pakistan",
          "Pakistan",
          "Pakistan",
          "Pakistan",
          "Pakistan",
          "Pakistan",
          "Pakistan",
          "Pakistan",
          "Pakistan",
          "Pakistan",
          "Pakistan",
          "Pakistan",
          "Pakistan",
          "Philippines",
          "Philippines",
          "Philippines",
          "Philippines",
          "Philippines",
          "Rwanda",
          "Rwanda",
          "Rwanda",
          "Rwanda",
          "Rwanda",
          "Rwanda",
          "Rwanda",
          "Rwanda",
          "Rwanda",
          "Rwanda",
          "Rwanda",
          "Rwanda",
          "Rwanda",
          "Rwanda",
          "Rwanda",
          "Rwanda",
          "Rwanda",
          "Rwanda",
          "Senegal",
          "Senegal",
          "Senegal",
          "Senegal",
          "Senegal",
          "Senegal",
          "Senegal",
          "Senegal",
          "Senegal",
          "Senegal",
          "Senegal",
          "Senegal",
          "Senegal",
          "Senegal",
          "Senegal",
          "Senegal",
          "Senegal",
          "Senegal",
          "Sierra Leone",
          "Sierra Leone",
          "Sierra Leone",
          "Sierra Leone",
          "Sierra Leone",
          "Sierra Leone",
          "Sierra Leone",
          "Sierra Leone",
          "Sierra Leone",
          "Sierra Leone",
          "Sierra Leone",
          "Sierra Leone",
          "Solomon Islands",
          "Solomon Islands",
          "Solomon Islands",
          "Solomon Islands",
          "Solomon Islands",
          "Solomon Islands",
          "Sri Lanka",
          "Sri Lanka",
          "Sri Lanka",
          "Sri Lanka",
          "Sri Lanka",
          "Sri Lanka",
          "Sri Lanka",
          "Sri Lanka",
          "Sri Lanka",
          "Sri Lanka",
          "Sri Lanka",
          "Sri Lanka",
          "Sri Lanka",
          "Sri Lanka",
          "Sri Lanka",
          "Sri Lanka",
          "Sri Lanka",
          "Sri Lanka",
          "Tajikistan",
          "Tajikistan",
          "Tajikistan",
          "Tajikistan",
          "Tajikistan",
          "Tajikistan",
          "Tajikistan",
          "Tajikistan",
          "Tajikistan",
          "Tajikistan",
          "Tajikistan",
          "Tajikistan",
          "Tajikistan",
          "Tanzania",
          "Tanzania",
          "Tanzania",
          "Tanzania",
          "Tanzania",
          "Tanzania",
          "Tanzania",
          "Tanzania",
          "Tanzania",
          "Tanzania",
          "Tanzania",
          "Tanzania",
          "Tanzania",
          "Tanzania",
          "Tanzania",
          "Tanzania",
          "Tanzania",
          "Tanzania",
          "Togo",
          "Togo",
          "Togo",
          "Togo",
          "Togo",
          "Togo",
          "Togo",
          "Togo",
          "Togo",
          "Togo",
          "Togo",
          "Togo",
          "Togo",
          "Togo",
          "Togo",
          "Togo",
          "Togo",
          "Togo",
          "Uganda",
          "Uganda",
          "Uganda",
          "Uganda",
          "Uganda",
          "Uganda",
          "Uganda",
          "Uganda",
          "Uganda",
          "Uganda",
          "Uganda",
          "Uganda",
          "Uganda",
          "Uganda",
          "Uganda",
          "Uganda",
          "Uganda",
          "Uganda",
          "Vanuatu",
          "Vanuatu",
          "Vanuatu",
          "Vanuatu",
          "Vanuatu",
          "Vanuatu",
          "Vanuatu",
          "Vanuatu",
          "Vanuatu",
          "Vanuatu",
          "Vanuatu",
          "Vanuatu",
          "Vanuatu",
          "Vanuatu",
          "Vietnam",
          "Vietnam",
          "Vietnam",
          "Vietnam",
          "Vietnam",
          "Vietnam",
          "Vietnam",
          "Vietnam",
          "Vietnam",
          "Zambia",
          "Zambia",
          "Zambia",
          "Zambia",
          "Zambia",
          "Zambia",
          "Zambia",
          "Zambia",
          "Zambia",
          "Zimbabwe",
          "Zimbabwe",
          "Zimbabwe",
          "Zimbabwe",
          "Zimbabwe",
          "Zimbabwe",
          "Zimbabwe",
          "Zimbabwe",
          "Zimbabwe"
         ],
         "legendgroup": "2",
         "marker": {
          "color": [
           2,
           2,
           2,
           2,
           2,
           2,
           2,
           2,
           2,
           2,
           2,
           2,
           2,
           2,
           2,
           2,
           2,
           2,
           2,
           2,
           2,
           2,
           2,
           2,
           2,
           2,
           2,
           2,
           2,
           2,
           2,
           2,
           2,
           2,
           2,
           2,
           2,
           2,
           2,
           2,
           2,
           2,
           2,
           2,
           2,
           2,
           2,
           2,
           2,
           2,
           2,
           2,
           2,
           2,
           2,
           2,
           2,
           2,
           2,
           2,
           2,
           2,
           2,
           2,
           2,
           2,
           2,
           2,
           2,
           2,
           2,
           2,
           2,
           2,
           2,
           2,
           2,
           2,
           2,
           2,
           2,
           2,
           2,
           2,
           2,
           2,
           2,
           2,
           2,
           2,
           2,
           2,
           2,
           2,
           2,
           2,
           2,
           2,
           2,
           2,
           2,
           2,
           2,
           2,
           2,
           2,
           2,
           2,
           2,
           2,
           2,
           2,
           2,
           2,
           2,
           2,
           2,
           2,
           2,
           2,
           2,
           2,
           2,
           2,
           2,
           2,
           2,
           2,
           2,
           2,
           2,
           2,
           2,
           2,
           2,
           2,
           2,
           2,
           2,
           2,
           2,
           2,
           2,
           2,
           2,
           2,
           2,
           2,
           2,
           2,
           2,
           2,
           2,
           2,
           2,
           2,
           2,
           2,
           2,
           2,
           2,
           2,
           2,
           2,
           2,
           2,
           2,
           2,
           2,
           2,
           2,
           2,
           2,
           2,
           2,
           2,
           2,
           2,
           2,
           2,
           2,
           2,
           2,
           2,
           2,
           2,
           2,
           2,
           2,
           2,
           2,
           2,
           2,
           2,
           2,
           2,
           2,
           2,
           2,
           2,
           2,
           2,
           2,
           2,
           2,
           2,
           2,
           2,
           2,
           2,
           2,
           2,
           2,
           2,
           2,
           2,
           2,
           2,
           2,
           2,
           2,
           2,
           2,
           2,
           2,
           2,
           2,
           2,
           2,
           2,
           2,
           2,
           2,
           2,
           2,
           2,
           2,
           2,
           2,
           2,
           2,
           2,
           2,
           2,
           2,
           2,
           2,
           2,
           2,
           2,
           2,
           2,
           2,
           2,
           2,
           2,
           2,
           2,
           2,
           2,
           2,
           2,
           2,
           2,
           2,
           2,
           2,
           2,
           2,
           2,
           2,
           2,
           2,
           2,
           2,
           2,
           2,
           2,
           2,
           2,
           2,
           2,
           2,
           2,
           2,
           2,
           2,
           2,
           2,
           2,
           2,
           2,
           2,
           2,
           2,
           2,
           2,
           2,
           2,
           2,
           2,
           2,
           2,
           2,
           2,
           2,
           2,
           2,
           2,
           2,
           2,
           2,
           2,
           2,
           2,
           2,
           2,
           2,
           2,
           2,
           2,
           2,
           2,
           2,
           2,
           2,
           2,
           2,
           2,
           2,
           2,
           2,
           2,
           2,
           2,
           2,
           2,
           2,
           2,
           2,
           2,
           2,
           2,
           2,
           2,
           2,
           2,
           2,
           2,
           2,
           2,
           2,
           2,
           2,
           2,
           2,
           2,
           2,
           2,
           2,
           2,
           2,
           2,
           2,
           2,
           2,
           2,
           2,
           2,
           2,
           2,
           2,
           2,
           2,
           2,
           2,
           2,
           2,
           2,
           2,
           2,
           2,
           2,
           2,
           2,
           2,
           2,
           2,
           2,
           2,
           2,
           2,
           2,
           2,
           2,
           2,
           2,
           2,
           2,
           2,
           2,
           2,
           2,
           2,
           2,
           2,
           2,
           2,
           2,
           2,
           2,
           2,
           2,
           2,
           2,
           2,
           2,
           2,
           2,
           2,
           2,
           2,
           2,
           2,
           2,
           2,
           2,
           2,
           2,
           2,
           2,
           2,
           2,
           2,
           2,
           2,
           2,
           2,
           2,
           2,
           2,
           2,
           2,
           2,
           2,
           2,
           2,
           2,
           2,
           2,
           2,
           2,
           2,
           2,
           2,
           2,
           2,
           2,
           2,
           2,
           2,
           2,
           2,
           2,
           2,
           2,
           2,
           2,
           2,
           2,
           2,
           2,
           2,
           2,
           2,
           2,
           2,
           2,
           2,
           2,
           2,
           2,
           2,
           2,
           2,
           2,
           2,
           2,
           2,
           2,
           2,
           2,
           2,
           2,
           2,
           2,
           2,
           2,
           2,
           2,
           2,
           2,
           2,
           2,
           2,
           2,
           2,
           2,
           2,
           2,
           2,
           2,
           2,
           2,
           2,
           2,
           2,
           2,
           2,
           2,
           2,
           2,
           2,
           2,
           2,
           2,
           2,
           2,
           2,
           2,
           2,
           2,
           2,
           2,
           2,
           2,
           2,
           2,
           2,
           2,
           2,
           2,
           2,
           2,
           2,
           2,
           2,
           2,
           2,
           2,
           2,
           2,
           2,
           2,
           2,
           2,
           2,
           2,
           2,
           2,
           2,
           2,
           2,
           2,
           2,
           2,
           2,
           2,
           2,
           2,
           2,
           2,
           2,
           2,
           2,
           2,
           2,
           2,
           2,
           2,
           2,
           2,
           2,
           2,
           2,
           2,
           2,
           2,
           2,
           2,
           2,
           2,
           2,
           2,
           2,
           2,
           2,
           2,
           2,
           2,
           2,
           2,
           2,
           2,
           2,
           2,
           2,
           2,
           2,
           2,
           2,
           2,
           2,
           2,
           2,
           2,
           2,
           2,
           2,
           2,
           2,
           2,
           2,
           2,
           2,
           2,
           2,
           2,
           2,
           2,
           2,
           2,
           2,
           2,
           2,
           2,
           2,
           2,
           2,
           2,
           2,
           2,
           2,
           2,
           2,
           2,
           2,
           2,
           2,
           2,
           2,
           2,
           2,
           2,
           2,
           2,
           2,
           2,
           2,
           2,
           2,
           2,
           2,
           2,
           2,
           2,
           2,
           2,
           2,
           2,
           2,
           2,
           2,
           2,
           2,
           2,
           2,
           2,
           2,
           2,
           2,
           2,
           2,
           2,
           2,
           2,
           2,
           2,
           2,
           2,
           2,
           2,
           2,
           2,
           2,
           2,
           2,
           2,
           2,
           2,
           2,
           2,
           2,
           2,
           2,
           2,
           2,
           2,
           2,
           2,
           2,
           2,
           2,
           2,
           2
          ],
          "coloraxis": "coloraxis",
          "symbol": "diamond"
         },
         "mode": "markers",
         "name": "2",
         "scene": "scene",
         "showlegend": true,
         "type": "scatter3d",
         "x": [
          -2.254659599793381,
          -1.969634553625176,
          -1.8936141102325519,
          -1.6444047045777637,
          -1.594907832862755,
          -1.5041261760962625,
          -1.488529158563731,
          -1.5446331970451228,
          -1.3617979492587449,
          -1.613228257161994,
          -1.5726924691485304,
          -1.4961796114755261,
          -1.3407921711388535,
          -1.3743745402685494,
          -1.3870632231132645,
          -0.7738215886419,
          -0.7870945782628371,
          -0.7466434836859845,
          -0.7072738318332394,
          -0.6319150147064877,
          -0.5531406620149235,
          -0.30107660739847664,
          -0.4650254189922944,
          -0.38023201674089613,
          -0.32404333841029126,
          -0.30079570434818165,
          -0.21774002922615626,
          -0.16163008819222033,
          0.050821475445748776,
          0.1577257564660444,
          0.2674864664693408,
          0.41073456361414196,
          0.5123437984575167,
          -1.9494745701212444,
          -1.9243036249089436,
          -1.9108650470847746,
          -1.8787317675114528,
          -1.8848836446027284,
          -1.8488070708484123,
          -1.8168497307531837,
          -1.8304956147734452,
          -1.7897633603346248,
          -1.7559029944926654,
          -1.7460840611987831,
          -1.7524605532561726,
          -1.5685292641166333,
          -1.5464904537355615,
          -1.7024518617928723,
          -1.6557540559809159,
          -1.648359087904363,
          -1.5916887805732187,
          -1.7867284765246823,
          -1.7580399558110127,
          -1.7480180546088788,
          -1.6448887125839813,
          -1.6844054733255602,
          -1.4930447278252625,
          -1.5151101178902482,
          -1.7108554341492064,
          -1.62623561074716,
          -1.622556961367026,
          -1.5678333275216132,
          -1.50567670168076,
          -1.5509842270557268,
          -1.5229915772264195,
          -1.5164951191891058,
          -1.4623866331996256,
          -1.4455737377629037,
          -1.4128527610564732,
          -1.4865836855067265,
          -2.09971504174239,
          -2.0727172420617705,
          -2.046342650568715,
          -2.044756004178711,
          -2.074489402505518,
          -2.037323836822484,
          -2.0125870285261604,
          -2.047793316200496,
          -2.009766860361883,
          -1.9554357858537943,
          -1.95334533567948,
          -1.9232037115494225,
          -1.8821787080617887,
          -1.857863182460236,
          -1.932764859236107,
          -1.848612329434728,
          -1.8061891477802772,
          -1.730134560579352,
          -2.44847616338596,
          -2.523012270456812,
          -2.8891693129437974,
          -2.6634498035692125,
          -2.813392769504962,
          -2.715509775662908,
          -2.871551548670041,
          -2.919884511355501,
          -2.773329103150753,
          -2.5884824048193966,
          -2.6155992281193363,
          -2.4685885100243774,
          -2.435268850772578,
          -2.401325392906913,
          -2.322329357693279,
          -2.340133968492105,
          -2.3349594385515378,
          -2.16102086672884,
          -1.8738157832151459,
          -1.8676778939240941,
          -1.839129001891979,
          -1.808836298805909,
          -1.7878076604365876,
          -1.7291969975474843,
          -1.6931935335708237,
          -1.7576188724215451,
          -1.6140863064612516,
          -1.6414648529362565,
          -1.6002100261033883,
          -1.552823983071879,
          -1.5218637932280195,
          -1.501091865029086,
          -1.2998787890141488,
          -1.262708656010796,
          -1.2039830735168364,
          -1.1581736502518798,
          -1.7957173346122812,
          -1.7816540251712087,
          -1.757093370773721,
          -1.7293505788010524,
          -1.6208004076309572,
          -1.6180953627110786,
          -1.5735975789493828,
          -1.578846172659657,
          -1.5104085824174158,
          -1.4892726881739,
          -1.4796379708340133,
          -1.4591503579815952,
          -1.425277779681276,
          -1.3922348542425997,
          -1.3602234988776785,
          -1.325655026008902,
          -1.3128173134393646,
          -1.2978182770284066,
          -2.13342182517081,
          -2.1237088354874114,
          -2.1366273946713505,
          -1.8878201492397582,
          -2.1256113443007214,
          -2.1307331782002943,
          -2.094779916983197,
          -2.1336005299729703,
          -2.069270035601109,
          -2.030362665496623,
          -2.0216516849521815,
          -2.045063367464906,
          -2.073409488595279,
          -2.072020101137939,
          -2.0058379550451897,
          -2.0030362152828456,
          -1.9785477819931663,
          -1.9648139002221718,
          -2.383125082690157,
          -2.496556953938991,
          -2.3298714144458392,
          -2.4343880643912987,
          -2.415224727294617,
          -2.430172817931299,
          -2.307454631808088,
          -2.370462239330837,
          -2.226922401498996,
          -2.176869201725302,
          -2.2275929275909783,
          -2.2112899207694885,
          -2.172379649812568,
          -2.1644943749545953,
          -2.1353603341931806,
          -2.130613798884459,
          -2.1887116780326323,
          -2.1996629203659874,
          -1.835826834066517,
          -2.039759464050468,
          -2.014411256483691,
          -1.9918760338390225,
          -1.9777386458381128,
          -1.8872495538255767,
          -1.9175970484167364,
          -1.8987569797756656,
          -1.8727044154916501,
          -1.82569032950256,
          -1.828930462255983,
          -1.8883230732070952,
          -1.8217793414846866,
          -1.8362354805008794,
          -1.8189907700416192,
          -1.837477013689966,
          -1.8182440357827565,
          -1.8048497618321637,
          -1.8027052648829511,
          -1.8013557348003217,
          -1.6642156256673275,
          -1.6050049279810137,
          -1.584117919120022,
          -1.6211003163856872,
          -1.555934469361931,
          -1.4953223580192239,
          -1.4489299297346,
          -1.3998944532224296,
          -1.3225184071951337,
          -1.3006734734218912,
          -1.2821716840703457,
          -1.7204795190990612,
          -1.7477175228537078,
          -1.7310519787487302,
          -1.7112823823342032,
          -1.7066062072531287,
          -1.707364462023092,
          -1.7008297262016785,
          -1.7250301529327157,
          -1.704333701989742,
          -1.6738211065027495,
          -1.6582102224203528,
          -1.6275052649544832,
          -1.5820315876768054,
          -1.5527423930726116,
          -1.5215603137567844,
          -1.496622729983994,
          -1.4711742176946396,
          -1.4505005827250406,
          -1.3548327725674956,
          -1.2266037277815223,
          -1.1136473806744625,
          -1.061630392762539,
          -1.0063759409931643,
          -0.8811450518735356,
          -0.8147879464140121,
          -0.6923689903754521,
          -1.4297352582780127,
          -1.4802130958377369,
          -1.4050731482465544,
          -1.6593811718735514,
          -1.580138501417486,
          -1.4633810756079422,
          -1.3861630474697417,
          -1.407869925359411,
          -1.3358522725647701,
          -1.3373368352574457,
          -1.339868427037894,
          -1.3084268152494,
          -1.137260417153976,
          -1.1227784977987783,
          -1.0849186961500872,
          -1.1048054157975584,
          -1.050411263444072,
          -1.4440749296040836,
          -1.4172784266399223,
          -1.3959134667953614,
          -1.3883869745875803,
          -1.372169264759501,
          -1.3378881899133266,
          -1.3250398911301222,
          -1.3390176181816706,
          -1.2721848348167357,
          -1.2804384829339457,
          -1.2673972465830465,
          -1.2354082439730099,
          -1.2124918145044425,
          -1.205517755965793,
          -1.1503944311953644,
          -1.1419149561014625,
          -2.1826132381733845,
          -2.19552610057763,
          -2.2007085311605583,
          -2.17292979769566,
          -2.171474578572066,
          -2.1015377489935445,
          -2.1151987786401505,
          -1.8742696153013723,
          -2.0626835182627854,
          -1.9901298758705637,
          -1.9731838651383256,
          -1.9527318688404993,
          -1.8830439634830287,
          -1.4505594789684544,
          -1.4626804961274475,
          -1.4685847604899178,
          -1.4744984361137925,
          -1.525768771769311,
          -1.957813178779801,
          -1.9085888176150299,
          -1.955588520927724,
          -1.922123600342328,
          -1.6584197996470373,
          -1.8561613095094267,
          -1.8049268473167452,
          -1.8145804326435495,
          -1.7472768618934738,
          -1.7107592814901704,
          -1.7396253568093376,
          -1.7254799361395954,
          -1.7076948722423575,
          -1.6834062318542766,
          -1.6623396504488241,
          -1.6738644950823613,
          -1.6520947904518795,
          -1.6383459275063013,
          -1.3872908302809457,
          -1.3688215837903013,
          -1.345370307496737,
          -1.3252927550874265,
          -1.3281777200045821,
          -1.314865741577788,
          -1.328266392897123,
          9.355548434913882,
          9.660119586604313,
          9.770866486949574,
          9.837893839588592,
          10.38909893590671,
          1.9727314547943249,
          2.075674956094309,
          -1.890898919435294,
          -1.8627973521254102,
          -1.892349337906109,
          -1.8358763167061172,
          -1.7986801692121317,
          -1.7649603945990853,
          -1.7234966472501325,
          -1.7495458586111547,
          -1.6717855513693947,
          -1.6136750158725515,
          -1.590730914023153,
          -1.5502652569115831,
          -1.506767603506798,
          -1.2985389092302215,
          -1.2469225021254864,
          -1.2507611793803861,
          -1.2255358690306073,
          -1.1627891781071635,
          -2.005596715614045,
          -1.9833293534158296,
          -1.986893318063917,
          -1.9332972528042636,
          -1.8821571676607711,
          -1.8831872704183568,
          -1.84418158717076,
          -1.8104906754334424,
          -1.7973545137980018,
          -1.7927882524010348,
          -1.7993566026782548,
          -1.686966332396416,
          -2.4908872200705368,
          -2.358446452872149,
          -2.23883002250794,
          -2.18251176769495,
          -2.1914931056619826,
          -2.1463570322117604,
          -2.16432331647214,
          -2.2229951727004016,
          -2.195911976629631,
          -2.1799668213122625,
          -2.171017981738555,
          -2.1151628855156046,
          -1.9318408111610155,
          -2.0107734721930557,
          -1.889113965615759,
          -1.9096786695126236,
          -1.9164370988719797,
          -1.8558391468386108,
          -1.8268912778688702,
          -1.7369418756853365,
          -1.8068045025201187,
          -1.582030981619691,
          -1.5570465996217533,
          -1.5161467778517608,
          -1.7397063909767103,
          -1.691336637535324,
          -1.6731409396793813,
          -1.6450680089529248,
          -1.6201518924636062,
          -1.5870244306615138,
          -2.1082175718748544,
          -2.1194719479806685,
          -2.056672944046735,
          -2.004689471517435,
          -2.0073349106407146,
          -1.9877450407974826,
          -1.9601373534400577,
          -1.958979537552667,
          -1.9316883916967138,
          -1.8968953585596333,
          -1.8886934637670667,
          -1.9798475990189388,
          -1.9345439908908155,
          -1.8459496918133564,
          -1.8173578671156343,
          -1.7853539433731338,
          -1.7762826935243856,
          -1.7046139011842059,
          -1.9470523396072639,
          -1.928715851265268,
          -1.8978778536038863,
          -1.9015851537884478,
          -1.9326366020091683,
          -1.6821241074305178,
          -1.9243316046409278,
          -1.7116326937013921,
          -1.8122736979972218,
          -1.7054852700873295,
          -1.7733357130613876,
          -1.615934900604982,
          -1.579667613738749,
          -1.5648853283474313,
          -1.5152196573204868,
          -1.5011473483754725,
          -1.4682605866384337,
          -1.4308719104001968,
          -1.3126527204086758,
          -1.2872867894599744,
          -1.328930046710512,
          -1.3302269953038794,
          -1.912260339800807,
          -1.9074578346190294,
          -1.863021341798086,
          -1.8664364268908147,
          -1.8068285751184459,
          -1.8020847348900049,
          -1.771771241099772,
          -1.738890228933192,
          -1.7058450602740116,
          -1.6308449338202027,
          -1.5933675350069172,
          -1.5858114748147767,
          -1.556623507401225,
          -1.4641526007665162,
          -0.4233306174759065,
          -0.5916609203842061,
          -0.547463133088561,
          -0.5156256047118171,
          -0.35506936660810384,
          -0.3195339549552046,
          -0.2680983782940114,
          -0.18427058027343846,
          -0.14960870173837348,
          -1.6708822972109163,
          -1.6345774061309684,
          -1.6093196066887043,
          -1.609312574881435,
          -1.6254983762910145,
          -1.5810155600535396,
          -1.5890182894543636,
          -1.5307150090687283,
          -1.5265177576593507,
          -1.5127122102458568,
          -1.8987930372120547,
          -1.6537350603236478,
          -1.6308653129649484,
          -1.600768881245627,
          -1.5685150174475322,
          -1.559361409396495,
          -1.5186057892322198,
          -1.7262327412459375,
          -1.6299092604946293,
          -1.58408963309145,
          -1.5770369330419756,
          -1.585170153438273,
          -1.5561044068111798,
          -1.437551853086727,
          -1.4298136403810886,
          -1.3881276593036516,
          -1.3036269569191832,
          -1.260235502517857,
          -1.536111080779089,
          -1.5187954415384488,
          -1.5051923355897792,
          -1.5017741977243486,
          -1.3774300049795467,
          -1.4119843076117982,
          -1.4322030828526982,
          -2.3400824032993794,
          -2.3231804715461615,
          -2.3313133725453494,
          -2.2857867896374677,
          -2.2844808696561625,
          -2.222691632038797,
          -2.223683667525849,
          -2.202501180226603,
          -2.210528985972526,
          -1.9154315887234459,
          -2.071234717402955,
          -2.041810965407125,
          -2.028304990869542,
          -1.9896711336304889,
          -1.9875457779497328,
          -1.9866274671822017,
          -1.9735276724477513,
          -1.8953915027239947,
          -0.9422219611401007,
          -0.8271850007472852,
          -0.7591450175601945,
          -0.7380278289665787,
          -0.7090751947372378,
          -0.575546818597624,
          -0.5477005821691989,
          -0.3618005358013354,
          -0.2727709508712793,
          -0.17533291334275874,
          -0.039566137062036016,
          0.16338235315050736,
          0.26445336320760926,
          0.3671184270849892,
          0.42357444370949177,
          0.4685270783235218,
          0.5036332356548048,
          0.5997605707338171,
          0.7005992820322101,
          0.5673202018823991,
          0.6648316352099113,
          0.7469582856718784,
          0.8205423961461313,
          0.9068387438410432,
          0.993331737888955,
          1.1595235554074321,
          1.2871674730087699,
          1.3822802203220792,
          1.4669147991261429,
          1.5859199757968003,
          1.7425155669444938,
          1.8842048248975034,
          2.0339182716562223,
          2.1847819911313193,
          2.3244364994192037,
          2.4697927774837356,
          -0.10440519838249773,
          -0.07499350182530011,
          -0.04290364691339429,
          0.005308706174909814,
          0.06705763082453609,
          -2.0346634151079566,
          -2.0244745058639766,
          -2.299663532815011,
          -2.254696420958624,
          -2.212544062451788,
          -2.1623223489994605,
          -2.1417013333906336,
          -2.2012531913126465,
          -2.128332473987726,
          -2.0598450251588876,
          -2.0460007694017435,
          -2.0314560273822937,
          -1.9950450699521713,
          -1.962340943354329,
          -1.934715333282949,
          -1.9132256985107634,
          -1.882597775312947,
          -1.8167469308231559,
          -1.7057846807867194,
          -1.6997593828168556,
          -1.6676668569555497,
          -1.658399038147917,
          -1.6196279741275201,
          -1.6200926385952363,
          -1.6134097250245405,
          -1.610165204433762,
          -1.451459309430818,
          -1.421370853642925,
          -1.4156909079882691,
          -1.4023155820286277,
          -1.3548928015693587,
          -1.306677245980325,
          -1.3988153783771742,
          -1.3699160694791976,
          -1.3540356618208107,
          -1.321553313251628,
          -2.1864091645151977,
          -2.1610780016512434,
          -2.1522061335792726,
          -2.0831179412593026,
          -2.1146306545742277,
          -2.0421848790490174,
          -2.054029561437818,
          -2.0094126998171093,
          -2.0767680079345325,
          -2.1114669643194475,
          -2.0593980063090385,
          -2.0023585269145605,
          -2.1860596088953206,
          -2.070292899592667,
          -1.9782180460748753,
          -1.9217015170819576,
          -1.9318120389698317,
          -2.0375617766192593,
          -1.2756795693811303,
          -1.2152813675954406,
          -1.208813568757199,
          -1.1929177480096291,
          -1.2501203749816052,
          -1.2342288654633573,
          -1.2439174742130428,
          -1.2652496459494131,
          -1.169589951487986,
          -1.1745061185770147,
          -1.1524516240290097,
          -1.122103361206263,
          -1.103839533317293,
          -1.0614011221765016,
          -0.975956947869936,
          -0.9557776834407473,
          -0.9372672214289625,
          -0.9106497958873264,
          -1.6740866754958879,
          -1.6820621002966838,
          -1.667847753482974,
          -1.7290249245761116,
          -1.7538238064753098,
          -1.6951779003120293,
          -1.7128372165884844,
          -1.7287645133084473,
          -1.6982372248601867,
          -1.6922749493007765,
          -1.5034912886592844,
          -1.3937176945140528,
          -1.3913590513668708,
          -1.7035689952832933,
          -1.6686341340354192,
          -1.6325516740877903,
          -1.5763678584133836,
          -1.5270811993950024,
          -1.4997056798182213,
          -1.4654737585582154,
          -1.3785859158163898,
          -1.417323026244061,
          -1.3092412113733352,
          -1.3087751405547627,
          -1.2568632296372988,
          -1.1742683570024655,
          -1.1149746722727911,
          -1.1373314691792673,
          -1.0829442393460793,
          -1.0298021111284166,
          -0.9688849851467151,
          -2.2215404616796355,
          -2.196716381411774,
          -2.1973181686288026,
          -2.1391868235298075,
          -2.1720675029332757,
          -2.160162184629171,
          -2.1812625846618174,
          -2.1877731902126203,
          -2.0925706440824206,
          -2.0471695466553914,
          -2.0588821769673755,
          -2.090408623584711,
          -2.0300995817797594,
          -1.9967093160791627,
          -1.9824949385112853,
          -1.9689444283067608,
          -1.9164072925052653,
          -1.8335208131428051,
          -2.1854435352301174,
          -2.186115409592201,
          -2.3058437708829636,
          -2.1457625198379415,
          -2.1025693304566166,
          -2.061118300193418,
          -2.0706474702680238,
          -2.0527270201804075,
          -1.921825584121097,
          -1.825838973844066,
          -1.8410004883483764,
          -1.832911063330608,
          -1.7652171121503304,
          -1.6983708686363803,
          -1.7149943520440725,
          -1.6881190758015898,
          -1.6344111398140535,
          -1.4837325843322904,
          -1.8291442989929567,
          -1.811150022528166,
          -1.7853252752579638,
          -1.7933571319647175,
          -1.7724315435444287,
          -1.7564553181550284,
          -1.6846619437182837,
          -1.6710992043910224,
          -1.658501140328708,
          -1.6408882406910044,
          -1.6232113766322676,
          -1.6352702011791476,
          -1.6568142774429326,
          -1.5913989513489717,
          -0.20398626279258825,
          -0.1393050902545008,
          -0.06657953551147346,
          -0.011284757504108572,
          0.07061690138550299,
          0.1434841561152866,
          0.20827016446140648,
          0.22360149949970923,
          0.3943585623700932,
          -1.6720310169519788,
          -1.6214184900570747,
          -1.555075234911966,
          -1.5253841921579487,
          -1.5549495671236289,
          -1.520336072101826,
          -1.5198921967208268,
          -1.4394246029267983,
          -1.4165848322630505,
          -1.7419282808660026,
          -1.7118918634939844,
          -1.7039307676879072,
          -1.6524948087996587,
          -1.6364230971835332,
          -1.6216397130486766,
          -1.5850462590236485,
          -1.5515321898722498,
          -1.482653905177301
         ],
         "y": [
          5.06093963799718,
          4.089290757961302,
          3.68826130566105,
          2.6774560938816188,
          2.2950541263616824,
          1.9555556606512092,
          1.8121516183131887,
          1.8591532428346247,
          1.4252343834690024,
          1.8868042480836829,
          1.4072894880324278,
          1.1948088011852107,
          1.3684663970577495,
          1.4954057603426862,
          1.5197190387629493,
          3.346947967113581,
          3.463043169907107,
          3.3783787507226095,
          3.315215020052532,
          3.191282714127672,
          3.0273746219200848,
          2.6671488951779123,
          2.8703070974971268,
          2.7102814801316857,
          2.6916537986146643,
          2.6195531706633575,
          2.409955260367445,
          2.3935595251729778,
          1.7907180293364255,
          1.5716346877442104,
          1.4534129321567375,
          1.2626136411489295,
          1.1968297910111307,
          3.6613623076501915,
          3.569097323117331,
          3.476079940680415,
          3.3496473681522714,
          3.356181926770902,
          3.226673371454577,
          3.093027286939459,
          3.1173930085264376,
          2.939965359036965,
          2.825516493359072,
          2.7855511818184824,
          2.8134145771206245,
          2.0032440399645934,
          1.934348365721554,
          2.6580002571196566,
          2.5045679119893656,
          2.487358666384587,
          2.2625128824852134,
          3.2278654474947905,
          3.056751107030614,
          2.956252286613328,
          2.41157105444251,
          2.4996371670124446,
          1.7351831036584,
          1.7403451262067033,
          2.0211853338255588,
          1.6007872679137332,
          1.6077167768207203,
          1.4038979970435357,
          1.1697340251079547,
          1.356651772818589,
          1.2678657463618495,
          1.1597171574548213,
          0.9863281210866037,
          0.9165795411935154,
          0.7739513319407065,
          0.6168206170747839,
          4.713531269000128,
          4.586019705221467,
          4.492267407423437,
          4.478570556317642,
          4.6207980808199425,
          4.428145643027268,
          4.281327226927095,
          4.467832681228164,
          4.295670113236224,
          4.091581933921705,
          4.062414207082456,
          3.9972145377732193,
          3.865518854147684,
          3.7960641111600655,
          4.133508077033601,
          3.835898976417793,
          3.667678876268102,
          3.4369357344745577,
          6.57885436437165,
          6.889345606592532,
          8.358961441577081,
          7.3931662977065935,
          7.571793876378508,
          7.098985162503968,
          7.628595936302922,
          7.76805990913361,
          7.177532681948286,
          6.364277492817048,
          6.441213459107485,
          5.834337802638461,
          5.643433009470606,
          5.477334387839314,
          5.2830747895683094,
          5.33079357237263,
          5.288652126353445,
          4.554024972220777,
          4.002615066160998,
          3.983064247874477,
          3.86902448462205,
          3.751150808814876,
          3.705849315926981,
          3.4777502412059307,
          3.291761238246744,
          3.590854871509714,
          3.0008739506027235,
          3.1474110597027494,
          2.9721817339050833,
          2.820933272848963,
          2.7294581398601085,
          2.7031397741090415,
          1.938969559565633,
          1.8426176498661844,
          1.6430987510333392,
          1.5393000784794681,
          3.1821335868983263,
          3.1673533074485585,
          3.065829872562917,
          2.9647878104455763,
          2.510234261561608,
          2.5175956640720347,
          2.3592183289174713,
          2.353195448008961,
          2.1654737378187323,
          2.1105438528840397,
          2.072306483455672,
          2.015320287648524,
          1.9124547770193,
          1.826145163610416,
          1.7471345339911684,
          1.6537927991055998,
          1.6411430460844718,
          1.6196337267808445,
          3.962458168588588,
          3.9233028653599225,
          4.059383001757401,
          3.5844756997477303,
          4.046061157469952,
          4.090236557047661,
          3.9233406183477086,
          4.050660621252961,
          3.8045999683368636,
          3.649705600351727,
          3.6138560431407747,
          3.5887276177109397,
          3.5912167909559454,
          3.63450017913578,
          3.3478295988189553,
          3.3166816946370488,
          3.196010548312583,
          3.1361198316646446,
          6.000644501764035,
          6.2884939716688155,
          5.800386953441047,
          5.7716008736633,
          5.687356502699133,
          5.748982176947337,
          5.286755571895928,
          5.5467624637833195,
          5.102324109987299,
          4.843146048009456,
          5.0241109719234665,
          5.016270991492876,
          4.896893718744338,
          4.9238119883425195,
          4.953779971044135,
          4.9999285552275285,
          5.1402078799050415,
          5.173694203508839,
          3.4112943183977547,
          3.6693362981612863,
          3.5381406429671456,
          3.423907556916949,
          3.3502351517747617,
          2.9799177533770416,
          3.1083551133169087,
          2.9947692814738165,
          2.8455149922790595,
          2.62513663312612,
          2.621405578863775,
          2.883031352448739,
          2.611802659225011,
          3.607202197042662,
          3.564635534764186,
          3.576849851851171,
          3.4891013574066534,
          3.3796835628286237,
          3.3415124688277102,
          3.3367296001688977,
          2.753803823415826,
          2.5645203735632487,
          2.516328379235021,
          2.688112809841784,
          2.429929245161641,
          2.242548842803124,
          2.066930454303085,
          1.973078454657969,
          1.634062463676735,
          1.5250426344228636,
          1.4904090363879896,
          3.041143568478476,
          3.231282959647261,
          3.0807765630489077,
          2.9122673567219866,
          2.891485781145776,
          2.9071184490535056,
          2.8574440722029277,
          2.880045805487771,
          2.7615355882307107,
          2.606578760641743,
          2.5278385918546054,
          2.429452829591391,
          2.2346668352373524,
          2.0445585882095023,
          1.8514915626353006,
          1.6986349094356699,
          1.5353198817781109,
          1.5030561659432433,
          5.463201331270646,
          5.018635608764718,
          4.657223379264691,
          4.625845656087652,
          4.541666047188254,
          4.145906570590501,
          4.060037902658545,
          3.7804087373207067,
          0.49783639734294066,
          0.6249131394998476,
          1.2470759788311252,
          3.3936992228125855,
          3.025796963010753,
          2.4126355172961262,
          2.0507016646436997,
          2.0432898225738394,
          1.870248646273214,
          1.8305519528845988,
          1.83010899284122,
          1.7589615320781324,
          1.0951457460727891,
          0.8641213884119237,
          0.8599572275463949,
          1.2877890480829866,
          1.1688384078877347,
          1.5072363850830928,
          1.4206954440490474,
          1.3466549935009362,
          1.3756055162510608,
          1.3338131113449,
          1.2041954544725826,
          1.1492961396120671,
          1.1905591779070783,
          0.9367949317064186,
          0.9946437284022204,
          0.9665610234660288,
          0.8489548156747138,
          0.764862329068854,
          0.7576678399739868,
          0.5742558575163942,
          0.5919546113485331,
          4.147912324787215,
          4.193796366490205,
          4.236271663497599,
          4.074586471867074,
          4.0408057237123,
          3.7804612870707826,
          3.7545981786458626,
          3.385279932198501,
          3.4272062654556716,
          3.201524762205797,
          3.1497230354330013,
          3.084244459717797,
          2.7939209182622946,
          0.9502697110932824,
          0.9834167561806957,
          0.9174222772601461,
          0.9246292130046075,
          1.0454550986566242,
          4.085910329671683,
          3.8707997639801377,
          4.084689518917446,
          3.951372847243909,
          3.431437797055799,
          3.673296196067551,
          3.4352220140788945,
          3.4679887164825387,
          3.19593268322308,
          2.957498837733924,
          3.1879605264288204,
          3.1277225765502648,
          3.065736211928217,
          2.9666754231128247,
          2.903776493286081,
          2.9565440339318,
          2.8662036980561214,
          2.8205097774554693,
          0.8861615764513597,
          0.8200336788786697,
          0.7475204290828497,
          0.6803130035148974,
          0.6789858843619869,
          0.6143795938387105,
          0.574765823636299,
          5.506969948121615,
          5.434472474058471,
          5.325108579435503,
          5.2087884206742965,
          5.211937511059718,
          2.397903666874873,
          2.3594842135276313,
          4.130249232097542,
          4.023352692657106,
          4.170519651688564,
          3.999005812582622,
          3.9092722052034174,
          3.892476611943254,
          3.761582932975294,
          3.914967429196805,
          3.692264999077145,
          3.5713598882654334,
          3.5197403124134357,
          3.388178255214648,
          3.2446363594525813,
          2.4917626641819837,
          2.3308819190840455,
          2.386496712746474,
          2.3435321276246674,
          2.1675700791672923,
          3.218838293407643,
          3.1263382490086205,
          2.999431457549661,
          2.824176649694761,
          2.643133059628601,
          2.635239064085336,
          2.4942971432781116,
          2.425799318235879,
          2.4308626385489847,
          2.375445298434202,
          2.3120677851688374,
          1.861522426219978,
          4.731720941539439,
          4.2211578206615,
          3.8730232808850493,
          3.7520595558312424,
          3.715862518260754,
          3.5626276052132324,
          3.505176854570373,
          3.792703912767585,
          3.70325486477211,
          3.7042994941558085,
          3.6783339177131706,
          3.5400862061810714,
          3.980585869071102,
          4.363593052258679,
          3.7531504714978894,
          3.848216535310914,
          3.9084419117135893,
          3.6204273837106817,
          3.4352958766733033,
          3.2297903280829523,
          3.529936770259027,
          3.1731057857524405,
          3.0651973531669916,
          2.8817029091123527,
          3.2417638103305846,
          3.066532151660718,
          3.043570339708547,
          2.975016771598968,
          2.880308573940177,
          2.855039740466946,
          4.7639659714975755,
          4.808700282038534,
          4.521707911131687,
          4.307137010673316,
          4.345733474286504,
          4.208512611996272,
          4.058308684995803,
          4.022509382802627,
          3.9293888869646816,
          3.749186591739193,
          3.624810015956528,
          4.045837262394875,
          3.8474806261347303,
          3.5462226650126807,
          3.444822650595882,
          3.3388685345568043,
          3.3653321908626235,
          3.065829568044332,
          3.0947807445396633,
          2.9817029360152136,
          2.8649496783728745,
          2.811898904208783,
          2.892267780835331,
          2.3412962684478074,
          2.670507368278205,
          2.2965927884739337,
          2.3153173598544985,
          1.8206211099650464,
          2.2024216805594206,
          1.5623699623827771,
          1.4423738403832116,
          1.3542303870010466,
          1.1831612440237993,
          1.1191111408820644,
          0.9844004914917078,
          0.8412944536621795,
          0.7983548494589937,
          0.5582060107266509,
          0.7024303746673133,
          0.7840046606430379,
          3.9441268463825105,
          3.9993177259674177,
          3.8512008857048228,
          3.891853514098862,
          3.6430050138430037,
          3.6620295199303197,
          3.520495147777269,
          3.361813558384047,
          3.216518317765234,
          2.9606199461326224,
          2.8481169896478398,
          2.88602149405819,
          2.841164980764475,
          2.580804325695577,
          2.669315356949152,
          2.824663069848283,
          2.588612212412561,
          2.50661397107898,
          1.9027067983284163,
          1.9208999419123456,
          1.934486086160961,
          1.6728305243460226,
          1.6656287626503565,
          1.8716184879177056,
          1.7537082043162582,
          1.6787551572820114,
          1.6341578737527878,
          1.5312598924375402,
          1.1404969554699504,
          1.0705909432775476,
          0.7723019471837954,
          0.770120158400957,
          0.6367016517659222,
          4.270388203132039,
          3.778541511823504,
          3.679844266036918,
          3.573833313155831,
          3.4551335699934813,
          3.4092005514868085,
          3.244772409337238,
          3.5605407814220578,
          3.2159588660711824,
          3.0709236512234077,
          3.106290453073318,
          3.172659478456961,
          3.1238278382993614,
          2.7168143662995834,
          2.691587303155928,
          2.6122304359534003,
          2.3341486205403545,
          2.235239480730509,
          1.2796789582291292,
          1.2155832836702334,
          1.1682999772409195,
          1.1628350671331908,
          0.6515267211363486,
          0.6660005242809438,
          0.7591720332207031,
          5.736118256890624,
          5.6653932916021015,
          5.690909476520765,
          5.445654666771717,
          5.513866813644161,
          5.250899460880653,
          5.221422135740704,
          5.095734701218883,
          5.04476564434214,
          4.4258612075683,
          4.490351123675797,
          4.379215679778648,
          4.348028066347555,
          4.160329545506024,
          4.217776366937732,
          4.29707627105117,
          4.235331885554441,
          3.9491785354191937,
          5.344211900671014,
          5.0936618919547865,
          4.9784699082746755,
          4.987834188321681,
          5.061687486474713,
          4.789885544948659,
          4.725528793131808,
          4.123824162694293,
          3.996926812450301,
          3.898539559491592,
          3.620185141868094,
          3.2489628336835623,
          3.183834927269692,
          3.0476408582397134,
          3.048440297510297,
          3.095128579864032,
          3.195066245503089,
          3.0035081198194997,
          3.348674307375879,
          3.616644303721617,
          3.479493160704411,
          3.4375904594772844,
          3.4172348062984397,
          3.2916511942324407,
          3.2470240971427513,
          2.9782857823604587,
          2.8119720886674244,
          2.808371285333899,
          2.772085293883296,
          2.7052478988055864,
          2.6523207349686913,
          2.6316484678976297,
          2.5318557677266327,
          2.5307951362160788,
          2.5382929976694157,
          2.5279781518533744,
          1.0247355541192384,
          1.1394689525212793,
          1.1329133700776008,
          1.0725970974792745,
          1.1510741864082652,
          4.810848843767569,
          4.707502148290406,
          5.296661366497931,
          5.134484004742664,
          4.948148598398007,
          4.721325612831694,
          4.676936066639395,
          4.949163606896213,
          4.604772917549437,
          4.317854436919615,
          4.295647461042674,
          4.241400813150913,
          4.1137519499637065,
          3.9582102188262196,
          3.8711570550990775,
          3.785722392638072,
          3.693680602097987,
          3.4523808765508974,
          2.703204217132309,
          2.6660136336773683,
          2.472586127172087,
          2.4485868100199606,
          2.290523517564315,
          2.241870037316384,
          2.1994668070963113,
          2.188665755860265,
          1.5462367024954988,
          1.4192651324580758,
          1.3975798594346447,
          1.3295782015569744,
          1.1757764984381125,
          1.0325621591630112,
          1.4769562876390931,
          1.381319143778684,
          1.3618723989335533,
          1.2396709091300662,
          4.5788551504706865,
          4.4050150363470975,
          4.324396077510031,
          4.150543030300503,
          4.211196027819553,
          3.8885050016005436,
          3.9090145188978007,
          3.7904975012757207,
          4.038676288450005,
          4.150185144649454,
          3.9798355471269815,
          3.8247620081077076,
          4.109027202432322,
          3.7777314422602046,
          3.410855815313757,
          2.971807114109411,
          2.834165473206906,
          3.158664050283655,
          1.7841918205720413,
          1.4404187944880038,
          1.4321580811092192,
          1.3890660972832465,
          1.6051434992705844,
          1.4844221912992133,
          1.554085038829432,
          1.6323510457055892,
          1.2439957820412175,
          1.5014917131584737,
          1.464999594057112,
          1.4472140190710385,
          1.400166089629344,
          1.2665583995634824,
          0.966718510319428,
          0.9501382993059436,
          0.9361122891971118,
          0.8380698244883664,
          2.3446830429048227,
          2.2072775803919997,
          2.210692748461598,
          2.403560063615932,
          2.4515354749900053,
          2.1606735743149907,
          2.2328388545687403,
          2.2282467876051357,
          2.1186283294676023,
          2.075779468263161,
          1.387394023210482,
          1.1753898007695105,
          1.1689493919839362,
          4.465367149326891,
          4.336842544891044,
          4.218816457702305,
          4.050622778879946,
          3.9080590000026585,
          3.865670314933793,
          3.7624134880651816,
          3.561779933492352,
          3.7424874469117384,
          3.4187469777908737,
          3.497975738452466,
          3.4109172388536053,
          3.201433328399546,
          3.022251838511899,
          3.1864570458007524,
          3.0776300422608074,
          3.021447003093326,
          2.9228273132865534,
          4.761645144116007,
          4.712860429533378,
          4.676011564991478,
          4.418007965616919,
          4.496806053285764,
          4.344958802109505,
          4.450884374419385,
          4.440038744796834,
          4.1386623282460455,
          3.915603688336447,
          3.719590042216688,
          3.8842336051007775,
          3.690113073169638,
          3.542852242787149,
          3.4899059910751986,
          3.553293618170134,
          3.3887278384803143,
          3.0086137225846983,
          5.896819566344967,
          5.876361995502506,
          6.405251154914182,
          5.8316749129725505,
          5.69490696710927,
          5.540428620076908,
          5.606474250151746,
          5.5939250087196415,
          5.184308339679798,
          4.809027435412317,
          4.771383147085241,
          4.989418899318633,
          4.864935798272244,
          4.670686542765926,
          4.722082599711501,
          4.7396996044331905,
          4.53890169678154,
          3.997461221096813,
          2.725185289896997,
          2.7822330363201524,
          2.6451295164296442,
          2.6834599396033023,
          2.599684930180718,
          2.4893866203347303,
          2.1339329813389454,
          2.0714700750946125,
          1.9963907676466845,
          1.8308490885828146,
          1.7910579414593013,
          1.858455046762198,
          1.9530705552502028,
          1.6880560325898804,
          1.7718288063114762,
          1.7587717597665318,
          1.7085574106833967,
          1.7354776376291412,
          1.691054939255052,
          1.6617733549471556,
          1.6876838069236089,
          1.897989422142641,
          1.5075355847977014,
          2.715516187499346,
          2.4989522174773673,
          2.2498607426490764,
          2.1549092465413615,
          2.2235324589485694,
          2.1071588054174675,
          2.096419085728359,
          1.8295037354283976,
          1.8183426724676544,
          3.505546326557667,
          3.312593731628325,
          3.148624420214622,
          3.0899949434128393,
          3.062439073666053,
          3.054001316417508,
          2.9481322077663132,
          2.8187466531913574,
          2.7717301137517216
         ],
         "z": [
          6.612046520295522,
          4.73438077719946,
          3.93292151379356,
          5.567169387291544,
          5.741200816089021,
          5.484732318434436,
          5.823038717501266,
          6.975069104000738,
          4.023649658636696,
          4.454834745814545,
          4.461887031582639,
          3.927419802990049,
          1.7341479321226188,
          2.199323289277451,
          3.201396998371249,
          -1.1709648581650236,
          -0.8753380570707571,
          -0.8168861802761864,
          -0.7342369849932152,
          -0.6886982271043136,
          -0.5838552016670396,
          0.17150782829347025,
          -0.5560563773821586,
          -0.5704141430105315,
          -0.48892101484778844,
          -0.3562304095002373,
          -0.3911514277211615,
          -0.40903717669405926,
          0.274638491118717,
          0.3127840045590875,
          0.31192587537261285,
          0.38105131030838896,
          0.35930620447283923,
          -1.4219640795314008,
          -1.3738533664186032,
          -1.3532667260832307,
          -1.396235376934535,
          -1.3510972154261585,
          -1.2654594321746548,
          -1.192549318010376,
          -1.121887116059945,
          -1.241903588933349,
          -1.1323231950268189,
          -1.1247828725579412,
          -0.9984796362984896,
          -1.7528169371865678,
          -1.6771454291586936,
          -0.9738134794497697,
          -0.8233659880149625,
          -0.7760252989748068,
          -0.8507986322100566,
          -0.20900385138970315,
          -0.26162792786103206,
          -0.3749471318079377,
          -0.8667317918678461,
          -0.4375397226215863,
          0.6260306619714275,
          0.45835900446222266,
          -0.038593413635286365,
          -0.5078699101765984,
          -0.17370219185668248,
          0.05907123412638275,
          0.2901745631433847,
          -0.15606492213418247,
          0.02028845839837764,
          -0.1361902762721841,
          0.1506732623127796,
          0.12077027844861718,
          -0.031216221414289973,
          0.25485340192752276,
          -1.9921923946104412,
          -2.008315578799962,
          -1.8898489179225328,
          -2.007445837600454,
          -1.7527811381199438,
          -1.8043898208715012,
          -1.7107286581076073,
          -1.3774143399844265,
          -1.420149309971465,
          -1.1469475234659747,
          -0.749510581451412,
          -0.8159577950911676,
          -1.0705569249466798,
          -1.107194281755949,
          -0.7579724140135388,
          -0.8477985447868933,
          -0.7988709702553408,
          -0.9961900146442184,
          0.1220550783234768,
          0.3682656584775976,
          1.9869451732061867,
          1.0404083811825167,
          0.12253054989241755,
          -0.4122233782949502,
          0.37866559133045496,
          0.7042801219818737,
          0.3852625238886639,
          -0.22533872776737013,
          -0.14712835499359123,
          -0.6213662543398357,
          -0.9559579487305052,
          -1.0153155095203619,
          -0.8548688109836523,
          -0.7518850178316273,
          -0.6370502927985547,
          -1.4486494182847114,
          -1.392717395942884,
          -1.3171449496494156,
          -1.285702943597641,
          -1.208072068293235,
          -1.1982299012361344,
          -1.0636893581650204,
          -0.9905525336126317,
          -0.63667029646294,
          -1.0418868212509338,
          -1.0592424524326003,
          -0.9851319549058252,
          -1.0018111538175343,
          -0.984633077015245,
          -0.8584505148931381,
          -0.09690764013737956,
          0.028298541261700352,
          0.1593203368400042,
          0.1905935847568885,
          -0.7391290187904219,
          -0.850716532356974,
          -0.9643089069034771,
          -0.8567802901545134,
          0.13968216705467015,
          0.34856570369121337,
          0.30806400674150636,
          0.5521290911342092,
          0.057981616120822296,
          0.13153539211447646,
          0.26711897465522355,
          0.2748484779410337,
          0.12618184096424817,
          0.16370004225258047,
          0.0157626092096752,
          -0.039645695500518705,
          0.08419381248760194,
          0.13053390296945672,
          -1.2115982595559596,
          -1.2067724427167048,
          -1.1093969863393316,
          -0.7440178584789847,
          -1.3354368534331575,
          -1.141990749949926,
          -1.2555840860663865,
          -1.0752216747033647,
          -1.2004682501168147,
          -1.1975525921242882,
          -1.1817335969554432,
          -1.272706779012316,
          -1.2373197550804207,
          -1.0494527874851203,
          -1.2001651316795465,
          -1.1124677913941219,
          -1.0454219959464606,
          -1.313014823889458,
          -1.4841438041972375,
          -2.48321463240321,
          -0.9945673564414247,
          1.7489630514050312,
          2.0761460726525858,
          1.7456258171545758,
          1.0515526010603662,
          1.587463716142739,
          0.04680981550706591,
          0.3032750502366072,
          0.6403090683324332,
          0.5142503032980525,
          -0.026603615790583145,
          0.052558371832401043,
          -0.6262791715274014,
          -0.7676805568712426,
          -0.21251331588105696,
          0.2817670638505203,
          -0.8049447429278802,
          -1.5689826072189186,
          -1.4780589970991276,
          -1.4789043548551182,
          -1.5032868301817546,
          -1.6529008504178035,
          -1.6951194337184434,
          -1.7675814747934206,
          -1.6536556718821092,
          -1.6115473067695218,
          -1.710291558961022,
          -1.7234742632087754,
          -1.8482773820994922,
          -0.8757505581054397,
          -0.8858798496260859,
          -1.061147001642539,
          -1.0269839596712793,
          -0.7665092715861941,
          -0.48965118417389913,
          -0.6677775350036808,
          0.4183456751954874,
          -0.056758517009909776,
          0.04597969612520824,
          0.32162070752329536,
          0.2810024190144341,
          0.2875833029777088,
          0.165608002591123,
          -0.0010183225636585032,
          -0.27147499183984697,
          -0.2576443379440922,
          -0.2628527378494598,
          0.34735750129290066,
          0.6235071522704723,
          0.3126019671853707,
          0.11859840407125352,
          0.13208035355483547,
          0.14796934264790415,
          0.2442536903287649,
          0.244832622550657,
          0.007210198485027094,
          -0.10695621201844699,
          -0.07495011668895614,
          0.2423136905166718,
          0.2837283731012344,
          0.14796296323428385,
          0.133767315943401,
          0.3099223787018021,
          0.18150524562432876,
          0.17196949946096843,
          0.5948005050498273,
          0.3090985012785546,
          -0.10851734381440688,
          -0.1238817267252397,
          -0.16972644462482767,
          -0.23471588540773905,
          -0.23933396663859732,
          -0.43674019986981044,
          -0.5259282152729364,
          -0.3321310216806641,
          -0.5270045079308538,
          0.14960321439342364,
          -0.1671146148138693,
          -0.6386208317367571,
          -1.0957279620828442,
          -1.2476276805884494,
          -1.3471065948794105,
          -1.4475603353323512,
          -1.3711066557368476,
          -1.0428463344490793,
          -0.5269969003053078,
          -0.10033285495263376,
          -0.06402424205349035,
          0.6937419483789178,
          0.5592701058794526,
          -0.5035300139980803,
          -0.4747302304406906,
          -0.5373098343551664,
          -0.4930539514485132,
          -0.47571689651161725,
          -0.4556216147578521,
          -0.4474959691647844,
          -0.4539547960748587,
          -0.6270962586139339,
          -0.5313165998541,
          -0.4506495929471081,
          -0.5655747322911506,
          -0.5289305910167706,
          -0.4594821954145938,
          -0.5047772443769747,
          -0.41108052469533707,
          -1.3457751868836525,
          -1.1022235836579841,
          -0.9865867712775163,
          -1.2705706553217058,
          -1.3385051876178424,
          -1.0736249849719892,
          -1.1113878975071325,
          -0.29915346770696233,
          -1.083069020931151,
          -1.0561776929434687,
          -1.0705660845685339,
          -1.1329036457794932,
          -1.3212721040383058,
          0.6817196079250868,
          0.8521440517174436,
          1.1194629591879943,
          1.4565853546154328,
          1.0375531769636104,
          -1.5879265769052433,
          -1.6633905023857924,
          -1.142275827951176,
          -1.360733117363909,
          -0.7677453063829901,
          -1.54857675246844,
          -1.6203686218247184,
          -1.4371615664998674,
          -1.724397583389268,
          -1.5166645420317508,
          -1.5300990763384579,
          -1.5913631687997838,
          -1.5917734482352037,
          -1.5921288158009521,
          -1.4769462907263617,
          -1.388291053194987,
          -1.4332867019650997,
          -1.4348215072389727,
          -0.24237783161689314,
          -0.28132191966166026,
          -0.23649790708269597,
          -0.18657108046801368,
          -0.23653904344677054,
          -0.2858896512040731,
          -0.2795360337365705,
          0.856397351559508,
          0.9207664329757598,
          0.8592268625063105,
          0.9220988891903269,
          0.9951655188511541,
          1.0211760778319792,
          0.6924150564486139,
          -1.3339120981739732,
          -1.432633860091983,
          -1.2843705234699718,
          -1.219323035786984,
          -1.2050384971371555,
          -1.1254202882051525,
          -1.1840609695078723,
          -0.8955118798718641,
          -1.2227094796914544,
          -1.3739873241819716,
          -1.103039801244302,
          -1.2383860233130248,
          -1.3626956735153097,
          -0.8444222672877539,
          -0.7675595314838458,
          -0.47404746268618914,
          -0.5182776960022452,
          -0.6652679918520396,
          -1.3365262462941003,
          -1.094030371312067,
          -1.3672153767576947,
          -1.5618826930433343,
          -1.3355647837334268,
          -1.2371589417861026,
          -1.0598187590094095,
          -0.7840717484103298,
          -0.6442333451807027,
          -0.4394127616591841,
          -0.8746738345059374,
          -0.896300715197301,
          -3.3874664013062388,
          -2.4090609976034303,
          -1.9691422955106597,
          -1.8472351905013362,
          -1.5942106601617698,
          -1.0509287534349188,
          -1.1598904949070634,
          -1.3599343566606696,
          -1.7966059744545053,
          -1.487677784867533,
          -1.1576389471505917,
          -1.2251209966917198,
          -1.538129660897339,
          -1.5575923038969413,
          -1.764954833925417,
          -1.2834166737362072,
          -1.2362237150857878,
          -1.3066497877382008,
          -1.2814218523146632,
          -1.3927417089934138,
          -1.19391891524781,
          -0.5529549711938816,
          -0.5338619994787019,
          -0.5528809130110783,
          -1.3460721575396715,
          -1.2015387430925775,
          -1.0335239660274858,
          -1.000076180896731,
          -1.0004221625518208,
          -1.0258089043831342,
          -1.5727035201388349,
          -1.3785983956102998,
          -1.7280411455119116,
          -1.8460121607608497,
          -1.7241337608422416,
          -1.2900602188270693,
          -1.244809942243953,
          -1.2369472218205781,
          -1.1325722016908646,
          -1.2812195843403928,
          -1.1725870277928452,
          -0.5443380211191199,
          -1.1597811313514044,
          -1.4166493120332495,
          -1.3146692767566492,
          -1.1876389573051656,
          -1.203870904550898,
          -1.1306166744350308,
          -1.1879158179617677,
          -1.1283084253992064,
          -1.1787163482936933,
          -0.7341974971113613,
          0.014947146836272563,
          1.7730375975280468,
          1.3960530453324695,
          2.223828322092538,
          0.21123339731187454,
          1.9399177809147496,
          1.3000160082486465,
          1.606536333928938,
          1.2914094796828308,
          0.9381910673207878,
          0.44297623985127393,
          0.5953517585581459,
          0.778383317059827,
          0.5204867411016112,
          -0.1579955698796766,
          -0.41213058146211873,
          -0.4726872134003231,
          -0.42193206973876624,
          -1.3239982314374943,
          -1.0301219450470664,
          -1.0019211362595213,
          -0.8731280861845861,
          -1.1738776113092029,
          -0.876540745630144,
          -0.8110836230049651,
          -1.0246286523266679,
          -1.0540108444915424,
          -1.0456336086351639,
          -0.955611438224768,
          -0.2537938835327862,
          -0.06723186790231696,
          -0.2885085999110352,
          0.20966206366774584,
          -0.42319322192500036,
          -0.5793786721316477,
          -0.565326773411803,
          0.2042906314548816,
          0.20657802607841602,
          0.1073712248238446,
          0.28070522585231583,
          0.39825502075788194,
          -0.6531019109798296,
          -0.5800672783949086,
          -0.4619325667228437,
          -0.24635140316340925,
          -0.07317510082945171,
          -0.25470996019356973,
          -0.5058700933296437,
          -0.46985859766163673,
          -0.5045515239887546,
          -0.590853854727721,
          -1.5446450717175892,
          -0.8487085138627228,
          -0.7617650470000907,
          -0.8277392856156671,
          -0.7027088905829156,
          -0.7550980573925589,
          -0.8168786318726358,
          -1.3832881572815772,
          -1.52833562483212,
          -1.44290824609446,
          -1.5227124897107693,
          -1.2054562187523012,
          -1.1997347329689745,
          -1.3184544947593508,
          -1.4505230754609848,
          -1.3041693109593733,
          -1.2436936353538373,
          -1.180609694471266,
          -0.9874027506800325,
          -1.037073170918181,
          -0.9675656057337728,
          -0.8638512637304409,
          -0.20928048650475722,
          0.04488956243069417,
          0.17674217989783206,
          -1.9264914811514036,
          -1.9016852073088495,
          -1.8091381798008073,
          -1.963524641050198,
          -1.736930096372851,
          -1.8587228393960533,
          -1.75648942998055,
          -1.4412308744887328,
          -1.4982418343068722,
          -0.6530823470865786,
          -1.3689190090692394,
          -0.9766001651402119,
          -0.9777839499698304,
          -1.1285093503161951,
          -1.2572349536027536,
          -1.2003539713651823,
          -1.2548998192682372,
          -1.4439615443908036,
          0.8081301428497792,
          0.261732340181443,
          0.4935053270617562,
          0.7190023558101712,
          0.9563206481069625,
          0.539115286924834,
          -0.10199855492793192,
          1.0086322255674494,
          0.37099749029174567,
          0.7746061834235309,
          1.1855026392235117,
          0.9024679815128762,
          0.33002215890183967,
          0.21418129860520072,
          -0.2759734887403541,
          -0.1062672011764454,
          0.25683056022337153,
          0.4213926789325743,
          0.16752964019774194,
          -0.4944901614613548,
          -0.48914058037731056,
          -0.3473534825105264,
          -0.31829372953548274,
          -0.4034418169943953,
          -0.38165035233515365,
          0.4425246337837784,
          0.3241029589833677,
          0.3407613842357371,
          0.30590515786949657,
          0.19240601200016655,
          0.15067844639323844,
          0.16365835823247774,
          -0.01341790501281693,
          0.009095176052474077,
          -0.008743911743543963,
          0.05901871241109477,
          0.35157275030172397,
          0.33870737350136876,
          0.3067377327112673,
          0.39248438268163066,
          0.3579236897269221,
          -0.9428620429686112,
          -0.8827408317726243,
          -1.2581092888127814,
          -1.2963956884740808,
          -1.4852448526897561,
          -1.500986335900795,
          -1.3099652232396457,
          -1.0456803856360426,
          -1.2075387402993296,
          -1.5609174308574363,
          -1.4001306763106924,
          -1.2722478086866347,
          -1.3209027289283635,
          -1.4208174315549398,
          -1.4537090997316946,
          -1.2807356168802697,
          -1.166835894493647,
          -1.5182110798529882,
          -1.2174730792891715,
          -1.2760065117304127,
          -1.3043332772410359,
          -1.3716949817412156,
          -1.2608088396613013,
          -1.3711895459251806,
          -1.2962815434275292,
          -1.260219428341238,
          -0.7490423776179838,
          -0.5547963907214247,
          -0.4929793868758588,
          -0.3937317371385156,
          -0.46297570583487124,
          -0.41704851335703996,
          -0.881327122939573,
          -0.7581056258790321,
          -0.7519084819460286,
          -0.688264129789075,
          -1.1065631445731394,
          -1.2896158264909305,
          -1.313985577567103,
          -1.0533650410225819,
          -1.3379006159066642,
          -1.2845419039987032,
          -1.7190064650326486,
          -1.4603554237310288,
          -1.5093564824027348,
          -1.180709451807974,
          -0.759065359079103,
          -1.1324580713279262,
          -2.277625275171768,
          -1.9076230775054541,
          -1.3200905705647867,
          -1.5778421874690431,
          -1.7537927324578027,
          -1.5817789001939961,
          -0.33586558839691705,
          -0.4361246080429438,
          -0.5432137661289117,
          -0.49950800196630596,
          -0.20807843321757355,
          -0.31630045240620736,
          -0.19347646745430444,
          -0.1797347366799865,
          -0.5060238023664019,
          -0.25816482820589287,
          -0.27979584431528165,
          -0.12270207686174782,
          -0.19226584475686787,
          -0.23950902311233097,
          -0.40901434998739344,
          -0.3992789656109081,
          -0.24145420887778535,
          -0.3911759441809222,
          -0.7105122668138718,
          -1.048100436639792,
          -0.8459278873893952,
          -1.1863840305080515,
          -1.1695356639325891,
          -1.4785578611324943,
          -1.5657958917393704,
          -1.512035502867984,
          -1.6631223290814336,
          -1.7757890291789657,
          -0.5970483262458673,
          0.19426775421110923,
          0.2946132267285949,
          -1.3152777823931345,
          -1.2072714985284743,
          -1.1107264459894748,
          -1.14498494360293,
          -1.0853357978286111,
          -0.9681410700430334,
          -0.9855045520764092,
          -1.1667132300719174,
          -0.8909616836540055,
          -1.1794466227111742,
          -0.8875346308965045,
          -0.7905104773895972,
          -0.9827942689996216,
          -1.0295957095207966,
          -0.8140369307304769,
          -0.7239121283207759,
          -0.6712741020614227,
          -0.7606567481671296,
          -0.9808224864551758,
          -0.8570309488397329,
          -0.6803096386882463,
          -0.9561433705630231,
          -0.920478777866725,
          -0.9751175518823129,
          -0.8087224384442034,
          -0.272906924035818,
          -0.017268565272797774,
          -0.3554214631837488,
          0.07589925126869433,
          0.5267412116708645,
          0.03802945123668611,
          -0.21104112399971695,
          -0.187653630664629,
          -0.15851760203837945,
          -0.2524681774901551,
          -0.6145890845378077,
          -0.9784624031004391,
          -0.9112974445597299,
          -0.10123252793417364,
          -0.5890900293175119,
          -0.5674021507341503,
          -0.6644083034275231,
          -0.3796651527492016,
          -0.0804098172310435,
          -0.6701456470318078,
          -0.9639100224485069,
          -0.7748858703833666,
          -0.5207451263574049,
          -0.5982137553959678,
          -0.5676642716331202,
          -0.6530710985794322,
          -0.26938788944344866,
          -0.26337924757927034,
          -0.6975723564298634,
          -1.3879752392483369,
          -1.2085421402172232,
          -1.1203656611065007,
          -1.2106992537995775,
          -1.1534596727356814,
          -1.1003516036564356,
          -0.8823908553878962,
          -0.8024067156698218,
          -0.8216647709234093,
          -0.9733901858056111,
          -0.9334328102604653,
          -0.9663596646718847,
          -1.0205807519119174,
          -0.8483087488293379,
          1.227841306142862,
          1.3734344352922734,
          1.4124841583929566,
          1.9073769799871025,
          1.9880032808630559,
          1.9846184673956313,
          1.7927656007988497,
          2.1029784484595706,
          2.0052883246853166,
          0.8404021364472143,
          0.6548535310284532,
          0.35835623797950156,
          0.2721240760056966,
          0.31408968184192537,
          0.39006299559365504,
          0.5696841589521169,
          0.6675198625583945,
          0.7603798432388024,
          -1.0111792601878293,
          -0.8567581504032603,
          -1.387268974714948,
          -1.2335182762019778,
          -1.2428647801802477,
          -1.4591130053915027,
          -1.361584722097975,
          -1.1446015630675133,
          -0.285210918728528
         ]
        },
        {
         "customdata": [
          [
           "China"
          ],
          [
           "China"
          ],
          [
           "China"
          ],
          [
           "China"
          ],
          [
           "China"
          ],
          [
           "China"
          ],
          [
           "China"
          ],
          [
           "China"
          ],
          [
           "China"
          ],
          [
           "China"
          ],
          [
           "China"
          ],
          [
           "China"
          ],
          [
           "China"
          ],
          [
           "China"
          ],
          [
           "China"
          ],
          [
           "China"
          ],
          [
           "China"
          ],
          [
           "China"
          ],
          [
           "India"
          ],
          [
           "India"
          ],
          [
           "India"
          ],
          [
           "India"
          ],
          [
           "India"
          ],
          [
           "India"
          ],
          [
           "India"
          ],
          [
           "India"
          ],
          [
           "India"
          ],
          [
           "India"
          ],
          [
           "India"
          ],
          [
           "India"
          ],
          [
           "India"
          ],
          [
           "United States"
          ],
          [
           "United States"
          ],
          [
           "United States"
          ],
          [
           "United States"
          ],
          [
           "United States"
          ],
          [
           "United States"
          ],
          [
           "United States"
          ],
          [
           "United States"
          ],
          [
           "United States"
          ],
          [
           "United States"
          ],
          [
           "United States"
          ],
          [
           "United States"
          ],
          [
           "United States"
          ],
          [
           "United States"
          ],
          [
           "United States"
          ],
          [
           "United States"
          ],
          [
           "United States"
          ],
          [
           "United States"
          ]
         ],
         "hovertemplate": "<b>%{hovertext}</b><br><br>Class=%{marker.color}<br>PC 1=%{x}<br>PC 2=%{y}<br>PC 3=%{z}<br>Country=%{customdata[0]}<extra></extra>",
         "hovertext": [
          "China",
          "China",
          "China",
          "China",
          "China",
          "China",
          "China",
          "China",
          "China",
          "China",
          "China",
          "China",
          "China",
          "China",
          "China",
          "China",
          "China",
          "China",
          "India",
          "India",
          "India",
          "India",
          "India",
          "India",
          "India",
          "India",
          "India",
          "India",
          "India",
          "India",
          "India",
          "United States",
          "United States",
          "United States",
          "United States",
          "United States",
          "United States",
          "United States",
          "United States",
          "United States",
          "United States",
          "United States",
          "United States",
          "United States",
          "United States",
          "United States",
          "United States",
          "United States",
          "United States"
         ],
         "legendgroup": "1",
         "marker": {
          "color": [
           1,
           1,
           1,
           1,
           1,
           1,
           1,
           1,
           1,
           1,
           1,
           1,
           1,
           1,
           1,
           1,
           1,
           1,
           1,
           1,
           1,
           1,
           1,
           1,
           1,
           1,
           1,
           1,
           1,
           1,
           1,
           1,
           1,
           1,
           1,
           1,
           1,
           1,
           1,
           1,
           1,
           1,
           1,
           1,
           1,
           1,
           1,
           1,
           1
          ],
          "coloraxis": "coloraxis",
          "symbol": "square"
         },
         "mode": "markers",
         "name": "1",
         "scene": "scene",
         "showlegend": true,
         "type": "scatter3d",
         "x": [
          24.743986315613203,
          25.144999282841386,
          25.835102220383625,
          26.819524101486667,
          27.603517787881724,
          28.179936088797582,
          29.01657128013551,
          30.155839644437265,
          31.33837345688864,
          32.686544922475626,
          33.83088826186315,
          34.556042760285706,
          35.1828227849819,
          36.021901004576705,
          36.63332662525478,
          37.49599440480248,
          38.79957941683569,
          40.26002850879476,
          10.972774256143175,
          11.639797113866855,
          12.13575449248296,
          12.40309249287286,
          12.951935563560117,
          13.576119231303947,
          14.14165248592419,
          14.850222911499918,
          15.467778155271109,
          16.418155437760255,
          17.161874879777315,
          17.816563267265895,
          18.682529560574604,
          17.408165419842,
          17.625382840695764,
          17.79119072635879,
          17.897783201856914,
          18.205028783993864,
          18.43278809132232,
          18.708587502095533,
          18.99621159818747,
          19.108744263973815,
          19.384920185967943,
          19.738425520127755,
          20.052378651714626,
          20.501864805735032,
          20.958779748478452,
          21.391729306630904,
          21.846232977172892,
          22.220113731561522,
          22.999740209562496
         ],
         "y": [
          5.769059590244811,
          5.640149128186582,
          5.606170735268668,
          5.687092972728237,
          5.638736487636407,
          5.593462050331901,
          5.6482466719861515,
          5.781024222381925,
          5.690790333426848,
          5.529526700271837,
          5.643077481605771,
          5.561267867135721,
          5.575070585127214,
          5.6456446746760705,
          5.678137624540596,
          5.808932950953553,
          5.928379009985809,
          6.048455345645393,
          5.264333537148095,
          4.777937598095869,
          4.872774940316314,
          4.782090602267875,
          4.864754790432772,
          5.025495873294192,
          4.956564945109592,
          5.083905167104462,
          5.0121538354469255,
          5.0737920153785225,
          5.136439303211944,
          5.107559414609896,
          5.219291718806479,
          -0.7924578924418452,
          -0.8279902345923107,
          -0.8312727109514609,
          -0.8628020340282819,
          -0.8504800006698446,
          -0.8667106667610266,
          -0.8889526494548852,
          -0.8601311290349958,
          -0.9598066190513717,
          -0.9359682564091366,
          -0.8726927408092254,
          -0.8821071865408506,
          -0.8579471059430478,
          -0.8266916523288976,
          -0.8284393392961988,
          -0.7653860007688276,
          -0.7478110313489287,
          -0.7023172218279036
         ],
         "z": [
          4.355117143487578,
          4.126470133108903,
          4.165771294378185,
          4.403611896397256,
          4.362234682838867,
          4.307951100751665,
          4.155027249708964,
          4.261747356005907,
          3.5204648200631774,
          3.76107975720256,
          3.6934841658711046,
          3.1529721877659975,
          2.952864223439154,
          2.779791469904836,
          2.613437488576642,
          2.6191390237705576,
          2.5152495621781408,
          2.328300721795707,
          1.1150880270644563,
          1.7747504732766977,
          2.0832061373680344,
          1.880479199859402,
          1.880544570045652,
          1.8267295834632573,
          1.8974146522991282,
          1.9565029536865515,
          1.8392937411686474,
          1.8098347077775112,
          1.7917568129334192,
          1.7113343589650045,
          1.7978070383018958,
          -3.657578011427123,
          -3.78838080725641,
          -3.835356363068436,
          -3.8599423510904476,
          -3.9307846580952166,
          -4.035887646868688,
          -4.1246383104712985,
          -4.146835593078918,
          -4.382517795249276,
          -4.396070265747294,
          -4.424280687077879,
          -4.5415661813418255,
          -4.610953386395525,
          -4.698766798142094,
          -4.85563867685628,
          -4.929775454501102,
          -5.030724255302613,
          -5.176608748839174
         ]
        }
       ],
       "layout": {
        "coloraxis": {
         "colorbar": {
          "title": {
           "text": "Class"
          }
         },
         "colorscale": [
          [
           0,
           "#0d0887"
          ],
          [
           0.1111111111111111,
           "#46039f"
          ],
          [
           0.2222222222222222,
           "#7201a8"
          ],
          [
           0.3333333333333333,
           "#9c179e"
          ],
          [
           0.4444444444444444,
           "#bd3786"
          ],
          [
           0.5555555555555556,
           "#d8576b"
          ],
          [
           0.6666666666666666,
           "#ed7953"
          ],
          [
           0.7777777777777778,
           "#fb9f3a"
          ],
          [
           0.8888888888888888,
           "#fdca26"
          ],
          [
           1,
           "#f0f921"
          ]
         ]
        },
        "legend": {
         "title": {
          "text": "Class"
         },
         "tracegroupgap": 0,
         "x": 0,
         "y": 1
        },
        "margin": {
         "t": 60
        },
        "scene": {
         "domain": {
          "x": [
           0,
           1
          ],
          "y": [
           0,
           1
          ]
         },
         "xaxis": {
          "title": {
           "text": "PC 1"
          }
         },
         "yaxis": {
          "title": {
           "text": "PC 2"
          }
         },
         "zaxis": {
          "title": {
           "text": "PC 3"
          }
         }
        },
        "template": {
         "data": {
          "bar": [
           {
            "error_x": {
             "color": "#2a3f5f"
            },
            "error_y": {
             "color": "#2a3f5f"
            },
            "marker": {
             "line": {
              "color": "#E5ECF6",
              "width": 0.5
             },
             "pattern": {
              "fillmode": "overlay",
              "size": 10,
              "solidity": 0.2
             }
            },
            "type": "bar"
           }
          ],
          "barpolar": [
           {
            "marker": {
             "line": {
              "color": "#E5ECF6",
              "width": 0.5
             },
             "pattern": {
              "fillmode": "overlay",
              "size": 10,
              "solidity": 0.2
             }
            },
            "type": "barpolar"
           }
          ],
          "carpet": [
           {
            "aaxis": {
             "endlinecolor": "#2a3f5f",
             "gridcolor": "white",
             "linecolor": "white",
             "minorgridcolor": "white",
             "startlinecolor": "#2a3f5f"
            },
            "baxis": {
             "endlinecolor": "#2a3f5f",
             "gridcolor": "white",
             "linecolor": "white",
             "minorgridcolor": "white",
             "startlinecolor": "#2a3f5f"
            },
            "type": "carpet"
           }
          ],
          "choropleth": [
           {
            "colorbar": {
             "outlinewidth": 0,
             "ticks": ""
            },
            "type": "choropleth"
           }
          ],
          "contour": [
           {
            "colorbar": {
             "outlinewidth": 0,
             "ticks": ""
            },
            "colorscale": [
             [
              0,
              "#0d0887"
             ],
             [
              0.1111111111111111,
              "#46039f"
             ],
             [
              0.2222222222222222,
              "#7201a8"
             ],
             [
              0.3333333333333333,
              "#9c179e"
             ],
             [
              0.4444444444444444,
              "#bd3786"
             ],
             [
              0.5555555555555556,
              "#d8576b"
             ],
             [
              0.6666666666666666,
              "#ed7953"
             ],
             [
              0.7777777777777778,
              "#fb9f3a"
             ],
             [
              0.8888888888888888,
              "#fdca26"
             ],
             [
              1,
              "#f0f921"
             ]
            ],
            "type": "contour"
           }
          ],
          "contourcarpet": [
           {
            "colorbar": {
             "outlinewidth": 0,
             "ticks": ""
            },
            "type": "contourcarpet"
           }
          ],
          "heatmap": [
           {
            "colorbar": {
             "outlinewidth": 0,
             "ticks": ""
            },
            "colorscale": [
             [
              0,
              "#0d0887"
             ],
             [
              0.1111111111111111,
              "#46039f"
             ],
             [
              0.2222222222222222,
              "#7201a8"
             ],
             [
              0.3333333333333333,
              "#9c179e"
             ],
             [
              0.4444444444444444,
              "#bd3786"
             ],
             [
              0.5555555555555556,
              "#d8576b"
             ],
             [
              0.6666666666666666,
              "#ed7953"
             ],
             [
              0.7777777777777778,
              "#fb9f3a"
             ],
             [
              0.8888888888888888,
              "#fdca26"
             ],
             [
              1,
              "#f0f921"
             ]
            ],
            "type": "heatmap"
           }
          ],
          "heatmapgl": [
           {
            "colorbar": {
             "outlinewidth": 0,
             "ticks": ""
            },
            "colorscale": [
             [
              0,
              "#0d0887"
             ],
             [
              0.1111111111111111,
              "#46039f"
             ],
             [
              0.2222222222222222,
              "#7201a8"
             ],
             [
              0.3333333333333333,
              "#9c179e"
             ],
             [
              0.4444444444444444,
              "#bd3786"
             ],
             [
              0.5555555555555556,
              "#d8576b"
             ],
             [
              0.6666666666666666,
              "#ed7953"
             ],
             [
              0.7777777777777778,
              "#fb9f3a"
             ],
             [
              0.8888888888888888,
              "#fdca26"
             ],
             [
              1,
              "#f0f921"
             ]
            ],
            "type": "heatmapgl"
           }
          ],
          "histogram": [
           {
            "marker": {
             "pattern": {
              "fillmode": "overlay",
              "size": 10,
              "solidity": 0.2
             }
            },
            "type": "histogram"
           }
          ],
          "histogram2d": [
           {
            "colorbar": {
             "outlinewidth": 0,
             "ticks": ""
            },
            "colorscale": [
             [
              0,
              "#0d0887"
             ],
             [
              0.1111111111111111,
              "#46039f"
             ],
             [
              0.2222222222222222,
              "#7201a8"
             ],
             [
              0.3333333333333333,
              "#9c179e"
             ],
             [
              0.4444444444444444,
              "#bd3786"
             ],
             [
              0.5555555555555556,
              "#d8576b"
             ],
             [
              0.6666666666666666,
              "#ed7953"
             ],
             [
              0.7777777777777778,
              "#fb9f3a"
             ],
             [
              0.8888888888888888,
              "#fdca26"
             ],
             [
              1,
              "#f0f921"
             ]
            ],
            "type": "histogram2d"
           }
          ],
          "histogram2dcontour": [
           {
            "colorbar": {
             "outlinewidth": 0,
             "ticks": ""
            },
            "colorscale": [
             [
              0,
              "#0d0887"
             ],
             [
              0.1111111111111111,
              "#46039f"
             ],
             [
              0.2222222222222222,
              "#7201a8"
             ],
             [
              0.3333333333333333,
              "#9c179e"
             ],
             [
              0.4444444444444444,
              "#bd3786"
             ],
             [
              0.5555555555555556,
              "#d8576b"
             ],
             [
              0.6666666666666666,
              "#ed7953"
             ],
             [
              0.7777777777777778,
              "#fb9f3a"
             ],
             [
              0.8888888888888888,
              "#fdca26"
             ],
             [
              1,
              "#f0f921"
             ]
            ],
            "type": "histogram2dcontour"
           }
          ],
          "mesh3d": [
           {
            "colorbar": {
             "outlinewidth": 0,
             "ticks": ""
            },
            "type": "mesh3d"
           }
          ],
          "parcoords": [
           {
            "line": {
             "colorbar": {
              "outlinewidth": 0,
              "ticks": ""
             }
            },
            "type": "parcoords"
           }
          ],
          "pie": [
           {
            "automargin": true,
            "type": "pie"
           }
          ],
          "scatter": [
           {
            "fillpattern": {
             "fillmode": "overlay",
             "size": 10,
             "solidity": 0.2
            },
            "type": "scatter"
           }
          ],
          "scatter3d": [
           {
            "line": {
             "colorbar": {
              "outlinewidth": 0,
              "ticks": ""
             }
            },
            "marker": {
             "colorbar": {
              "outlinewidth": 0,
              "ticks": ""
             }
            },
            "type": "scatter3d"
           }
          ],
          "scattercarpet": [
           {
            "marker": {
             "colorbar": {
              "outlinewidth": 0,
              "ticks": ""
             }
            },
            "type": "scattercarpet"
           }
          ],
          "scattergeo": [
           {
            "marker": {
             "colorbar": {
              "outlinewidth": 0,
              "ticks": ""
             }
            },
            "type": "scattergeo"
           }
          ],
          "scattergl": [
           {
            "marker": {
             "colorbar": {
              "outlinewidth": 0,
              "ticks": ""
             }
            },
            "type": "scattergl"
           }
          ],
          "scattermapbox": [
           {
            "marker": {
             "colorbar": {
              "outlinewidth": 0,
              "ticks": ""
             }
            },
            "type": "scattermapbox"
           }
          ],
          "scatterpolar": [
           {
            "marker": {
             "colorbar": {
              "outlinewidth": 0,
              "ticks": ""
             }
            },
            "type": "scatterpolar"
           }
          ],
          "scatterpolargl": [
           {
            "marker": {
             "colorbar": {
              "outlinewidth": 0,
              "ticks": ""
             }
            },
            "type": "scatterpolargl"
           }
          ],
          "scatterternary": [
           {
            "marker": {
             "colorbar": {
              "outlinewidth": 0,
              "ticks": ""
             }
            },
            "type": "scatterternary"
           }
          ],
          "surface": [
           {
            "colorbar": {
             "outlinewidth": 0,
             "ticks": ""
            },
            "colorscale": [
             [
              0,
              "#0d0887"
             ],
             [
              0.1111111111111111,
              "#46039f"
             ],
             [
              0.2222222222222222,
              "#7201a8"
             ],
             [
              0.3333333333333333,
              "#9c179e"
             ],
             [
              0.4444444444444444,
              "#bd3786"
             ],
             [
              0.5555555555555556,
              "#d8576b"
             ],
             [
              0.6666666666666666,
              "#ed7953"
             ],
             [
              0.7777777777777778,
              "#fb9f3a"
             ],
             [
              0.8888888888888888,
              "#fdca26"
             ],
             [
              1,
              "#f0f921"
             ]
            ],
            "type": "surface"
           }
          ],
          "table": [
           {
            "cells": {
             "fill": {
              "color": "#EBF0F8"
             },
             "line": {
              "color": "white"
             }
            },
            "header": {
             "fill": {
              "color": "#C8D4E3"
             },
             "line": {
              "color": "white"
             }
            },
            "type": "table"
           }
          ]
         },
         "layout": {
          "annotationdefaults": {
           "arrowcolor": "#2a3f5f",
           "arrowhead": 0,
           "arrowwidth": 1
          },
          "autotypenumbers": "strict",
          "coloraxis": {
           "colorbar": {
            "outlinewidth": 0,
            "ticks": ""
           }
          },
          "colorscale": {
           "diverging": [
            [
             0,
             "#8e0152"
            ],
            [
             0.1,
             "#c51b7d"
            ],
            [
             0.2,
             "#de77ae"
            ],
            [
             0.3,
             "#f1b6da"
            ],
            [
             0.4,
             "#fde0ef"
            ],
            [
             0.5,
             "#f7f7f7"
            ],
            [
             0.6,
             "#e6f5d0"
            ],
            [
             0.7,
             "#b8e186"
            ],
            [
             0.8,
             "#7fbc41"
            ],
            [
             0.9,
             "#4d9221"
            ],
            [
             1,
             "#276419"
            ]
           ],
           "sequential": [
            [
             0,
             "#0d0887"
            ],
            [
             0.1111111111111111,
             "#46039f"
            ],
            [
             0.2222222222222222,
             "#7201a8"
            ],
            [
             0.3333333333333333,
             "#9c179e"
            ],
            [
             0.4444444444444444,
             "#bd3786"
            ],
            [
             0.5555555555555556,
             "#d8576b"
            ],
            [
             0.6666666666666666,
             "#ed7953"
            ],
            [
             0.7777777777777778,
             "#fb9f3a"
            ],
            [
             0.8888888888888888,
             "#fdca26"
            ],
            [
             1,
             "#f0f921"
            ]
           ],
           "sequentialminus": [
            [
             0,
             "#0d0887"
            ],
            [
             0.1111111111111111,
             "#46039f"
            ],
            [
             0.2222222222222222,
             "#7201a8"
            ],
            [
             0.3333333333333333,
             "#9c179e"
            ],
            [
             0.4444444444444444,
             "#bd3786"
            ],
            [
             0.5555555555555556,
             "#d8576b"
            ],
            [
             0.6666666666666666,
             "#ed7953"
            ],
            [
             0.7777777777777778,
             "#fb9f3a"
            ],
            [
             0.8888888888888888,
             "#fdca26"
            ],
            [
             1,
             "#f0f921"
            ]
           ]
          },
          "colorway": [
           "#636efa",
           "#EF553B",
           "#00cc96",
           "#ab63fa",
           "#FFA15A",
           "#19d3f3",
           "#FF6692",
           "#B6E880",
           "#FF97FF",
           "#FECB52"
          ],
          "font": {
           "color": "#2a3f5f"
          },
          "geo": {
           "bgcolor": "white",
           "lakecolor": "white",
           "landcolor": "#E5ECF6",
           "showlakes": true,
           "showland": true,
           "subunitcolor": "white"
          },
          "hoverlabel": {
           "align": "left"
          },
          "hovermode": "closest",
          "mapbox": {
           "style": "light"
          },
          "paper_bgcolor": "white",
          "plot_bgcolor": "#E5ECF6",
          "polar": {
           "angularaxis": {
            "gridcolor": "white",
            "linecolor": "white",
            "ticks": ""
           },
           "bgcolor": "#E5ECF6",
           "radialaxis": {
            "gridcolor": "white",
            "linecolor": "white",
            "ticks": ""
           }
          },
          "scene": {
           "xaxis": {
            "backgroundcolor": "#E5ECF6",
            "gridcolor": "white",
            "gridwidth": 2,
            "linecolor": "white",
            "showbackground": true,
            "ticks": "",
            "zerolinecolor": "white"
           },
           "yaxis": {
            "backgroundcolor": "#E5ECF6",
            "gridcolor": "white",
            "gridwidth": 2,
            "linecolor": "white",
            "showbackground": true,
            "ticks": "",
            "zerolinecolor": "white"
           },
           "zaxis": {
            "backgroundcolor": "#E5ECF6",
            "gridcolor": "white",
            "gridwidth": 2,
            "linecolor": "white",
            "showbackground": true,
            "ticks": "",
            "zerolinecolor": "white"
           }
          },
          "shapedefaults": {
           "line": {
            "color": "#2a3f5f"
           }
          },
          "ternary": {
           "aaxis": {
            "gridcolor": "white",
            "linecolor": "white",
            "ticks": ""
           },
           "baxis": {
            "gridcolor": "white",
            "linecolor": "white",
            "ticks": ""
           },
           "bgcolor": "#E5ECF6",
           "caxis": {
            "gridcolor": "white",
            "linecolor": "white",
            "ticks": ""
           }
          },
          "title": {
           "x": 0.05
          },
          "xaxis": {
           "automargin": true,
           "gridcolor": "white",
           "linecolor": "white",
           "ticks": "",
           "title": {
            "standoff": 15
           },
           "zerolinecolor": "white",
           "zerolinewidth": 2
          },
          "yaxis": {
           "automargin": true,
           "gridcolor": "white",
           "linecolor": "white",
           "ticks": "",
           "title": {
            "standoff": 15
           },
           "zerolinecolor": "white",
           "zerolinewidth": 2
          }
         }
        }
       }
      },
      "text/html": [
       "<div>                            <div id=\"90d92815-6c42-43ce-8729-7866b5eaffb9\" class=\"plotly-graph-div\" style=\"height:525px; width:100%;\"></div>            <script type=\"text/javascript\">                require([\"plotly\"], function(Plotly) {                    window.PLOTLYENV=window.PLOTLYENV || {};                                    if (document.getElementById(\"90d92815-6c42-43ce-8729-7866b5eaffb9\")) {                    Plotly.newPlot(                        \"90d92815-6c42-43ce-8729-7866b5eaffb9\",                        [{\"customdata\":[[\"Albania\"],[\"Albania\"],[\"Albania\"],[\"Albania\"],[\"Albania\"],[\"Albania\"],[\"Albania\"],[\"Albania\"],[\"Albania\"],[\"Albania\"],[\"Albania\"],[\"Albania\"],[\"Albania\"],[\"Albania\"],[\"Albania\"],[\"Albania\"],[\"Albania\"],[\"Albania\"],[\"Algeria\"],[\"Algeria\"],[\"Algeria\"],[\"Algeria\"],[\"Algeria\"],[\"Algeria\"],[\"Algeria\"],[\"Algeria\"],[\"Algeria\"],[\"Algeria\"],[\"Algeria\"],[\"Angola\"],[\"Angola\"],[\"Angola\"],[\"Armenia\"],[\"Armenia\"],[\"Armenia\"],[\"Armenia\"],[\"Armenia\"],[\"Armenia\"],[\"Armenia\"],[\"Armenia\"],[\"Armenia\"],[\"Armenia\"],[\"Armenia\"],[\"Armenia\"],[\"Armenia\"],[\"Armenia\"],[\"Armenia\"],[\"Armenia\"],[\"Armenia\"],[\"Armenia\"],[\"Australia\"],[\"Australia\"],[\"Australia\"],[\"Australia\"],[\"Australia\"],[\"Australia\"],[\"Australia\"],[\"Australia\"],[\"Australia\"],[\"Australia\"],[\"Australia\"],[\"Australia\"],[\"Australia\"],[\"Australia\"],[\"Australia\"],[\"Australia\"],[\"Australia\"],[\"Australia\"],[\"Austria\"],[\"Austria\"],[\"Austria\"],[\"Austria\"],[\"Austria\"],[\"Austria\"],[\"Austria\"],[\"Austria\"],[\"Austria\"],[\"Austria\"],[\"Austria\"],[\"Austria\"],[\"Austria\"],[\"Austria\"],[\"Austria\"],[\"Austria\"],[\"Austria\"],[\"Austria\"],[\"Azerbaijan\"],[\"Azerbaijan\"],[\"Azerbaijan\"],[\"Azerbaijan\"],[\"Azerbaijan\"],[\"Azerbaijan\"],[\"Azerbaijan\"],[\"Azerbaijan\"],[\"Azerbaijan\"],[\"Azerbaijan\"],[\"Azerbaijan\"],[\"Azerbaijan\"],[\"Azerbaijan\"],[\"Azerbaijan\"],[\"Azerbaijan\"],[\"Azerbaijan\"],[\"Azerbaijan\"],[\"Azerbaijan\"],[\"Bahrain\"],[\"Bahrain\"],[\"Bahrain\"],[\"Bahrain\"],[\"Bahrain\"],[\"Bahrain\"],[\"Bahrain\"],[\"Bahrain\"],[\"Bahrain\"],[\"Bahrain\"],[\"Bahrain\"],[\"Bahrain\"],[\"Bahrain\"],[\"Bahrain\"],[\"Bahrain\"],[\"Bahrain\"],[\"Bahrain\"],[\"Bahrain\"],[\"Barbados\"],[\"Barbados\"],[\"Barbados\"],[\"Barbados\"],[\"Barbados\"],[\"Barbados\"],[\"Barbados\"],[\"Barbados\"],[\"Barbados\"],[\"Barbados\"],[\"Barbados\"],[\"Barbados\"],[\"Barbados\"],[\"Barbados\"],[\"Barbados\"],[\"Barbados\"],[\"Barbados\"],[\"Barbados\"],[\"Belarus\"],[\"Belarus\"],[\"Belarus\"],[\"Belarus\"],[\"Belarus\"],[\"Belarus\"],[\"Belarus\"],[\"Belarus\"],[\"Belarus\"],[\"Belarus\"],[\"Belarus\"],[\"Belarus\"],[\"Belarus\"],[\"Belarus\"],[\"Belarus\"],[\"Belarus\"],[\"Belarus\"],[\"Belarus\"],[\"Belgium\"],[\"Belgium\"],[\"Belgium\"],[\"Belgium\"],[\"Belgium\"],[\"Belgium\"],[\"Belgium\"],[\"Belgium\"],[\"Belgium\"],[\"Belgium\"],[\"Belgium\"],[\"Belgium\"],[\"Belgium\"],[\"Belgium\"],[\"Belgium\"],[\"Belgium\"],[\"Belgium\"],[\"Belgium\"],[\"Bolivia\"],[\"Bolivia\"],[\"Bolivia\"],[\"Bolivia\"],[\"Bolivia\"],[\"Bolivia\"],[\"Bolivia\"],[\"Bolivia\"],[\"Bolivia\"],[\"Bolivia\"],[\"Bolivia\"],[\"Bolivia\"],[\"Bolivia\"],[\"Bolivia\"],[\"Bolivia\"],[\"Bolivia\"],[\"Bolivia\"],[\"Bolivia\"],[\"Bosnia and Herzegovina\"],[\"Bosnia and Herzegovina\"],[\"Bosnia and Herzegovina\"],[\"Bosnia and Herzegovina\"],[\"Bosnia and Herzegovina\"],[\"Bosnia and Herzegovina\"],[\"Bosnia and Herzegovina\"],[\"Bosnia and Herzegovina\"],[\"Bosnia and Herzegovina\"],[\"Bosnia and Herzegovina\"],[\"Bosnia and Herzegovina\"],[\"Bosnia and Herzegovina\"],[\"Bosnia and Herzegovina\"],[\"Botswana\"],[\"Botswana\"],[\"Botswana\"],[\"Botswana\"],[\"Botswana\"],[\"Botswana\"],[\"Botswana\"],[\"Botswana\"],[\"Botswana\"],[\"Botswana\"],[\"Botswana\"],[\"Botswana\"],[\"Botswana\"],[\"Botswana\"],[\"Botswana\"],[\"Botswana\"],[\"Botswana\"],[\"Brazil\"],[\"Brazil\"],[\"Brazil\"],[\"Brazil\"],[\"Brazil\"],[\"Brazil\"],[\"Brazil\"],[\"Brazil\"],[\"Brazil\"],[\"Brazil\"],[\"Brazil\"],[\"Brazil\"],[\"Brazil\"],[\"Brazil\"],[\"Brazil\"],[\"Brazil\"],[\"Brazil\"],[\"Brazil\"],[\"Bulgaria\"],[\"Bulgaria\"],[\"Bulgaria\"],[\"Bulgaria\"],[\"Bulgaria\"],[\"Bulgaria\"],[\"Bulgaria\"],[\"Bulgaria\"],[\"Bulgaria\"],[\"Bulgaria\"],[\"Bulgaria\"],[\"Bulgaria\"],[\"Bulgaria\"],[\"Bulgaria\"],[\"Bulgaria\"],[\"Bulgaria\"],[\"Bulgaria\"],[\"Bulgaria\"],[\"Canada\"],[\"Canada\"],[\"Canada\"],[\"Canada\"],[\"Canada\"],[\"Canada\"],[\"Canada\"],[\"Canada\"],[\"Canada\"],[\"Canada\"],[\"Canada\"],[\"Canada\"],[\"Canada\"],[\"Canada\"],[\"Canada\"],[\"Canada\"],[\"Canada\"],[\"Canada\"],[\"Chile\"],[\"Chile\"],[\"Chile\"],[\"Chile\"],[\"Chile\"],[\"Chile\"],[\"Chile\"],[\"Chile\"],[\"Chile\"],[\"Chile\"],[\"Chile\"],[\"Chile\"],[\"Chile\"],[\"Chile\"],[\"Chile\"],[\"Chile\"],[\"Chile\"],[\"Chile\"],[\"Colombia\"],[\"Colombia\"],[\"Colombia\"],[\"Colombia\"],[\"Colombia\"],[\"Colombia\"],[\"Colombia\"],[\"Colombia\"],[\"Colombia\"],[\"Colombia\"],[\"Colombia\"],[\"Colombia\"],[\"Colombia\"],[\"Colombia\"],[\"Colombia\"],[\"Colombia\"],[\"Colombia\"],[\"Colombia\"],[\"Costa Rica\"],[\"Costa Rica\"],[\"Costa Rica\"],[\"Costa Rica\"],[\"Costa Rica\"],[\"Costa Rica\"],[\"Costa Rica\"],[\"Costa Rica\"],[\"Costa Rica\"],[\"Costa Rica\"],[\"Costa Rica\"],[\"Costa Rica\"],[\"Costa Rica\"],[\"Costa Rica\"],[\"Costa Rica\"],[\"Costa Rica\"],[\"Costa Rica\"],[\"Costa Rica\"],[\"Croatia\"],[\"Croatia\"],[\"Croatia\"],[\"Croatia\"],[\"Croatia\"],[\"Croatia\"],[\"Croatia\"],[\"Croatia\"],[\"Croatia\"],[\"Croatia\"],[\"Croatia\"],[\"Croatia\"],[\"Croatia\"],[\"Croatia\"],[\"Croatia\"],[\"Croatia\"],[\"Croatia\"],[\"Croatia\"],[\"Cyprus\"],[\"Cyprus\"],[\"Cyprus\"],[\"Cyprus\"],[\"Cyprus\"],[\"Cyprus\"],[\"Cyprus\"],[\"Cyprus\"],[\"Cyprus\"],[\"Cyprus\"],[\"Cyprus\"],[\"Cyprus\"],[\"Cyprus\"],[\"Cyprus\"],[\"Cyprus\"],[\"Cyprus\"],[\"Cyprus\"],[\"Cyprus\"],[\"Denmark\"],[\"Denmark\"],[\"Denmark\"],[\"Denmark\"],[\"Denmark\"],[\"Denmark\"],[\"Denmark\"],[\"Denmark\"],[\"Denmark\"],[\"Denmark\"],[\"Denmark\"],[\"Denmark\"],[\"Denmark\"],[\"Denmark\"],[\"Denmark\"],[\"Denmark\"],[\"Denmark\"],[\"Denmark\"],[\"Dominican Republic\"],[\"Dominican Republic\"],[\"Dominican Republic\"],[\"Dominican Republic\"],[\"Dominican Republic\"],[\"Dominican Republic\"],[\"Dominican Republic\"],[\"Dominican Republic\"],[\"Dominican Republic\"],[\"Dominican Republic\"],[\"Dominican Republic\"],[\"Dominican Republic\"],[\"Dominican Republic\"],[\"Dominican Republic\"],[\"Dominican Republic\"],[\"Dominican Republic\"],[\"Dominican Republic\"],[\"Dominican Republic\"],[\"Ecuador\"],[\"Ecuador\"],[\"Ecuador\"],[\"Ecuador\"],[\"Ecuador\"],[\"Ecuador\"],[\"Ecuador\"],[\"Ecuador\"],[\"Ecuador\"],[\"Ecuador\"],[\"Ecuador\"],[\"Ecuador\"],[\"Ecuador\"],[\"Ecuador\"],[\"Ecuador\"],[\"Ecuador\"],[\"Ecuador\"],[\"Ecuador\"],[\"El Salvador\"],[\"El Salvador\"],[\"El Salvador\"],[\"El Salvador\"],[\"El Salvador\"],[\"El Salvador\"],[\"El Salvador\"],[\"El Salvador\"],[\"El Salvador\"],[\"El Salvador\"],[\"El Salvador\"],[\"El Salvador\"],[\"El Salvador\"],[\"El Salvador\"],[\"El Salvador\"],[\"El Salvador\"],[\"El Salvador\"],[\"El Salvador\"],[\"Equatorial Guinea\"],[\"Equatorial Guinea\"],[\"Equatorial Guinea\"],[\"Equatorial Guinea\"],[\"Equatorial Guinea\"],[\"Equatorial Guinea\"],[\"Equatorial Guinea\"],[\"Equatorial Guinea\"],[\"Estonia\"],[\"Estonia\"],[\"Estonia\"],[\"Estonia\"],[\"Estonia\"],[\"Estonia\"],[\"Estonia\"],[\"Estonia\"],[\"Estonia\"],[\"Estonia\"],[\"Estonia\"],[\"Estonia\"],[\"Estonia\"],[\"Estonia\"],[\"Estonia\"],[\"Estonia\"],[\"Estonia\"],[\"Estonia\"],[\"Fiji\"],[\"Fiji\"],[\"Fiji\"],[\"Fiji\"],[\"Fiji\"],[\"Fiji\"],[\"Fiji\"],[\"Fiji\"],[\"Fiji\"],[\"Fiji\"],[\"Fiji\"],[\"Fiji\"],[\"Fiji\"],[\"Fiji\"],[\"Fiji\"],[\"Fiji\"],[\"Finland\"],[\"Finland\"],[\"Finland\"],[\"Finland\"],[\"Finland\"],[\"Finland\"],[\"Finland\"],[\"Finland\"],[\"Finland\"],[\"Finland\"],[\"Finland\"],[\"Finland\"],[\"Finland\"],[\"Finland\"],[\"Finland\"],[\"Finland\"],[\"Finland\"],[\"Finland\"],[\"France\"],[\"France\"],[\"France\"],[\"France\"],[\"France\"],[\"France\"],[\"France\"],[\"France\"],[\"France\"],[\"France\"],[\"France\"],[\"France\"],[\"France\"],[\"France\"],[\"France\"],[\"France\"],[\"France\"],[\"France\"],[\"Gabon\"],[\"Gabon\"],[\"Gabon\"],[\"Gabon\"],[\"Gabon\"],[\"Gabon\"],[\"Gabon\"],[\"Gabon\"],[\"Gabon\"],[\"Gabon\"],[\"Gabon\"],[\"Gabon\"],[\"Gabon\"],[\"Gabon\"],[\"Gabon\"],[\"Gabon\"],[\"Gabon\"],[\"Gabon\"],[\"Georgia\"],[\"Georgia\"],[\"Georgia\"],[\"Georgia\"],[\"Georgia\"],[\"Georgia\"],[\"Georgia\"],[\"Georgia\"],[\"Georgia\"],[\"Georgia\"],[\"Georgia\"],[\"Georgia\"],[\"Georgia\"],[\"Georgia\"],[\"Georgia\"],[\"Georgia\"],[\"Germany\"],[\"Germany\"],[\"Germany\"],[\"Germany\"],[\"Germany\"],[\"Germany\"],[\"Germany\"],[\"Germany\"],[\"Germany\"],[\"Germany\"],[\"Germany\"],[\"Germany\"],[\"Germany\"],[\"Germany\"],[\"Germany\"],[\"Germany\"],[\"Germany\"],[\"Germany\"],[\"Ghana\"],[\"Ghana\"],[\"Ghana\"],[\"Ghana\"],[\"Greece\"],[\"Greece\"],[\"Greece\"],[\"Greece\"],[\"Greece\"],[\"Greece\"],[\"Greece\"],[\"Greece\"],[\"Greece\"],[\"Greece\"],[\"Greece\"],[\"Greece\"],[\"Greece\"],[\"Guatemala\"],[\"Guatemala\"],[\"Honduras\"],[\"Honduras\"],[\"Honduras\"],[\"Honduras\"],[\"Honduras\"],[\"Honduras\"],[\"Honduras\"],[\"Honduras\"],[\"Honduras\"],[\"Honduras\"],[\"Honduras\"],[\"Hungary\"],[\"Hungary\"],[\"Hungary\"],[\"Hungary\"],[\"Hungary\"],[\"Hungary\"],[\"Hungary\"],[\"Hungary\"],[\"Hungary\"],[\"Hungary\"],[\"Hungary\"],[\"Hungary\"],[\"Hungary\"],[\"Hungary\"],[\"Hungary\"],[\"Hungary\"],[\"Hungary\"],[\"Hungary\"],[\"Iceland\"],[\"Iceland\"],[\"Iceland\"],[\"Iceland\"],[\"Iceland\"],[\"Iceland\"],[\"Iceland\"],[\"Iceland\"],[\"Indonesia\"],[\"Indonesia\"],[\"Indonesia\"],[\"Indonesia\"],[\"Indonesia\"],[\"Indonesia\"],[\"Indonesia\"],[\"Indonesia\"],[\"Indonesia\"],[\"Indonesia\"],[\"Indonesia\"],[\"Indonesia\"],[\"Indonesia\"],[\"Indonesia\"],[\"Indonesia\"],[\"Indonesia\"],[\"Iraq\"],[\"Iraq\"],[\"Iraq\"],[\"Iraq\"],[\"Iraq\"],[\"Iraq\"],[\"Iraq\"],[\"Iraq\"],[\"Iraq\"],[\"Iraq\"],[\"Iraq\"],[\"Iraq\"],[\"Iraq\"],[\"Ireland\"],[\"Ireland\"],[\"Ireland\"],[\"Ireland\"],[\"Ireland\"],[\"Ireland\"],[\"Ireland\"],[\"Ireland\"],[\"Ireland\"],[\"Ireland\"],[\"Ireland\"],[\"Ireland\"],[\"Ireland\"],[\"Ireland\"],[\"Ireland\"],[\"Ireland\"],[\"Ireland\"],[\"Ireland\"],[\"Israel\"],[\"Israel\"],[\"Israel\"],[\"Israel\"],[\"Israel\"],[\"Israel\"],[\"Israel\"],[\"Israel\"],[\"Israel\"],[\"Israel\"],[\"Israel\"],[\"Israel\"],[\"Israel\"],[\"Israel\"],[\"Israel\"],[\"Israel\"],[\"Israel\"],[\"Israel\"],[\"Italy\"],[\"Italy\"],[\"Italy\"],[\"Italy\"],[\"Italy\"],[\"Italy\"],[\"Italy\"],[\"Italy\"],[\"Italy\"],[\"Italy\"],[\"Italy\"],[\"Italy\"],[\"Italy\"],[\"Italy\"],[\"Italy\"],[\"Italy\"],[\"Italy\"],[\"Italy\"],[\"Jamaica\"],[\"Jamaica\"],[\"Jamaica\"],[\"Jamaica\"],[\"Jamaica\"],[\"Jamaica\"],[\"Jamaica\"],[\"Jamaica\"],[\"Jamaica\"],[\"Jamaica\"],[\"Jamaica\"],[\"Jamaica\"],[\"Jamaica\"],[\"Jamaica\"],[\"Jamaica\"],[\"Jamaica\"],[\"Jamaica\"],[\"Jamaica\"],[\"Japan\"],[\"Japan\"],[\"Japan\"],[\"Japan\"],[\"Japan\"],[\"Japan\"],[\"Japan\"],[\"Japan\"],[\"Japan\"],[\"Japan\"],[\"Japan\"],[\"Japan\"],[\"Japan\"],[\"Japan\"],[\"Japan\"],[\"Japan\"],[\"Japan\"],[\"Japan\"],[\"Jordan\"],[\"Jordan\"],[\"Jordan\"],[\"Jordan\"],[\"Jordan\"],[\"Jordan\"],[\"Jordan\"],[\"Jordan\"],[\"Jordan\"],[\"Jordan\"],[\"Jordan\"],[\"Jordan\"],[\"Jordan\"],[\"Jordan\"],[\"Jordan\"],[\"Jordan\"],[\"Jordan\"],[\"Jordan\"],[\"Kazakhstan\"],[\"Kazakhstan\"],[\"Kazakhstan\"],[\"Kazakhstan\"],[\"Kazakhstan\"],[\"Kazakhstan\"],[\"Kazakhstan\"],[\"Kazakhstan\"],[\"Kazakhstan\"],[\"Kazakhstan\"],[\"Kazakhstan\"],[\"Kazakhstan\"],[\"Kazakhstan\"],[\"Kazakhstan\"],[\"Kazakhstan\"],[\"Kazakhstan\"],[\"Kazakhstan\"],[\"Kazakhstan\"],[\"Kuwait\"],[\"Kuwait\"],[\"Kuwait\"],[\"Kuwait\"],[\"Kuwait\"],[\"Kuwait\"],[\"Kuwait\"],[\"Kuwait\"],[\"Kuwait\"],[\"Kuwait\"],[\"Kuwait\"],[\"Kuwait\"],[\"Kuwait\"],[\"Kuwait\"],[\"Kuwait\"],[\"Latvia\"],[\"Latvia\"],[\"Latvia\"],[\"Latvia\"],[\"Latvia\"],[\"Latvia\"],[\"Latvia\"],[\"Latvia\"],[\"Latvia\"],[\"Latvia\"],[\"Latvia\"],[\"Latvia\"],[\"Latvia\"],[\"Latvia\"],[\"Latvia\"],[\"Latvia\"],[\"Latvia\"],[\"Latvia\"],[\"Lebanon\"],[\"Lebanon\"],[\"Lebanon\"],[\"Lebanon\"],[\"Lebanon\"],[\"Lebanon\"],[\"Lebanon\"],[\"Lebanon\"],[\"Lebanon\"],[\"Lebanon\"],[\"Lithuania\"],[\"Lithuania\"],[\"Lithuania\"],[\"Lithuania\"],[\"Lithuania\"],[\"Lithuania\"],[\"Lithuania\"],[\"Lithuania\"],[\"Lithuania\"],[\"Lithuania\"],[\"Lithuania\"],[\"Lithuania\"],[\"Lithuania\"],[\"Lithuania\"],[\"Lithuania\"],[\"Lithuania\"],[\"Lithuania\"],[\"Lithuania\"],[\"Luxembourg\"],[\"Luxembourg\"],[\"Luxembourg\"],[\"Luxembourg\"],[\"Luxembourg\"],[\"Luxembourg\"],[\"Luxembourg\"],[\"Luxembourg\"],[\"Luxembourg\"],[\"Luxembourg\"],[\"Luxembourg\"],[\"Luxembourg\"],[\"Luxembourg\"],[\"Luxembourg\"],[\"Luxembourg\"],[\"Luxembourg\"],[\"Luxembourg\"],[\"Luxembourg\"],[\"Malaysia\"],[\"Malaysia\"],[\"Malaysia\"],[\"Malaysia\"],[\"Malaysia\"],[\"Malaysia\"],[\"Malaysia\"],[\"Malaysia\"],[\"Malaysia\"],[\"Malaysia\"],[\"Maldives\"],[\"Maldives\"],[\"Maldives\"],[\"Maldives\"],[\"Maldives\"],[\"Mauritius\"],[\"Mauritius\"],[\"Mauritius\"],[\"Mauritius\"],[\"Mauritius\"],[\"Mauritius\"],[\"Mauritius\"],[\"Mauritius\"],[\"Mauritius\"],[\"Mauritius\"],[\"Mauritius\"],[\"Mauritius\"],[\"Mauritius\"],[\"Mauritius\"],[\"Mauritius\"],[\"Mauritius\"],[\"Mauritius\"],[\"Mauritius\"],[\"Mexico\"],[\"Mexico\"],[\"Mexico\"],[\"Mexico\"],[\"Mexico\"],[\"Mexico\"],[\"Mexico\"],[\"Mexico\"],[\"Mexico\"],[\"Mexico\"],[\"Mexico\"],[\"Mexico\"],[\"Mexico\"],[\"Mexico\"],[\"Mexico\"],[\"Mexico\"],[\"Mexico\"],[\"Mexico\"],[\"Moldova\"],[\"Moldova\"],[\"Moldova\"],[\"Moldova\"],[\"Moldova\"],[\"Moldova\"],[\"Moldova\"],[\"Moldova\"],[\"Moldova\"],[\"Moldova\"],[\"Moldova\"],[\"Moldova\"],[\"Moldova\"],[\"Moldova\"],[\"Mongolia\"],[\"Mongolia\"],[\"Mongolia\"],[\"Mongolia\"],[\"Mongolia\"],[\"Mongolia\"],[\"Mongolia\"],[\"Mongolia\"],[\"Mongolia\"],[\"Mongolia\"],[\"Mongolia\"],[\"Mongolia\"],[\"Mongolia\"],[\"Mongolia\"],[\"Mongolia\"],[\"Mongolia\"],[\"Mongolia\"],[\"Mongolia\"],[\"Montenegro\"],[\"Montenegro\"],[\"Montenegro\"],[\"Montenegro\"],[\"Montenegro\"],[\"Montenegro\"],[\"Montenegro\"],[\"Montenegro\"],[\"Montenegro\"],[\"Montenegro\"],[\"Montenegro\"],[\"Montenegro\"],[\"Montenegro\"],[\"Morocco\"],[\"Morocco\"],[\"Morocco\"],[\"Morocco\"],[\"Morocco\"],[\"Morocco\"],[\"Morocco\"],[\"Morocco\"],[\"Morocco\"],[\"Morocco\"],[\"Morocco\"],[\"Morocco\"],[\"Morocco\"],[\"Morocco\"],[\"Morocco\"],[\"Morocco\"],[\"Morocco\"],[\"Morocco\"],[\"Namibia\"],[\"Namibia\"],[\"Namibia\"],[\"Namibia\"],[\"Namibia\"],[\"Namibia\"],[\"Netherlands\"],[\"Netherlands\"],[\"Netherlands\"],[\"Netherlands\"],[\"Netherlands\"],[\"Netherlands\"],[\"Netherlands\"],[\"Netherlands\"],[\"Netherlands\"],[\"Netherlands\"],[\"Netherlands\"],[\"Netherlands\"],[\"Netherlands\"],[\"Netherlands\"],[\"Netherlands\"],[\"Netherlands\"],[\"Netherlands\"],[\"Netherlands\"],[\"New Zealand\"],[\"New Zealand\"],[\"New Zealand\"],[\"New Zealand\"],[\"New Zealand\"],[\"New Zealand\"],[\"New Zealand\"],[\"New Zealand\"],[\"New Zealand\"],[\"New Zealand\"],[\"New Zealand\"],[\"New Zealand\"],[\"New Zealand\"],[\"New Zealand\"],[\"New Zealand\"],[\"New Zealand\"],[\"New Zealand\"],[\"New Zealand\"],[\"Nicaragua\"],[\"Nicaragua\"],[\"Nicaragua\"],[\"Nicaragua\"],[\"Nicaragua\"],[\"Nicaragua\"],[\"Nicaragua\"],[\"Nicaragua\"],[\"Nicaragua\"],[\"Nicaragua\"],[\"Nicaragua\"],[\"North Macedonia\"],[\"North Macedonia\"],[\"North Macedonia\"],[\"North Macedonia\"],[\"North Macedonia\"],[\"North Macedonia\"],[\"North Macedonia\"],[\"North Macedonia\"],[\"North Macedonia\"],[\"North Macedonia\"],[\"North Macedonia\"],[\"North Macedonia\"],[\"North Macedonia\"],[\"North Macedonia\"],[\"North Macedonia\"],[\"North Macedonia\"],[\"North Macedonia\"],[\"North Macedonia\"],[\"Norway\"],[\"Norway\"],[\"Norway\"],[\"Norway\"],[\"Norway\"],[\"Norway\"],[\"Norway\"],[\"Norway\"],[\"Norway\"],[\"Norway\"],[\"Norway\"],[\"Norway\"],[\"Norway\"],[\"Norway\"],[\"Norway\"],[\"Norway\"],[\"Norway\"],[\"Norway\"],[\"Oman\"],[\"Oman\"],[\"Oman\"],[\"Oman\"],[\"Oman\"],[\"Oman\"],[\"Oman\"],[\"Oman\"],[\"Oman\"],[\"Oman\"],[\"Oman\"],[\"Oman\"],[\"Oman\"],[\"Oman\"],[\"Oman\"],[\"Oman\"],[\"Oman\"],[\"Oman\"],[\"Panama\"],[\"Panama\"],[\"Panama\"],[\"Panama\"],[\"Panama\"],[\"Panama\"],[\"Panama\"],[\"Panama\"],[\"Panama\"],[\"Panama\"],[\"Panama\"],[\"Panama\"],[\"Panama\"],[\"Panama\"],[\"Panama\"],[\"Panama\"],[\"Panama\"],[\"Panama\"],[\"Paraguay\"],[\"Paraguay\"],[\"Paraguay\"],[\"Paraguay\"],[\"Paraguay\"],[\"Paraguay\"],[\"Paraguay\"],[\"Paraguay\"],[\"Paraguay\"],[\"Paraguay\"],[\"Paraguay\"],[\"Paraguay\"],[\"Paraguay\"],[\"Paraguay\"],[\"Paraguay\"],[\"Paraguay\"],[\"Paraguay\"],[\"Paraguay\"],[\"Peru\"],[\"Peru\"],[\"Peru\"],[\"Peru\"],[\"Peru\"],[\"Peru\"],[\"Peru\"],[\"Peru\"],[\"Peru\"],[\"Peru\"],[\"Peru\"],[\"Peru\"],[\"Peru\"],[\"Peru\"],[\"Peru\"],[\"Peru\"],[\"Peru\"],[\"Peru\"],[\"Philippines\"],[\"Philippines\"],[\"Philippines\"],[\"Philippines\"],[\"Philippines\"],[\"Philippines\"],[\"Philippines\"],[\"Philippines\"],[\"Philippines\"],[\"Philippines\"],[\"Philippines\"],[\"Philippines\"],[\"Philippines\"],[\"Poland\"],[\"Poland\"],[\"Poland\"],[\"Poland\"],[\"Poland\"],[\"Poland\"],[\"Poland\"],[\"Poland\"],[\"Poland\"],[\"Poland\"],[\"Poland\"],[\"Poland\"],[\"Poland\"],[\"Poland\"],[\"Poland\"],[\"Poland\"],[\"Poland\"],[\"Poland\"],[\"Portugal\"],[\"Portugal\"],[\"Portugal\"],[\"Portugal\"],[\"Portugal\"],[\"Portugal\"],[\"Portugal\"],[\"Portugal\"],[\"Portugal\"],[\"Portugal\"],[\"Portugal\"],[\"Portugal\"],[\"Portugal\"],[\"Portugal\"],[\"Portugal\"],[\"Portugal\"],[\"Portugal\"],[\"Portugal\"],[\"Qatar\"],[\"Qatar\"],[\"Qatar\"],[\"Qatar\"],[\"Qatar\"],[\"Qatar\"],[\"Qatar\"],[\"Qatar\"],[\"Qatar\"],[\"Qatar\"],[\"Qatar\"],[\"Qatar\"],[\"Qatar\"],[\"Qatar\"],[\"Qatar\"],[\"Qatar\"],[\"Romania\"],[\"Romania\"],[\"Romania\"],[\"Romania\"],[\"Romania\"],[\"Romania\"],[\"Romania\"],[\"Romania\"],[\"Romania\"],[\"Romania\"],[\"Romania\"],[\"Romania\"],[\"Romania\"],[\"Romania\"],[\"Romania\"],[\"Romania\"],[\"Romania\"],[\"Romania\"],[\"Saudi Arabia\"],[\"Saudi Arabia\"],[\"Saudi Arabia\"],[\"Saudi Arabia\"],[\"Saudi Arabia\"],[\"Saudi Arabia\"],[\"Saudi Arabia\"],[\"Saudi Arabia\"],[\"Saudi Arabia\"],[\"Saudi Arabia\"],[\"Saudi Arabia\"],[\"Saudi Arabia\"],[\"Saudi Arabia\"],[\"Saudi Arabia\"],[\"Saudi Arabia\"],[\"Saudi Arabia\"],[\"Saudi Arabia\"],[\"Saudi Arabia\"],[\"Serbia\"],[\"Serbia\"],[\"Serbia\"],[\"Serbia\"],[\"Serbia\"],[\"Serbia\"],[\"Serbia\"],[\"Serbia\"],[\"Serbia\"],[\"Serbia\"],[\"Serbia\"],[\"Serbia\"],[\"Serbia\"],[\"Singapore\"],[\"Singapore\"],[\"Singapore\"],[\"Singapore\"],[\"Singapore\"],[\"Singapore\"],[\"Singapore\"],[\"Singapore\"],[\"Singapore\"],[\"Singapore\"],[\"Singapore\"],[\"Singapore\"],[\"Singapore\"],[\"Singapore\"],[\"Singapore\"],[\"Singapore\"],[\"Singapore\"],[\"Singapore\"],[\"Slovenia\"],[\"Slovenia\"],[\"Slovenia\"],[\"Slovenia\"],[\"Slovenia\"],[\"Slovenia\"],[\"Slovenia\"],[\"Slovenia\"],[\"Slovenia\"],[\"Slovenia\"],[\"Slovenia\"],[\"Slovenia\"],[\"Slovenia\"],[\"Slovenia\"],[\"Slovenia\"],[\"Slovenia\"],[\"Slovenia\"],[\"Slovenia\"],[\"South Africa\"],[\"South Africa\"],[\"South Africa\"],[\"South Africa\"],[\"South Africa\"],[\"South Africa\"],[\"South Africa\"],[\"South Africa\"],[\"South Africa\"],[\"South Africa\"],[\"South Africa\"],[\"South Africa\"],[\"South Africa\"],[\"South Africa\"],[\"South Africa\"],[\"South Africa\"],[\"South Africa\"],[\"South Africa\"],[\"Spain\"],[\"Spain\"],[\"Spain\"],[\"Spain\"],[\"Spain\"],[\"Spain\"],[\"Spain\"],[\"Spain\"],[\"Spain\"],[\"Spain\"],[\"Spain\"],[\"Spain\"],[\"Spain\"],[\"Spain\"],[\"Spain\"],[\"Spain\"],[\"Spain\"],[\"Spain\"],[\"Suriname\"],[\"Suriname\"],[\"Suriname\"],[\"Suriname\"],[\"Suriname\"],[\"Sweden\"],[\"Sweden\"],[\"Sweden\"],[\"Sweden\"],[\"Sweden\"],[\"Sweden\"],[\"Sweden\"],[\"Sweden\"],[\"Sweden\"],[\"Sweden\"],[\"Sweden\"],[\"Sweden\"],[\"Sweden\"],[\"Sweden\"],[\"Sweden\"],[\"Sweden\"],[\"Sweden\"],[\"Sweden\"],[\"Switzerland\"],[\"Switzerland\"],[\"Switzerland\"],[\"Switzerland\"],[\"Switzerland\"],[\"Switzerland\"],[\"Switzerland\"],[\"Switzerland\"],[\"Switzerland\"],[\"Switzerland\"],[\"Switzerland\"],[\"Switzerland\"],[\"Switzerland\"],[\"Switzerland\"],[\"Switzerland\"],[\"Switzerland\"],[\"Switzerland\"],[\"Switzerland\"],[\"Thailand\"],[\"Thailand\"],[\"Thailand\"],[\"Thailand\"],[\"Thailand\"],[\"Thailand\"],[\"Thailand\"],[\"Thailand\"],[\"Thailand\"],[\"Thailand\"],[\"Thailand\"],[\"Thailand\"],[\"Thailand\"],[\"Thailand\"],[\"Thailand\"],[\"Thailand\"],[\"Thailand\"],[\"Thailand\"],[\"Tunisia\"],[\"Tunisia\"],[\"Tunisia\"],[\"Tunisia\"],[\"Tunisia\"],[\"Tunisia\"],[\"Tunisia\"],[\"Tunisia\"],[\"Tunisia\"],[\"Tunisia\"],[\"Tunisia\"],[\"Tunisia\"],[\"Tunisia\"],[\"Tunisia\"],[\"Tunisia\"],[\"Tunisia\"],[\"Tunisia\"],[\"Tunisia\"],[\"Turkey\"],[\"Turkey\"],[\"Turkey\"],[\"Turkey\"],[\"Turkey\"],[\"Turkey\"],[\"Turkey\"],[\"Turkey\"],[\"Turkey\"],[\"Ukraine\"],[\"Ukraine\"],[\"Ukraine\"],[\"Ukraine\"],[\"Ukraine\"],[\"Ukraine\"],[\"Ukraine\"],[\"Ukraine\"],[\"Ukraine\"],[\"Ukraine\"],[\"United Arab Emirates\"],[\"United Arab Emirates\"],[\"United Arab Emirates\"],[\"United Arab Emirates\"],[\"United Arab Emirates\"],[\"United Arab Emirates\"],[\"United Arab Emirates\"],[\"United Arab Emirates\"],[\"United Arab Emirates\"],[\"United Arab Emirates\"],[\"United Arab Emirates\"],[\"United Kingdom\"],[\"United Kingdom\"],[\"United Kingdom\"],[\"United Kingdom\"],[\"United Kingdom\"],[\"United Kingdom\"],[\"United Kingdom\"],[\"United Kingdom\"],[\"United Kingdom\"],[\"United Kingdom\"],[\"United Kingdom\"],[\"United Kingdom\"],[\"United Kingdom\"],[\"United Kingdom\"],[\"United Kingdom\"],[\"United Kingdom\"],[\"United Kingdom\"],[\"United Kingdom\"],[\"Uruguay\"],[\"Uruguay\"],[\"Uruguay\"],[\"Uruguay\"],[\"Uruguay\"],[\"Uruguay\"],[\"Uruguay\"],[\"Uruguay\"],[\"Uruguay\"],[\"Uruguay\"],[\"Uruguay\"],[\"Uruguay\"],[\"Uruguay\"],[\"Uruguay\"],[\"Uruguay\"],[\"Vietnam\"],[\"Vietnam\"],[\"Vietnam\"],[\"Vietnam\"],[\"Vietnam\"],[\"Vietnam\"],[\"Vietnam\"],[\"Vietnam\"],[\"Vietnam\"]],\"hovertemplate\":\"<b>%{hovertext}</b><br><br>Class=%{marker.color}<br>PC 1=%{x}<br>PC 2=%{y}<br>PC 3=%{z}<br>Country=%{customdata[0]}<extra></extra>\",\"hovertext\":[\"Albania\",\"Albania\",\"Albania\",\"Albania\",\"Albania\",\"Albania\",\"Albania\",\"Albania\",\"Albania\",\"Albania\",\"Albania\",\"Albania\",\"Albania\",\"Albania\",\"Albania\",\"Albania\",\"Albania\",\"Albania\",\"Algeria\",\"Algeria\",\"Algeria\",\"Algeria\",\"Algeria\",\"Algeria\",\"Algeria\",\"Algeria\",\"Algeria\",\"Algeria\",\"Algeria\",\"Angola\",\"Angola\",\"Angola\",\"Armenia\",\"Armenia\",\"Armenia\",\"Armenia\",\"Armenia\",\"Armenia\",\"Armenia\",\"Armenia\",\"Armenia\",\"Armenia\",\"Armenia\",\"Armenia\",\"Armenia\",\"Armenia\",\"Armenia\",\"Armenia\",\"Armenia\",\"Armenia\",\"Australia\",\"Australia\",\"Australia\",\"Australia\",\"Australia\",\"Australia\",\"Australia\",\"Australia\",\"Australia\",\"Australia\",\"Australia\",\"Australia\",\"Australia\",\"Australia\",\"Australia\",\"Australia\",\"Australia\",\"Australia\",\"Austria\",\"Austria\",\"Austria\",\"Austria\",\"Austria\",\"Austria\",\"Austria\",\"Austria\",\"Austria\",\"Austria\",\"Austria\",\"Austria\",\"Austria\",\"Austria\",\"Austria\",\"Austria\",\"Austria\",\"Austria\",\"Azerbaijan\",\"Azerbaijan\",\"Azerbaijan\",\"Azerbaijan\",\"Azerbaijan\",\"Azerbaijan\",\"Azerbaijan\",\"Azerbaijan\",\"Azerbaijan\",\"Azerbaijan\",\"Azerbaijan\",\"Azerbaijan\",\"Azerbaijan\",\"Azerbaijan\",\"Azerbaijan\",\"Azerbaijan\",\"Azerbaijan\",\"Azerbaijan\",\"Bahrain\",\"Bahrain\",\"Bahrain\",\"Bahrain\",\"Bahrain\",\"Bahrain\",\"Bahrain\",\"Bahrain\",\"Bahrain\",\"Bahrain\",\"Bahrain\",\"Bahrain\",\"Bahrain\",\"Bahrain\",\"Bahrain\",\"Bahrain\",\"Bahrain\",\"Bahrain\",\"Barbados\",\"Barbados\",\"Barbados\",\"Barbados\",\"Barbados\",\"Barbados\",\"Barbados\",\"Barbados\",\"Barbados\",\"Barbados\",\"Barbados\",\"Barbados\",\"Barbados\",\"Barbados\",\"Barbados\",\"Barbados\",\"Barbados\",\"Barbados\",\"Belarus\",\"Belarus\",\"Belarus\",\"Belarus\",\"Belarus\",\"Belarus\",\"Belarus\",\"Belarus\",\"Belarus\",\"Belarus\",\"Belarus\",\"Belarus\",\"Belarus\",\"Belarus\",\"Belarus\",\"Belarus\",\"Belarus\",\"Belarus\",\"Belgium\",\"Belgium\",\"Belgium\",\"Belgium\",\"Belgium\",\"Belgium\",\"Belgium\",\"Belgium\",\"Belgium\",\"Belgium\",\"Belgium\",\"Belgium\",\"Belgium\",\"Belgium\",\"Belgium\",\"Belgium\",\"Belgium\",\"Belgium\",\"Bolivia\",\"Bolivia\",\"Bolivia\",\"Bolivia\",\"Bolivia\",\"Bolivia\",\"Bolivia\",\"Bolivia\",\"Bolivia\",\"Bolivia\",\"Bolivia\",\"Bolivia\",\"Bolivia\",\"Bolivia\",\"Bolivia\",\"Bolivia\",\"Bolivia\",\"Bolivia\",\"Bosnia and Herzegovina\",\"Bosnia and Herzegovina\",\"Bosnia and Herzegovina\",\"Bosnia and Herzegovina\",\"Bosnia and Herzegovina\",\"Bosnia and Herzegovina\",\"Bosnia and Herzegovina\",\"Bosnia and Herzegovina\",\"Bosnia and Herzegovina\",\"Bosnia and Herzegovina\",\"Bosnia and Herzegovina\",\"Bosnia and Herzegovina\",\"Bosnia and Herzegovina\",\"Botswana\",\"Botswana\",\"Botswana\",\"Botswana\",\"Botswana\",\"Botswana\",\"Botswana\",\"Botswana\",\"Botswana\",\"Botswana\",\"Botswana\",\"Botswana\",\"Botswana\",\"Botswana\",\"Botswana\",\"Botswana\",\"Botswana\",\"Brazil\",\"Brazil\",\"Brazil\",\"Brazil\",\"Brazil\",\"Brazil\",\"Brazil\",\"Brazil\",\"Brazil\",\"Brazil\",\"Brazil\",\"Brazil\",\"Brazil\",\"Brazil\",\"Brazil\",\"Brazil\",\"Brazil\",\"Brazil\",\"Bulgaria\",\"Bulgaria\",\"Bulgaria\",\"Bulgaria\",\"Bulgaria\",\"Bulgaria\",\"Bulgaria\",\"Bulgaria\",\"Bulgaria\",\"Bulgaria\",\"Bulgaria\",\"Bulgaria\",\"Bulgaria\",\"Bulgaria\",\"Bulgaria\",\"Bulgaria\",\"Bulgaria\",\"Bulgaria\",\"Canada\",\"Canada\",\"Canada\",\"Canada\",\"Canada\",\"Canada\",\"Canada\",\"Canada\",\"Canada\",\"Canada\",\"Canada\",\"Canada\",\"Canada\",\"Canada\",\"Canada\",\"Canada\",\"Canada\",\"Canada\",\"Chile\",\"Chile\",\"Chile\",\"Chile\",\"Chile\",\"Chile\",\"Chile\",\"Chile\",\"Chile\",\"Chile\",\"Chile\",\"Chile\",\"Chile\",\"Chile\",\"Chile\",\"Chile\",\"Chile\",\"Chile\",\"Colombia\",\"Colombia\",\"Colombia\",\"Colombia\",\"Colombia\",\"Colombia\",\"Colombia\",\"Colombia\",\"Colombia\",\"Colombia\",\"Colombia\",\"Colombia\",\"Colombia\",\"Colombia\",\"Colombia\",\"Colombia\",\"Colombia\",\"Colombia\",\"Costa Rica\",\"Costa Rica\",\"Costa Rica\",\"Costa Rica\",\"Costa Rica\",\"Costa Rica\",\"Costa Rica\",\"Costa Rica\",\"Costa Rica\",\"Costa Rica\",\"Costa Rica\",\"Costa Rica\",\"Costa Rica\",\"Costa Rica\",\"Costa Rica\",\"Costa Rica\",\"Costa Rica\",\"Costa Rica\",\"Croatia\",\"Croatia\",\"Croatia\",\"Croatia\",\"Croatia\",\"Croatia\",\"Croatia\",\"Croatia\",\"Croatia\",\"Croatia\",\"Croatia\",\"Croatia\",\"Croatia\",\"Croatia\",\"Croatia\",\"Croatia\",\"Croatia\",\"Croatia\",\"Cyprus\",\"Cyprus\",\"Cyprus\",\"Cyprus\",\"Cyprus\",\"Cyprus\",\"Cyprus\",\"Cyprus\",\"Cyprus\",\"Cyprus\",\"Cyprus\",\"Cyprus\",\"Cyprus\",\"Cyprus\",\"Cyprus\",\"Cyprus\",\"Cyprus\",\"Cyprus\",\"Denmark\",\"Denmark\",\"Denmark\",\"Denmark\",\"Denmark\",\"Denmark\",\"Denmark\",\"Denmark\",\"Denmark\",\"Denmark\",\"Denmark\",\"Denmark\",\"Denmark\",\"Denmark\",\"Denmark\",\"Denmark\",\"Denmark\",\"Denmark\",\"Dominican Republic\",\"Dominican Republic\",\"Dominican Republic\",\"Dominican Republic\",\"Dominican Republic\",\"Dominican Republic\",\"Dominican Republic\",\"Dominican Republic\",\"Dominican Republic\",\"Dominican Republic\",\"Dominican Republic\",\"Dominican Republic\",\"Dominican Republic\",\"Dominican Republic\",\"Dominican Republic\",\"Dominican Republic\",\"Dominican Republic\",\"Dominican Republic\",\"Ecuador\",\"Ecuador\",\"Ecuador\",\"Ecuador\",\"Ecuador\",\"Ecuador\",\"Ecuador\",\"Ecuador\",\"Ecuador\",\"Ecuador\",\"Ecuador\",\"Ecuador\",\"Ecuador\",\"Ecuador\",\"Ecuador\",\"Ecuador\",\"Ecuador\",\"Ecuador\",\"El Salvador\",\"El Salvador\",\"El Salvador\",\"El Salvador\",\"El Salvador\",\"El Salvador\",\"El Salvador\",\"El Salvador\",\"El Salvador\",\"El Salvador\",\"El Salvador\",\"El Salvador\",\"El Salvador\",\"El Salvador\",\"El Salvador\",\"El Salvador\",\"El Salvador\",\"El Salvador\",\"Equatorial Guinea\",\"Equatorial Guinea\",\"Equatorial Guinea\",\"Equatorial Guinea\",\"Equatorial Guinea\",\"Equatorial Guinea\",\"Equatorial Guinea\",\"Equatorial Guinea\",\"Estonia\",\"Estonia\",\"Estonia\",\"Estonia\",\"Estonia\",\"Estonia\",\"Estonia\",\"Estonia\",\"Estonia\",\"Estonia\",\"Estonia\",\"Estonia\",\"Estonia\",\"Estonia\",\"Estonia\",\"Estonia\",\"Estonia\",\"Estonia\",\"Fiji\",\"Fiji\",\"Fiji\",\"Fiji\",\"Fiji\",\"Fiji\",\"Fiji\",\"Fiji\",\"Fiji\",\"Fiji\",\"Fiji\",\"Fiji\",\"Fiji\",\"Fiji\",\"Fiji\",\"Fiji\",\"Finland\",\"Finland\",\"Finland\",\"Finland\",\"Finland\",\"Finland\",\"Finland\",\"Finland\",\"Finland\",\"Finland\",\"Finland\",\"Finland\",\"Finland\",\"Finland\",\"Finland\",\"Finland\",\"Finland\",\"Finland\",\"France\",\"France\",\"France\",\"France\",\"France\",\"France\",\"France\",\"France\",\"France\",\"France\",\"France\",\"France\",\"France\",\"France\",\"France\",\"France\",\"France\",\"France\",\"Gabon\",\"Gabon\",\"Gabon\",\"Gabon\",\"Gabon\",\"Gabon\",\"Gabon\",\"Gabon\",\"Gabon\",\"Gabon\",\"Gabon\",\"Gabon\",\"Gabon\",\"Gabon\",\"Gabon\",\"Gabon\",\"Gabon\",\"Gabon\",\"Georgia\",\"Georgia\",\"Georgia\",\"Georgia\",\"Georgia\",\"Georgia\",\"Georgia\",\"Georgia\",\"Georgia\",\"Georgia\",\"Georgia\",\"Georgia\",\"Georgia\",\"Georgia\",\"Georgia\",\"Georgia\",\"Germany\",\"Germany\",\"Germany\",\"Germany\",\"Germany\",\"Germany\",\"Germany\",\"Germany\",\"Germany\",\"Germany\",\"Germany\",\"Germany\",\"Germany\",\"Germany\",\"Germany\",\"Germany\",\"Germany\",\"Germany\",\"Ghana\",\"Ghana\",\"Ghana\",\"Ghana\",\"Greece\",\"Greece\",\"Greece\",\"Greece\",\"Greece\",\"Greece\",\"Greece\",\"Greece\",\"Greece\",\"Greece\",\"Greece\",\"Greece\",\"Greece\",\"Guatemala\",\"Guatemala\",\"Honduras\",\"Honduras\",\"Honduras\",\"Honduras\",\"Honduras\",\"Honduras\",\"Honduras\",\"Honduras\",\"Honduras\",\"Honduras\",\"Honduras\",\"Hungary\",\"Hungary\",\"Hungary\",\"Hungary\",\"Hungary\",\"Hungary\",\"Hungary\",\"Hungary\",\"Hungary\",\"Hungary\",\"Hungary\",\"Hungary\",\"Hungary\",\"Hungary\",\"Hungary\",\"Hungary\",\"Hungary\",\"Hungary\",\"Iceland\",\"Iceland\",\"Iceland\",\"Iceland\",\"Iceland\",\"Iceland\",\"Iceland\",\"Iceland\",\"Indonesia\",\"Indonesia\",\"Indonesia\",\"Indonesia\",\"Indonesia\",\"Indonesia\",\"Indonesia\",\"Indonesia\",\"Indonesia\",\"Indonesia\",\"Indonesia\",\"Indonesia\",\"Indonesia\",\"Indonesia\",\"Indonesia\",\"Indonesia\",\"Iraq\",\"Iraq\",\"Iraq\",\"Iraq\",\"Iraq\",\"Iraq\",\"Iraq\",\"Iraq\",\"Iraq\",\"Iraq\",\"Iraq\",\"Iraq\",\"Iraq\",\"Ireland\",\"Ireland\",\"Ireland\",\"Ireland\",\"Ireland\",\"Ireland\",\"Ireland\",\"Ireland\",\"Ireland\",\"Ireland\",\"Ireland\",\"Ireland\",\"Ireland\",\"Ireland\",\"Ireland\",\"Ireland\",\"Ireland\",\"Ireland\",\"Israel\",\"Israel\",\"Israel\",\"Israel\",\"Israel\",\"Israel\",\"Israel\",\"Israel\",\"Israel\",\"Israel\",\"Israel\",\"Israel\",\"Israel\",\"Israel\",\"Israel\",\"Israel\",\"Israel\",\"Israel\",\"Italy\",\"Italy\",\"Italy\",\"Italy\",\"Italy\",\"Italy\",\"Italy\",\"Italy\",\"Italy\",\"Italy\",\"Italy\",\"Italy\",\"Italy\",\"Italy\",\"Italy\",\"Italy\",\"Italy\",\"Italy\",\"Jamaica\",\"Jamaica\",\"Jamaica\",\"Jamaica\",\"Jamaica\",\"Jamaica\",\"Jamaica\",\"Jamaica\",\"Jamaica\",\"Jamaica\",\"Jamaica\",\"Jamaica\",\"Jamaica\",\"Jamaica\",\"Jamaica\",\"Jamaica\",\"Jamaica\",\"Jamaica\",\"Japan\",\"Japan\",\"Japan\",\"Japan\",\"Japan\",\"Japan\",\"Japan\",\"Japan\",\"Japan\",\"Japan\",\"Japan\",\"Japan\",\"Japan\",\"Japan\",\"Japan\",\"Japan\",\"Japan\",\"Japan\",\"Jordan\",\"Jordan\",\"Jordan\",\"Jordan\",\"Jordan\",\"Jordan\",\"Jordan\",\"Jordan\",\"Jordan\",\"Jordan\",\"Jordan\",\"Jordan\",\"Jordan\",\"Jordan\",\"Jordan\",\"Jordan\",\"Jordan\",\"Jordan\",\"Kazakhstan\",\"Kazakhstan\",\"Kazakhstan\",\"Kazakhstan\",\"Kazakhstan\",\"Kazakhstan\",\"Kazakhstan\",\"Kazakhstan\",\"Kazakhstan\",\"Kazakhstan\",\"Kazakhstan\",\"Kazakhstan\",\"Kazakhstan\",\"Kazakhstan\",\"Kazakhstan\",\"Kazakhstan\",\"Kazakhstan\",\"Kazakhstan\",\"Kuwait\",\"Kuwait\",\"Kuwait\",\"Kuwait\",\"Kuwait\",\"Kuwait\",\"Kuwait\",\"Kuwait\",\"Kuwait\",\"Kuwait\",\"Kuwait\",\"Kuwait\",\"Kuwait\",\"Kuwait\",\"Kuwait\",\"Latvia\",\"Latvia\",\"Latvia\",\"Latvia\",\"Latvia\",\"Latvia\",\"Latvia\",\"Latvia\",\"Latvia\",\"Latvia\",\"Latvia\",\"Latvia\",\"Latvia\",\"Latvia\",\"Latvia\",\"Latvia\",\"Latvia\",\"Latvia\",\"Lebanon\",\"Lebanon\",\"Lebanon\",\"Lebanon\",\"Lebanon\",\"Lebanon\",\"Lebanon\",\"Lebanon\",\"Lebanon\",\"Lebanon\",\"Lithuania\",\"Lithuania\",\"Lithuania\",\"Lithuania\",\"Lithuania\",\"Lithuania\",\"Lithuania\",\"Lithuania\",\"Lithuania\",\"Lithuania\",\"Lithuania\",\"Lithuania\",\"Lithuania\",\"Lithuania\",\"Lithuania\",\"Lithuania\",\"Lithuania\",\"Lithuania\",\"Luxembourg\",\"Luxembourg\",\"Luxembourg\",\"Luxembourg\",\"Luxembourg\",\"Luxembourg\",\"Luxembourg\",\"Luxembourg\",\"Luxembourg\",\"Luxembourg\",\"Luxembourg\",\"Luxembourg\",\"Luxembourg\",\"Luxembourg\",\"Luxembourg\",\"Luxembourg\",\"Luxembourg\",\"Luxembourg\",\"Malaysia\",\"Malaysia\",\"Malaysia\",\"Malaysia\",\"Malaysia\",\"Malaysia\",\"Malaysia\",\"Malaysia\",\"Malaysia\",\"Malaysia\",\"Maldives\",\"Maldives\",\"Maldives\",\"Maldives\",\"Maldives\",\"Mauritius\",\"Mauritius\",\"Mauritius\",\"Mauritius\",\"Mauritius\",\"Mauritius\",\"Mauritius\",\"Mauritius\",\"Mauritius\",\"Mauritius\",\"Mauritius\",\"Mauritius\",\"Mauritius\",\"Mauritius\",\"Mauritius\",\"Mauritius\",\"Mauritius\",\"Mauritius\",\"Mexico\",\"Mexico\",\"Mexico\",\"Mexico\",\"Mexico\",\"Mexico\",\"Mexico\",\"Mexico\",\"Mexico\",\"Mexico\",\"Mexico\",\"Mexico\",\"Mexico\",\"Mexico\",\"Mexico\",\"Mexico\",\"Mexico\",\"Mexico\",\"Moldova\",\"Moldova\",\"Moldova\",\"Moldova\",\"Moldova\",\"Moldova\",\"Moldova\",\"Moldova\",\"Moldova\",\"Moldova\",\"Moldova\",\"Moldova\",\"Moldova\",\"Moldova\",\"Mongolia\",\"Mongolia\",\"Mongolia\",\"Mongolia\",\"Mongolia\",\"Mongolia\",\"Mongolia\",\"Mongolia\",\"Mongolia\",\"Mongolia\",\"Mongolia\",\"Mongolia\",\"Mongolia\",\"Mongolia\",\"Mongolia\",\"Mongolia\",\"Mongolia\",\"Mongolia\",\"Montenegro\",\"Montenegro\",\"Montenegro\",\"Montenegro\",\"Montenegro\",\"Montenegro\",\"Montenegro\",\"Montenegro\",\"Montenegro\",\"Montenegro\",\"Montenegro\",\"Montenegro\",\"Montenegro\",\"Morocco\",\"Morocco\",\"Morocco\",\"Morocco\",\"Morocco\",\"Morocco\",\"Morocco\",\"Morocco\",\"Morocco\",\"Morocco\",\"Morocco\",\"Morocco\",\"Morocco\",\"Morocco\",\"Morocco\",\"Morocco\",\"Morocco\",\"Morocco\",\"Namibia\",\"Namibia\",\"Namibia\",\"Namibia\",\"Namibia\",\"Namibia\",\"Netherlands\",\"Netherlands\",\"Netherlands\",\"Netherlands\",\"Netherlands\",\"Netherlands\",\"Netherlands\",\"Netherlands\",\"Netherlands\",\"Netherlands\",\"Netherlands\",\"Netherlands\",\"Netherlands\",\"Netherlands\",\"Netherlands\",\"Netherlands\",\"Netherlands\",\"Netherlands\",\"New Zealand\",\"New Zealand\",\"New Zealand\",\"New Zealand\",\"New Zealand\",\"New Zealand\",\"New Zealand\",\"New Zealand\",\"New Zealand\",\"New Zealand\",\"New Zealand\",\"New Zealand\",\"New Zealand\",\"New Zealand\",\"New Zealand\",\"New Zealand\",\"New Zealand\",\"New Zealand\",\"Nicaragua\",\"Nicaragua\",\"Nicaragua\",\"Nicaragua\",\"Nicaragua\",\"Nicaragua\",\"Nicaragua\",\"Nicaragua\",\"Nicaragua\",\"Nicaragua\",\"Nicaragua\",\"North Macedonia\",\"North Macedonia\",\"North Macedonia\",\"North Macedonia\",\"North Macedonia\",\"North Macedonia\",\"North Macedonia\",\"North Macedonia\",\"North Macedonia\",\"North Macedonia\",\"North Macedonia\",\"North Macedonia\",\"North Macedonia\",\"North Macedonia\",\"North Macedonia\",\"North Macedonia\",\"North Macedonia\",\"North Macedonia\",\"Norway\",\"Norway\",\"Norway\",\"Norway\",\"Norway\",\"Norway\",\"Norway\",\"Norway\",\"Norway\",\"Norway\",\"Norway\",\"Norway\",\"Norway\",\"Norway\",\"Norway\",\"Norway\",\"Norway\",\"Norway\",\"Oman\",\"Oman\",\"Oman\",\"Oman\",\"Oman\",\"Oman\",\"Oman\",\"Oman\",\"Oman\",\"Oman\",\"Oman\",\"Oman\",\"Oman\",\"Oman\",\"Oman\",\"Oman\",\"Oman\",\"Oman\",\"Panama\",\"Panama\",\"Panama\",\"Panama\",\"Panama\",\"Panama\",\"Panama\",\"Panama\",\"Panama\",\"Panama\",\"Panama\",\"Panama\",\"Panama\",\"Panama\",\"Panama\",\"Panama\",\"Panama\",\"Panama\",\"Paraguay\",\"Paraguay\",\"Paraguay\",\"Paraguay\",\"Paraguay\",\"Paraguay\",\"Paraguay\",\"Paraguay\",\"Paraguay\",\"Paraguay\",\"Paraguay\",\"Paraguay\",\"Paraguay\",\"Paraguay\",\"Paraguay\",\"Paraguay\",\"Paraguay\",\"Paraguay\",\"Peru\",\"Peru\",\"Peru\",\"Peru\",\"Peru\",\"Peru\",\"Peru\",\"Peru\",\"Peru\",\"Peru\",\"Peru\",\"Peru\",\"Peru\",\"Peru\",\"Peru\",\"Peru\",\"Peru\",\"Peru\",\"Philippines\",\"Philippines\",\"Philippines\",\"Philippines\",\"Philippines\",\"Philippines\",\"Philippines\",\"Philippines\",\"Philippines\",\"Philippines\",\"Philippines\",\"Philippines\",\"Philippines\",\"Poland\",\"Poland\",\"Poland\",\"Poland\",\"Poland\",\"Poland\",\"Poland\",\"Poland\",\"Poland\",\"Poland\",\"Poland\",\"Poland\",\"Poland\",\"Poland\",\"Poland\",\"Poland\",\"Poland\",\"Poland\",\"Portugal\",\"Portugal\",\"Portugal\",\"Portugal\",\"Portugal\",\"Portugal\",\"Portugal\",\"Portugal\",\"Portugal\",\"Portugal\",\"Portugal\",\"Portugal\",\"Portugal\",\"Portugal\",\"Portugal\",\"Portugal\",\"Portugal\",\"Portugal\",\"Qatar\",\"Qatar\",\"Qatar\",\"Qatar\",\"Qatar\",\"Qatar\",\"Qatar\",\"Qatar\",\"Qatar\",\"Qatar\",\"Qatar\",\"Qatar\",\"Qatar\",\"Qatar\",\"Qatar\",\"Qatar\",\"Romania\",\"Romania\",\"Romania\",\"Romania\",\"Romania\",\"Romania\",\"Romania\",\"Romania\",\"Romania\",\"Romania\",\"Romania\",\"Romania\",\"Romania\",\"Romania\",\"Romania\",\"Romania\",\"Romania\",\"Romania\",\"Saudi Arabia\",\"Saudi Arabia\",\"Saudi Arabia\",\"Saudi Arabia\",\"Saudi Arabia\",\"Saudi Arabia\",\"Saudi Arabia\",\"Saudi Arabia\",\"Saudi Arabia\",\"Saudi Arabia\",\"Saudi Arabia\",\"Saudi Arabia\",\"Saudi Arabia\",\"Saudi Arabia\",\"Saudi Arabia\",\"Saudi Arabia\",\"Saudi Arabia\",\"Saudi Arabia\",\"Serbia\",\"Serbia\",\"Serbia\",\"Serbia\",\"Serbia\",\"Serbia\",\"Serbia\",\"Serbia\",\"Serbia\",\"Serbia\",\"Serbia\",\"Serbia\",\"Serbia\",\"Singapore\",\"Singapore\",\"Singapore\",\"Singapore\",\"Singapore\",\"Singapore\",\"Singapore\",\"Singapore\",\"Singapore\",\"Singapore\",\"Singapore\",\"Singapore\",\"Singapore\",\"Singapore\",\"Singapore\",\"Singapore\",\"Singapore\",\"Singapore\",\"Slovenia\",\"Slovenia\",\"Slovenia\",\"Slovenia\",\"Slovenia\",\"Slovenia\",\"Slovenia\",\"Slovenia\",\"Slovenia\",\"Slovenia\",\"Slovenia\",\"Slovenia\",\"Slovenia\",\"Slovenia\",\"Slovenia\",\"Slovenia\",\"Slovenia\",\"Slovenia\",\"South Africa\",\"South Africa\",\"South Africa\",\"South Africa\",\"South Africa\",\"South Africa\",\"South Africa\",\"South Africa\",\"South Africa\",\"South Africa\",\"South Africa\",\"South Africa\",\"South Africa\",\"South Africa\",\"South Africa\",\"South Africa\",\"South Africa\",\"South Africa\",\"Spain\",\"Spain\",\"Spain\",\"Spain\",\"Spain\",\"Spain\",\"Spain\",\"Spain\",\"Spain\",\"Spain\",\"Spain\",\"Spain\",\"Spain\",\"Spain\",\"Spain\",\"Spain\",\"Spain\",\"Spain\",\"Suriname\",\"Suriname\",\"Suriname\",\"Suriname\",\"Suriname\",\"Sweden\",\"Sweden\",\"Sweden\",\"Sweden\",\"Sweden\",\"Sweden\",\"Sweden\",\"Sweden\",\"Sweden\",\"Sweden\",\"Sweden\",\"Sweden\",\"Sweden\",\"Sweden\",\"Sweden\",\"Sweden\",\"Sweden\",\"Sweden\",\"Switzerland\",\"Switzerland\",\"Switzerland\",\"Switzerland\",\"Switzerland\",\"Switzerland\",\"Switzerland\",\"Switzerland\",\"Switzerland\",\"Switzerland\",\"Switzerland\",\"Switzerland\",\"Switzerland\",\"Switzerland\",\"Switzerland\",\"Switzerland\",\"Switzerland\",\"Switzerland\",\"Thailand\",\"Thailand\",\"Thailand\",\"Thailand\",\"Thailand\",\"Thailand\",\"Thailand\",\"Thailand\",\"Thailand\",\"Thailand\",\"Thailand\",\"Thailand\",\"Thailand\",\"Thailand\",\"Thailand\",\"Thailand\",\"Thailand\",\"Thailand\",\"Tunisia\",\"Tunisia\",\"Tunisia\",\"Tunisia\",\"Tunisia\",\"Tunisia\",\"Tunisia\",\"Tunisia\",\"Tunisia\",\"Tunisia\",\"Tunisia\",\"Tunisia\",\"Tunisia\",\"Tunisia\",\"Tunisia\",\"Tunisia\",\"Tunisia\",\"Tunisia\",\"Turkey\",\"Turkey\",\"Turkey\",\"Turkey\",\"Turkey\",\"Turkey\",\"Turkey\",\"Turkey\",\"Turkey\",\"Ukraine\",\"Ukraine\",\"Ukraine\",\"Ukraine\",\"Ukraine\",\"Ukraine\",\"Ukraine\",\"Ukraine\",\"Ukraine\",\"Ukraine\",\"United Arab Emirates\",\"United Arab Emirates\",\"United Arab Emirates\",\"United Arab Emirates\",\"United Arab Emirates\",\"United Arab Emirates\",\"United Arab Emirates\",\"United Arab Emirates\",\"United Arab Emirates\",\"United Arab Emirates\",\"United Arab Emirates\",\"United Kingdom\",\"United Kingdom\",\"United Kingdom\",\"United Kingdom\",\"United Kingdom\",\"United Kingdom\",\"United Kingdom\",\"United Kingdom\",\"United Kingdom\",\"United Kingdom\",\"United Kingdom\",\"United Kingdom\",\"United Kingdom\",\"United Kingdom\",\"United Kingdom\",\"United Kingdom\",\"United Kingdom\",\"United Kingdom\",\"Uruguay\",\"Uruguay\",\"Uruguay\",\"Uruguay\",\"Uruguay\",\"Uruguay\",\"Uruguay\",\"Uruguay\",\"Uruguay\",\"Uruguay\",\"Uruguay\",\"Uruguay\",\"Uruguay\",\"Uruguay\",\"Uruguay\",\"Vietnam\",\"Vietnam\",\"Vietnam\",\"Vietnam\",\"Vietnam\",\"Vietnam\",\"Vietnam\",\"Vietnam\",\"Vietnam\"],\"legendgroup\":\"0\",\"marker\":{\"color\":[0,0,0,0,0,0,0,0,0,0,0,0,0,0,0,0,0,0,0,0,0,0,0,0,0,0,0,0,0,0,0,0,0,0,0,0,0,0,0,0,0,0,0,0,0,0,0,0,0,0,0,0,0,0,0,0,0,0,0,0,0,0,0,0,0,0,0,0,0,0,0,0,0,0,0,0,0,0,0,0,0,0,0,0,0,0,0,0,0,0,0,0,0,0,0,0,0,0,0,0,0,0,0,0,0,0,0,0,0,0,0,0,0,0,0,0,0,0,0,0,0,0,0,0,0,0,0,0,0,0,0,0,0,0,0,0,0,0,0,0,0,0,0,0,0,0,0,0,0,0,0,0,0,0,0,0,0,0,0,0,0,0,0,0,0,0,0,0,0,0,0,0,0,0,0,0,0,0,0,0,0,0,0,0,0,0,0,0,0,0,0,0,0,0,0,0,0,0,0,0,0,0,0,0,0,0,0,0,0,0,0,0,0,0,0,0,0,0,0,0,0,0,0,0,0,0,0,0,0,0,0,0,0,0,0,0,0,0,0,0,0,0,0,0,0,0,0,0,0,0,0,0,0,0,0,0,0,0,0,0,0,0,0,0,0,0,0,0,0,0,0,0,0,0,0,0,0,0,0,0,0,0,0,0,0,0,0,0,0,0,0,0,0,0,0,0,0,0,0,0,0,0,0,0,0,0,0,0,0,0,0,0,0,0,0,0,0,0,0,0,0,0,0,0,0,0,0,0,0,0,0,0,0,0,0,0,0,0,0,0,0,0,0,0,0,0,0,0,0,0,0,0,0,0,0,0,0,0,0,0,0,0,0,0,0,0,0,0,0,0,0,0,0,0,0,0,0,0,0,0,0,0,0,0,0,0,0,0,0,0,0,0,0,0,0,0,0,0,0,0,0,0,0,0,0,0,0,0,0,0,0,0,0,0,0,0,0,0,0,0,0,0,0,0,0,0,0,0,0,0,0,0,0,0,0,0,0,0,0,0,0,0,0,0,0,0,0,0,0,0,0,0,0,0,0,0,0,0,0,0,0,0,0,0,0,0,0,0,0,0,0,0,0,0,0,0,0,0,0,0,0,0,0,0,0,0,0,0,0,0,0,0,0,0,0,0,0,0,0,0,0,0,0,0,0,0,0,0,0,0,0,0,0,0,0,0,0,0,0,0,0,0,0,0,0,0,0,0,0,0,0,0,0,0,0,0,0,0,0,0,0,0,0,0,0,0,0,0,0,0,0,0,0,0,0,0,0,0,0,0,0,0,0,0,0,0,0,0,0,0,0,0,0,0,0,0,0,0,0,0,0,0,0,0,0,0,0,0,0,0,0,0,0,0,0,0,0,0,0,0,0,0,0,0,0,0,0,0,0,0,0,0,0,0,0,0,0,0,0,0,0,0,0,0,0,0,0,0,0,0,0,0,0,0,0,0,0,0,0,0,0,0,0,0,0,0,0,0,0,0,0,0,0,0,0,0,0,0,0,0,0,0,0,0,0,0,0,0,0,0,0,0,0,0,0,0,0,0,0,0,0,0,0,0,0,0,0,0,0,0,0,0,0,0,0,0,0,0,0,0,0,0,0,0,0,0,0,0,0,0,0,0,0,0,0,0,0,0,0,0,0,0,0,0,0,0,0,0,0,0,0,0,0,0,0,0,0,0,0,0,0,0,0,0,0,0,0,0,0,0,0,0,0,0,0,0,0,0,0,0,0,0,0,0,0,0,0,0,0,0,0,0,0,0,0,0,0,0,0,0,0,0,0,0,0,0,0,0,0,0,0,0,0,0,0,0,0,0,0,0,0,0,0,0,0,0,0,0,0,0,0,0,0,0,0,0,0,0,0,0,0,0,0,0,0,0,0,0,0,0,0,0,0,0,0,0,0,0,0,0,0,0,0,0,0,0,0,0,0,0,0,0,0,0,0,0,0,0,0,0,0,0,0,0,0,0,0,0,0,0,0,0,0,0,0,0,0,0,0,0,0,0,0,0,0,0,0,0,0,0,0,0,0,0,0,0,0,0,0,0,0,0,0,0,0,0,0,0,0,0,0,0,0,0,0,0,0,0,0,0,0,0,0,0,0,0,0,0,0,0,0,0,0,0,0,0,0,0,0,0,0,0,0,0,0,0,0,0,0,0,0,0,0,0,0,0,0,0,0,0,0,0,0,0,0,0,0,0,0,0,0,0,0,0,0,0,0,0,0,0,0,0,0,0,0,0,0,0,0,0,0,0,0,0,0,0,0,0,0,0,0,0,0,0,0,0,0,0,0,0,0,0,0,0,0,0,0,0,0,0,0,0,0,0,0,0,0,0,0,0,0,0,0,0,0,0,0,0,0,0,0,0,0,0,0,0,0,0,0,0,0,0,0,0,0,0,0,0,0,0,0,0,0,0,0,0,0,0,0,0,0,0,0,0,0,0,0,0,0,0,0,0,0,0,0,0,0,0,0,0,0,0,0,0,0,0,0,0,0,0,0,0,0,0,0,0,0,0,0,0,0,0,0,0,0,0,0,0,0,0,0,0,0,0,0,0,0,0,0,0,0,0,0,0,0,0,0,0,0,0,0,0,0,0,0,0,0,0,0,0,0,0,0,0,0,0,0,0,0,0,0,0,0,0,0,0,0,0,0,0,0,0,0,0,0,0,0,0,0,0,0,0,0,0,0,0,0,0,0,0,0,0,0,0,0,0,0,0,0,0,0,0,0,0,0,0,0,0,0,0,0,0,0,0,0,0,0,0,0,0,0,0,0,0,0,0,0,0,0,0,0,0,0,0,0,0,0,0,0,0,0,0,0,0,0,0,0,0,0,0,0,0,0,0,0,0,0,0,0,0,0,0,0,0,0,0,0,0,0,0,0,0,0,0,0,0,0,0,0,0,0,0,0,0,0,0,0,0,0,0,0,0,0,0,0,0,0,0,0,0,0,0,0,0,0,0,0,0,0,0,0,0,0,0,0,0,0,0,0,0,0,0,0,0,0,0,0,0,0,0,0,0,0,0,0,0,0,0,0,0,0,0,0,0,0,0,0,0,0,0,0,0,0,0,0,0,0,0,0,0,0,0,0,0,0,0,0,0,0,0,0,0,0,0,0,0,0,0,0,0,0,0,0,0,0,0,0,0,0,0,0,0,0,0,0,0,0,0,0,0,0,0,0,0,0,0,0,0,0,0,0,0,0,0,0,0,0,0,0,0,0,0,0,0,0,0,0,0,0,0,0,0,0,0,0,0,0,0,0,0,0,0,0,0,0,0,0,0,0,0,0,0,0,0,0,0,0,0,0,0,0,0,0,0,0,0,0,0,0,0],\"coloraxis\":\"coloraxis\",\"symbol\":\"circle\"},\"mode\":\"markers\",\"name\":\"0\",\"scene\":\"scene\",\"showlegend\":true,\"x\":[-1.3435574875956144,-1.3435273447875575,-1.3058404708216917,-1.3035523344036286,-1.2363398006642041,-1.2231906673470074,-1.2341922687435254,-1.234621784774422,-1.2019595278271245,-1.165448589129817,-1.1998311530096817,-1.1832513761323789,-1.178460857683624,-1.1621284023776737,-1.1472996875044659,-1.1280348355133198,-1.1181607302316676,-1.1138565582252578,-0.8308729431914256,-0.7550409913202933,-0.7348375756209088,-0.7428692529116492,-0.7265539152574476,-0.6725267167950736,-0.6216486676262567,-0.5509071763294259,-0.5101905259129164,-0.49286122521159637,-0.4747052253918999,-1.432444713704587,-1.3754660282792126,-1.2698058281179125,-1.3242824600933643,-1.1957508193040605,-1.1758287827399978,-1.1803078536561682,-1.1274700623822616,-1.1294163893080886,-1.1295956385826578,-1.1430360060005793,-1.159956658680773,-1.1953364292184823,-1.1902801974165158,-1.139974558281031,-1.1483624882448433,-1.1239649525054907,-1.1064305349634924,-1.0796173541896974,-1.09185747051095,-1.092142691940124,0.41125499056169124,0.45051422740254393,0.45318308056829587,0.523215662145056,0.5534811350272698,0.5850982491029768,0.6373814650483649,0.6832661013584816,0.7244658217230976,0.7389679987652866,0.7943411892608743,0.8503394787223338,0.8734444831830945,0.8991575391329228,0.9306541423140503,0.9271567017564587,0.9790416682205149,1.0492015427101566,-0.34067421701079037,-0.3235577547195682,-0.3035181328461987,-0.2986952441193372,-0.2942048748709436,-0.28850316400545695,-0.27945992703044703,-0.27216426239212266,-0.26862605965686326,-0.2661557220996842,-0.2571896300600067,-0.25343896398282134,-0.24411164121523085,-0.2356521742732022,-0.22545539055541552,-0.21403860070095668,-0.21251050444517333,-0.198543584119807,-1.261905480193704,-1.2001011168874935,-1.0732149314826298,-1.0939947228407387,-1.160295377029704,-1.2062530549428438,-1.2656549541430522,-1.2803624675486995,-1.1351785629970303,-1.1662815666862512,-1.171483142742166,-1.1122750319149077,-1.0829915624197002,-1.0471585221222106,-1.0111239030685737,-1.0161687481248407,-1.0410637764907553,-1.043927290781524,-0.7090912199526278,-0.6887875410713813,-0.6869033228043863,-0.700775300757263,-0.6821043443693068,-0.6699402829481591,-0.6420410577502603,-0.6514871683745903,-0.6493584295017965,-0.6448339412635793,-0.6494292267590287,-0.6680205336047508,-0.6702577174433443,-0.6575893201894387,-0.6287304023472288,-0.6131895289996768,-0.5974848939661186,-0.6008205444997261,-1.2681177702357305,-1.1604004926949552,-1.2289476436987834,-1.2385981368989596,-1.2574593417694457,-1.1563197017884694,-1.1509758497596645,-1.1697677806338058,-1.138197656565331,-1.167588406971662,-1.1689452690982083,-1.1459331968532536,-1.1385669484366077,-1.1357059318487153,-0.9669602129387393,-0.9691602625951393,-0.9842883030631431,-0.9837468224972453,-0.7573760293599057,-0.7065492709633688,-0.6752546162516415,-0.6378802423516327,-0.6124485279934357,-0.608169887863004,-0.6173488394038299,-0.6390666554688194,-0.6204914138431096,-0.5898349884210249,-0.7132280549905656,-0.75945267502811,-0.6309824242023806,-0.6280160486107833,-0.5918577847020643,-0.5635948132712312,-0.5412928325638077,-0.5319826462354578,0.08264331925021262,0.09331654552433383,0.09641366962708656,0.10636166032567072,0.10808415951590923,0.11353578910008506,0.12726129566531744,0.10820249995434512,0.15913135394686423,0.1812034326378714,0.19555626914737587,0.2110093625280368,0.23470241482450344,0.24147348096304722,0.24871283830772295,0.24813692793097447,0.2550755317808719,0.26816436673155175,-1.217159898800862,-1.1886007825848648,-1.144616105742662,-1.1365922997760256,-1.1492813042186631,-1.1067627574717804,-1.1121643650303081,-1.078698915137642,-0.9912321194962291,-0.967567504019073,-0.991846513803499,-0.9373457777332936,-0.9267757412894979,-0.9019603231883454,-0.8512923297052445,-0.8217994621866349,-0.8143562653817851,-0.7902929492506617,-1.1128078011808034,-1.0765094433709266,-1.0864534454747512,-1.04130927632142,-1.043759316043424,-1.0251650846328215,-1.0144758429835412,-1.006366106942163,-1.0088132750981968,-0.9821102454729109,-0.9490090257461166,-0.935165968264938,-0.9633804091883054,-1.4713305063589446,-1.4828313156092625,-1.472005685590249,-1.4453289142662387,-1.4609791044193583,-1.4241218770390636,-1.4056706463937338,-1.3864531910428102,-1.1935699957296808,-1.1670094532347073,-1.152965798521581,-1.1139822061403735,-1.066152185484087,-1.0625686069482478,-1.0226880617915675,-1.1604375107749676,-1.1473573497371161,2.9243145915611057,3.033568254226463,3.1429739565015016,3.3277071288013786,3.4203637479858964,3.6084258349275924,3.78454296044693,3.9587888293262723,4.10700087159709,4.335332348325177,4.5279320225787165,4.636431548918592,4.788066965402163,4.917441248923567,4.992365356118112,5.19085054896047,5.312213451322773,5.427742824029676,-0.7303864979945266,-0.7261463205661614,-0.704810236787388,-0.6935264173314383,-0.657631986450149,-0.6247142313872233,-0.6094663026382912,-0.6101604403372446,-0.5575199444523621,-0.5475780843147684,-0.5277754448565621,-0.5288112372726209,-0.5154298208342877,-0.48499520494292553,-0.4716612566905628,-0.47426441802429936,-0.4880474490020929,-0.49498676199554636,1.0164821268636683,1.0440269775324382,1.1173458515790433,1.174225507021785,1.2322576605231705,1.2917117641394564,1.365142256030069,1.407587740345023,1.4257981992361708,1.4834401320630621,1.531183267222906,1.5924041062633654,1.6426135590358641,1.6922991977198165,1.70156386526752,1.7326951928598726,1.7930774337857545,1.8994302166287882,-0.4857809444850924,-0.4621161553877835,-0.442772410151991,-0.44323554294521644,-0.43591925456857994,-0.45810563682583993,-0.43519425882792134,-0.4269569045735269,-0.33587872222621296,-0.3111103910918163,-0.3032512956909312,-0.18056735910100186,-0.14632629356998753,-0.12750871558694768,-0.08091774593336616,-0.054260806668196,-0.031053438373788444,-0.010150945050303607,-0.46404650872768016,-0.397635251367963,-0.3952195591172714,-0.3673905942563207,-0.35273667732087455,-0.321690655190757,-0.2989539901321295,-0.2526639261531099,-0.16508091588923487,-0.12954655689801,-0.1375674749479953,-0.08731568865342688,-0.04735086453927558,-0.0071276071740620965,0.041370855057031516,0.0890709188139061,0.12875297859256712,0.1753212229193458,-0.9990725673363637,-0.9872756510278188,-0.9790573720490391,-0.9861038229622432,-0.9958835074975401,-0.9749539448617466,-0.9628591003827456,-0.966618031770503,-0.9231378461422697,-0.8999382731657185,-0.8882087443841378,-0.87938835168916,-0.8679960978930583,-0.8583989011323833,-0.8299788766586466,-0.8080334840789415,-0.8039007540827947,-0.7905852504257781,-0.9580689309377873,-0.9378648547167907,-0.9184325751516444,-0.9135509538164478,-0.9072128801023929,-0.8906787019700937,-0.8713356533456107,-0.7777317108570361,-0.7652484224146586,-0.7530806856340212,-0.746927159124594,-0.7466189020053451,-0.7446334778272934,-0.7174234145990607,-0.6911067886959071,-0.7733306401609269,-0.7757775466291964,-0.7811858502001577,-0.9420148102589279,-0.9435283811390717,-0.9461798481540499,-0.7932873028823882,-0.789559276742617,-0.7839442801758724,-0.7900271558774896,-0.8069244740058512,-0.7826464763088987,-0.792818395179235,-0.7961514702882256,-0.7931137358751867,-0.7834042220580587,-0.77607857934163,-0.7624784007043066,-0.7515261712105961,-0.755026562404741,-0.7552771492421836,-0.3086664731105532,-0.3072467318337501,-0.29949890311235483,-0.2978852481659391,-0.30203791307425426,-0.28561280851736603,-0.2796608107877548,-0.28229624243959145,-0.2714022413778424,-0.26793217578247785,-0.2735208873466769,-0.2762677922335021,-0.25946235531341394,-0.25740152047347487,-0.2617312772352322,-0.2444156849953899,-0.24191295751020775,-0.22932870967682742,-1.1120242399643252,-1.078319227886765,-1.1330021136850559,-1.2015066076899183,-1.0334894992971928,-1.0290076943148772,-1.0026656210663112,-0.9850733980191468,-0.9422449773566558,-0.9420830028240217,-0.93165544040929,-0.9029158022073037,-0.8840101903614639,-0.854689702562996,-0.8140567708280757,-0.8053988773523147,-0.7970239428104171,-0.7817886900026811,-1.1479351380136094,-1.0168920292953307,-0.9646810548845327,-0.9573431410367647,-0.9526159205322782,-0.9321233552363014,-0.8946463101072218,-0.8995628878288237,-0.8074502388906704,-0.7861514288251292,-0.8045226588953162,-0.7670514780011507,-0.7199345159120956,-0.6956361213153013,-0.6591132418651984,-0.624456282110798,-0.6133565586782312,-0.6044147695366792,-1.2770758264018771,-1.259544110652829,-1.2497551742219077,-1.250218780795839,-1.244092519410226,-1.2351381130569437,-1.2237370248147164,-1.236541648569798,-1.194685194494505,-1.1947587005615565,-1.185677683626083,-1.1657735756611676,-1.1465011318082585,-1.1250459892627218,-1.0918168462107027,-1.0821076126044173,-1.076627601981232,-1.0573443710913897,-1.559018877366828,-1.525302563304979,-1.4727402200986253,-1.4190856408833956,-1.404012099484196,-1.3951526737485715,-1.44332692478559,-1.4931854109061928,-0.8366610612586597,-0.8400268251560251,-0.8346763163347604,-0.8419566423349559,-0.8387820088590346,-0.7522303865774723,-0.7536671753219468,-0.7775153821362963,-0.7428694316686197,-0.7379257656277258,-0.7356651887443297,-0.7278587451558147,-0.7102209622885554,-0.6986474986157634,-0.6944519231908663,-0.6887354650748739,-0.6921589143187892,-0.6964442235922375,-1.2438573114202656,-1.3940100240321027,-1.3757815424851003,-1.3381575156341157,-1.216542491225393,-1.2527369779348108,-1.2132766361180802,-1.1846322405803695,-1.1887025019201676,-1.1572627038693064,-1.1338540290547447,-1.30978165825401,-1.2875155899682216,-1.2919625392163046,-1.2846172433043987,-1.2691897879326208,-0.46480208353143443,-0.45327117359835634,-0.4388418749740518,-0.43162898928408633,-0.43334550921657655,-0.4189902630277938,-0.4067386299662341,-0.41148957629495003,-0.3962915231696744,-0.3866733834375197,-0.3857850160431733,-0.38683526199293305,-0.36831474951979526,-0.36503599823949073,-0.36039390521678544,-0.3481826265147871,-0.33933285377029054,-0.3286537969530807,3.5310313895023113,3.6201248203303185,3.7186341861532726,3.7249784467693394,3.7822626040053664,3.8409707697911784,3.9434586149702207,4.0644860013531945,4.12378711450852,4.167097130215832,4.247245925198009,4.299259338276058,4.3551926040328635,4.378885114725779,4.444297228648101,4.451562683932842,4.5668956477194325,4.666166767031884,-1.530585311222137,-1.5161721017126422,-1.502303918676479,-1.5411645003071164,-1.5956227643670609,-1.5824391864015723,-1.596833613623337,-1.625959218399381,-1.4923103372622621,-1.4933562571742953,-1.493392730417938,-1.4722387756937607,-1.4419120365290048,-1.4060726853025198,-1.2888772142685758,-1.2829212230130642,-1.343087757490733,-1.3599989727205737,-1.2481337510672308,-1.181822074075679,-1.1485978112415407,-1.1662787684173384,-1.1520581760652564,-1.1741886125630603,-1.137780157676608,-1.1258210846882797,-1.1047784510383527,-1.0407640199143042,-1.0409941733237613,-1.0382174903637724,-1.0002847016173206,-0.9784240482175109,-0.982472357130761,-0.9631086264914142,5.553674375306997,5.653025211503763,5.753442267684595,5.76600544159222,5.811283668712419,5.862610612695248,5.972371093476568,6.099929666635516,6.122292553661673,6.1370609197433,6.170510733015455,6.208981236270917,6.349939218350256,6.401396548350481,6.4910125069450295,6.602131806994766,6.676769393696478,6.794276328008534,-0.9880311476842694,-0.9869767875690362,-0.8503591481026274,-0.7831043325944749,-0.041698130355626875,-0.024181293284702747,-0.021264046448988924,-0.023884424158022704,-0.039768966563177695,-0.02705737259248283,-0.0109592924025436,0.0034067521192520846,0.023112980922884586,0.03785157885112516,0.05530701053623653,0.05933972444480122,-0.059644106451898306,-1.1216388885246913,-1.0951452309375296,-1.295541573321777,-1.2971725057289962,-1.3112086656147164,-1.2903271572687678,-1.2623169171895252,-1.2494619293843496,-1.2418385528885776,-1.1999024270034262,-1.1827779482923562,-1.1701313145149665,-1.1600081775629838,-0.20592623592565124,-0.18603910110703054,-0.17270078516704104,-0.17198003903500436,-0.14936126374337463,-0.14461535008157983,-0.05945084585057018,-0.054910450598537074,-0.04754180095476801,-0.188320967146917,-0.17985256171561023,-0.2858811109556119,-0.27942360779658887,-0.16480728613579596,-0.1427387260701854,-0.150440709927795,-0.14227969363564727,-0.18177740494168737,-0.8357938222251744,-0.8401778689325142,-0.8345529241627785,-0.8209398712675442,-0.8118673559783516,-0.8111356606518794,-0.8084011597735303,-0.8113706036316104,2.333287677683989,2.4553140788515364,2.5551757382229328,2.6957381856680227,2.8569253464614452,2.9881173871533546,3.1816372339870784,3.3138083058944883,3.4992754931569987,3.659370038056578,3.7488698945057326,3.8768807210279776,4.051446931933641,4.244294885186687,4.407250118846053,4.597728021472091,-1.1604657368462734,-0.9444861907038903,-0.9657590278454918,-0.9175236351691567,-0.8705463357138558,-0.8509551856321605,-0.7954222816927401,-0.7180207992607682,-0.6995815203668496,-0.6687343993662801,-0.6098159167615895,-0.5884845450282463,-0.5859144798337833,-0.6181993597505512,-0.6067121524271774,-0.5928745100510565,-0.575199161603646,-0.5671087999432893,-0.563992201803866,-0.5599482386515922,-0.5565538463543785,-0.5249184083647921,-0.5289284066630081,-0.5287996492675567,-0.5145719642906389,-0.5007404874878303,-0.48405474363256035,-0.43589850930977053,-0.4311975316463527,-0.4123104206734354,-0.3955916231711807,-0.4047773225600389,-0.4166991060282897,-0.38673392321077515,-0.3765050232716862,-0.3717236367622551,-0.35861298024090715,-0.3431403218033504,-0.35145326514921615,-0.33486808055419065,-0.3171021907865357,-0.31032797374641324,-0.2765583304164896,-0.26834329748854685,-0.256163098855145,-0.23743832483015626,-0.22626683944520742,-0.21324911833484397,-0.19458614179492184,3.426866826980186,3.5060868216105385,3.642551831588262,3.6723929024451007,3.7172786001802347,3.7868830252836787,3.8974950417023684,3.98681462097305,4.019882479639589,4.038144222724411,4.110447596036474,4.132515005438552,4.13805893142715,4.170358917987447,4.239971169798875,4.232089755065101,4.26742434078375,4.370920683550442,-1.1541873970915169,-1.1574905550888916,-1.1602093271767404,-1.1664542859289415,-1.1835765980117936,-1.1502234739987738,-1.1501963661472405,-1.201371741328285,-1.1349857086660553,-1.1583947820030591,-1.1503496513102334,-1.1470532183965128,-1.1412150153181906,-1.130922250273281,-1.0910512700795911,-1.0581589739311712,-1.0607943039729533,-1.0399785134416266,5.853948173763453,5.981601818225091,6.2179415576700245,6.452009114632261,6.6717756703762525,6.768801896982249,6.942030335141381,7.131836424207633,7.27120503040755,7.562482173092107,7.868666350861796,8.039837387683622,8.053144450168222,8.110595296913177,8.145830254338371,8.358105054219443,8.418093017086184,8.536731497885777,-0.8963943914984848,-0.8720700931213923,-0.8682642834832145,-0.8759239182740821,-0.8784163460745105,-0.8778651279180529,-0.8732245931192383,-0.8854985252563833,-0.8053550084965003,-0.7855094979674035,-0.8038551410819571,-0.7951070993160406,-0.7976347128086981,-0.7666275700877236,-0.7390418683317792,-0.740926405981742,-0.7505190401939141,-0.7473438180360602,-0.7023434782762613,-0.7062453665805579,-0.7123568721645726,-0.7558537840012163,-0.7880801553981136,-0.780147769296085,-0.7291203236991853,-0.7760173647272451,-0.6830388159108368,-0.6795742259509774,-0.696442469056139,-0.6685195545548303,-0.6570889646676696,-0.6321450091668918,-0.5829362754915882,-0.5686636752290226,-0.5589051971480375,-0.5741980120339365,-0.8056298559561713,-0.7892552153239767,-0.7811967987478602,-0.7973972015948141,-0.8190506850470282,-0.7877838614935393,-0.8051231823711394,-0.7799995037944613,-0.743614275745791,-0.7368185629454943,-0.7374597978265873,-0.7061071894139255,-0.6837758110470512,-0.6911014979652783,-0.7075836324425459,-1.0547555207614463,-1.049076006338129,-1.0461804121997325,-1.0558995091424823,-1.049382753958978,-0.8979736906921072,-0.8941232512978372,-0.9012852437061951,-0.7848906254239368,-0.8419189680418803,-0.8584872547733056,-0.7705494190934298,-0.9019416239444885,-0.7568937615872737,-0.74126818380876,-0.8915084707205996,-0.7623955468695834,-0.7503096025615621,-0.9464344348991215,-0.9008147632935357,-0.9031332937019269,-0.9042931194863083,-0.8899689972402228,-0.8719855901827375,-0.8333938330168239,-0.8273672893158889,-0.8399378619371507,-0.9059764064861762,-0.7955266853881754,-0.789045259041715,-0.7833968625456255,-0.7919600488658087,-0.7865228880680688,-0.786915566753362,-0.7756636145005108,-0.7943894607547646,-0.792245941340928,-0.7607548841664845,-0.7658252131449685,-0.6712217595808541,-0.6661557261816965,-0.6618846177813265,-0.653542599711773,-0.8073328127987389,-0.8196342085865692,-0.8108018925972811,-0.6824970507931427,-0.6707635776081007,-0.6703386812371849,-0.6541394736347985,-0.6453610682710876,-0.6338300429787634,-0.628034160803428,-0.623738236177821,-0.6128718278547602,-0.6073979961876513,-0.6024590745375279,-0.5972135850976128,-0.5892584538132537,-0.5794951813364189,-0.57583348117165,-0.5774974208840428,-0.5877931517872254,-0.5834971274711825,-0.5209407303889857,-0.49559778189650294,-0.4866989197000473,-0.4583713495650092,-0.43522303602104834,-0.3962891555228537,-0.3568365410748558,-0.3022876964612254,-0.28094532548724416,-0.2553145306672738,-1.1385928437883022,-1.1446133267835175,-1.1429914985947973,-1.1499414777952761,-1.1319074095448078,-1.0851369919756095,-1.0839095892579516,-1.0753964538655376,-1.0853626949472146,-1.0916614189329745,-1.0938908418032873,-1.0883808661322794,-1.10253846032774,-1.0769264925030608,-1.0749593228504606,-1.0818226355423168,-1.0676251795639031,-1.0641265114383116,-1.0580291483140989,-1.0473233303000264,-1.0365936497267003,-1.1892673282971582,-1.1891399203427184,0.7748850553534204,0.8523627149352861,0.9168019719869025,0.9637523530962495,1.0593886042302498,1.1195026568728725,1.1834112930728657,1.2968884497094304,1.397658663418122,1.4319677111988294,1.4850470861600138,1.574718556422186,1.7207363860315175,1.825775957044581,1.9042211706732977,1.995625227403174,2.1176911258398836,2.211959561507848,-1.2694778226316197,-1.2729655203373251,-1.2765871202295491,-1.281886594045427,-1.2198957764244382,-1.2044686300048038,-1.2194746162059262,-1.2050461594999378,-1.1989282416847886,-1.1851853680302389,-1.1729588390264465,-1.1551401887441024,-1.1625390054585323,-1.149969805395371,-1.2645090394109364,-1.2363660802255572,-1.229037274496878,-1.2898140372066498,-1.283218309179699,-1.3380858502350303,-1.1956558602679903,-1.306727574761705,-1.151035646630952,-1.2493592929225896,-1.2504721308503521,-1.067600912212386,-0.989608440075108,-1.0284479247034097,-1.010829619738575,-0.9406559996932106,-0.9405121108068029,-0.9554024705374989,-1.3425048374172242,-1.3251124371068306,-1.333392640507112,-1.3123874439263616,-1.2261096223143375,-1.218901938634871,-1.2195673210402218,-1.2709671483580571,-1.2517260114647157,-1.23174563643639,-1.221682314197781,-1.2092070749876147,-1.2096432606219985,-0.7259129169337706,-0.7081665835465281,-0.6761182088397474,-0.6598917497450624,-0.6281179743116033,-0.5668184899825234,-0.5657660397258282,-0.5569105970908929,-0.5122430967428454,-0.4665744163123904,-0.4453876499315573,-0.41876119478223744,-0.36130475397658857,-0.3422333071587546,-0.29646332738634507,-0.2708005056568522,-0.23031375601777082,-0.20685992601134687,-1.4781024465304893,-1.4415553535337748,-1.4263203377344615,-1.4492933974225866,-1.4281856179283605,-1.4000490648475326,0.34973443055870396,0.3652796529712988,0.33678830796441667,0.42931204452232025,0.45819327881134714,0.5109451114332739,0.5551529670549343,0.5996782368618052,0.6237403645735372,0.653646581824202,0.6872420535951907,0.715104655707721,0.7451228078453457,0.7751128608008601,0.8044926082292609,0.8475015053323078,0.8702350588016434,0.9049691873167339,-0.5755814638409399,-0.5878339644531864,-0.5641136430303041,-0.5599917916879552,-0.5547627435733989,-0.5480364791945193,-0.5311132572385168,-0.536041303026185,-0.5249478835810246,-0.5223684430365788,-0.5201887959783846,-0.4947834894564549,-0.4785230086816529,-0.4680849798861595,-0.4586959226575646,-0.45509534189651646,-0.44670846992974117,-0.4309718723175424,-1.3570628724895308,-1.3717051056483094,-1.3870054992373195,-1.3721647446060385,-1.355069951704686,-1.3485872917332653,-1.324523807573018,-1.2756170628488837,-1.2670962317637326,-1.2448422390801213,-1.2372378563712707,-1.119859162084741,-1.069794965792751,-1.0835574509177397,-1.0947170048346926,-1.0866382191224286,-1.1065427581937002,-1.1170300553525154,-1.1231492989845537,-1.0802640645477417,-1.0900681939880161,-1.0811333838481088,-1.1238256548884862,-1.1217340988665407,-1.101611653193961,-1.0902864457320918,-1.073485517002669,-1.0102513159429147,-1.0106437419581684,-0.5956923516731548,-0.5814173442702986,-0.5701167183546721,-0.5545868273941348,-0.5513878789476394,-0.535981150724688,-0.504191106575477,-0.5129297520186703,-0.4927421791448308,-0.48111416373260096,-0.4697763905676763,-0.4558469722837443,-0.43996871359932965,-0.432317266071262,-0.43254112078755663,-0.4342490170290279,-0.4354137271992191,-0.43130146232050964,-1.0952975084401864,-1.052788988552682,-1.0321586640330196,-1.0615841611553718,-1.0899946570862986,-1.0554391161104437,-0.9405422086675237,-0.9563402164476478,-0.8952202256561244,-0.9217390128706134,-0.9814763940308928,-0.9382534409540785,-0.9120959312181764,-0.8696906336761908,-0.753109044815408,-0.7243886114196417,-0.7416612344063863,-0.7579731487155702,-1.1387438512760273,-1.1568590730684496,-1.1226857834158936,-1.1348673586040157,-1.11191094617626,-1.0927154710172817,-1.0843843585246813,-1.0863223443109737,-1.0466788452465505,-1.048945698568848,-1.036720448219165,-1.0225581684503289,-1.0046437279482998,-0.9902812981483795,-0.970012881157143,-0.9657534109792973,-0.9562797934742899,-0.9487785511501606,-1.2993542022283544,-1.2698967795778937,-1.2665376880161516,-1.2298409056913961,-1.2323697241246172,-1.2299845938525789,-1.2232519879287478,-1.2295262816677304,-1.195680502866438,-1.1787831451437458,-1.176464446929917,-1.1667104424782822,-1.1376223676650175,-1.1320644303476173,-1.1089227626391274,-1.0975841069462693,-1.080578244511988,-1.0736588212418425,-0.7554758011921706,-0.715147116183358,-0.6961518513570597,-0.6957401126114396,-0.6630121719906277,-0.67829716586169,-0.6558785306620515,-0.5994310253022356,-0.47963640720272255,-0.4327339586906252,-0.4220907980180401,-0.3892948974856657,-0.35253865291876346,-0.3303876367930661,-0.3025806016754704,-0.27537007842466193,-0.2481759342461728,-0.20891554019615577,-0.1351655800133377,-0.09792032038626841,-0.0839471311355298,0.13906656385171043,0.2726335073353383,0.3234328686766372,0.423975865037816,0.5225021488713834,0.6024247888140015,0.7150681062111256,0.7982142032196269,0.8671990973748793,0.8672674483297463,1.447642913032141,1.4860574012615304,1.5446684359059373,1.5932522945379737,1.6465788244486477,1.7179361835823181,1.7828767539124277,1.8077944584425145,1.933423895499973,1.9362820538670191,1.9785702615406942,2.0574546397118807,2.112141351396377,2.1330449616676703,2.2386847264992973,2.1233589994426163,2.1586456278938435,2.2189868812121465,-0.3360676388992335,-0.3088087782741919,-0.30267013813660054,-0.28664647193895954,-0.267091581918067,-0.26568341693346526,-0.24506605578772203,-0.22913061789145975,-0.20072160173525222,-0.20554831997790834,-0.18608275861325702,-0.16922950446277457,-0.15652834824707523,-0.1475049868667643,-0.12779562759905747,-0.11466202579987689,-0.0867774072348686,-0.07671177219017397,-0.6765902598353181,-0.654171333001367,-0.6807522253714219,-0.7296090577339241,-0.7717485976014116,-0.7453065506824512,-0.7379187217808053,-0.7424188588395223,-0.6816511203152003,-0.652604743098516,-0.6481955598494754,-0.6094826411019625,-0.5594070685705719,-0.5445986770146919,-0.5489226484439782,-0.5550531775762809,-0.3118310221362105,-0.23683550926773145,-0.20324278829609776,-0.21416797076890995,-0.18523455797343122,-0.16088780135710598,-0.14389683340100062,-0.11766882141028907,-0.0758315024915289,-0.06479714812399984,-0.06123616619393223,-0.016820745697841314,-0.018012820414406504,0.046813635901513356,0.06981851989467379,0.08660527448055937,0.09290904148863977,0.08302863716266327,-0.6663863340005987,-0.6320030503349038,-0.6468746096531555,-0.5380617103832782,-0.5662123416816549,-0.5417672349342159,-0.5353949245464596,-0.5502642598562186,-0.4402893127828215,-0.4258792833263029,-0.44668679099715647,-0.39337050745489394,-0.3756359025694068,-0.31497836361624154,-0.2283528096444115,-0.22304361532595382,-0.20026182380098845,-0.20284206908360608,-0.5852281562602404,-0.5700806593554126,-0.5947165674233931,-0.5759763299764192,-0.5645048125900242,-0.5712088003630673,-0.5448953867252576,-0.5882597978348754,-0.5742924600400602,-0.5180539149638589,-0.5105257557031249,-0.5159768678866804,-0.5066051732855349,-0.7598815032739136,-0.7502498642498577,-0.7505254304452367,-0.7337124026018271,-0.7180998050339413,-0.7043551850274146,-0.6944041096264796,-0.7012829543674833,-0.6538140308960745,-0.6501867056943107,-0.6571950537768285,-0.6395815001246776,-0.6216818002594474,-0.6092812301173122,-0.5930451274905697,-0.5951962641469293,-0.584121697801699,-0.5685836383514965,-0.8134337550607792,-0.8028233773328736,-0.7889345983339942,-0.7738344257534715,-0.7600821281423071,-0.7430692078929741,-0.7344882087426496,-0.7349380719109028,-0.7385063005552464,-0.7363753166608106,-0.7273018973507342,-0.7248078319049247,-0.7179839642584654,-0.7083217343422583,-0.6871610618509283,-0.6838869248721127,-0.6765394438505417,-0.6709991127449518,-0.07207199464984625,-0.03669689597453393,0.008982277828426406,0.05640585455371502,0.057778873925118886,0.11900763847113996,0.13687385815704306,0.15062636691110012,0.2542124676097772,0.272333784050671,0.29731642396646085,0.3363211747550245,0.24032514484422038,0.3323868097364748,0.3892562025168872,0.4112927807657371,0.4283652607461507,0.41035536195627503,1.6705351484539819,1.7395799665566687,1.8229575353413947,1.878860139822894,1.9382952310074584,1.9949727742622239,2.096755446218927,2.170494300181287,2.204294163784241,2.218693754502102,2.3007928798828328,2.3377680082551797,2.366224119037522,2.413594797526486,2.4721565436476056,2.494815166211133,2.5326868415408015,2.589212253386257,-1.2316894741312654,-1.1936956852037055,-1.2456658255929385,-1.155188679236657,-1.244395067853474,-0.0679395325716219,-0.056939027655569595,-0.04113351704426413,-0.02297633268657208,-0.02995086641404693,-0.016853519479799465,-0.00817652681912951,-0.008552639907864836,-0.00949243521268079,0.005549517137378418,0.01855324239808558,0.021836832807217554,0.03913651471315746,0.04802052850198833,0.04628761787161014,0.061297925310707636,0.07601627011812773,0.09296581735113978,-0.3442455943110378,-0.3303371551700393,-0.31591187228961626,-0.30230184322578263,-0.29401222239069913,-0.2757723159436398,-0.25822038841251477,-0.24350846694858302,-0.23109241357401902,-0.2181415035213723,-0.19224866008118624,-0.1827484466259823,-0.1713354853002861,-0.15635512254841152,-0.15292490032045242,-0.14233685438128826,-0.14043539910941905,-0.12329732003743121,0.13810413624345463,0.20542475451459954,0.24291333321029146,0.2813295520245237,0.3080305384739929,0.29864448582554726,0.5685279247693881,0.3658677653867597,0.4463147969622729,0.5168226102373926,0.546979540282728,0.6535631542911748,0.6357508863154496,0.904044623743636,0.9934304559348448,1.0905915990304587,1.1722957587116443,1.2569739576360694,-1.1055136240234529,-1.1054420321493175,-1.0975936712657095,-1.0920019101204543,-1.082081523770775,-1.0828639639373534,-1.0729411525747592,-1.0986280233624777,-1.0688325062119848,-1.031172308427642,-1.0395171197056359,-0.9728421206997001,-0.9603051889558962,-0.9382624801860963,-0.9204785530874886,-0.9032057100990811,-0.8955227565877991,-0.8853989323535814,0.8688842323334898,0.964525040627965,1.0137141229525564,1.0301749752170142,1.1024100217060024,1.1402387746805849,1.2016604920165561,1.2743266818984544,1.3112432216844516,1.536441873139246,1.6907423940722761,1.640071733073599,1.588276307718399,1.4469100927307126,1.1858762701032965,1.460930382147401,1.5478579255360623,1.4909581169460346,1.5229657160408894,-0.7658783653323088,-0.6521679863061304,-0.6274865900386584,-0.6337060557173481,-0.5800384669334727,-0.5596322923244512,-0.5466100289062689,-0.49008849820650124,-0.4590451142826044,-0.4694431186924634,-0.4731993044941749,3.64341838783916,3.7058667317490572,3.78737733747473,3.8186898666387266,3.837994811994819,3.888242848764814,3.986418692703622,4.006577348103617,3.9478667457149323,4.00096351287029,4.072180265843427,4.1849887304973485,4.284043504471753,4.372644901113221,4.4525916789084174,4.479358201843138,4.5226284848299,4.671594742452412,-0.7936719934183333,-0.8101893916132352,-0.8062893149778954,-0.7494687574059717,-0.7384270574627998,-0.7348438720851063,-0.7478865023923288,-0.7492797867954534,-0.7317841025515883,-0.7580151993371647,-0.7346519047189205,-0.6344530547369005,-0.6454510880993265,-0.6593153930958304,-0.663556618666544,0.5401975709266721,0.6085030051026199,0.48310696111588103,0.5613314990858806,0.657864827538799,0.7760702093440838,1.0667324498810482,1.1379466742585453,1.239339770528779],\"y\":[0.47395748265397164,0.4579250773724254,0.2882695329501529,0.25185811920126133,-0.011186273976432662,-0.10070758110784972,-0.10249123119487205,-0.10092283570510059,-0.5420229935318723,-0.7032190100009805,-0.26278809263354935,-0.6342517001324826,-0.6721411246461982,-0.7470165600688093,-0.7809042353811582,-0.8720505458717475,-0.9180881655362784,-0.945666364345816,-0.8771458163646146,-1.0443485815252533,-1.1384079311651254,-1.2028674063457876,-1.1727787578410678,-1.2751783736057012,-1.3612784534027116,-1.4806920150502254,-1.5237408620740023,-1.490414016487827,-1.452189328808376,0.9195956725514793,0.9015867594763342,0.6579193268526885,0.339688197458821,-0.19416360344125425,-0.23732852818195016,-0.2400629695597855,-0.44631749262008635,-0.4294055075391178,-0.4381623250419044,-0.3807654878839945,-0.3970407352718122,-0.27236481156944564,-0.2813916263060607,-0.41645761145008237,-0.41684346462589256,-0.501629565745695,-0.554718949286493,-0.6445219867579033,-0.5844060630196024,-0.5662624862817095,-3.1415742155731126,-3.18444435155507,-3.2288554156597336,-3.2579271623190236,-3.263203127392105,-3.2592167410169686,-3.2775610252535614,-3.2478526978796483,-3.357638104318582,-3.318389028144615,-3.3331096700793332,-3.4096977431721625,-3.3949907823756265,-3.399686200141285,-3.4352924424150215,-3.4381270027213455,-3.443912607265614,-3.453009013310155,-2.3825450730125906,-2.4096254124471734,-2.434789263962591,-2.4414593699451177,-2.439777973985773,-2.452063138110899,-2.428956729472468,-2.4281155131608467,-2.4610109458566596,-2.447796298786496,-2.4243609896579383,-2.4148468185075656,-2.4379596518879483,-2.459653780582766,-2.4878691615234216,-2.522595303591455,-2.521568237570104,-2.54135888058171,0.8757194087735749,0.734505311539587,0.1686635959716364,0.18506595557915173,0.27512797364062563,0.30388982186597696,0.3317003136151576,0.38872923295122824,-0.4375791230452193,-0.3494190566727742,-0.32033245356117585,-0.5065696309918011,-0.5600095904979109,-0.653265743454601,-0.6899078486387267,-0.5649274936473492,-0.4856762711867425,-0.5609513557462407,-2.7974842036548515,-2.837635146986432,-2.843673539456301,-2.7719169471741028,-2.814729692073155,-2.8526106901451533,-2.875234621938322,-2.8320429357197416,-2.8680139831430917,-2.8767669134631997,-2.9207735292125907,-2.938044670581644,-2.912130201203769,-2.9603514840055425,-3.0307895679194394,-3.059950164680779,-3.1093073349871974,-3.1012518665562885,-0.36473840297590154,-0.8483263294901957,-0.619469660541301,-0.5534316673141739,-0.4543154618678553,-0.8269530847864708,-0.8245408179129529,-0.7486998696201078,-0.9100803544868389,-0.8097215682708687,-0.7978094563859635,-0.8864762690430847,-0.9081339428627759,-0.9151468817182933,-1.6321597122934175,-1.6069205116161065,-1.5125414392413792,-1.5094903475595407,0.022063271595581597,-0.2200222744056384,-0.5062244165995906,-0.712940635629736,-0.8575435211374148,-0.9229633213493952,-1.2925450090204296,-1.1916989975394692,-1.1848495162416475,-1.280266481501083,-0.6570852872101914,-0.6739607845099905,-1.2787907825706413,-1.3231443421807227,-1.4624083259913345,-1.5167870669300179,-1.6281816762185917,-1.6767205435245172,-3.7291583840176887,-3.7805143267119967,-3.8038530622504507,-3.8363956301411686,-3.833234962175114,-3.8680432175103143,-3.8829662461446346,-3.8582427203325285,-3.956314734375633,-3.915341645332776,-3.916414788266343,-3.917729615525108,-3.9512433468912596,-3.992192024262353,-3.9744307550129934,-3.975133776970526,-3.973254993288838,-3.9737972547561333,0.40701863121197546,0.36207495003250134,0.20180099500242502,0.14018418727200252,0.19960053978051992,0.07032450421527553,0.042297480400627745,-0.044742440527281956,-0.36064428695817496,-0.42252820128416885,-0.33920900559899614,-0.49720141695362496,-0.5252526319374732,-0.6111378482083906,-0.8030924713622762,-0.8463109345518667,-0.8522493470930848,-0.9099970348504646,-0.08934117464196131,-0.24027188731539878,-0.5649848022581073,-0.7310179077212474,-0.6815509003568272,-0.7387222195469468,-0.7692066722369639,-0.7819057931033598,-0.7891789232598482,-0.80828392584668,-0.8575156508750102,-0.8966106608922105,-0.7507326730101004,0.5919397627857097,0.5714111375844054,0.5127320044845278,0.42755768623632906,0.4777991057550085,0.2575149247438634,0.12635056996909852,-0.007773912555744626,-0.8560490104157205,-0.9694949423594854,-1.066478071822622,-1.2024308212402999,-1.4101645238553173,-1.4852032805595288,-1.5639114757882275,-0.9691765723475797,-1.0203673103220545,-0.5369834690092113,-0.1987145401419121,-0.09445928060486547,-0.23156655458575004,-0.24588552912210238,-0.6512624970430477,-0.6833282533080249,-0.6654245735014612,-0.699407697260975,-0.7320245037845315,-0.722925108483347,-0.7627826581532658,-0.7775228838568119,-0.7908348049251455,-0.7415514836757063,-0.7317251030187997,-0.8176749138372841,-0.7771874525700964,-0.9118501369975418,-0.9502623556923563,-1.0394267606961816,-0.9955380879577297,-1.0042722971983882,-1.339750302046766,-1.3099079618946188,-1.3086021906808092,-1.4930794581177642,-1.476251240989402,-1.4955417620438742,-1.4931888180547006,-1.5914127984374058,-1.6276689715944497,-1.6177261967843926,-1.6607715363690507,-1.6422463345476053,-1.6517745777068027,-2.8402249152245713,-2.8685736165348428,-2.878034240469907,-2.8851987568854804,-2.8891450679012896,-2.920516111171983,-2.9368029866945813,-2.948766520963557,-3.04640934252456,-3.0477422061787465,-3.0471218382373606,-3.083190380272246,-3.089706035560657,-3.0729417760877595,-3.0932552301175247,-3.0899712289472676,-3.082357207341193,-3.074923038043223,-2.276235176705073,-2.321268531964556,-2.337810585264466,-2.3135329920475636,-2.294539607117617,-2.2245593863699136,-2.251341177136947,-2.2360363741672287,-2.482780574534157,-2.491442675299957,-2.4415190313858273,-2.865529059633859,-2.9106145140767956,-2.933190433448699,-3.0059726763032732,-3.0628822709218375,-3.0774833450108634,-3.0696734967662436,-0.6667982049410304,-0.6506724459621782,-0.647544112609367,-0.7222733699342975,-0.7372989711365392,-0.7501473023911778,-0.7759739138778707,-1.1058591876255985,-1.2119814316641908,-1.2604832384235318,-1.241489474654989,-1.290519482205273,-1.332610742754541,-1.3576412527363444,-1.3951399416619399,-1.3899785550433452,-1.435079277012864,-1.4797110225493912,-1.568151029580863,-1.6470363612733252,-1.6778190370441632,-1.6267947586305964,-1.6039271973481801,-1.6733516791598746,-1.7563384386650445,-1.7604115687275748,-1.9807297338821535,-2.0705612377378664,-2.1542083011108626,-2.1886800245477716,-2.230126655920107,-2.266213564824823,-2.365908918442975,-2.4242578484404045,-2.424354757572432,-2.4641040336676086,-0.8595845052061237,-0.9195310994949568,-0.930216608496205,-0.9651587048868244,-0.9437815270947258,-1.0147528645761692,-1.0838119963821247,-1.4157411769817283,-1.5055102944504681,-1.5221592069887642,-1.5424624510077767,-1.515841988494131,-1.5258440425564983,-1.6092782251929938,-1.6239574029416266,-1.3050941450845168,-1.3044442434461654,-1.2931044139978307,-2.11795645554248,-2.1289783433267124,-2.1509506913398275,-2.812293779677705,-2.814432002430664,-2.8358684686977003,-2.8015683635768758,-2.7541599937158954,-2.880969587502867,-2.8329727464502876,-2.8352353444947833,-2.8320107685419673,-2.8620109612014795,-2.8398978220777975,-2.858990874743221,-2.857500242747274,-2.832092355163556,-2.816980899092431,-3.386124974744017,-3.400838793836882,-3.4211559358829904,-3.4354771054538804,-3.423617414455436,-3.4493105289953627,-3.4522287561470537,-3.4521292618895223,-3.554773313364624,-3.5440158035202174,-3.524841963877258,-3.521449232007231,-3.5667119179658986,-3.5701258466645998,-3.556807827428247,-3.578528240528305,-3.542256962076241,-3.5463127107924155,-0.16497476671110697,-0.29159216635066965,0.0472145960828523,0.36607880009143134,-0.40961563917274185,-0.4476446965903036,-0.6066079789995041,-0.998513210042177,-1.1955928265535087,-1.1734043434279362,-1.1899359597761863,-1.276792219272633,-1.3196049046837517,-1.3976039767967423,-1.506737557113707,-1.5313051007485894,-1.57499465655315,-1.617493578184994,0.22507327454489084,-0.18327995304680664,-0.31490636144693784,-0.3473324930094684,-0.33455314150687276,-0.36636263032095373,-0.4272553673284727,-0.3967980288291684,-0.6518602456705762,-1.0191475257478109,-0.9607083816983267,-1.0196484312570353,-1.133633809242535,-1.1769154934891628,-1.2454521282439397,-1.3061274043399174,-1.3059726224615342,-1.312816979528397,0.1072764611479246,0.02059331954811617,-0.004717504054628782,-0.0007239891879516584,-0.0319634596004526,-0.08307812492285116,-0.15948700123790754,-0.14235504592614084,-0.3176277260103527,-0.3377932385092442,-0.377299356340446,-0.4897667798493767,-0.58254160415542,-0.6393886570555095,-0.7821847231527164,-0.8105042707300097,-0.8244684339813054,-0.9005296919636322,0.18280331704295663,0.004979590365899674,-0.2280621457791316,-0.37954075540999627,-0.3678387370116515,-0.47415324431428696,-0.36913935439564216,-0.2776586891391242,-2.0066565832513694,-2.054381447340788,-2.0978429333119264,-2.0925415665565117,-2.1209336163435797,-2.513703661077589,-2.4951332927796837,-2.5029409737200035,-2.7075752071223955,-2.6552597101073183,-2.643334023398433,-2.6710580926920424,-2.7467650347596666,-2.8020948110290442,-2.837287523331847,-2.8537703720831744,-2.8310926265108973,-2.8238367919984695,0.38069274852177376,0.4568503453180783,0.3808289561477507,0.25313298229368303,-0.17615539564071572,-0.020811085151027423,-0.225031996451367,0.024071134034804664,-0.027934725035732487,-0.5120406689779355,-0.5989446638095683,-0.42801118544173744,-0.48394529406660697,-0.4727769731136904,-0.4986816008384235,-0.5851338674104433,-3.1067176868155455,-3.143388529853556,-3.1824810761875924,-3.1940935738923257,-3.202123472638099,-3.2115529786689523,-3.2054137951554247,-3.1867797254950223,-3.308907287526815,-3.2900386891076536,-3.2743321709548314,-3.2829822493958294,-3.3429354179831225,-3.3355545226468992,-3.3513453886907807,-3.3453268557214866,-3.3268942137128263,-3.3405904977797354,-2.626419871779568,-2.655816321852841,-2.6687895328997557,-2.7316989386683437,-2.75204204275267,-2.7856704320371293,-2.7991853279603855,-2.7801709161471226,-2.8448915760259443,-2.835482241419088,-2.86865015135109,-2.859157746601795,-2.8932026216821383,-2.939150213574978,-2.9231032413205718,-2.935641721434383,-2.9336274393431965,-2.9185462393074566,0.21962857006286918,0.14878941807384352,0.11901800634287692,0.19801262322563018,0.3127442051391863,0.20476454912107458,0.23208920035695627,0.27421978754557486,-0.14419921467974647,-0.18147376194948103,-0.2448346940953734,-0.3698101791062968,-0.4355618620008069,-0.5306171853485662,-0.818988120595675,-0.8346209373537631,-0.6366106257880284,-0.5664695928653206,0.6257258793338119,0.30450591990770104,0.0708245576295815,0.1338940260586382,-0.06095388793839551,-0.0788071130001799,-0.14379702496118202,-0.06905563038633564,-0.10017761699687189,-0.33362411497289607,-0.3455294606582986,-0.3563687776456897,-0.7540742963429182,-0.5297034750523387,-0.47402296735305743,-0.5407405504161119,-2.242667160163367,-2.2621851390813936,-2.27724727586947,-2.290609323054169,-2.3009057153257073,-2.311937477252209,-2.3241599444999026,-2.3473349421854413,-2.4045043557889447,-2.415479160535257,-2.4325520217034287,-2.4293031002494736,-2.4485139490022676,-2.498024348945389,-2.4721758239479863,-2.4938428619056863,-2.481336402445847,-2.4758830325957693,0.5683293865065216,0.6075254909482284,0.37953932767294385,0.1181225059617596,-2.9277065023800946,-2.9539299577298457,-2.949578199168426,-3.059748900709482,-2.998800539460698,-3.0166198331412954,-3.028635922372978,-3.055093086910566,-3.0937949146969443,-3.098401548059889,-3.126193295931148,-3.1092897742890675,-2.4515153897352686,0.5349683953348053,0.44614083053923803,0.5124257308626723,0.5062560776200765,0.5375327400278761,0.5507816438424541,0.48145020128731353,0.42852817489317174,0.4459648871330239,0.3225308692795965,0.260440283895582,0.24377222148250133,0.21747919671706345,-1.9738303668368469,-2.068909973319121,-2.104212115488728,-2.105801146823097,-2.1488069863592902,-2.1896347957691273,-2.4984350955627046,-2.5940410517685986,-2.6291373893857917,-1.980972967388462,-2.0057611919092424,-1.5797050219893283,-1.6811440307860304,-2.1639610890464223,-2.1742913531740786,-2.205925540407528,-2.1962202951222385,-1.9942903321617207,-3.282232396529143,-3.2675079983628965,-3.278270477585047,-3.3367708266428604,-3.340693738967362,-3.331625264217191,-3.3684014002016083,-3.3654678354911685,1.7081212383316315,1.6615106957170571,1.7435861363419405,1.6494545869562403,1.541451351406121,1.546924883323218,1.2966658622749336,1.2223540170569207,1.1675004597512826,1.071719997458833,1.06924065568346,1.0198402301200198,0.9561221612305126,0.9044235058449036,0.8725604471907615,0.8276253111676436,0.44113229334744347,-0.6372436814346221,-0.33336014466124286,-0.4609328697524826,-0.5081518850958898,-0.5058807726963768,-0.8068354212424531,-0.9415248889903841,-0.9296847786158274,-0.9268122008928752,-0.9802304140424724,-0.9524414086677933,-0.9372536537008697,-2.5692453144024117,-2.6230605378554794,-2.6841530130164726,-2.739018385837614,-2.759699330393546,-2.759663801784736,-2.7718459235890855,-2.8224309034825783,-2.9879468447952986,-2.939328781355746,-2.891369218864361,-2.9199919084169585,-2.9363804040126755,-2.9630455139025424,-2.9900656712145746,-3.0107269099308054,-3.0324484862913432,-3.046276553481261,-3.686858155200987,-3.648815064377161,-3.7224768853697676,-3.7343212752178934,-3.7101570464446194,-3.717627642813435,-3.7211909003053734,-3.6525282665773826,-3.710007405332417,-3.7305084821704932,-3.7197519412805407,-3.8300422302978046,-3.8550764814623872,-3.8815816402246934,-3.9052546569016964,-3.919750257668701,-3.932197750326551,-3.9478095019427033,-2.2979643646244647,-2.316453238496574,-2.3091770610049167,-2.3743096845016742,-2.3860207939915687,-2.3980606131041164,-2.3954268423349587,-2.366784661165832,-2.408639803476407,-2.414167431504575,-2.398440013935848,-2.375243925914476,-2.423188348847397,-2.4572536430030203,-2.4361168665095363,-2.497911187436873,-2.475570053059416,-2.4938578617651563,-0.2720571433872308,-0.2850077082847697,-0.2507366958237375,-0.21196403436096706,-0.21794993296849458,-0.33200108364308395,-0.6798228878456226,-0.4737792948998797,-0.7262531107462221,-0.6805082733322735,-0.6961791656445641,-0.7423197596342963,-0.7216449638540021,-0.713671699602351,-0.8324011924008399,-0.9337348696278803,-0.9202573224595935,-0.9992529083119109,-2.3167926517986723,-2.3648409074181354,-2.3930090070309524,-2.430002422611857,-2.4469877737982153,-2.465610547072759,-2.4937866980013825,-2.504436996782838,-2.5886883850077878,-2.5852975284000457,-2.5647668790932623,-2.5696335477989063,-2.538211375120313,-2.504807363885535,-2.539075654487458,-2.5685646474904242,-2.5584552110164296,-2.548700249748579,-1.4744812474445368,-1.5321308342112963,-1.5537181817775043,-1.4651906207815637,-1.4177236954841068,-1.4873768187864334,-1.5352730550882643,-1.4960695807885327,-1.8693192762008133,-2.193115700791311,-2.1779512487302943,-2.1655207505530547,-2.144680028093178,-2.2298433550841716,-2.3098262871869,-1.9573271025519436,-1.886373804572387,-1.8498359429400506,0.26536208703510605,0.24971783303585088,0.2242227075877613,0.2514760945276604,0.28292373919634284,-0.09228885905713174,-0.24695904590787995,-0.1391795777782575,-0.46394585590404025,-0.42552534028060657,-0.41630916324976525,-0.5520602597503016,-0.5803759711679567,-0.6524153566309268,-0.7587080355990254,-0.6271873241004702,-0.7059265422671522,-0.6136673989034772,-2.961392726265965,-3.0250148279762983,-3.0296764188951717,-2.950558976183674,-2.809921745468511,-2.8584566931393716,-2.7420858422122203,-2.897027199965368,-2.9732863337120756,-3.0300922446895306,-3.054111366295588,-3.1970903364301373,-3.2491544796419642,-3.2308792974762715,-3.1901879417555135,-1.1560122567490634,-1.188829550314097,-1.2155496682678864,-1.150079098728491,-1.0926224619519416,-1.7267176924939176,-1.7402436812189068,-1.777177032125012,-2.288424405888281,-2.002144538899807,-1.9341870592417765,-2.3115305681889096,-1.712252970606391,-2.387584021840948,-2.4595962545352705,-1.8050223925247704,-2.399324552693098,-2.4444354563772954,-1.771007422549852,-1.9149625416900364,-1.8916164801335988,-1.888096577800744,-1.9083767769849427,-1.95586103371109,-2.080488955433869,-2.0864817376746556,-2.023325838088824,-1.8189925217028287,-2.0059361236263302,-2.0285072950147174,-2.042602100021322,-2.0027797860458807,-1.9590961641948035,-1.9623823580778226,-1.9091662396046392,-1.8766970548051891,-2.0275069422671654,-2.079701112162426,-2.0290269040679534,-2.432575718988625,-2.4380041899160516,-2.4793115383149997,-2.4935886409864016,-1.8009433568199387,-1.7762671084629607,-1.8215001736058078,-3.457668547468915,-3.518274606089613,-3.5423338860769245,-3.6270591688477594,-3.6661468420132133,-3.6701688662472396,-3.6871404110981656,-3.729689893309324,-3.8128866796450747,-3.8180812830762094,-3.8320339750277106,-3.879019394256957,-3.911846539616975,-3.94577955269817,-3.9497489070990737,-3.931537895485516,-3.8978294253113686,-3.9213674839952892,-1.2941705358317506,-1.3243372362764478,-1.3407457934538303,-1.39001119849728,-1.4056340457351997,-1.405213278325126,-1.4446100119454828,-1.468650176037481,-1.4362423936543918,-1.4500478945683617,-0.9872979150899918,-0.9825295545531854,-0.9901564545306533,-0.8946753731526029,-0.9724671421390307,-1.1257485247315417,-1.138526307410974,-1.17460683260332,-1.1497818021963926,-1.134554312485534,-1.1016206608040355,-1.0905356864142253,-1.0598996318877694,-1.198585275079892,-1.197330602648482,-1.16820523105406,-1.226998830773525,-1.272393165813656,-1.2947610743564024,-1.3250460033880618,-1.3719284544486785,-0.6759865777656869,-0.6807816451220852,-0.9565839327148259,-1.0077421567910083,-1.0218806604542752,-1.0500345553208417,-1.049083149442323,-1.083324298029577,-1.0975720733784406,-1.081113142316455,-1.1432281388106067,-1.1799283511641865,-1.1800831308556488,-1.184480272467051,-1.1824419578473917,-1.1980680563402613,-1.2727699359298765,-1.2755730096311433,-1.2171388804478587,-1.2280338639186246,0.48670089527762694,0.4013481990889818,0.36374942264089116,0.3297211176742572,0.031100967877405607,0.15205570473802124,0.17785251962511903,0.11948599986759884,0.13068557548879856,0.14287195794517896,0.17826449180103404,0.08873364326894284,0.060255644123955364,-0.01921359111717682,0.7909481532844675,0.6587562214816667,0.5601327663090223,0.5920521299625977,0.4688136910806681,0.4739010747145735,-0.08058166965372066,0.15589008034130508,-0.21655652691270472,-0.09066070418390965,-0.04973330346628643,-0.36714617347098116,-0.444562281767763,-0.8421036461621845,-0.6870079414854903,-0.8542793005752922,-0.7100424616606034,-0.6549397650462693,-0.48217030427911417,-0.596287763403226,-0.6322578383557073,-0.704508281127491,-1.000366882833511,-1.0257211732174596,-1.0197127702372422,-0.8016361677887363,-0.8808044648410519,-0.9317307071449397,-1.0037134059941333,-1.035776619730753,-1.038956684486367,-0.10174466201805442,-0.1278406289065756,-0.22134386179727975,-0.237166749314947,-0.33125394820013687,-0.5453472411776559,-0.4621028849017413,-0.4704557928676152,-0.618127577754714,-0.7285638222981659,-0.7968904598280772,-0.8528425731084361,-0.924606495188674,-0.9201165549412248,-1.0068852705942941,-1.0377546427720739,-1.1095580386329071,-1.1074003102281895,0.401050491522492,0.2628931770443271,0.18048002518936354,0.2607794738886418,0.1832474339179364,0.08023178332800227,-3.117348821224121,-3.2004267082486204,-3.294844584133868,-3.362100104601355,-3.403615852495087,-3.487124078670413,-3.5325626451352545,-3.5597306919736322,-3.66892979338038,-3.7177637043194363,-3.7251918851734795,-3.7459091571500296,-3.7719655695977576,-3.8302681515308503,-3.8366817134404565,-3.8606689034654655,-3.859330050905344,-3.866240182002478,-3.1166583180881524,-3.1053623748957846,-3.1538080237467248,-3.150079275676555,-3.1833789499805527,-3.1979744365301173,-3.237770812711825,-3.23949767824461,-3.2686418337521834,-3.260160978095954,-3.2317620294000373,-3.304517759884948,-3.3313957605793685,-3.335654717977024,-3.353632621295783,-3.348859804400886,-3.3514745779913726,-3.363568580220404,0.4301074502027402,0.49669760931295115,0.554088948803086,0.5165627200775996,0.44587272339135453,0.41861585832063686,0.3303128553397986,0.16283995625242426,0.13234331699390534,0.06049315684414824,0.03498786823653013,-0.3907190727040076,-0.5635534425834666,-0.49707853946533176,-0.4939857422481755,-0.48726871392907534,-0.4401335408468812,-0.5021303730104019,-0.8394390070116736,-0.9982324399966332,-0.9325624241912094,-0.9641176168791699,-0.7928916878549437,-0.8029144154094446,-0.8772222286682794,-0.8760596135755808,-0.9006129096308467,-1.1363630722082096,-1.1300529645240103,-2.540760804929416,-2.6228646209106086,-2.6746502503165384,-2.705757458809246,-2.6728111628866125,-2.6901544768210064,-2.753183173956389,-2.6972059629594467,-2.8505690965835084,-2.870306915254371,-2.883276984447308,-2.917183346258535,-2.9624697748384285,-3.026044475926183,-3.083987378031018,-3.0974377697033972,-3.105269108613156,-3.0864628540912964,-1.5305598159102078,-1.6112001140909868,-1.5971805800304506,-1.5943218083028887,-1.5322027227098214,-1.5488469869984487,-1.9972398663710382,-1.8689592281069067,-2.164323291919381,-2.1126785231588743,-1.9774267103043197,-2.1445618631816403,-2.2934930608489235,-2.4929841954452323,-2.823022083965623,-2.937395977833147,-2.876850660985967,-2.8048460051088897,-1.0165035371258038,-0.9878271812032655,-1.0899021462657443,-1.0353978096317498,-1.0953640688515571,-1.1372361946825749,-1.1567429071099165,-1.1257231782891624,-1.2746659312178326,-1.2746785364198185,-1.2972614835749485,-1.3180731549271585,-1.3679619961791465,-1.4190018153247699,-1.4986484537082385,-1.5325748461022275,-1.5668491693087583,-1.5970490881927673,0.4213555499767772,0.36213803525862187,0.383795940234325,0.22110668019869975,0.20639253055158294,0.1706454529749204,0.13398100415713052,0.15652345129554904,-0.009971303617815647,-0.07029604935414338,-0.10166307989890086,-0.18959430823867057,-0.27554848890163613,-0.6100031340314349,-0.6929306629445423,-0.6702579487176664,-0.7206241028396406,-0.7441433461928751,-0.21683500593711594,-0.30719406868626786,-0.3046415983065774,-0.3333625486204361,-0.4197333021667673,-0.42090435807808163,-0.4972947451633791,-0.8713512519648811,-0.9935916054221984,-1.0326189210713812,-1.0532923901499858,-1.114964262705093,-1.230851141151421,-1.291908344467494,-1.3550740084866957,-1.3755878864184983,-1.3955477624969301,-1.4349910724837804,0.9415073377098669,0.892812717453982,0.8801237632674089,1.0525276895468798,0.7666560587576282,0.7962102472629977,0.7142978352817706,0.6685399607398153,0.6533761893982436,0.5863558187420638,0.5231652887576519,0.5102721052427326,0.7281229585321347,-1.5745698672504704,-1.6353956428325005,-1.6853596156175912,-1.6425648059513116,-1.6838852105177236,-1.7155840219347063,-1.7177167039299612,-1.6974270850606072,-2.1030089168902593,-2.1525133769943388,-2.115237183988381,-2.1214737653314537,-2.1808814010819115,-2.2319919096891456,-2.241248094500417,-1.5988784224460617,-1.5539348127900792,-1.5576256438450056,-2.0885871483669036,-2.168787760256623,-2.177208824428833,-2.259664726011392,-2.3243485161941817,-2.2924854575866482,-2.3004921659259,-2.323492058523478,-2.433881340051556,-2.383232833691616,-2.4137101427033993,-2.430468522351104,-2.4794686606339718,-2.5093197829438907,-2.5493191680165155,-2.5485880670970102,-2.6165689249246804,-2.608344241775224,-3.141364300072612,-3.1692064871644616,-3.113583541130084,-2.9548180510312116,-2.8898389281473205,-2.96089829398454,-2.940434193309576,-2.9016835980519553,-3.1734882841643084,-3.24430418625517,-3.3169156445346912,-3.387650981012768,-3.5919839445182093,-3.5959387899947264,-3.5666715600399743,-3.5354604395683515,0.30031242583001116,0.11661432949324242,-0.03610501306602183,-0.06657993120247604,-0.5018466956003598,-0.5869426424750264,-0.639546039431972,-0.6238803726801461,-0.6909488702654418,-0.6571450915321431,-0.7191114104408342,-0.7620355031950414,-0.8037281071348317,-0.8406036699424863,-0.8768209107531366,-0.9129785823684523,-0.9056412371152539,-0.8911842609808479,-2.0326356274440247,-2.033402161585385,-1.9938682388712956,-2.3562689841025133,-2.2874492817409164,-2.3155211024350186,-2.309683706650135,-2.126572742560346,-2.4268793489265916,-2.362389229584597,-2.3126619128954418,-2.380540483467554,-2.459078256625158,-2.603665614669192,-2.806642256322234,-2.7480315399949706,-2.7508407932232455,-2.6921854552584223,-0.6317301322406796,-0.767469759750915,-0.6750732506950884,-0.7080719722244123,-0.7550431130271216,-0.739010841496045,-0.7977835383247815,-0.587989508860683,-0.6443013266757446,-0.6801312191377598,-0.7181036968041715,-0.7082123829414676,-0.759284431936557,-2.9061963320733386,-2.9502938058314,-2.9616325619284702,-2.979950561888614,-3.0343080463899126,-3.0565944224404813,-3.0548720389607635,-2.9982639672289224,-3.109049519098287,-3.1207876939334698,-3.0892810455006097,-3.0980958320449696,-3.1624437920120494,-3.1923877850053173,-3.243732437375087,-3.2642510464570464,-3.274434283054665,-3.292905137459258,-2.052712455662051,-2.099457019771178,-2.1751285642083276,-2.226424417631902,-2.2905276000836987,-2.338458282064651,-2.3347624892488663,-2.3469448444806975,-2.390247608013795,-2.396371723216906,-2.4420078698744185,-2.427730455099412,-2.4367630951656563,-2.4929444184655916,-2.5307037128561825,-2.560484212747672,-2.560321542174515,-2.570573845438678,0.1517062791375808,0.08417832193368144,-0.03890624766733934,-0.5145738215043081,-0.5441459589498006,-0.5373575202887206,-0.565201561592206,-0.5097278978671566,-0.7602415276224944,-0.8776545290609963,-0.9394051596256482,-1.0288175851888663,-0.4474217825424611,-0.5200847299524372,-0.5929757859343755,-0.5946732644588814,-0.6672832389585376,-0.7177770682974653,-2.6759932489413814,-2.7231724142109495,-2.732744283633008,-2.771452172466005,-2.801717657589849,-2.8262935383706314,-2.8516098326771546,-2.8714357657998213,-2.971588302234376,-2.92480618733667,-2.9327891742779535,-2.9132358167416417,-2.9564569824746645,-2.983328269809584,-2.9938987678892817,-3.007569133873954,-2.992999857075793,-2.999170670911853,-0.5376748140670586,-0.951600047503435,-0.7922858830628069,-1.1648512052728757,-0.9236459937737148,-3.2065734947215496,-3.2523430244335514,-3.2967414865554563,-3.3261542160287574,-3.2856931182275813,-3.290778972576886,-3.2732447664124513,-3.2694567235571816,-3.328576208891835,-3.3136311803646774,-3.3126736078821284,-3.3412565540413306,-3.4024788169308575,-3.4181598974846272,-3.395790805440493,-3.4255668757968314,-3.4161668838561825,-3.4389981843951185,-2.7505929084116083,-2.7847591555622833,-2.8029166327111423,-2.8292504349481034,-2.8355290005274747,-2.867087352910302,-2.8823566742171964,-2.880026102863664,-2.931374825686102,-2.9289428219332714,-2.9671157705549387,-2.9760390251350977,-2.983102038559948,-3.0053059759682528,-3.000160311514658,-3.0202480618497467,-3.0004705059406493,-3.020722562466112,0.7172813481377849,0.6556394387098261,0.6477620397773826,0.5806493010408689,0.5426180173194494,0.6532613958218445,0.23951916072871024,0.6187268266427964,0.37149148670428583,0.009099137593331263,-0.013858978467299618,-0.2896733257981286,-0.14528830195012227,-0.5417874971622565,-0.6697071851587947,-0.6999045151642683,-0.7154634347166904,-0.7144809255934489,-0.5285642776395771,-0.550548955736811,-0.5969248415604692,-0.6182235329420301,-0.6542218012435066,-0.6405524862938032,-0.6697375915721261,-0.5941350679434169,-0.6664976201958824,-1.0758872062373082,-1.083665248913361,-1.3066883338825064,-1.3355108249571745,-1.3812081663655038,-1.0937890277372484,-1.156889909139634,-1.1547806834185834,-1.1313948125628492,-1.1492291297564923,-1.2013782741849903,-1.2190072028207168,-1.0453055474493609,-1.085283629938269,-1.1128313138998231,-1.1630091920664754,-1.1570446634643938,-1.128453755230839,0.3330335191039095,-0.3622794451337261,-0.3463269135588338,-0.31210640168435205,-0.48617224546108917,-0.4494451767129758,0.0897389521021791,-0.4427250378879884,-0.5000911071758347,-0.528557337291266,-2.128588259712316,-2.5105679719831997,-2.599479484499658,-2.580171922698604,-2.6535073211534215,-2.7061903599874197,-2.711654221229011,-2.839019468414074,-2.909815451221694,-2.9033424541918063,-2.8313803872956815,-2.5449786716879372,-2.587459192542376,-2.6389756936282365,-2.6900955888812836,-2.7180976573994067,-2.7449214685100776,-2.7696372844477706,-2.7637824038941865,-2.8463072263626565,-2.856285176678824,-2.84647161220062,-2.8627264284374814,-2.855085221342702,-2.884007890936246,-2.8770627036470473,-2.86721746844955,-2.839834578238732,-2.8267573085481277,-2.301724424675261,-2.188420535503731,-2.1549711905414384,-2.36265552275495,-2.42489930651804,-2.4508655957796592,-2.393396133700743,-2.40491556276633,-2.4929853745507105,-2.375762809549309,-2.449697149197167,-2.900273979629451,-2.8662136558855544,-2.811711323651415,-2.7827805956760217,1.0113692518004525,0.998842193146217,1.3284325542781021,1.2398617605704099,1.146888032160157,0.9872579311567669,0.6272832334003969,0.6273017508285954,0.5353944649872416],\"z\":[0.034154294172462074,0.1328969739989454,-0.02785351363067793,-0.008955497882651365,-0.20359418209186844,-0.17906289729403013,-0.24334284919440755,-0.3154186454871059,-0.28593802834237225,-0.27085556519613857,0.011094652735151568,0.04557927976090348,-0.035914052449623424,0.0072712779450104965,-0.05685101641941174,-0.17840047192633687,-0.10087612707792121,-0.06832178072883899,4.229344425442631,3.30634791524404,3.3678720493115755,3.659435674782779,3.698622587183271,3.40383959382611,3.0928445607867348,2.5089940525492858,2.2436373573693227,2.4826874438203292,2.902405830231465,3.207569389559468,2.531600930509344,1.2683849002180236,-0.31637149855447155,0.3143077747819148,0.44079666463602374,0.4333655562136544,0.4000016213346721,0.4291765228259846,0.40946564536711416,0.48474486726567917,0.12035616188796852,0.3363890702390085,0.3662413722189594,0.2737469015384948,0.23293750745493672,0.13618205439698863,0.2675509960481658,0.16748026830836485,0.19027657998185996,0.3325885567621495,-0.8663602685244669,-0.8960471216583165,-0.9954520115533967,-1.0490974618280096,-0.9546748046232911,-0.844208612091216,-0.8170862376524018,-0.7226905195784282,-0.943519743645079,-0.85857930326712,-0.832395525254541,-1.0904588294925703,-1.1317965572578506,-1.137492548342432,-1.2613783330651378,-1.196995650163914,-1.144039278365785,-1.1021687106040179,-1.433358735506668,-1.4426733980232074,-1.477953350939661,-1.482194946033103,-1.5016616860590384,-1.5291898671819644,-1.5120383282170313,-1.5251302971102974,-1.6754535476725396,-1.6314614794107896,-1.5959234466631607,-1.623116164129636,-1.6482629355335177,-1.6646444707187276,-1.6332042558949396,-1.6267294047591034,-1.5987913541951275,-1.5906420083248134,4.271187313251448,3.4782101031804866,4.0574313646978695,4.303691104695644,5.203528777323037,5.61299502242011,5.284534829726436,5.380877895413314,3.6054475886320327,4.015693473895485,4.305080902593612,3.7466725248514785,3.338865947978071,2.8804945125470436,2.1317720395029607,2.6314409543190767,3.097252515604067,3.5693713414948016,1.7907499330982484,1.8540226325380265,1.904599828094778,1.859723333468785,2.1275515995568113,2.2308080187797583,2.439320885241351,2.492275592324815,2.298502905568324,2.246891681748913,2.408446096174334,2.341014910896394,2.4377906280108723,2.3701953410384173,1.9982317176840183,1.8154055061919068,1.847534937174216,1.9741300092498595,-0.3306403517853953,-1.0998354581362255,-0.3434423596121821,-0.3815384506164008,-0.2785625354204978,-0.8248787562831887,-0.9206824239080408,-0.863631091114614,-0.956505626552676,-1.0468266794185161,-0.9211416149229152,-1.002280832419924,-1.078474838983079,-1.0926241284861153,-1.7371491199170856,-1.6666372592146539,-1.5840083114607524,-1.6140968451622715,3.313133185414032,2.646018310504246,2.1635866629865252,1.870860601387136,1.5101505032433968,1.400360343573519,1.3245527831778292,1.3722437496078645,1.3548115437753618,1.2424806006775075,2.424345770012914,2.5305539457295,1.5483928961830349,1.484650035280036,1.5520396690318998,1.6591451111598712,1.4480139611524252,1.4039217385232643,-1.0256666811506343,-1.0809738148277852,-1.117879032641702,-1.107662324249729,-1.097845990053934,-1.119881988016902,-1.1289967210635343,-1.139764066244148,-1.3039709297323834,-1.2343107182124868,-1.2485339867987597,-1.2821385985674107,-1.3338980321852152,-1.3493355285028845,-1.2737995748605802,-1.2381049253048126,-1.240766796203346,-1.2650386697127667,0.14704475020387126,0.3251942669337158,0.5379687646657318,0.9567443286757127,1.373474870527789,1.8198156667944194,1.7764833176382644,1.6477493311658336,0.9108030511756645,1.18113305192729,1.6442154427259323,1.5677271967344129,1.497224254480501,1.2570772390517468,0.5670530416237549,0.5333847700890193,0.7871935903922146,0.7949461910451008,-0.18198088351020286,-0.26870260334609875,-0.054962928914375736,-0.2826244695478278,-0.0827143120119277,0.10646617544954066,0.005752326556731714,-0.08298723260905472,-0.21914985547267307,-0.05487071225661483,0.17519372580272258,0.32247824543057774,0.26374809369236757,0.3460453073103208,0.350460496984257,0.4579037080714607,0.4878323732803209,1.0088841062029295,0.9481720599751889,0.628255694559805,0.1859600251438886,-0.3656286013998943,-0.3157871439577218,-0.36236267010830947,-0.391143903279275,-0.3591828684390065,-0.5358966085153369,-0.3106131446069477,0.2936162240057508,0.3173420775984948,0.09925036596709737,0.18255684341764064,0.28067042724827596,0.11990573466074385,0.10240985904055298,0.03040402142289322,-0.021010016413909077,0.03236062001412421,-0.2736192564561726,-0.1889405842562034,-0.1349654671916463,-0.17506568078734097,-0.17486641303826014,-0.22101910122293975,-0.19990650904134713,-0.2769242677925098,-0.3864472911372184,-0.2650347870630684,1.2636708003542094,1.0001500530061493,0.7245436423520059,0.6996698587132334,0.6637855370874853,0.8211325789838895,0.7831389194083341,0.7567664734390475,0.4608953683844504,0.5506153854762681,0.6966620820084012,0.5592999594582124,0.41441074767208086,0.38917020665537555,0.587921275180595,0.5439478887885807,0.5928957038908883,0.5321229911856246,-1.0390597819499894,-1.1708903979737328,-1.1419427815226093,-1.0861736413884464,-1.0811528286342382,-1.1755483376123823,-1.231568051246648,-1.1826020047787775,-1.5503878188860865,-1.532665045171921,-1.4661470153489413,-1.56978371322212,-1.56923254755241,-1.5219132511618185,-1.6084648296765718,-1.588454897524077,-1.563463349599216,-1.51347280124136,0.039600985695007744,0.031367593244160295,0.20726885629180625,0.5989719110972013,0.6171792120982099,1.3582423882138714,1.3325721798752246,0.9716067244440033,0.3656070447256054,0.600399844429399,0.5902024964722159,-0.42606738945944034,-0.595168177928813,-0.5908260767601804,-0.7886592565922985,-0.8735029912380999,-0.7709731431005432,-0.7443095034380333,0.40426265232872466,0.3952707834894075,0.5605430790922624,0.6237187145283262,0.6862859806130549,0.7497954009385602,0.6555497646353321,0.9254750948632234,0.5193867967346156,0.6432111955800458,0.9700206865645137,0.8071495347581161,0.7114008682872008,0.6149426748528998,0.40940866712226287,0.41704595076391954,0.4154438814259273,0.5154271099982014,-0.4826118767015581,-0.5598314099303097,-0.5542086374063843,-0.48940687286250834,-0.48756392169947943,-0.4918848097614832,-0.5020304103707272,-0.4908716942655954,-0.5972658989472615,-0.6600775531186464,-0.7200072859831504,-0.7291299299945585,-0.691032430593623,-0.6802924453518691,-0.7522639223890916,-0.7128620671915847,-0.6780483713872124,-0.6620230967954305,0.0643855951847062,-0.016274051765761056,-0.027070901336087375,-0.08046260010300847,-0.057099297470740315,0.003745225266538085,-0.022279497062065293,-0.7254953674382048,-0.8598177434149782,-0.8956177256256409,-0.8579828872424943,-0.8694970368589827,-0.926095132606664,-0.9856282386201738,-0.9028610310302192,-0.14779369949565535,-0.07668161325978752,-0.09459355027184713,-0.4367347251310455,-0.46613784894806265,-0.5033387153698368,-1.1788492355674614,-1.1751626595684939,-1.1932859159556883,-1.2471630076576938,-1.3064589907862165,-1.3987778033038278,-1.3893540642328654,-1.4182194727155535,-1.438242082990646,-1.5098758670641863,-1.4860359099250522,-1.4290520425719266,-1.3252888122968813,-1.281797420307148,-1.2724186713259995,-1.09525552613452,-1.135248857219105,-1.1832174015658743,-1.225291645828775,-1.1780475672945123,-1.1268026129668265,-1.1946557555308874,-1.1636934602918865,-1.406130953011579,-1.3389659249302417,-1.3064072942436646,-1.3438671846309898,-1.398933686967852,-1.4389384797042593,-1.4766239629917448,-1.4642828287777476,-1.4372247261335807,-1.4427329623702587,0.3226519068653654,0.2656056739918434,0.9213230272893006,1.4750742858385817,0.27255467639503483,0.44253146158870577,0.5245651477350324,0.35676363631283226,0.1313927577836951,0.26153293718498016,0.2535281638036113,0.23032181365808063,0.327182181804132,0.32020137518010705,0.28169928464576943,0.3851714578616565,0.3975759259163478,0.4217740067120703,1.8552468275247405,1.181321170225152,1.0437720415404934,1.3830365534302516,1.7751902689835453,1.8960039853194395,1.7292858886307645,1.9933518052381105,1.0629275951679142,1.1966453123428658,1.5651819498199318,1.3607271677423096,1.2492125759997619,1.2014373446762578,0.6334851671531884,0.5148728338569156,0.6101024925379537,0.7633784743101959,-0.38821813028761504,-0.4126136509046322,-0.39163362286314934,-0.37648922806424207,-0.39329690632997694,-0.4059759445785347,-0.4225374765018213,-0.4389969353486813,-0.5134319342929662,-0.44100689504527946,-0.3687421185948252,-0.42325692847120494,-0.45100329390940375,-0.3677360808249191,-0.37090086813191164,-0.2734141395138008,-0.27952809807860257,-0.2781241551251678,5.912496808853399,5.496324542075922,4.586566503550832,3.8603923502312614,2.7560945549360762,2.2267505124560274,3.0370550652106445,3.4729785981836696,0.6621150256235637,0.41670871822822625,0.2756260901496017,0.16886819633817743,0.12588458180237394,-0.6566343546329513,-0.625631740578049,-0.7029636386650674,-1.012296562802003,-0.7040059655842787,-0.5926800534710416,-0.674224618094809,-0.7362587585632627,-0.8507248770882565,-0.9047017272814375,-0.904634820733872,-0.8029276124231168,-0.8286720857629514,0.8657850120253485,-0.17468126795961594,-0.0324064332072963,0.08181963759640531,0.605309951883922,0.5619823549581695,0.5383109267624406,0.8475919886469162,0.8434223469761507,0.7679528694372931,0.7662544291420424,0.12486374898451516,0.2784349502356366,0.3045569075613786,0.32914607195185536,0.370179482385331,-1.1111281257624948,-1.163072738067294,-1.2281976963757988,-1.2863836491511818,-1.3235906111000408,-1.2753801680466006,-1.2424296098484555,-1.3005212027214943,-1.503342214527282,-1.4441117999798594,-1.4280112084816918,-1.5021729424200296,-1.5624541859717929,-1.5946223182645247,-1.61699537526463,-1.5629744363945157,-1.5195549479548713,-1.5199857948729043,-1.816876080455317,-1.851195181841468,-1.9235676200964855,-1.9534860243941736,-1.9801756164297482,-1.9878035386402033,-2.0313125628541933,-2.0604989318654408,-2.1765861372376714,-2.145055910504903,-2.1498553919498136,-2.145980326910135,-2.196172509856222,-2.214542686114041,-2.1666507128332846,-2.175855719226706,-2.1710040978785012,-2.177933841709259,3.075209901567337,2.6324684173142563,2.312508250888512,3.0061407019246102,4.168255517808368,4.01859564505448,4.1736144705599925,4.833586833477901,2.8668890957310342,3.7151904826417868,4.203045031703084,4.0871609709854075,3.420002036856987,2.9004405849590893,1.605061513773496,1.555706080968959,2.1096563792091043,2.644377339264361,0.11039889869164454,-0.079752042453823,0.014093323575450834,-0.030532755418556632,-0.1350103781203757,-0.45277787591413343,-0.5639251131820593,-0.1748345231101424,0.008372080141087816,-0.18892908433292283,-0.20948180547535197,-0.12123812517050392,0.11185831982436827,0.17039202021709293,0.3166685327607678,0.29486000740165225,-1.8137314128539443,-1.8533870652946374,-1.958164664421515,-1.973038342604066,-2.0019489547802807,-2.000769867668632,-2.0278563858351806,-2.0867884515777577,-2.245461522753887,-2.2066792837244904,-2.2214985150790305,-2.2399546234405348,-2.2982595344907555,-2.331313879754266,-2.2858981547472226,-2.312197775886384,-2.313801461944854,-2.3583247602368567,-0.06452492156472327,0.16055780187817614,0.14213224097144675,-0.09569637184061214,-1.4068484832235257,-1.4460175500570405,-1.4971849433599815,-1.6701201731673838,-1.5418148493575738,-1.5940548126995895,-1.630530444313972,-1.659446267030867,-1.648032584813453,-1.6007305358154136,-1.5657951184625303,-1.5321621116752873,-0.9049272726793354,-0.47300739132084585,-0.5261111194686465,-0.29113027600810265,-0.3082793593941774,-0.18862629941203835,-0.09481630931173922,-0.12253833874888621,-0.16224272946167195,-0.02766035130394079,-0.021718436562349026,0.022013565371063665,0.07487084569184758,0.006124838709126555,-0.07305410375118003,-0.3053692847354925,-0.4478640659437886,-0.40430231677889306,-0.4959722895895971,-0.43984389392968376,-1.1254296605204783,-1.1858837425271522,-1.2540948088772612,-0.5659385778911482,-0.5697802723762085,0.21121550844785592,0.1309030052343124,-0.6194285012331605,-0.5313377026521329,-0.5526093504853195,-0.5218170092179961,-0.2697256742065717,-1.612419383264154,-1.6195585555734164,-1.616873703069679,-1.6508866209294721,-1.5851681849985075,-1.5746171085591276,-1.6218737569581625,-1.6330630433150457,1.1615910312519775,1.3673428636831297,1.6166374212760495,1.5405566812013862,1.4047309187543704,1.5985724313692982,1.153264942886269,1.1061389224386597,1.260231073168398,1.0713961933669442,0.9721277610534316,0.8992815218977251,0.9128167945656465,0.830642641956007,0.8939984767390688,1.044857480966356,5.995413322136849,3.5062946141805575,4.333702385856746,2.908494802872761,3.219582144317855,3.8936512132988765,3.825147472886896,3.538797381924997,3.543187773862931,2.955994825773898,2.9079743232357136,3.394850609153017,3.909500845004451,-0.8728555705344273,-0.9034786326766674,-0.9796577749457496,-1.0128861114487555,-1.0129080581601762,-0.9777299929143913,-1.022195177708727,-1.198586248318941,-1.3862928601880415,-1.2528276827808433,-1.1736088074327538,-1.1474410979379162,-1.1590993435807337,-1.1168181343148078,-0.810880142511359,-0.8200647460765496,-0.7624569786838424,-0.7454683139623968,-1.2481036061880468,-1.2058414320219817,-1.2729981949371474,-1.2820104750874843,-1.2442617364677395,-1.2051790235842357,-1.248788204366963,-1.1905029929499498,-1.1950925320987722,-1.230057982335115,-1.2210982757668603,-1.1883251228901095,-1.2242157725081508,-1.2586290044292363,-1.2461878450862962,-1.2700426505366502,-1.2786208495463334,-1.2806096332534829,-1.7371137134580812,-1.766839130334686,-1.8426239385712475,-1.886027773204571,-1.9214788200389465,-1.9399037972774749,-1.9765848352576607,-2.0127796815233636,-2.131763321713637,-2.1103525290937934,-2.0845287496688485,-2.075487271516802,-2.1391696458711467,-2.1655040289315988,-2.1102086026832754,-2.112179635324531,-2.0932445640635895,-2.123247274177762,0.28790548451410314,0.2227151653863201,0.35587494783604934,0.49739727931517214,0.40163097472405723,0.37454173337022556,0.2639005352153335,0.26813410163492574,0.061701123587394616,0.06307971180668859,-0.08643689847724208,-0.15220480743189327,-0.0014586235054912633,-0.003902465768827661,0.028352722869914145,0.13638347035537424,0.17969487131410664,0.22447392395731028,-1.4629191869545863,-1.4722567563392186,-1.4926471777300845,-1.5178848493289858,-1.5173921407972688,-1.4821914501150717,-1.478002589080397,-1.5515343179029828,-1.7281606249320391,-1.7453157745691463,-1.8253068765761433,-1.846094468600437,-1.736998828197948,-1.6584494252236617,-1.615764412404029,-1.7000137853792037,-1.6731581102882034,-1.6848904519510153,1.1643677069035563,1.2874536580726617,1.2610850374610687,1.2914235786784483,1.2805159289403516,1.2772793006788872,1.2062570433220225,1.7816077545561877,1.4027398710263004,1.529976365360337,1.4229856036603359,1.4326348501357844,1.2397250350385103,1.2807686739260722,1.2510560462775044,1.186237997300658,1.202726611538641,1.2047127369034654,4.767736352312541,4.949582752483253,4.618595484778917,4.8951227831237425,4.93672518765938,4.778492997934742,4.0034721500757335,4.337464032625407,3.373974297598392,3.6902094939318033,3.824662890430481,3.3054353103706333,2.925003811263695,2.8754832826218952,2.274975577766978,3.1035427250154513,3.1265926223980345,3.68727736729733,3.4513931355354264,3.047338122610713,3.3326636140374672,3.9061658669511377,4.574478964314266,4.454597381955618,4.6866855512616095,4.883555087169763,4.688355122703891,4.462872542185507,4.226683351353856,3.2269200474014204,2.925297303244046,3.1042246653529775,3.6206998077103645,0.11569375424208764,0.057011819144732974,0.0330986209126174,0.06660812442905005,0.12887819040446008,-0.546080268449531,-0.4728337806194537,-0.4451642346886159,-1.4510119411299398,-0.7422765162830307,-0.6429551356156245,-1.411211798276061,-0.87057601633822,-1.4880024496598772,-1.4419770470107827,-0.8220528765773168,-1.4210998922702538,-1.4105294555007657,0.33836772302851126,0.09553651684630658,0.06437395224698725,0.031078011376141818,0.010034932289403714,-0.04757066056410276,-0.08099676483121741,0.0194404126331431,0.09794575339450494,0.26530010817614563,-0.4555482916971185,-0.49880711648835435,-0.5989271496232085,-0.5937861350743909,-0.5467578191640832,-0.5643402277040422,-0.49212511603045106,-0.5042345885935178,-0.7935187925782358,-0.7121434765098741,-0.5961347591268099,-1.3162754399004215,-1.3841174146160122,-1.4050863673156608,-1.413182917189061,-0.7725406738579078,-0.6996218659302901,-0.7280346555867204,-0.6016450315165125,-0.6046445777956397,-0.6422617329492261,-0.6470872041040706,-0.6214804016110862,-0.5229746732547939,-0.5215877000461472,-0.5278013183385799,-0.6271631600274983,-0.543967219410874,-0.49762740102145797,-0.5445898147568959,-0.5751043197425438,-0.5844296805542932,-0.5526174136470532,-0.5584695100530387,-0.5663437335221668,-0.5922157183469794,1.912747739857785,1.8704144091998534,1.8804200456058042,1.7769320400494066,1.722527670360068,1.7373913477456902,1.6391352309231717,1.5559828587419289,1.694085129908347,1.750853017364071,0.6311412179800138,0.5157232397497595,0.4862588562538429,0.5946154086863118,0.5491971648608297,-0.46398927655307837,-0.46572320975699,-0.5423190231027126,-0.6046947434170657,-0.6626812525648956,-0.5213107972963751,-0.48610829004036893,-0.5949965774501843,-0.7886680007897372,-0.7780508037487118,-0.7121788349345294,-0.7855690306534058,-0.8389352039757277,-0.8541159581589554,-0.8790950620005594,-0.8704404830015618,-0.20870356037721763,-0.24672595557073407,0.576122277736402,0.5350765349701964,0.6411766771451679,0.7648423500658338,0.8604894789827686,0.9075380656945441,0.8441785012087322,0.9317614802194134,0.7666247674709253,0.762418981644457,0.9172121075068208,0.9050926642350055,0.7590342412364984,0.6644996084789297,0.47143629008321597,0.5031733047250111,0.6132780686958005,0.6338508281654328,0.3267072073392524,0.18062747345156815,0.020203467013104843,-0.11281009782510461,-0.37622816926910924,-0.41768017614389147,-0.4581349934347512,-0.5576588534534098,-0.4902832146535288,-0.42448104380642016,-0.17606392015188932,-0.2259072108158585,-0.2758762960147891,-0.3797528615180212,1.9696190144187575,1.830736456006246,1.8115059563852514,2.431253974712503,2.7201917172605756,3.373553453892618,4.148365940136496,4.0408395415097536,3.7011934938896722,4.1168290289071345,4.75038527838555,4.163300867852956,4.296400394440631,3.5764701484058006,2.566028261705778,2.8123137719530384,3.895963356631071,4.213854355166806,-0.3191665187832782,-0.28661683084343714,-0.22901168276706804,-0.3930246982816873,-0.5000162971866409,-0.3766221070850529,-0.40798030872556323,-0.21145819671494198,-0.23687972952862293,-0.06139636292954868,-0.11876109520400562,0.06499956019392471,0.06603505700821242,1.0297202527202813,1.0758743365614378,1.001262169262294,1.0068527665811884,1.0128443380300454,1.1901604721763828,1.126579826989595,1.3899731831048012,1.178518793722971,1.202709405868193,1.2429236079795491,1.2643475520494882,1.1771694617142445,1.1252838603272945,1.3090341197802735,1.2870748714823903,1.2953163089700523,1.2751518411976532,-0.7230003310580785,-0.5398209777869528,-0.5896791321485287,-0.5204880728160569,-0.37215564471369406,-0.4788218346086474,-1.1180496474051518,-1.1996899844198605,-1.2746284716198157,-1.3009386692045386,-1.2795615304228118,-1.2831224260849907,-1.2886883525142427,-1.248189982758688,-1.3657115766664158,-1.349956973155152,-1.317076179848013,-1.2913787197548123,-1.2862505943513094,-1.355322434444737,-1.3210483577670131,-1.3234068343609608,-1.292272041818123,-1.2964068179803636,-0.9305958525019714,-1.0306697507054088,-1.1300067283362831,-1.167658661827549,-1.1902035249906628,-1.183848777162648,-1.185744770738947,-1.1145994959579681,-1.2284847106823489,-1.2448108985912443,-1.2366305439740757,-1.3071723778356,-1.2901611658688377,-1.2979193457090066,-1.2958892236760355,-1.3202445468516777,-1.2603658629650305,-1.2677832221155172,-0.24591828946505478,-0.1742273860003047,0.0465909237711427,0.24749588927510838,0.2331209805898164,0.1896167863723947,0.16246048337415875,0.13811736950998968,0.18264063932909985,0.1847499773563551,0.1490157812790919,1.0737440456386733,0.5972177060585581,0.43891375826276763,0.3789076445911327,0.3905198844486641,0.4918341550498685,0.5637167243419525,0.33283697169834,0.01689800393971958,0.19761171642770967,0.33190932590689837,0.48027138067397335,0.3776918703292949,0.34031990218937963,0.3814960979410605,0.4669511414634428,0.3216781753376638,0.2809854515609785,-0.4418054575379374,-0.6730867381210679,-0.6842312151654527,-0.6002330036110753,-0.4074052458655771,-0.25973744884634387,-0.4529108402220928,-0.119773579419143,-0.6506210728001697,-0.6356789991675086,-0.43691282015267713,-0.4948834827968393,-0.6278482749873397,-0.7561306494879263,-1.0577127572945932,-1.2222492806930183,-1.085438928641225,-0.8274180208014675,5.186164627058034,5.021773666865138,5.091908612817065,5.209900157719156,6.01445389160271,6.017131524126658,5.001527944176227,5.1814192289719845,4.212019243069791,4.8596022538308254,5.973494216884333,5.652116770482634,5.438748474011618,4.817217196262325,3.2501459862009177,2.828040420479377,3.2355534082113917,3.9616936977558437,0.010842704487452242,-0.12863891047836476,-0.025203020139784413,-0.08430042909977858,0.07867692167889635,0.14940620444864616,0.23248129147551697,0.35738568378976543,0.2732146008804457,0.2588779280500871,0.3750766385402614,0.4219122056967419,0.408883387181276,0.3750173266816416,0.3355257153928354,0.30527739925692604,0.3043985125416527,0.28799715872135895,0.005541480094541117,0.3076934621878189,0.4320306946204072,0.12254816255235813,0.1256697441628312,0.1562207156947967,0.07900419157681642,0.03764433457513802,-0.1569938423437942,-0.0333838362223822,-0.00569422136776885,-0.20251147704709696,-0.14940233694311636,-0.08401267519388245,-0.07978532777759313,0.007457454550029783,0.00545684346107674,-0.02074519010726253,0.02006033538761898,0.04409508637445413,0.16132072808309145,0.5910521766433501,0.7453581237516808,1.2924660377274653,1.3559797796508177,1.2836283584911308,0.9646986766411986,1.1504722362707305,1.2822868102147718,1.0454869700042073,0.7600747503263354,0.5538841427835995,0.439910312896824,0.5286696976954807,0.636045988473517,0.6192994040601751,0.01408831325355445,-0.023793101661362902,-0.003832810022621819,0.22528847324705903,0.12903324985912085,0.1641665401207563,-0.02596777883593515,-0.039833008299695716,0.06275946867022149,-0.06651004576664322,-0.04773176342153315,0.04512594842726607,0.30413541299373276,-0.27193210015945674,-0.4212437827461332,-0.45075193404707187,-0.38429443273731784,-0.5004185299395476,-0.49791120470265676,-0.5489461188701593,-0.6311344413799352,-1.3517944828003348,-1.37418864001248,-1.3254289917386315,-1.3618067006222843,-1.455648731547076,-1.5015508711098566,-1.4324592746503,-0.7554963653660552,-0.7236508264996989,-0.7691062247500268,-1.4785916985950485,-1.4902341076243404,-1.6026184777835546,-1.6341182676201609,-1.651336948996072,-1.6439235766201483,-1.657069168578119,-1.7075369503731141,-1.807540441660353,-1.7778111990706882,-1.7053873787340426,-1.6525012382760105,-1.7378243267084628,-1.7461228494812409,-1.6286205510417637,-1.625961775297546,-1.5556462808275062,-1.5739149714297076,4.726920630322808,4.275054797585871,4.46259927951478,4.8461790232143285,5.390249633686134,4.940701936647288,4.709648681661812,4.800430599623604,4.685434314858862,4.423953444845134,4.1004008433201635,3.823777068903649,2.864543093463263,2.5754273425850913,2.7800029186385133,3.0774188343334807,1.5973730446559027,1.251729030696844,0.9071413581696587,0.6639395216301236,0.3803753170060109,0.3457181993957892,0.183727164923521,0.2326506242886139,0.143671210670855,0.18473006500160238,0.31485226728125704,0.26357159604659997,0.21133797917367947,0.08430003242324419,0.06906213436828025,-0.06370606208526781,-0.03765227562345775,-0.029206839898251513,3.7510333594432868,3.7625919683628086,4.230299051812837,4.014763628979673,4.634572561773397,4.597247196082625,4.27944403158089,4.946634615175752,3.3920878055229853,3.952767025531887,4.541996197805672,4.366311337274797,4.03171368487242,3.615778684673458,2.4532036341681276,2.2469473594430576,2.4986091069803633,2.957354556277377,0.6761717600523013,0.33326427789653185,0.3275673081160052,0.1773046686619257,0.3014350411283959,0.4476820639193193,0.3894883802564574,0.607644443560125,0.3594544483471002,0.682009684151917,0.7403290154490101,0.754244631968116,0.6530468577436241,0.3827165645527734,0.3378934240165284,0.29669200785132815,0.3949045204665981,0.41966893736466293,0.44487460113105515,0.4615753829965578,0.5095316910430245,0.48553701387995457,0.5447061963784777,0.5562706012204812,0.5454543969884391,0.4808635377250609,0.44974317899586586,0.43067845308367103,0.36976884259655535,0.4188781257561336,0.43088878596261043,-1.1143263972516093,-1.1324223005977414,-1.2338158443627896,-1.2783877518256341,-1.2926394192252004,-1.2460973853185464,-1.2048173844472727,-1.1888396366560434,-1.4734500377787156,-1.468119026221929,-1.4808067123246336,-1.4647895143420624,-1.4609347301336224,-1.469943703534642,-1.4106645010680139,-1.4089667855571233,-1.3326067327650317,-1.3336835215506446,0.7988801479453975,0.9751704372143369,0.4707815442567162,0.4098814678077156,0.29682685741327364,0.4810722671838084,0.6642098679873817,1.3284337513877509,0.7048265327194175,0.5050490684218629,0.5406834624607839,0.46685220078719675,1.168025109503804,1.2121695383102193,1.1657753676535985,1.4282332649887728,1.2329818788000946,1.167569455517836,-1.3335252181821209,-1.3468134538970717,-1.4056536476327748,-1.44718667577471,-1.448584513992523,-1.4682908746450627,-1.5302052002038593,-1.5805337422632775,-1.7353993787861992,-1.7220416640404563,-1.7162449986196882,-1.7095205546710177,-1.7461789639784797,-1.7855562057550007,-1.7203035590078648,-1.7127498966019055,-1.662566617761518,-1.6972131100489551,1.9761882641747601,2.1105731307748914,2.3308811568755954,1.6106190945847867,2.813093156832111,-1.4985135679773218,-1.5216258096882385,-1.5586097562624328,-1.5759796261634296,-1.5939553474545582,-1.55535620255164,-1.5297948492868088,-1.5421815430962642,-1.7373395217395915,-1.6298177393807831,-1.594669509649692,-1.7072670252837019,-1.751665457269509,-1.759396505426027,-1.7394079987690816,-1.7221586647730125,-1.697196073811783,-1.693957465577224,-1.2128288308818567,-1.2420550827550056,-1.2702421259024261,-1.2632620948040458,-1.237216063478558,-1.1907113476580387,-1.1802499654878196,-1.1522513455805627,-1.2693312345808145,-1.2406287199699464,-1.2647743394092708,-1.2897894367727343,-1.2855734898572861,-1.2849946188056056,-1.3217058239179522,-1.3101592766134311,-1.3030086494435655,-1.2720118204457884,0.6956763029737326,0.689868105458509,0.7625979546313516,0.7987672874329907,0.8758594150183665,1.1206523622184736,1.7464036811611825,1.0864442277308268,0.9000642810683176,1.0185737773340924,1.0254653048863303,0.8047761175917189,1.0129179169113576,1.7488683448471025,1.6794014247233962,1.6899429523059888,1.7436868590501395,1.7846191775843327,0.7179226565999917,0.6896003566395594,0.640450523941772,0.7361865588053249,0.8413760274333268,0.9472806918619486,0.9661386271021789,1.3663699388467525,1.0514213606138247,1.066263681785155,0.9451140007519905,0.812630869150866,0.7245518060925311,0.5833595865278222,0.3602157930406268,0.30537372417263764,0.43439845517424863,0.5720552906528177,0.2449929204028074,0.2689111346813007,0.3061870560869657,0.47379161688826266,0.5572232239815359,0.5725015314931484,0.5816234398745607,0.7288440340738424,0.9472202312667684,3.6744462348454165,3.7900504534710975,3.7528105824508673,3.1968229649861835,1.6369642277647258,1.42811963141757,2.482865637349682,1.8160105656343866,1.503532271804036,1.2184631564936401,2.8322347331244484,2.1809123949362212,2.5029166029552217,3.0182391236773034,3.2304879798010684,2.9891896031644576,2.8218921499898326,2.228353798813725,2.04295199111931,2.1327145038675233,2.4011031137903767,-1.823476907844105,-1.888226509112584,-1.948319321721972,-2.0223367013773013,-2.0103329450667813,-2.0057014406223153,-2.058384312266912,-2.0156406984017066,-2.102206008228665,-2.069753507258889,-2.055561066684685,-2.108330136973824,-2.147634759094157,-2.2224768639270462,-2.260154397530458,-2.2328793239153506,-2.1767439509088087,-2.207469186600215,-0.6759891736107075,-0.37653732000827916,-0.14455584055246215,-0.24448781422460553,-0.38804098324340874,-0.33502124222086377,-0.3564067888551303,-0.33690553994819716,-0.35414520310768693,-0.4127167251868909,-0.4059055537165254,-1.1541115742231818,-1.1968179315388077,-1.2157132902660415,-1.1985003977490654,2.2512188313953168,2.42063424109147,1.5757354612720489,1.3784260093660083,1.2831586338221086,1.0953155931226906,1.7840194556352917,1.8975000966081474,2.0096525178781044],\"type\":\"scatter3d\"},{\"customdata\":[[\"Angola\"],[\"Angola\"],[\"Angola\"],[\"Angola\"],[\"Angola\"],[\"Angola\"],[\"Angola\"],[\"Angola\"],[\"Angola\"],[\"Angola\"],[\"Angola\"],[\"Angola\"],[\"Angola\"],[\"Angola\"],[\"Angola\"],[\"Bangladesh\"],[\"Bangladesh\"],[\"Bangladesh\"],[\"Bangladesh\"],[\"Bangladesh\"],[\"Bangladesh\"],[\"Bangladesh\"],[\"Bangladesh\"],[\"Bangladesh\"],[\"Bangladesh\"],[\"Bangladesh\"],[\"Bangladesh\"],[\"Bangladesh\"],[\"Bangladesh\"],[\"Bangladesh\"],[\"Bangladesh\"],[\"Bangladesh\"],[\"Bangladesh\"],[\"Benin\"],[\"Benin\"],[\"Benin\"],[\"Benin\"],[\"Benin\"],[\"Benin\"],[\"Benin\"],[\"Benin\"],[\"Benin\"],[\"Benin\"],[\"Benin\"],[\"Benin\"],[\"Benin\"],[\"Benin\"],[\"Benin\"],[\"Benin\"],[\"Benin\"],[\"Benin\"],[\"Bhutan\"],[\"Bhutan\"],[\"Bhutan\"],[\"Bhutan\"],[\"Bhutan\"],[\"Bhutan\"],[\"Bhutan\"],[\"Bhutan\"],[\"Bhutan\"],[\"Bhutan\"],[\"Bhutan\"],[\"Bhutan\"],[\"Bhutan\"],[\"Bhutan\"],[\"Bhutan\"],[\"Bhutan\"],[\"Bhutan\"],[\"Bhutan\"],[\"Botswana\"],[\"Burkina Faso\"],[\"Burkina Faso\"],[\"Burkina Faso\"],[\"Burkina Faso\"],[\"Burkina Faso\"],[\"Burkina Faso\"],[\"Burkina Faso\"],[\"Burkina Faso\"],[\"Burkina Faso\"],[\"Burkina Faso\"],[\"Burkina Faso\"],[\"Burkina Faso\"],[\"Burkina Faso\"],[\"Burkina Faso\"],[\"Burkina Faso\"],[\"Burkina Faso\"],[\"Burkina Faso\"],[\"Burkina Faso\"],[\"Burundi\"],[\"Burundi\"],[\"Burundi\"],[\"Burundi\"],[\"Burundi\"],[\"Burundi\"],[\"Burundi\"],[\"Burundi\"],[\"Burundi\"],[\"Burundi\"],[\"Burundi\"],[\"Burundi\"],[\"Burundi\"],[\"Burundi\"],[\"Burundi\"],[\"Burundi\"],[\"Burundi\"],[\"Burundi\"],[\"Cambodia\"],[\"Cambodia\"],[\"Cambodia\"],[\"Cambodia\"],[\"Cambodia\"],[\"Cambodia\"],[\"Cambodia\"],[\"Cambodia\"],[\"Cambodia\"],[\"Cambodia\"],[\"Cambodia\"],[\"Cambodia\"],[\"Cambodia\"],[\"Cambodia\"],[\"Cambodia\"],[\"Cambodia\"],[\"Cambodia\"],[\"Cambodia\"],[\"Cameroon\"],[\"Cameroon\"],[\"Cameroon\"],[\"Cameroon\"],[\"Cameroon\"],[\"Cameroon\"],[\"Cameroon\"],[\"Cameroon\"],[\"Cameroon\"],[\"Cameroon\"],[\"Cameroon\"],[\"Cameroon\"],[\"Cameroon\"],[\"Cameroon\"],[\"Cameroon\"],[\"Cameroon\"],[\"Cameroon\"],[\"Cameroon\"],[\"Central African Republic\"],[\"Central African Republic\"],[\"Central African Republic\"],[\"Central African Republic\"],[\"Central African Republic\"],[\"Central African Republic\"],[\"Central African Republic\"],[\"Central African Republic\"],[\"Central African Republic\"],[\"Central African Republic\"],[\"Central African Republic\"],[\"Central African Republic\"],[\"Central African Republic\"],[\"Central African Republic\"],[\"Central African Republic\"],[\"Central African Republic\"],[\"Central African Republic\"],[\"Central African Republic\"],[\"Chad\"],[\"Chad\"],[\"Chad\"],[\"Chad\"],[\"Chad\"],[\"Chad\"],[\"Chad\"],[\"Chad\"],[\"Chad\"],[\"Chad\"],[\"Chad\"],[\"Chad\"],[\"Chad\"],[\"Chad\"],[\"Chad\"],[\"Chad\"],[\"Chad\"],[\"Chad\"],[\"Comoros\"],[\"Comoros\"],[\"Comoros\"],[\"Comoros\"],[\"Comoros\"],[\"Comoros\"],[\"Comoros\"],[\"Comoros\"],[\"Comoros\"],[\"Comoros\"],[\"Comoros\"],[\"Comoros\"],[\"Comoros\"],[\"Cote d'Ivoire\"],[\"Cote d'Ivoire\"],[\"Cote d'Ivoire\"],[\"Cote d'Ivoire\"],[\"Cote d'Ivoire\"],[\"Cote d'Ivoire\"],[\"Cote d'Ivoire\"],[\"Cote d'Ivoire\"],[\"Cote d'Ivoire\"],[\"Cote d'Ivoire\"],[\"Cote d'Ivoire\"],[\"Cote d'Ivoire\"],[\"Cote d'Ivoire\"],[\"Cote d'Ivoire\"],[\"Cote d'Ivoire\"],[\"Cote d'Ivoire\"],[\"Cote d'Ivoire\"],[\"Cote d'Ivoire\"],[\"Eswatini\"],[\"Eswatini\"],[\"Eswatini\"],[\"Eswatini\"],[\"Eswatini\"],[\"Eswatini\"],[\"Eswatini\"],[\"Eswatini\"],[\"Eswatini\"],[\"Eswatini\"],[\"Eswatini\"],[\"Eswatini\"],[\"Eswatini\"],[\"Eswatini\"],[\"Eswatini\"],[\"Eswatini\"],[\"Eswatini\"],[\"Eswatini\"],[\"Ethiopia\"],[\"Ethiopia\"],[\"Ethiopia\"],[\"Ethiopia\"],[\"Ethiopia\"],[\"Ethiopia\"],[\"Ethiopia\"],[\"Ethiopia\"],[\"Fiji\"],[\"Fiji\"],[\"Georgia\"],[\"Ghana\"],[\"Ghana\"],[\"Ghana\"],[\"Ghana\"],[\"Ghana\"],[\"Ghana\"],[\"Ghana\"],[\"Ghana\"],[\"Ghana\"],[\"Ghana\"],[\"Ghana\"],[\"Ghana\"],[\"Ghana\"],[\"Ghana\"],[\"Guatemala\"],[\"Guatemala\"],[\"Guatemala\"],[\"Guatemala\"],[\"Guatemala\"],[\"Guatemala\"],[\"Guatemala\"],[\"Guatemala\"],[\"Guatemala\"],[\"Guatemala\"],[\"Guatemala\"],[\"Guatemala\"],[\"Guatemala\"],[\"Guatemala\"],[\"Guatemala\"],[\"Guatemala\"],[\"Guinea-Bissau\"],[\"Guinea-Bissau\"],[\"Guinea-Bissau\"],[\"Guinea-Bissau\"],[\"Guinea-Bissau\"],[\"Guinea-Bissau\"],[\"Guinea-Bissau\"],[\"Guinea-Bissau\"],[\"Guinea-Bissau\"],[\"Guinea-Bissau\"],[\"Guinea-Bissau\"],[\"Guinea-Bissau\"],[\"Guinea-Bissau\"],[\"Guyana\"],[\"Guyana\"],[\"Guyana\"],[\"Guyana\"],[\"Guyana\"],[\"Haiti\"],[\"Haiti\"],[\"Haiti\"],[\"Haiti\"],[\"Haiti\"],[\"Haiti\"],[\"Haiti\"],[\"Haiti\"],[\"Haiti\"],[\"Haiti\"],[\"Haiti\"],[\"Haiti\"],[\"Haiti\"],[\"Haiti\"],[\"Haiti\"],[\"Haiti\"],[\"Haiti\"],[\"Haiti\"],[\"Honduras\"],[\"Honduras\"],[\"Honduras\"],[\"Honduras\"],[\"Honduras\"],[\"Honduras\"],[\"Honduras\"],[\"India\"],[\"India\"],[\"India\"],[\"India\"],[\"India\"],[\"Indonesia\"],[\"Indonesia\"],[\"Kenya\"],[\"Kenya\"],[\"Kenya\"],[\"Kenya\"],[\"Kenya\"],[\"Kenya\"],[\"Kenya\"],[\"Kenya\"],[\"Kenya\"],[\"Kenya\"],[\"Kenya\"],[\"Kenya\"],[\"Kenya\"],[\"Kenya\"],[\"Kenya\"],[\"Kenya\"],[\"Kenya\"],[\"Kenya\"],[\"Lesotho\"],[\"Lesotho\"],[\"Lesotho\"],[\"Lesotho\"],[\"Lesotho\"],[\"Lesotho\"],[\"Lesotho\"],[\"Lesotho\"],[\"Lesotho\"],[\"Lesotho\"],[\"Lesotho\"],[\"Lesotho\"],[\"Liberia\"],[\"Liberia\"],[\"Liberia\"],[\"Liberia\"],[\"Liberia\"],[\"Liberia\"],[\"Liberia\"],[\"Liberia\"],[\"Liberia\"],[\"Liberia\"],[\"Liberia\"],[\"Liberia\"],[\"Madagascar\"],[\"Madagascar\"],[\"Madagascar\"],[\"Madagascar\"],[\"Madagascar\"],[\"Madagascar\"],[\"Madagascar\"],[\"Madagascar\"],[\"Madagascar\"],[\"Madagascar\"],[\"Madagascar\"],[\"Madagascar\"],[\"Madagascar\"],[\"Madagascar\"],[\"Madagascar\"],[\"Madagascar\"],[\"Madagascar\"],[\"Madagascar\"],[\"Mali\"],[\"Mali\"],[\"Mali\"],[\"Mali\"],[\"Mali\"],[\"Mali\"],[\"Mali\"],[\"Mali\"],[\"Mali\"],[\"Mali\"],[\"Mali\"],[\"Mali\"],[\"Mali\"],[\"Mali\"],[\"Mali\"],[\"Mali\"],[\"Mali\"],[\"Mali\"],[\"Mauritania\"],[\"Mauritania\"],[\"Mauritania\"],[\"Mauritania\"],[\"Mauritania\"],[\"Mauritania\"],[\"Mauritania\"],[\"Mauritania\"],[\"Mauritania\"],[\"Mauritania\"],[\"Mauritania\"],[\"Mauritania\"],[\"Mauritania\"],[\"Mauritania\"],[\"Mauritania\"],[\"Mauritania\"],[\"Mauritania\"],[\"Mauritania\"],[\"Moldova\"],[\"Moldova\"],[\"Moldova\"],[\"Moldova\"],[\"Mozambique\"],[\"Mozambique\"],[\"Mozambique\"],[\"Mozambique\"],[\"Mozambique\"],[\"Mozambique\"],[\"Mozambique\"],[\"Mozambique\"],[\"Mozambique\"],[\"Mozambique\"],[\"Mozambique\"],[\"Mozambique\"],[\"Mozambique\"],[\"Mozambique\"],[\"Myanmar\"],[\"Myanmar\"],[\"Myanmar\"],[\"Myanmar\"],[\"Myanmar\"],[\"Myanmar\"],[\"Myanmar\"],[\"Myanmar\"],[\"Myanmar\"],[\"Namibia\"],[\"Namibia\"],[\"Namibia\"],[\"Namibia\"],[\"Namibia\"],[\"Namibia\"],[\"Namibia\"],[\"Namibia\"],[\"Namibia\"],[\"Namibia\"],[\"Nepal\"],[\"Nepal\"],[\"Nepal\"],[\"Nepal\"],[\"Nepal\"],[\"Nepal\"],[\"Nepal\"],[\"Nepal\"],[\"Nepal\"],[\"Nepal\"],[\"Nepal\"],[\"Nepal\"],[\"Nepal\"],[\"Nepal\"],[\"Nepal\"],[\"Nepal\"],[\"Nepal\"],[\"Nepal\"],[\"Nicaragua\"],[\"Nicaragua\"],[\"Nicaragua\"],[\"Nicaragua\"],[\"Nicaragua\"],[\"Nicaragua\"],[\"Nicaragua\"],[\"Niger\"],[\"Niger\"],[\"Niger\"],[\"Niger\"],[\"Niger\"],[\"Niger\"],[\"Niger\"],[\"Niger\"],[\"Niger\"],[\"Niger\"],[\"Niger\"],[\"Niger\"],[\"Niger\"],[\"Niger\"],[\"Niger\"],[\"Niger\"],[\"Niger\"],[\"Niger\"],[\"Nigeria\"],[\"Nigeria\"],[\"Nigeria\"],[\"Nigeria\"],[\"Nigeria\"],[\"Nigeria\"],[\"Nigeria\"],[\"Nigeria\"],[\"Nigeria\"],[\"Nigeria\"],[\"Nigeria\"],[\"Nigeria\"],[\"Nigeria\"],[\"Nigeria\"],[\"Nigeria\"],[\"Nigeria\"],[\"Nigeria\"],[\"Nigeria\"],[\"Pakistan\"],[\"Pakistan\"],[\"Pakistan\"],[\"Pakistan\"],[\"Pakistan\"],[\"Pakistan\"],[\"Pakistan\"],[\"Pakistan\"],[\"Pakistan\"],[\"Pakistan\"],[\"Pakistan\"],[\"Pakistan\"],[\"Pakistan\"],[\"Pakistan\"],[\"Pakistan\"],[\"Pakistan\"],[\"Pakistan\"],[\"Pakistan\"],[\"Philippines\"],[\"Philippines\"],[\"Philippines\"],[\"Philippines\"],[\"Philippines\"],[\"Rwanda\"],[\"Rwanda\"],[\"Rwanda\"],[\"Rwanda\"],[\"Rwanda\"],[\"Rwanda\"],[\"Rwanda\"],[\"Rwanda\"],[\"Rwanda\"],[\"Rwanda\"],[\"Rwanda\"],[\"Rwanda\"],[\"Rwanda\"],[\"Rwanda\"],[\"Rwanda\"],[\"Rwanda\"],[\"Rwanda\"],[\"Rwanda\"],[\"Senegal\"],[\"Senegal\"],[\"Senegal\"],[\"Senegal\"],[\"Senegal\"],[\"Senegal\"],[\"Senegal\"],[\"Senegal\"],[\"Senegal\"],[\"Senegal\"],[\"Senegal\"],[\"Senegal\"],[\"Senegal\"],[\"Senegal\"],[\"Senegal\"],[\"Senegal\"],[\"Senegal\"],[\"Senegal\"],[\"Sierra Leone\"],[\"Sierra Leone\"],[\"Sierra Leone\"],[\"Sierra Leone\"],[\"Sierra Leone\"],[\"Sierra Leone\"],[\"Sierra Leone\"],[\"Sierra Leone\"],[\"Sierra Leone\"],[\"Sierra Leone\"],[\"Sierra Leone\"],[\"Sierra Leone\"],[\"Solomon Islands\"],[\"Solomon Islands\"],[\"Solomon Islands\"],[\"Solomon Islands\"],[\"Solomon Islands\"],[\"Solomon Islands\"],[\"Sri Lanka\"],[\"Sri Lanka\"],[\"Sri Lanka\"],[\"Sri Lanka\"],[\"Sri Lanka\"],[\"Sri Lanka\"],[\"Sri Lanka\"],[\"Sri Lanka\"],[\"Sri Lanka\"],[\"Sri Lanka\"],[\"Sri Lanka\"],[\"Sri Lanka\"],[\"Sri Lanka\"],[\"Sri Lanka\"],[\"Sri Lanka\"],[\"Sri Lanka\"],[\"Sri Lanka\"],[\"Sri Lanka\"],[\"Tajikistan\"],[\"Tajikistan\"],[\"Tajikistan\"],[\"Tajikistan\"],[\"Tajikistan\"],[\"Tajikistan\"],[\"Tajikistan\"],[\"Tajikistan\"],[\"Tajikistan\"],[\"Tajikistan\"],[\"Tajikistan\"],[\"Tajikistan\"],[\"Tajikistan\"],[\"Tanzania\"],[\"Tanzania\"],[\"Tanzania\"],[\"Tanzania\"],[\"Tanzania\"],[\"Tanzania\"],[\"Tanzania\"],[\"Tanzania\"],[\"Tanzania\"],[\"Tanzania\"],[\"Tanzania\"],[\"Tanzania\"],[\"Tanzania\"],[\"Tanzania\"],[\"Tanzania\"],[\"Tanzania\"],[\"Tanzania\"],[\"Tanzania\"],[\"Togo\"],[\"Togo\"],[\"Togo\"],[\"Togo\"],[\"Togo\"],[\"Togo\"],[\"Togo\"],[\"Togo\"],[\"Togo\"],[\"Togo\"],[\"Togo\"],[\"Togo\"],[\"Togo\"],[\"Togo\"],[\"Togo\"],[\"Togo\"],[\"Togo\"],[\"Togo\"],[\"Uganda\"],[\"Uganda\"],[\"Uganda\"],[\"Uganda\"],[\"Uganda\"],[\"Uganda\"],[\"Uganda\"],[\"Uganda\"],[\"Uganda\"],[\"Uganda\"],[\"Uganda\"],[\"Uganda\"],[\"Uganda\"],[\"Uganda\"],[\"Uganda\"],[\"Uganda\"],[\"Uganda\"],[\"Uganda\"],[\"Vanuatu\"],[\"Vanuatu\"],[\"Vanuatu\"],[\"Vanuatu\"],[\"Vanuatu\"],[\"Vanuatu\"],[\"Vanuatu\"],[\"Vanuatu\"],[\"Vanuatu\"],[\"Vanuatu\"],[\"Vanuatu\"],[\"Vanuatu\"],[\"Vanuatu\"],[\"Vanuatu\"],[\"Vietnam\"],[\"Vietnam\"],[\"Vietnam\"],[\"Vietnam\"],[\"Vietnam\"],[\"Vietnam\"],[\"Vietnam\"],[\"Vietnam\"],[\"Vietnam\"],[\"Zambia\"],[\"Zambia\"],[\"Zambia\"],[\"Zambia\"],[\"Zambia\"],[\"Zambia\"],[\"Zambia\"],[\"Zambia\"],[\"Zambia\"],[\"Zimbabwe\"],[\"Zimbabwe\"],[\"Zimbabwe\"],[\"Zimbabwe\"],[\"Zimbabwe\"],[\"Zimbabwe\"],[\"Zimbabwe\"],[\"Zimbabwe\"],[\"Zimbabwe\"]],\"hovertemplate\":\"<b>%{hovertext}</b><br><br>Class=%{marker.color}<br>PC 1=%{x}<br>PC 2=%{y}<br>PC 3=%{z}<br>Country=%{customdata[0]}<extra></extra>\",\"hovertext\":[\"Angola\",\"Angola\",\"Angola\",\"Angola\",\"Angola\",\"Angola\",\"Angola\",\"Angola\",\"Angola\",\"Angola\",\"Angola\",\"Angola\",\"Angola\",\"Angola\",\"Angola\",\"Bangladesh\",\"Bangladesh\",\"Bangladesh\",\"Bangladesh\",\"Bangladesh\",\"Bangladesh\",\"Bangladesh\",\"Bangladesh\",\"Bangladesh\",\"Bangladesh\",\"Bangladesh\",\"Bangladesh\",\"Bangladesh\",\"Bangladesh\",\"Bangladesh\",\"Bangladesh\",\"Bangladesh\",\"Bangladesh\",\"Benin\",\"Benin\",\"Benin\",\"Benin\",\"Benin\",\"Benin\",\"Benin\",\"Benin\",\"Benin\",\"Benin\",\"Benin\",\"Benin\",\"Benin\",\"Benin\",\"Benin\",\"Benin\",\"Benin\",\"Benin\",\"Bhutan\",\"Bhutan\",\"Bhutan\",\"Bhutan\",\"Bhutan\",\"Bhutan\",\"Bhutan\",\"Bhutan\",\"Bhutan\",\"Bhutan\",\"Bhutan\",\"Bhutan\",\"Bhutan\",\"Bhutan\",\"Bhutan\",\"Bhutan\",\"Bhutan\",\"Bhutan\",\"Botswana\",\"Burkina Faso\",\"Burkina Faso\",\"Burkina Faso\",\"Burkina Faso\",\"Burkina Faso\",\"Burkina Faso\",\"Burkina Faso\",\"Burkina Faso\",\"Burkina Faso\",\"Burkina Faso\",\"Burkina Faso\",\"Burkina Faso\",\"Burkina Faso\",\"Burkina Faso\",\"Burkina Faso\",\"Burkina Faso\",\"Burkina Faso\",\"Burkina Faso\",\"Burundi\",\"Burundi\",\"Burundi\",\"Burundi\",\"Burundi\",\"Burundi\",\"Burundi\",\"Burundi\",\"Burundi\",\"Burundi\",\"Burundi\",\"Burundi\",\"Burundi\",\"Burundi\",\"Burundi\",\"Burundi\",\"Burundi\",\"Burundi\",\"Cambodia\",\"Cambodia\",\"Cambodia\",\"Cambodia\",\"Cambodia\",\"Cambodia\",\"Cambodia\",\"Cambodia\",\"Cambodia\",\"Cambodia\",\"Cambodia\",\"Cambodia\",\"Cambodia\",\"Cambodia\",\"Cambodia\",\"Cambodia\",\"Cambodia\",\"Cambodia\",\"Cameroon\",\"Cameroon\",\"Cameroon\",\"Cameroon\",\"Cameroon\",\"Cameroon\",\"Cameroon\",\"Cameroon\",\"Cameroon\",\"Cameroon\",\"Cameroon\",\"Cameroon\",\"Cameroon\",\"Cameroon\",\"Cameroon\",\"Cameroon\",\"Cameroon\",\"Cameroon\",\"Central African Republic\",\"Central African Republic\",\"Central African Republic\",\"Central African Republic\",\"Central African Republic\",\"Central African Republic\",\"Central African Republic\",\"Central African Republic\",\"Central African Republic\",\"Central African Republic\",\"Central African Republic\",\"Central African Republic\",\"Central African Republic\",\"Central African Republic\",\"Central African Republic\",\"Central African Republic\",\"Central African Republic\",\"Central African Republic\",\"Chad\",\"Chad\",\"Chad\",\"Chad\",\"Chad\",\"Chad\",\"Chad\",\"Chad\",\"Chad\",\"Chad\",\"Chad\",\"Chad\",\"Chad\",\"Chad\",\"Chad\",\"Chad\",\"Chad\",\"Chad\",\"Comoros\",\"Comoros\",\"Comoros\",\"Comoros\",\"Comoros\",\"Comoros\",\"Comoros\",\"Comoros\",\"Comoros\",\"Comoros\",\"Comoros\",\"Comoros\",\"Comoros\",\"Cote d'Ivoire\",\"Cote d'Ivoire\",\"Cote d'Ivoire\",\"Cote d'Ivoire\",\"Cote d'Ivoire\",\"Cote d'Ivoire\",\"Cote d'Ivoire\",\"Cote d'Ivoire\",\"Cote d'Ivoire\",\"Cote d'Ivoire\",\"Cote d'Ivoire\",\"Cote d'Ivoire\",\"Cote d'Ivoire\",\"Cote d'Ivoire\",\"Cote d'Ivoire\",\"Cote d'Ivoire\",\"Cote d'Ivoire\",\"Cote d'Ivoire\",\"Eswatini\",\"Eswatini\",\"Eswatini\",\"Eswatini\",\"Eswatini\",\"Eswatini\",\"Eswatini\",\"Eswatini\",\"Eswatini\",\"Eswatini\",\"Eswatini\",\"Eswatini\",\"Eswatini\",\"Eswatini\",\"Eswatini\",\"Eswatini\",\"Eswatini\",\"Eswatini\",\"Ethiopia\",\"Ethiopia\",\"Ethiopia\",\"Ethiopia\",\"Ethiopia\",\"Ethiopia\",\"Ethiopia\",\"Ethiopia\",\"Fiji\",\"Fiji\",\"Georgia\",\"Ghana\",\"Ghana\",\"Ghana\",\"Ghana\",\"Ghana\",\"Ghana\",\"Ghana\",\"Ghana\",\"Ghana\",\"Ghana\",\"Ghana\",\"Ghana\",\"Ghana\",\"Ghana\",\"Guatemala\",\"Guatemala\",\"Guatemala\",\"Guatemala\",\"Guatemala\",\"Guatemala\",\"Guatemala\",\"Guatemala\",\"Guatemala\",\"Guatemala\",\"Guatemala\",\"Guatemala\",\"Guatemala\",\"Guatemala\",\"Guatemala\",\"Guatemala\",\"Guinea-Bissau\",\"Guinea-Bissau\",\"Guinea-Bissau\",\"Guinea-Bissau\",\"Guinea-Bissau\",\"Guinea-Bissau\",\"Guinea-Bissau\",\"Guinea-Bissau\",\"Guinea-Bissau\",\"Guinea-Bissau\",\"Guinea-Bissau\",\"Guinea-Bissau\",\"Guinea-Bissau\",\"Guyana\",\"Guyana\",\"Guyana\",\"Guyana\",\"Guyana\",\"Haiti\",\"Haiti\",\"Haiti\",\"Haiti\",\"Haiti\",\"Haiti\",\"Haiti\",\"Haiti\",\"Haiti\",\"Haiti\",\"Haiti\",\"Haiti\",\"Haiti\",\"Haiti\",\"Haiti\",\"Haiti\",\"Haiti\",\"Haiti\",\"Honduras\",\"Honduras\",\"Honduras\",\"Honduras\",\"Honduras\",\"Honduras\",\"Honduras\",\"India\",\"India\",\"India\",\"India\",\"India\",\"Indonesia\",\"Indonesia\",\"Kenya\",\"Kenya\",\"Kenya\",\"Kenya\",\"Kenya\",\"Kenya\",\"Kenya\",\"Kenya\",\"Kenya\",\"Kenya\",\"Kenya\",\"Kenya\",\"Kenya\",\"Kenya\",\"Kenya\",\"Kenya\",\"Kenya\",\"Kenya\",\"Lesotho\",\"Lesotho\",\"Lesotho\",\"Lesotho\",\"Lesotho\",\"Lesotho\",\"Lesotho\",\"Lesotho\",\"Lesotho\",\"Lesotho\",\"Lesotho\",\"Lesotho\",\"Liberia\",\"Liberia\",\"Liberia\",\"Liberia\",\"Liberia\",\"Liberia\",\"Liberia\",\"Liberia\",\"Liberia\",\"Liberia\",\"Liberia\",\"Liberia\",\"Madagascar\",\"Madagascar\",\"Madagascar\",\"Madagascar\",\"Madagascar\",\"Madagascar\",\"Madagascar\",\"Madagascar\",\"Madagascar\",\"Madagascar\",\"Madagascar\",\"Madagascar\",\"Madagascar\",\"Madagascar\",\"Madagascar\",\"Madagascar\",\"Madagascar\",\"Madagascar\",\"Mali\",\"Mali\",\"Mali\",\"Mali\",\"Mali\",\"Mali\",\"Mali\",\"Mali\",\"Mali\",\"Mali\",\"Mali\",\"Mali\",\"Mali\",\"Mali\",\"Mali\",\"Mali\",\"Mali\",\"Mali\",\"Mauritania\",\"Mauritania\",\"Mauritania\",\"Mauritania\",\"Mauritania\",\"Mauritania\",\"Mauritania\",\"Mauritania\",\"Mauritania\",\"Mauritania\",\"Mauritania\",\"Mauritania\",\"Mauritania\",\"Mauritania\",\"Mauritania\",\"Mauritania\",\"Mauritania\",\"Mauritania\",\"Moldova\",\"Moldova\",\"Moldova\",\"Moldova\",\"Mozambique\",\"Mozambique\",\"Mozambique\",\"Mozambique\",\"Mozambique\",\"Mozambique\",\"Mozambique\",\"Mozambique\",\"Mozambique\",\"Mozambique\",\"Mozambique\",\"Mozambique\",\"Mozambique\",\"Mozambique\",\"Myanmar\",\"Myanmar\",\"Myanmar\",\"Myanmar\",\"Myanmar\",\"Myanmar\",\"Myanmar\",\"Myanmar\",\"Myanmar\",\"Namibia\",\"Namibia\",\"Namibia\",\"Namibia\",\"Namibia\",\"Namibia\",\"Namibia\",\"Namibia\",\"Namibia\",\"Namibia\",\"Nepal\",\"Nepal\",\"Nepal\",\"Nepal\",\"Nepal\",\"Nepal\",\"Nepal\",\"Nepal\",\"Nepal\",\"Nepal\",\"Nepal\",\"Nepal\",\"Nepal\",\"Nepal\",\"Nepal\",\"Nepal\",\"Nepal\",\"Nepal\",\"Nicaragua\",\"Nicaragua\",\"Nicaragua\",\"Nicaragua\",\"Nicaragua\",\"Nicaragua\",\"Nicaragua\",\"Niger\",\"Niger\",\"Niger\",\"Niger\",\"Niger\",\"Niger\",\"Niger\",\"Niger\",\"Niger\",\"Niger\",\"Niger\",\"Niger\",\"Niger\",\"Niger\",\"Niger\",\"Niger\",\"Niger\",\"Niger\",\"Nigeria\",\"Nigeria\",\"Nigeria\",\"Nigeria\",\"Nigeria\",\"Nigeria\",\"Nigeria\",\"Nigeria\",\"Nigeria\",\"Nigeria\",\"Nigeria\",\"Nigeria\",\"Nigeria\",\"Nigeria\",\"Nigeria\",\"Nigeria\",\"Nigeria\",\"Nigeria\",\"Pakistan\",\"Pakistan\",\"Pakistan\",\"Pakistan\",\"Pakistan\",\"Pakistan\",\"Pakistan\",\"Pakistan\",\"Pakistan\",\"Pakistan\",\"Pakistan\",\"Pakistan\",\"Pakistan\",\"Pakistan\",\"Pakistan\",\"Pakistan\",\"Pakistan\",\"Pakistan\",\"Philippines\",\"Philippines\",\"Philippines\",\"Philippines\",\"Philippines\",\"Rwanda\",\"Rwanda\",\"Rwanda\",\"Rwanda\",\"Rwanda\",\"Rwanda\",\"Rwanda\",\"Rwanda\",\"Rwanda\",\"Rwanda\",\"Rwanda\",\"Rwanda\",\"Rwanda\",\"Rwanda\",\"Rwanda\",\"Rwanda\",\"Rwanda\",\"Rwanda\",\"Senegal\",\"Senegal\",\"Senegal\",\"Senegal\",\"Senegal\",\"Senegal\",\"Senegal\",\"Senegal\",\"Senegal\",\"Senegal\",\"Senegal\",\"Senegal\",\"Senegal\",\"Senegal\",\"Senegal\",\"Senegal\",\"Senegal\",\"Senegal\",\"Sierra Leone\",\"Sierra Leone\",\"Sierra Leone\",\"Sierra Leone\",\"Sierra Leone\",\"Sierra Leone\",\"Sierra Leone\",\"Sierra Leone\",\"Sierra Leone\",\"Sierra Leone\",\"Sierra Leone\",\"Sierra Leone\",\"Solomon Islands\",\"Solomon Islands\",\"Solomon Islands\",\"Solomon Islands\",\"Solomon Islands\",\"Solomon Islands\",\"Sri Lanka\",\"Sri Lanka\",\"Sri Lanka\",\"Sri Lanka\",\"Sri Lanka\",\"Sri Lanka\",\"Sri Lanka\",\"Sri Lanka\",\"Sri Lanka\",\"Sri Lanka\",\"Sri Lanka\",\"Sri Lanka\",\"Sri Lanka\",\"Sri Lanka\",\"Sri Lanka\",\"Sri Lanka\",\"Sri Lanka\",\"Sri Lanka\",\"Tajikistan\",\"Tajikistan\",\"Tajikistan\",\"Tajikistan\",\"Tajikistan\",\"Tajikistan\",\"Tajikistan\",\"Tajikistan\",\"Tajikistan\",\"Tajikistan\",\"Tajikistan\",\"Tajikistan\",\"Tajikistan\",\"Tanzania\",\"Tanzania\",\"Tanzania\",\"Tanzania\",\"Tanzania\",\"Tanzania\",\"Tanzania\",\"Tanzania\",\"Tanzania\",\"Tanzania\",\"Tanzania\",\"Tanzania\",\"Tanzania\",\"Tanzania\",\"Tanzania\",\"Tanzania\",\"Tanzania\",\"Tanzania\",\"Togo\",\"Togo\",\"Togo\",\"Togo\",\"Togo\",\"Togo\",\"Togo\",\"Togo\",\"Togo\",\"Togo\",\"Togo\",\"Togo\",\"Togo\",\"Togo\",\"Togo\",\"Togo\",\"Togo\",\"Togo\",\"Uganda\",\"Uganda\",\"Uganda\",\"Uganda\",\"Uganda\",\"Uganda\",\"Uganda\",\"Uganda\",\"Uganda\",\"Uganda\",\"Uganda\",\"Uganda\",\"Uganda\",\"Uganda\",\"Uganda\",\"Uganda\",\"Uganda\",\"Uganda\",\"Vanuatu\",\"Vanuatu\",\"Vanuatu\",\"Vanuatu\",\"Vanuatu\",\"Vanuatu\",\"Vanuatu\",\"Vanuatu\",\"Vanuatu\",\"Vanuatu\",\"Vanuatu\",\"Vanuatu\",\"Vanuatu\",\"Vanuatu\",\"Vietnam\",\"Vietnam\",\"Vietnam\",\"Vietnam\",\"Vietnam\",\"Vietnam\",\"Vietnam\",\"Vietnam\",\"Vietnam\",\"Zambia\",\"Zambia\",\"Zambia\",\"Zambia\",\"Zambia\",\"Zambia\",\"Zambia\",\"Zambia\",\"Zambia\",\"Zimbabwe\",\"Zimbabwe\",\"Zimbabwe\",\"Zimbabwe\",\"Zimbabwe\",\"Zimbabwe\",\"Zimbabwe\",\"Zimbabwe\",\"Zimbabwe\"],\"legendgroup\":\"2\",\"marker\":{\"color\":[2,2,2,2,2,2,2,2,2,2,2,2,2,2,2,2,2,2,2,2,2,2,2,2,2,2,2,2,2,2,2,2,2,2,2,2,2,2,2,2,2,2,2,2,2,2,2,2,2,2,2,2,2,2,2,2,2,2,2,2,2,2,2,2,2,2,2,2,2,2,2,2,2,2,2,2,2,2,2,2,2,2,2,2,2,2,2,2,2,2,2,2,2,2,2,2,2,2,2,2,2,2,2,2,2,2,2,2,2,2,2,2,2,2,2,2,2,2,2,2,2,2,2,2,2,2,2,2,2,2,2,2,2,2,2,2,2,2,2,2,2,2,2,2,2,2,2,2,2,2,2,2,2,2,2,2,2,2,2,2,2,2,2,2,2,2,2,2,2,2,2,2,2,2,2,2,2,2,2,2,2,2,2,2,2,2,2,2,2,2,2,2,2,2,2,2,2,2,2,2,2,2,2,2,2,2,2,2,2,2,2,2,2,2,2,2,2,2,2,2,2,2,2,2,2,2,2,2,2,2,2,2,2,2,2,2,2,2,2,2,2,2,2,2,2,2,2,2,2,2,2,2,2,2,2,2,2,2,2,2,2,2,2,2,2,2,2,2,2,2,2,2,2,2,2,2,2,2,2,2,2,2,2,2,2,2,2,2,2,2,2,2,2,2,2,2,2,2,2,2,2,2,2,2,2,2,2,2,2,2,2,2,2,2,2,2,2,2,2,2,2,2,2,2,2,2,2,2,2,2,2,2,2,2,2,2,2,2,2,2,2,2,2,2,2,2,2,2,2,2,2,2,2,2,2,2,2,2,2,2,2,2,2,2,2,2,2,2,2,2,2,2,2,2,2,2,2,2,2,2,2,2,2,2,2,2,2,2,2,2,2,2,2,2,2,2,2,2,2,2,2,2,2,2,2,2,2,2,2,2,2,2,2,2,2,2,2,2,2,2,2,2,2,2,2,2,2,2,2,2,2,2,2,2,2,2,2,2,2,2,2,2,2,2,2,2,2,2,2,2,2,2,2,2,2,2,2,2,2,2,2,2,2,2,2,2,2,2,2,2,2,2,2,2,2,2,2,2,2,2,2,2,2,2,2,2,2,2,2,2,2,2,2,2,2,2,2,2,2,2,2,2,2,2,2,2,2,2,2,2,2,2,2,2,2,2,2,2,2,2,2,2,2,2,2,2,2,2,2,2,2,2,2,2,2,2,2,2,2,2,2,2,2,2,2,2,2,2,2,2,2,2,2,2,2,2,2,2,2,2,2,2,2,2,2,2,2,2,2,2,2,2,2,2,2,2,2,2,2,2,2,2,2,2,2,2,2,2,2,2,2,2,2,2,2,2,2,2,2,2,2,2,2,2,2,2,2,2,2,2,2,2,2,2,2,2,2,2,2,2,2,2,2,2,2,2,2,2,2,2,2,2,2,2,2,2,2,2,2,2,2,2,2,2,2,2,2,2,2,2,2,2,2,2,2,2,2,2,2,2,2,2,2,2,2,2,2,2,2,2,2,2,2,2,2,2,2,2,2,2,2,2,2,2,2,2,2,2,2,2,2,2,2,2,2,2,2,2,2,2,2,2,2,2,2,2,2,2,2,2,2,2,2,2,2],\"coloraxis\":\"coloraxis\",\"symbol\":\"diamond\"},\"mode\":\"markers\",\"name\":\"2\",\"scene\":\"scene\",\"showlegend\":true,\"x\":[-2.254659599793381,-1.969634553625176,-1.8936141102325519,-1.6444047045777637,-1.594907832862755,-1.5041261760962625,-1.488529158563731,-1.5446331970451228,-1.3617979492587449,-1.613228257161994,-1.5726924691485304,-1.4961796114755261,-1.3407921711388535,-1.3743745402685494,-1.3870632231132645,-0.7738215886419,-0.7870945782628371,-0.7466434836859845,-0.7072738318332394,-0.6319150147064877,-0.5531406620149235,-0.30107660739847664,-0.4650254189922944,-0.38023201674089613,-0.32404333841029126,-0.30079570434818165,-0.21774002922615626,-0.16163008819222033,0.050821475445748776,0.1577257564660444,0.2674864664693408,0.41073456361414196,0.5123437984575167,-1.9494745701212444,-1.9243036249089436,-1.9108650470847746,-1.8787317675114528,-1.8848836446027284,-1.8488070708484123,-1.8168497307531837,-1.8304956147734452,-1.7897633603346248,-1.7559029944926654,-1.7460840611987831,-1.7524605532561726,-1.5685292641166333,-1.5464904537355615,-1.7024518617928723,-1.6557540559809159,-1.648359087904363,-1.5916887805732187,-1.7867284765246823,-1.7580399558110127,-1.7480180546088788,-1.6448887125839813,-1.6844054733255602,-1.4930447278252625,-1.5151101178902482,-1.7108554341492064,-1.62623561074716,-1.622556961367026,-1.5678333275216132,-1.50567670168076,-1.5509842270557268,-1.5229915772264195,-1.5164951191891058,-1.4623866331996256,-1.4455737377629037,-1.4128527610564732,-1.4865836855067265,-2.09971504174239,-2.0727172420617705,-2.046342650568715,-2.044756004178711,-2.074489402505518,-2.037323836822484,-2.0125870285261604,-2.047793316200496,-2.009766860361883,-1.9554357858537943,-1.95334533567948,-1.9232037115494225,-1.8821787080617887,-1.857863182460236,-1.932764859236107,-1.848612329434728,-1.8061891477802772,-1.730134560579352,-2.44847616338596,-2.523012270456812,-2.8891693129437974,-2.6634498035692125,-2.813392769504962,-2.715509775662908,-2.871551548670041,-2.919884511355501,-2.773329103150753,-2.5884824048193966,-2.6155992281193363,-2.4685885100243774,-2.435268850772578,-2.401325392906913,-2.322329357693279,-2.340133968492105,-2.3349594385515378,-2.16102086672884,-1.8738157832151459,-1.8676778939240941,-1.839129001891979,-1.808836298805909,-1.7878076604365876,-1.7291969975474843,-1.6931935335708237,-1.7576188724215451,-1.6140863064612516,-1.6414648529362565,-1.6002100261033883,-1.552823983071879,-1.5218637932280195,-1.501091865029086,-1.2998787890141488,-1.262708656010796,-1.2039830735168364,-1.1581736502518798,-1.7957173346122812,-1.7816540251712087,-1.757093370773721,-1.7293505788010524,-1.6208004076309572,-1.6180953627110786,-1.5735975789493828,-1.578846172659657,-1.5104085824174158,-1.4892726881739,-1.4796379708340133,-1.4591503579815952,-1.425277779681276,-1.3922348542425997,-1.3602234988776785,-1.325655026008902,-1.3128173134393646,-1.2978182770284066,-2.13342182517081,-2.1237088354874114,-2.1366273946713505,-1.8878201492397582,-2.1256113443007214,-2.1307331782002943,-2.094779916983197,-2.1336005299729703,-2.069270035601109,-2.030362665496623,-2.0216516849521815,-2.045063367464906,-2.073409488595279,-2.072020101137939,-2.0058379550451897,-2.0030362152828456,-1.9785477819931663,-1.9648139002221718,-2.383125082690157,-2.496556953938991,-2.3298714144458392,-2.4343880643912987,-2.415224727294617,-2.430172817931299,-2.307454631808088,-2.370462239330837,-2.226922401498996,-2.176869201725302,-2.2275929275909783,-2.2112899207694885,-2.172379649812568,-2.1644943749545953,-2.1353603341931806,-2.130613798884459,-2.1887116780326323,-2.1996629203659874,-1.835826834066517,-2.039759464050468,-2.014411256483691,-1.9918760338390225,-1.9777386458381128,-1.8872495538255767,-1.9175970484167364,-1.8987569797756656,-1.8727044154916501,-1.82569032950256,-1.828930462255983,-1.8883230732070952,-1.8217793414846866,-1.8362354805008794,-1.8189907700416192,-1.837477013689966,-1.8182440357827565,-1.8048497618321637,-1.8027052648829511,-1.8013557348003217,-1.6642156256673275,-1.6050049279810137,-1.584117919120022,-1.6211003163856872,-1.555934469361931,-1.4953223580192239,-1.4489299297346,-1.3998944532224296,-1.3225184071951337,-1.3006734734218912,-1.2821716840703457,-1.7204795190990612,-1.7477175228537078,-1.7310519787487302,-1.7112823823342032,-1.7066062072531287,-1.707364462023092,-1.7008297262016785,-1.7250301529327157,-1.704333701989742,-1.6738211065027495,-1.6582102224203528,-1.6275052649544832,-1.5820315876768054,-1.5527423930726116,-1.5215603137567844,-1.496622729983994,-1.4711742176946396,-1.4505005827250406,-1.3548327725674956,-1.2266037277815223,-1.1136473806744625,-1.061630392762539,-1.0063759409931643,-0.8811450518735356,-0.8147879464140121,-0.6923689903754521,-1.4297352582780127,-1.4802130958377369,-1.4050731482465544,-1.6593811718735514,-1.580138501417486,-1.4633810756079422,-1.3861630474697417,-1.407869925359411,-1.3358522725647701,-1.3373368352574457,-1.339868427037894,-1.3084268152494,-1.137260417153976,-1.1227784977987783,-1.0849186961500872,-1.1048054157975584,-1.050411263444072,-1.4440749296040836,-1.4172784266399223,-1.3959134667953614,-1.3883869745875803,-1.372169264759501,-1.3378881899133266,-1.3250398911301222,-1.3390176181816706,-1.2721848348167357,-1.2804384829339457,-1.2673972465830465,-1.2354082439730099,-1.2124918145044425,-1.205517755965793,-1.1503944311953644,-1.1419149561014625,-2.1826132381733845,-2.19552610057763,-2.2007085311605583,-2.17292979769566,-2.171474578572066,-2.1015377489935445,-2.1151987786401505,-1.8742696153013723,-2.0626835182627854,-1.9901298758705637,-1.9731838651383256,-1.9527318688404993,-1.8830439634830287,-1.4505594789684544,-1.4626804961274475,-1.4685847604899178,-1.4744984361137925,-1.525768771769311,-1.957813178779801,-1.9085888176150299,-1.955588520927724,-1.922123600342328,-1.6584197996470373,-1.8561613095094267,-1.8049268473167452,-1.8145804326435495,-1.7472768618934738,-1.7107592814901704,-1.7396253568093376,-1.7254799361395954,-1.7076948722423575,-1.6834062318542766,-1.6623396504488241,-1.6738644950823613,-1.6520947904518795,-1.6383459275063013,-1.3872908302809457,-1.3688215837903013,-1.345370307496737,-1.3252927550874265,-1.3281777200045821,-1.314865741577788,-1.328266392897123,9.355548434913882,9.660119586604313,9.770866486949574,9.837893839588592,10.38909893590671,1.9727314547943249,2.075674956094309,-1.890898919435294,-1.8627973521254102,-1.892349337906109,-1.8358763167061172,-1.7986801692121317,-1.7649603945990853,-1.7234966472501325,-1.7495458586111547,-1.6717855513693947,-1.6136750158725515,-1.590730914023153,-1.5502652569115831,-1.506767603506798,-1.2985389092302215,-1.2469225021254864,-1.2507611793803861,-1.2255358690306073,-1.1627891781071635,-2.005596715614045,-1.9833293534158296,-1.986893318063917,-1.9332972528042636,-1.8821571676607711,-1.8831872704183568,-1.84418158717076,-1.8104906754334424,-1.7973545137980018,-1.7927882524010348,-1.7993566026782548,-1.686966332396416,-2.4908872200705368,-2.358446452872149,-2.23883002250794,-2.18251176769495,-2.1914931056619826,-2.1463570322117604,-2.16432331647214,-2.2229951727004016,-2.195911976629631,-2.1799668213122625,-2.171017981738555,-2.1151628855156046,-1.9318408111610155,-2.0107734721930557,-1.889113965615759,-1.9096786695126236,-1.9164370988719797,-1.8558391468386108,-1.8268912778688702,-1.7369418756853365,-1.8068045025201187,-1.582030981619691,-1.5570465996217533,-1.5161467778517608,-1.7397063909767103,-1.691336637535324,-1.6731409396793813,-1.6450680089529248,-1.6201518924636062,-1.5870244306615138,-2.1082175718748544,-2.1194719479806685,-2.056672944046735,-2.004689471517435,-2.0073349106407146,-1.9877450407974826,-1.9601373534400577,-1.958979537552667,-1.9316883916967138,-1.8968953585596333,-1.8886934637670667,-1.9798475990189388,-1.9345439908908155,-1.8459496918133564,-1.8173578671156343,-1.7853539433731338,-1.7762826935243856,-1.7046139011842059,-1.9470523396072639,-1.928715851265268,-1.8978778536038863,-1.9015851537884478,-1.9326366020091683,-1.6821241074305178,-1.9243316046409278,-1.7116326937013921,-1.8122736979972218,-1.7054852700873295,-1.7733357130613876,-1.615934900604982,-1.579667613738749,-1.5648853283474313,-1.5152196573204868,-1.5011473483754725,-1.4682605866384337,-1.4308719104001968,-1.3126527204086758,-1.2872867894599744,-1.328930046710512,-1.3302269953038794,-1.912260339800807,-1.9074578346190294,-1.863021341798086,-1.8664364268908147,-1.8068285751184459,-1.8020847348900049,-1.771771241099772,-1.738890228933192,-1.7058450602740116,-1.6308449338202027,-1.5933675350069172,-1.5858114748147767,-1.556623507401225,-1.4641526007665162,-0.4233306174759065,-0.5916609203842061,-0.547463133088561,-0.5156256047118171,-0.35506936660810384,-0.3195339549552046,-0.2680983782940114,-0.18427058027343846,-0.14960870173837348,-1.6708822972109163,-1.6345774061309684,-1.6093196066887043,-1.609312574881435,-1.6254983762910145,-1.5810155600535396,-1.5890182894543636,-1.5307150090687283,-1.5265177576593507,-1.5127122102458568,-1.8987930372120547,-1.6537350603236478,-1.6308653129649484,-1.600768881245627,-1.5685150174475322,-1.559361409396495,-1.5186057892322198,-1.7262327412459375,-1.6299092604946293,-1.58408963309145,-1.5770369330419756,-1.585170153438273,-1.5561044068111798,-1.437551853086727,-1.4298136403810886,-1.3881276593036516,-1.3036269569191832,-1.260235502517857,-1.536111080779089,-1.5187954415384488,-1.5051923355897792,-1.5017741977243486,-1.3774300049795467,-1.4119843076117982,-1.4322030828526982,-2.3400824032993794,-2.3231804715461615,-2.3313133725453494,-2.2857867896374677,-2.2844808696561625,-2.222691632038797,-2.223683667525849,-2.202501180226603,-2.210528985972526,-1.9154315887234459,-2.071234717402955,-2.041810965407125,-2.028304990869542,-1.9896711336304889,-1.9875457779497328,-1.9866274671822017,-1.9735276724477513,-1.8953915027239947,-0.9422219611401007,-0.8271850007472852,-0.7591450175601945,-0.7380278289665787,-0.7090751947372378,-0.575546818597624,-0.5477005821691989,-0.3618005358013354,-0.2727709508712793,-0.17533291334275874,-0.039566137062036016,0.16338235315050736,0.26445336320760926,0.3671184270849892,0.42357444370949177,0.4685270783235218,0.5036332356548048,0.5997605707338171,0.7005992820322101,0.5673202018823991,0.6648316352099113,0.7469582856718784,0.8205423961461313,0.9068387438410432,0.993331737888955,1.1595235554074321,1.2871674730087699,1.3822802203220792,1.4669147991261429,1.5859199757968003,1.7425155669444938,1.8842048248975034,2.0339182716562223,2.1847819911313193,2.3244364994192037,2.4697927774837356,-0.10440519838249773,-0.07499350182530011,-0.04290364691339429,0.005308706174909814,0.06705763082453609,-2.0346634151079566,-2.0244745058639766,-2.299663532815011,-2.254696420958624,-2.212544062451788,-2.1623223489994605,-2.1417013333906336,-2.2012531913126465,-2.128332473987726,-2.0598450251588876,-2.0460007694017435,-2.0314560273822937,-1.9950450699521713,-1.962340943354329,-1.934715333282949,-1.9132256985107634,-1.882597775312947,-1.8167469308231559,-1.7057846807867194,-1.6997593828168556,-1.6676668569555497,-1.658399038147917,-1.6196279741275201,-1.6200926385952363,-1.6134097250245405,-1.610165204433762,-1.451459309430818,-1.421370853642925,-1.4156909079882691,-1.4023155820286277,-1.3548928015693587,-1.306677245980325,-1.3988153783771742,-1.3699160694791976,-1.3540356618208107,-1.321553313251628,-2.1864091645151977,-2.1610780016512434,-2.1522061335792726,-2.0831179412593026,-2.1146306545742277,-2.0421848790490174,-2.054029561437818,-2.0094126998171093,-2.0767680079345325,-2.1114669643194475,-2.0593980063090385,-2.0023585269145605,-2.1860596088953206,-2.070292899592667,-1.9782180460748753,-1.9217015170819576,-1.9318120389698317,-2.0375617766192593,-1.2756795693811303,-1.2152813675954406,-1.208813568757199,-1.1929177480096291,-1.2501203749816052,-1.2342288654633573,-1.2439174742130428,-1.2652496459494131,-1.169589951487986,-1.1745061185770147,-1.1524516240290097,-1.122103361206263,-1.103839533317293,-1.0614011221765016,-0.975956947869936,-0.9557776834407473,-0.9372672214289625,-0.9106497958873264,-1.6740866754958879,-1.6820621002966838,-1.667847753482974,-1.7290249245761116,-1.7538238064753098,-1.6951779003120293,-1.7128372165884844,-1.7287645133084473,-1.6982372248601867,-1.6922749493007765,-1.5034912886592844,-1.3937176945140528,-1.3913590513668708,-1.7035689952832933,-1.6686341340354192,-1.6325516740877903,-1.5763678584133836,-1.5270811993950024,-1.4997056798182213,-1.4654737585582154,-1.3785859158163898,-1.417323026244061,-1.3092412113733352,-1.3087751405547627,-1.2568632296372988,-1.1742683570024655,-1.1149746722727911,-1.1373314691792673,-1.0829442393460793,-1.0298021111284166,-0.9688849851467151,-2.2215404616796355,-2.196716381411774,-2.1973181686288026,-2.1391868235298075,-2.1720675029332757,-2.160162184629171,-2.1812625846618174,-2.1877731902126203,-2.0925706440824206,-2.0471695466553914,-2.0588821769673755,-2.090408623584711,-2.0300995817797594,-1.9967093160791627,-1.9824949385112853,-1.9689444283067608,-1.9164072925052653,-1.8335208131428051,-2.1854435352301174,-2.186115409592201,-2.3058437708829636,-2.1457625198379415,-2.1025693304566166,-2.061118300193418,-2.0706474702680238,-2.0527270201804075,-1.921825584121097,-1.825838973844066,-1.8410004883483764,-1.832911063330608,-1.7652171121503304,-1.6983708686363803,-1.7149943520440725,-1.6881190758015898,-1.6344111398140535,-1.4837325843322904,-1.8291442989929567,-1.811150022528166,-1.7853252752579638,-1.7933571319647175,-1.7724315435444287,-1.7564553181550284,-1.6846619437182837,-1.6710992043910224,-1.658501140328708,-1.6408882406910044,-1.6232113766322676,-1.6352702011791476,-1.6568142774429326,-1.5913989513489717,-0.20398626279258825,-0.1393050902545008,-0.06657953551147346,-0.011284757504108572,0.07061690138550299,0.1434841561152866,0.20827016446140648,0.22360149949970923,0.3943585623700932,-1.6720310169519788,-1.6214184900570747,-1.555075234911966,-1.5253841921579487,-1.5549495671236289,-1.520336072101826,-1.5198921967208268,-1.4394246029267983,-1.4165848322630505,-1.7419282808660026,-1.7118918634939844,-1.7039307676879072,-1.6524948087996587,-1.6364230971835332,-1.6216397130486766,-1.5850462590236485,-1.5515321898722498,-1.482653905177301],\"y\":[5.06093963799718,4.089290757961302,3.68826130566105,2.6774560938816188,2.2950541263616824,1.9555556606512092,1.8121516183131887,1.8591532428346247,1.4252343834690024,1.8868042480836829,1.4072894880324278,1.1948088011852107,1.3684663970577495,1.4954057603426862,1.5197190387629493,3.346947967113581,3.463043169907107,3.3783787507226095,3.315215020052532,3.191282714127672,3.0273746219200848,2.6671488951779123,2.8703070974971268,2.7102814801316857,2.6916537986146643,2.6195531706633575,2.409955260367445,2.3935595251729778,1.7907180293364255,1.5716346877442104,1.4534129321567375,1.2626136411489295,1.1968297910111307,3.6613623076501915,3.569097323117331,3.476079940680415,3.3496473681522714,3.356181926770902,3.226673371454577,3.093027286939459,3.1173930085264376,2.939965359036965,2.825516493359072,2.7855511818184824,2.8134145771206245,2.0032440399645934,1.934348365721554,2.6580002571196566,2.5045679119893656,2.487358666384587,2.2625128824852134,3.2278654474947905,3.056751107030614,2.956252286613328,2.41157105444251,2.4996371670124446,1.7351831036584,1.7403451262067033,2.0211853338255588,1.6007872679137332,1.6077167768207203,1.4038979970435357,1.1697340251079547,1.356651772818589,1.2678657463618495,1.1597171574548213,0.9863281210866037,0.9165795411935154,0.7739513319407065,0.6168206170747839,4.713531269000128,4.586019705221467,4.492267407423437,4.478570556317642,4.6207980808199425,4.428145643027268,4.281327226927095,4.467832681228164,4.295670113236224,4.091581933921705,4.062414207082456,3.9972145377732193,3.865518854147684,3.7960641111600655,4.133508077033601,3.835898976417793,3.667678876268102,3.4369357344745577,6.57885436437165,6.889345606592532,8.358961441577081,7.3931662977065935,7.571793876378508,7.098985162503968,7.628595936302922,7.76805990913361,7.177532681948286,6.364277492817048,6.441213459107485,5.834337802638461,5.643433009470606,5.477334387839314,5.2830747895683094,5.33079357237263,5.288652126353445,4.554024972220777,4.002615066160998,3.983064247874477,3.86902448462205,3.751150808814876,3.705849315926981,3.4777502412059307,3.291761238246744,3.590854871509714,3.0008739506027235,3.1474110597027494,2.9721817339050833,2.820933272848963,2.7294581398601085,2.7031397741090415,1.938969559565633,1.8426176498661844,1.6430987510333392,1.5393000784794681,3.1821335868983263,3.1673533074485585,3.065829872562917,2.9647878104455763,2.510234261561608,2.5175956640720347,2.3592183289174713,2.353195448008961,2.1654737378187323,2.1105438528840397,2.072306483455672,2.015320287648524,1.9124547770193,1.826145163610416,1.7471345339911684,1.6537927991055998,1.6411430460844718,1.6196337267808445,3.962458168588588,3.9233028653599225,4.059383001757401,3.5844756997477303,4.046061157469952,4.090236557047661,3.9233406183477086,4.050660621252961,3.8045999683368636,3.649705600351727,3.6138560431407747,3.5887276177109397,3.5912167909559454,3.63450017913578,3.3478295988189553,3.3166816946370488,3.196010548312583,3.1361198316646446,6.000644501764035,6.2884939716688155,5.800386953441047,5.7716008736633,5.687356502699133,5.748982176947337,5.286755571895928,5.5467624637833195,5.102324109987299,4.843146048009456,5.0241109719234665,5.016270991492876,4.896893718744338,4.9238119883425195,4.953779971044135,4.9999285552275285,5.1402078799050415,5.173694203508839,3.4112943183977547,3.6693362981612863,3.5381406429671456,3.423907556916949,3.3502351517747617,2.9799177533770416,3.1083551133169087,2.9947692814738165,2.8455149922790595,2.62513663312612,2.621405578863775,2.883031352448739,2.611802659225011,3.607202197042662,3.564635534764186,3.576849851851171,3.4891013574066534,3.3796835628286237,3.3415124688277102,3.3367296001688977,2.753803823415826,2.5645203735632487,2.516328379235021,2.688112809841784,2.429929245161641,2.242548842803124,2.066930454303085,1.973078454657969,1.634062463676735,1.5250426344228636,1.4904090363879896,3.041143568478476,3.231282959647261,3.0807765630489077,2.9122673567219866,2.891485781145776,2.9071184490535056,2.8574440722029277,2.880045805487771,2.7615355882307107,2.606578760641743,2.5278385918546054,2.429452829591391,2.2346668352373524,2.0445585882095023,1.8514915626353006,1.6986349094356699,1.5353198817781109,1.5030561659432433,5.463201331270646,5.018635608764718,4.657223379264691,4.625845656087652,4.541666047188254,4.145906570590501,4.060037902658545,3.7804087373207067,0.49783639734294066,0.6249131394998476,1.2470759788311252,3.3936992228125855,3.025796963010753,2.4126355172961262,2.0507016646436997,2.0432898225738394,1.870248646273214,1.8305519528845988,1.83010899284122,1.7589615320781324,1.0951457460727891,0.8641213884119237,0.8599572275463949,1.2877890480829866,1.1688384078877347,1.5072363850830928,1.4206954440490474,1.3466549935009362,1.3756055162510608,1.3338131113449,1.2041954544725826,1.1492961396120671,1.1905591779070783,0.9367949317064186,0.9946437284022204,0.9665610234660288,0.8489548156747138,0.764862329068854,0.7576678399739868,0.5742558575163942,0.5919546113485331,4.147912324787215,4.193796366490205,4.236271663497599,4.074586471867074,4.0408057237123,3.7804612870707826,3.7545981786458626,3.385279932198501,3.4272062654556716,3.201524762205797,3.1497230354330013,3.084244459717797,2.7939209182622946,0.9502697110932824,0.9834167561806957,0.9174222772601461,0.9246292130046075,1.0454550986566242,4.085910329671683,3.8707997639801377,4.084689518917446,3.951372847243909,3.431437797055799,3.673296196067551,3.4352220140788945,3.4679887164825387,3.19593268322308,2.957498837733924,3.1879605264288204,3.1277225765502648,3.065736211928217,2.9666754231128247,2.903776493286081,2.9565440339318,2.8662036980561214,2.8205097774554693,0.8861615764513597,0.8200336788786697,0.7475204290828497,0.6803130035148974,0.6789858843619869,0.6143795938387105,0.574765823636299,5.506969948121615,5.434472474058471,5.325108579435503,5.2087884206742965,5.211937511059718,2.397903666874873,2.3594842135276313,4.130249232097542,4.023352692657106,4.170519651688564,3.999005812582622,3.9092722052034174,3.892476611943254,3.761582932975294,3.914967429196805,3.692264999077145,3.5713598882654334,3.5197403124134357,3.388178255214648,3.2446363594525813,2.4917626641819837,2.3308819190840455,2.386496712746474,2.3435321276246674,2.1675700791672923,3.218838293407643,3.1263382490086205,2.999431457549661,2.824176649694761,2.643133059628601,2.635239064085336,2.4942971432781116,2.425799318235879,2.4308626385489847,2.375445298434202,2.3120677851688374,1.861522426219978,4.731720941539439,4.2211578206615,3.8730232808850493,3.7520595558312424,3.715862518260754,3.5626276052132324,3.505176854570373,3.792703912767585,3.70325486477211,3.7042994941558085,3.6783339177131706,3.5400862061810714,3.980585869071102,4.363593052258679,3.7531504714978894,3.848216535310914,3.9084419117135893,3.6204273837106817,3.4352958766733033,3.2297903280829523,3.529936770259027,3.1731057857524405,3.0651973531669916,2.8817029091123527,3.2417638103305846,3.066532151660718,3.043570339708547,2.975016771598968,2.880308573940177,2.855039740466946,4.7639659714975755,4.808700282038534,4.521707911131687,4.307137010673316,4.345733474286504,4.208512611996272,4.058308684995803,4.022509382802627,3.9293888869646816,3.749186591739193,3.624810015956528,4.045837262394875,3.8474806261347303,3.5462226650126807,3.444822650595882,3.3388685345568043,3.3653321908626235,3.065829568044332,3.0947807445396633,2.9817029360152136,2.8649496783728745,2.811898904208783,2.892267780835331,2.3412962684478074,2.670507368278205,2.2965927884739337,2.3153173598544985,1.8206211099650464,2.2024216805594206,1.5623699623827771,1.4423738403832116,1.3542303870010466,1.1831612440237993,1.1191111408820644,0.9844004914917078,0.8412944536621795,0.7983548494589937,0.5582060107266509,0.7024303746673133,0.7840046606430379,3.9441268463825105,3.9993177259674177,3.8512008857048228,3.891853514098862,3.6430050138430037,3.6620295199303197,3.520495147777269,3.361813558384047,3.216518317765234,2.9606199461326224,2.8481169896478398,2.88602149405819,2.841164980764475,2.580804325695577,2.669315356949152,2.824663069848283,2.588612212412561,2.50661397107898,1.9027067983284163,1.9208999419123456,1.934486086160961,1.6728305243460226,1.6656287626503565,1.8716184879177056,1.7537082043162582,1.6787551572820114,1.6341578737527878,1.5312598924375402,1.1404969554699504,1.0705909432775476,0.7723019471837954,0.770120158400957,0.6367016517659222,4.270388203132039,3.778541511823504,3.679844266036918,3.573833313155831,3.4551335699934813,3.4092005514868085,3.244772409337238,3.5605407814220578,3.2159588660711824,3.0709236512234077,3.106290453073318,3.172659478456961,3.1238278382993614,2.7168143662995834,2.691587303155928,2.6122304359534003,2.3341486205403545,2.235239480730509,1.2796789582291292,1.2155832836702334,1.1682999772409195,1.1628350671331908,0.6515267211363486,0.6660005242809438,0.7591720332207031,5.736118256890624,5.6653932916021015,5.690909476520765,5.445654666771717,5.513866813644161,5.250899460880653,5.221422135740704,5.095734701218883,5.04476564434214,4.4258612075683,4.490351123675797,4.379215679778648,4.348028066347555,4.160329545506024,4.217776366937732,4.29707627105117,4.235331885554441,3.9491785354191937,5.344211900671014,5.0936618919547865,4.9784699082746755,4.987834188321681,5.061687486474713,4.789885544948659,4.725528793131808,4.123824162694293,3.996926812450301,3.898539559491592,3.620185141868094,3.2489628336835623,3.183834927269692,3.0476408582397134,3.048440297510297,3.095128579864032,3.195066245503089,3.0035081198194997,3.348674307375879,3.616644303721617,3.479493160704411,3.4375904594772844,3.4172348062984397,3.2916511942324407,3.2470240971427513,2.9782857823604587,2.8119720886674244,2.808371285333899,2.772085293883296,2.7052478988055864,2.6523207349686913,2.6316484678976297,2.5318557677266327,2.5307951362160788,2.5382929976694157,2.5279781518533744,1.0247355541192384,1.1394689525212793,1.1329133700776008,1.0725970974792745,1.1510741864082652,4.810848843767569,4.707502148290406,5.296661366497931,5.134484004742664,4.948148598398007,4.721325612831694,4.676936066639395,4.949163606896213,4.604772917549437,4.317854436919615,4.295647461042674,4.241400813150913,4.1137519499637065,3.9582102188262196,3.8711570550990775,3.785722392638072,3.693680602097987,3.4523808765508974,2.703204217132309,2.6660136336773683,2.472586127172087,2.4485868100199606,2.290523517564315,2.241870037316384,2.1994668070963113,2.188665755860265,1.5462367024954988,1.4192651324580758,1.3975798594346447,1.3295782015569744,1.1757764984381125,1.0325621591630112,1.4769562876390931,1.381319143778684,1.3618723989335533,1.2396709091300662,4.5788551504706865,4.4050150363470975,4.324396077510031,4.150543030300503,4.211196027819553,3.8885050016005436,3.9090145188978007,3.7904975012757207,4.038676288450005,4.150185144649454,3.9798355471269815,3.8247620081077076,4.109027202432322,3.7777314422602046,3.410855815313757,2.971807114109411,2.834165473206906,3.158664050283655,1.7841918205720413,1.4404187944880038,1.4321580811092192,1.3890660972832465,1.6051434992705844,1.4844221912992133,1.554085038829432,1.6323510457055892,1.2439957820412175,1.5014917131584737,1.464999594057112,1.4472140190710385,1.400166089629344,1.2665583995634824,0.966718510319428,0.9501382993059436,0.9361122891971118,0.8380698244883664,2.3446830429048227,2.2072775803919997,2.210692748461598,2.403560063615932,2.4515354749900053,2.1606735743149907,2.2328388545687403,2.2282467876051357,2.1186283294676023,2.075779468263161,1.387394023210482,1.1753898007695105,1.1689493919839362,4.465367149326891,4.336842544891044,4.218816457702305,4.050622778879946,3.9080590000026585,3.865670314933793,3.7624134880651816,3.561779933492352,3.7424874469117384,3.4187469777908737,3.497975738452466,3.4109172388536053,3.201433328399546,3.022251838511899,3.1864570458007524,3.0776300422608074,3.021447003093326,2.9228273132865534,4.761645144116007,4.712860429533378,4.676011564991478,4.418007965616919,4.496806053285764,4.344958802109505,4.450884374419385,4.440038744796834,4.1386623282460455,3.915603688336447,3.719590042216688,3.8842336051007775,3.690113073169638,3.542852242787149,3.4899059910751986,3.553293618170134,3.3887278384803143,3.0086137225846983,5.896819566344967,5.876361995502506,6.405251154914182,5.8316749129725505,5.69490696710927,5.540428620076908,5.606474250151746,5.5939250087196415,5.184308339679798,4.809027435412317,4.771383147085241,4.989418899318633,4.864935798272244,4.670686542765926,4.722082599711501,4.7396996044331905,4.53890169678154,3.997461221096813,2.725185289896997,2.7822330363201524,2.6451295164296442,2.6834599396033023,2.599684930180718,2.4893866203347303,2.1339329813389454,2.0714700750946125,1.9963907676466845,1.8308490885828146,1.7910579414593013,1.858455046762198,1.9530705552502028,1.6880560325898804,1.7718288063114762,1.7587717597665318,1.7085574106833967,1.7354776376291412,1.691054939255052,1.6617733549471556,1.6876838069236089,1.897989422142641,1.5075355847977014,2.715516187499346,2.4989522174773673,2.2498607426490764,2.1549092465413615,2.2235324589485694,2.1071588054174675,2.096419085728359,1.8295037354283976,1.8183426724676544,3.505546326557667,3.312593731628325,3.148624420214622,3.0899949434128393,3.062439073666053,3.054001316417508,2.9481322077663132,2.8187466531913574,2.7717301137517216],\"z\":[6.612046520295522,4.73438077719946,3.93292151379356,5.567169387291544,5.741200816089021,5.484732318434436,5.823038717501266,6.975069104000738,4.023649658636696,4.454834745814545,4.461887031582639,3.927419802990049,1.7341479321226188,2.199323289277451,3.201396998371249,-1.1709648581650236,-0.8753380570707571,-0.8168861802761864,-0.7342369849932152,-0.6886982271043136,-0.5838552016670396,0.17150782829347025,-0.5560563773821586,-0.5704141430105315,-0.48892101484778844,-0.3562304095002373,-0.3911514277211615,-0.40903717669405926,0.274638491118717,0.3127840045590875,0.31192587537261285,0.38105131030838896,0.35930620447283923,-1.4219640795314008,-1.3738533664186032,-1.3532667260832307,-1.396235376934535,-1.3510972154261585,-1.2654594321746548,-1.192549318010376,-1.121887116059945,-1.241903588933349,-1.1323231950268189,-1.1247828725579412,-0.9984796362984896,-1.7528169371865678,-1.6771454291586936,-0.9738134794497697,-0.8233659880149625,-0.7760252989748068,-0.8507986322100566,-0.20900385138970315,-0.26162792786103206,-0.3749471318079377,-0.8667317918678461,-0.4375397226215863,0.6260306619714275,0.45835900446222266,-0.038593413635286365,-0.5078699101765984,-0.17370219185668248,0.05907123412638275,0.2901745631433847,-0.15606492213418247,0.02028845839837764,-0.1361902762721841,0.1506732623127796,0.12077027844861718,-0.031216221414289973,0.25485340192752276,-1.9921923946104412,-2.008315578799962,-1.8898489179225328,-2.007445837600454,-1.7527811381199438,-1.8043898208715012,-1.7107286581076073,-1.3774143399844265,-1.420149309971465,-1.1469475234659747,-0.749510581451412,-0.8159577950911676,-1.0705569249466798,-1.107194281755949,-0.7579724140135388,-0.8477985447868933,-0.7988709702553408,-0.9961900146442184,0.1220550783234768,0.3682656584775976,1.9869451732061867,1.0404083811825167,0.12253054989241755,-0.4122233782949502,0.37866559133045496,0.7042801219818737,0.3852625238886639,-0.22533872776737013,-0.14712835499359123,-0.6213662543398357,-0.9559579487305052,-1.0153155095203619,-0.8548688109836523,-0.7518850178316273,-0.6370502927985547,-1.4486494182847114,-1.392717395942884,-1.3171449496494156,-1.285702943597641,-1.208072068293235,-1.1982299012361344,-1.0636893581650204,-0.9905525336126317,-0.63667029646294,-1.0418868212509338,-1.0592424524326003,-0.9851319549058252,-1.0018111538175343,-0.984633077015245,-0.8584505148931381,-0.09690764013737956,0.028298541261700352,0.1593203368400042,0.1905935847568885,-0.7391290187904219,-0.850716532356974,-0.9643089069034771,-0.8567802901545134,0.13968216705467015,0.34856570369121337,0.30806400674150636,0.5521290911342092,0.057981616120822296,0.13153539211447646,0.26711897465522355,0.2748484779410337,0.12618184096424817,0.16370004225258047,0.0157626092096752,-0.039645695500518705,0.08419381248760194,0.13053390296945672,-1.2115982595559596,-1.2067724427167048,-1.1093969863393316,-0.7440178584789847,-1.3354368534331575,-1.141990749949926,-1.2555840860663865,-1.0752216747033647,-1.2004682501168147,-1.1975525921242882,-1.1817335969554432,-1.272706779012316,-1.2373197550804207,-1.0494527874851203,-1.2001651316795465,-1.1124677913941219,-1.0454219959464606,-1.313014823889458,-1.4841438041972375,-2.48321463240321,-0.9945673564414247,1.7489630514050312,2.0761460726525858,1.7456258171545758,1.0515526010603662,1.587463716142739,0.04680981550706591,0.3032750502366072,0.6403090683324332,0.5142503032980525,-0.026603615790583145,0.052558371832401043,-0.6262791715274014,-0.7676805568712426,-0.21251331588105696,0.2817670638505203,-0.8049447429278802,-1.5689826072189186,-1.4780589970991276,-1.4789043548551182,-1.5032868301817546,-1.6529008504178035,-1.6951194337184434,-1.7675814747934206,-1.6536556718821092,-1.6115473067695218,-1.710291558961022,-1.7234742632087754,-1.8482773820994922,-0.8757505581054397,-0.8858798496260859,-1.061147001642539,-1.0269839596712793,-0.7665092715861941,-0.48965118417389913,-0.6677775350036808,0.4183456751954874,-0.056758517009909776,0.04597969612520824,0.32162070752329536,0.2810024190144341,0.2875833029777088,0.165608002591123,-0.0010183225636585032,-0.27147499183984697,-0.2576443379440922,-0.2628527378494598,0.34735750129290066,0.6235071522704723,0.3126019671853707,0.11859840407125352,0.13208035355483547,0.14796934264790415,0.2442536903287649,0.244832622550657,0.007210198485027094,-0.10695621201844699,-0.07495011668895614,0.2423136905166718,0.2837283731012344,0.14796296323428385,0.133767315943401,0.3099223787018021,0.18150524562432876,0.17196949946096843,0.5948005050498273,0.3090985012785546,-0.10851734381440688,-0.1238817267252397,-0.16972644462482767,-0.23471588540773905,-0.23933396663859732,-0.43674019986981044,-0.5259282152729364,-0.3321310216806641,-0.5270045079308538,0.14960321439342364,-0.1671146148138693,-0.6386208317367571,-1.0957279620828442,-1.2476276805884494,-1.3471065948794105,-1.4475603353323512,-1.3711066557368476,-1.0428463344490793,-0.5269969003053078,-0.10033285495263376,-0.06402424205349035,0.6937419483789178,0.5592701058794526,-0.5035300139980803,-0.4747302304406906,-0.5373098343551664,-0.4930539514485132,-0.47571689651161725,-0.4556216147578521,-0.4474959691647844,-0.4539547960748587,-0.6270962586139339,-0.5313165998541,-0.4506495929471081,-0.5655747322911506,-0.5289305910167706,-0.4594821954145938,-0.5047772443769747,-0.41108052469533707,-1.3457751868836525,-1.1022235836579841,-0.9865867712775163,-1.2705706553217058,-1.3385051876178424,-1.0736249849719892,-1.1113878975071325,-0.29915346770696233,-1.083069020931151,-1.0561776929434687,-1.0705660845685339,-1.1329036457794932,-1.3212721040383058,0.6817196079250868,0.8521440517174436,1.1194629591879943,1.4565853546154328,1.0375531769636104,-1.5879265769052433,-1.6633905023857924,-1.142275827951176,-1.360733117363909,-0.7677453063829901,-1.54857675246844,-1.6203686218247184,-1.4371615664998674,-1.724397583389268,-1.5166645420317508,-1.5300990763384579,-1.5913631687997838,-1.5917734482352037,-1.5921288158009521,-1.4769462907263617,-1.388291053194987,-1.4332867019650997,-1.4348215072389727,-0.24237783161689314,-0.28132191966166026,-0.23649790708269597,-0.18657108046801368,-0.23653904344677054,-0.2858896512040731,-0.2795360337365705,0.856397351559508,0.9207664329757598,0.8592268625063105,0.9220988891903269,0.9951655188511541,1.0211760778319792,0.6924150564486139,-1.3339120981739732,-1.432633860091983,-1.2843705234699718,-1.219323035786984,-1.2050384971371555,-1.1254202882051525,-1.1840609695078723,-0.8955118798718641,-1.2227094796914544,-1.3739873241819716,-1.103039801244302,-1.2383860233130248,-1.3626956735153097,-0.8444222672877539,-0.7675595314838458,-0.47404746268618914,-0.5182776960022452,-0.6652679918520396,-1.3365262462941003,-1.094030371312067,-1.3672153767576947,-1.5618826930433343,-1.3355647837334268,-1.2371589417861026,-1.0598187590094095,-0.7840717484103298,-0.6442333451807027,-0.4394127616591841,-0.8746738345059374,-0.896300715197301,-3.3874664013062388,-2.4090609976034303,-1.9691422955106597,-1.8472351905013362,-1.5942106601617698,-1.0509287534349188,-1.1598904949070634,-1.3599343566606696,-1.7966059744545053,-1.487677784867533,-1.1576389471505917,-1.2251209966917198,-1.538129660897339,-1.5575923038969413,-1.764954833925417,-1.2834166737362072,-1.2362237150857878,-1.3066497877382008,-1.2814218523146632,-1.3927417089934138,-1.19391891524781,-0.5529549711938816,-0.5338619994787019,-0.5528809130110783,-1.3460721575396715,-1.2015387430925775,-1.0335239660274858,-1.000076180896731,-1.0004221625518208,-1.0258089043831342,-1.5727035201388349,-1.3785983956102998,-1.7280411455119116,-1.8460121607608497,-1.7241337608422416,-1.2900602188270693,-1.244809942243953,-1.2369472218205781,-1.1325722016908646,-1.2812195843403928,-1.1725870277928452,-0.5443380211191199,-1.1597811313514044,-1.4166493120332495,-1.3146692767566492,-1.1876389573051656,-1.203870904550898,-1.1306166744350308,-1.1879158179617677,-1.1283084253992064,-1.1787163482936933,-0.7341974971113613,0.014947146836272563,1.7730375975280468,1.3960530453324695,2.223828322092538,0.21123339731187454,1.9399177809147496,1.3000160082486465,1.606536333928938,1.2914094796828308,0.9381910673207878,0.44297623985127393,0.5953517585581459,0.778383317059827,0.5204867411016112,-0.1579955698796766,-0.41213058146211873,-0.4726872134003231,-0.42193206973876624,-1.3239982314374943,-1.0301219450470664,-1.0019211362595213,-0.8731280861845861,-1.1738776113092029,-0.876540745630144,-0.8110836230049651,-1.0246286523266679,-1.0540108444915424,-1.0456336086351639,-0.955611438224768,-0.2537938835327862,-0.06723186790231696,-0.2885085999110352,0.20966206366774584,-0.42319322192500036,-0.5793786721316477,-0.565326773411803,0.2042906314548816,0.20657802607841602,0.1073712248238446,0.28070522585231583,0.39825502075788194,-0.6531019109798296,-0.5800672783949086,-0.4619325667228437,-0.24635140316340925,-0.07317510082945171,-0.25470996019356973,-0.5058700933296437,-0.46985859766163673,-0.5045515239887546,-0.590853854727721,-1.5446450717175892,-0.8487085138627228,-0.7617650470000907,-0.8277392856156671,-0.7027088905829156,-0.7550980573925589,-0.8168786318726358,-1.3832881572815772,-1.52833562483212,-1.44290824609446,-1.5227124897107693,-1.2054562187523012,-1.1997347329689745,-1.3184544947593508,-1.4505230754609848,-1.3041693109593733,-1.2436936353538373,-1.180609694471266,-0.9874027506800325,-1.037073170918181,-0.9675656057337728,-0.8638512637304409,-0.20928048650475722,0.04488956243069417,0.17674217989783206,-1.9264914811514036,-1.9016852073088495,-1.8091381798008073,-1.963524641050198,-1.736930096372851,-1.8587228393960533,-1.75648942998055,-1.4412308744887328,-1.4982418343068722,-0.6530823470865786,-1.3689190090692394,-0.9766001651402119,-0.9777839499698304,-1.1285093503161951,-1.2572349536027536,-1.2003539713651823,-1.2548998192682372,-1.4439615443908036,0.8081301428497792,0.261732340181443,0.4935053270617562,0.7190023558101712,0.9563206481069625,0.539115286924834,-0.10199855492793192,1.0086322255674494,0.37099749029174567,0.7746061834235309,1.1855026392235117,0.9024679815128762,0.33002215890183967,0.21418129860520072,-0.2759734887403541,-0.1062672011764454,0.25683056022337153,0.4213926789325743,0.16752964019774194,-0.4944901614613548,-0.48914058037731056,-0.3473534825105264,-0.31829372953548274,-0.4034418169943953,-0.38165035233515365,0.4425246337837784,0.3241029589833677,0.3407613842357371,0.30590515786949657,0.19240601200016655,0.15067844639323844,0.16365835823247774,-0.01341790501281693,0.009095176052474077,-0.008743911743543963,0.05901871241109477,0.35157275030172397,0.33870737350136876,0.3067377327112673,0.39248438268163066,0.3579236897269221,-0.9428620429686112,-0.8827408317726243,-1.2581092888127814,-1.2963956884740808,-1.4852448526897561,-1.500986335900795,-1.3099652232396457,-1.0456803856360426,-1.2075387402993296,-1.5609174308574363,-1.4001306763106924,-1.2722478086866347,-1.3209027289283635,-1.4208174315549398,-1.4537090997316946,-1.2807356168802697,-1.166835894493647,-1.5182110798529882,-1.2174730792891715,-1.2760065117304127,-1.3043332772410359,-1.3716949817412156,-1.2608088396613013,-1.3711895459251806,-1.2962815434275292,-1.260219428341238,-0.7490423776179838,-0.5547963907214247,-0.4929793868758588,-0.3937317371385156,-0.46297570583487124,-0.41704851335703996,-0.881327122939573,-0.7581056258790321,-0.7519084819460286,-0.688264129789075,-1.1065631445731394,-1.2896158264909305,-1.313985577567103,-1.0533650410225819,-1.3379006159066642,-1.2845419039987032,-1.7190064650326486,-1.4603554237310288,-1.5093564824027348,-1.180709451807974,-0.759065359079103,-1.1324580713279262,-2.277625275171768,-1.9076230775054541,-1.3200905705647867,-1.5778421874690431,-1.7537927324578027,-1.5817789001939961,-0.33586558839691705,-0.4361246080429438,-0.5432137661289117,-0.49950800196630596,-0.20807843321757355,-0.31630045240620736,-0.19347646745430444,-0.1797347366799865,-0.5060238023664019,-0.25816482820589287,-0.27979584431528165,-0.12270207686174782,-0.19226584475686787,-0.23950902311233097,-0.40901434998739344,-0.3992789656109081,-0.24145420887778535,-0.3911759441809222,-0.7105122668138718,-1.048100436639792,-0.8459278873893952,-1.1863840305080515,-1.1695356639325891,-1.4785578611324943,-1.5657958917393704,-1.512035502867984,-1.6631223290814336,-1.7757890291789657,-0.5970483262458673,0.19426775421110923,0.2946132267285949,-1.3152777823931345,-1.2072714985284743,-1.1107264459894748,-1.14498494360293,-1.0853357978286111,-0.9681410700430334,-0.9855045520764092,-1.1667132300719174,-0.8909616836540055,-1.1794466227111742,-0.8875346308965045,-0.7905104773895972,-0.9827942689996216,-1.0295957095207966,-0.8140369307304769,-0.7239121283207759,-0.6712741020614227,-0.7606567481671296,-0.9808224864551758,-0.8570309488397329,-0.6803096386882463,-0.9561433705630231,-0.920478777866725,-0.9751175518823129,-0.8087224384442034,-0.272906924035818,-0.017268565272797774,-0.3554214631837488,0.07589925126869433,0.5267412116708645,0.03802945123668611,-0.21104112399971695,-0.187653630664629,-0.15851760203837945,-0.2524681774901551,-0.6145890845378077,-0.9784624031004391,-0.9112974445597299,-0.10123252793417364,-0.5890900293175119,-0.5674021507341503,-0.6644083034275231,-0.3796651527492016,-0.0804098172310435,-0.6701456470318078,-0.9639100224485069,-0.7748858703833666,-0.5207451263574049,-0.5982137553959678,-0.5676642716331202,-0.6530710985794322,-0.26938788944344866,-0.26337924757927034,-0.6975723564298634,-1.3879752392483369,-1.2085421402172232,-1.1203656611065007,-1.2106992537995775,-1.1534596727356814,-1.1003516036564356,-0.8823908553878962,-0.8024067156698218,-0.8216647709234093,-0.9733901858056111,-0.9334328102604653,-0.9663596646718847,-1.0205807519119174,-0.8483087488293379,1.227841306142862,1.3734344352922734,1.4124841583929566,1.9073769799871025,1.9880032808630559,1.9846184673956313,1.7927656007988497,2.1029784484595706,2.0052883246853166,0.8404021364472143,0.6548535310284532,0.35835623797950156,0.2721240760056966,0.31408968184192537,0.39006299559365504,0.5696841589521169,0.6675198625583945,0.7603798432388024,-1.0111792601878293,-0.8567581504032603,-1.387268974714948,-1.2335182762019778,-1.2428647801802477,-1.4591130053915027,-1.361584722097975,-1.1446015630675133,-0.285210918728528],\"type\":\"scatter3d\"},{\"customdata\":[[\"China\"],[\"China\"],[\"China\"],[\"China\"],[\"China\"],[\"China\"],[\"China\"],[\"China\"],[\"China\"],[\"China\"],[\"China\"],[\"China\"],[\"China\"],[\"China\"],[\"China\"],[\"China\"],[\"China\"],[\"China\"],[\"India\"],[\"India\"],[\"India\"],[\"India\"],[\"India\"],[\"India\"],[\"India\"],[\"India\"],[\"India\"],[\"India\"],[\"India\"],[\"India\"],[\"India\"],[\"United States\"],[\"United States\"],[\"United States\"],[\"United States\"],[\"United States\"],[\"United States\"],[\"United States\"],[\"United States\"],[\"United States\"],[\"United States\"],[\"United States\"],[\"United States\"],[\"United States\"],[\"United States\"],[\"United States\"],[\"United States\"],[\"United States\"],[\"United States\"]],\"hovertemplate\":\"<b>%{hovertext}</b><br><br>Class=%{marker.color}<br>PC 1=%{x}<br>PC 2=%{y}<br>PC 3=%{z}<br>Country=%{customdata[0]}<extra></extra>\",\"hovertext\":[\"China\",\"China\",\"China\",\"China\",\"China\",\"China\",\"China\",\"China\",\"China\",\"China\",\"China\",\"China\",\"China\",\"China\",\"China\",\"China\",\"China\",\"China\",\"India\",\"India\",\"India\",\"India\",\"India\",\"India\",\"India\",\"India\",\"India\",\"India\",\"India\",\"India\",\"India\",\"United States\",\"United States\",\"United States\",\"United States\",\"United States\",\"United States\",\"United States\",\"United States\",\"United States\",\"United States\",\"United States\",\"United States\",\"United States\",\"United States\",\"United States\",\"United States\",\"United States\",\"United States\"],\"legendgroup\":\"1\",\"marker\":{\"color\":[1,1,1,1,1,1,1,1,1,1,1,1,1,1,1,1,1,1,1,1,1,1,1,1,1,1,1,1,1,1,1,1,1,1,1,1,1,1,1,1,1,1,1,1,1,1,1,1,1],\"coloraxis\":\"coloraxis\",\"symbol\":\"square\"},\"mode\":\"markers\",\"name\":\"1\",\"scene\":\"scene\",\"showlegend\":true,\"x\":[24.743986315613203,25.144999282841386,25.835102220383625,26.819524101486667,27.603517787881724,28.179936088797582,29.01657128013551,30.155839644437265,31.33837345688864,32.686544922475626,33.83088826186315,34.556042760285706,35.1828227849819,36.021901004576705,36.63332662525478,37.49599440480248,38.79957941683569,40.26002850879476,10.972774256143175,11.639797113866855,12.13575449248296,12.40309249287286,12.951935563560117,13.576119231303947,14.14165248592419,14.850222911499918,15.467778155271109,16.418155437760255,17.161874879777315,17.816563267265895,18.682529560574604,17.408165419842,17.625382840695764,17.79119072635879,17.897783201856914,18.205028783993864,18.43278809132232,18.708587502095533,18.99621159818747,19.108744263973815,19.384920185967943,19.738425520127755,20.052378651714626,20.501864805735032,20.958779748478452,21.391729306630904,21.846232977172892,22.220113731561522,22.999740209562496],\"y\":[5.769059590244811,5.640149128186582,5.606170735268668,5.687092972728237,5.638736487636407,5.593462050331901,5.6482466719861515,5.781024222381925,5.690790333426848,5.529526700271837,5.643077481605771,5.561267867135721,5.575070585127214,5.6456446746760705,5.678137624540596,5.808932950953553,5.928379009985809,6.048455345645393,5.264333537148095,4.777937598095869,4.872774940316314,4.782090602267875,4.864754790432772,5.025495873294192,4.956564945109592,5.083905167104462,5.0121538354469255,5.0737920153785225,5.136439303211944,5.107559414609896,5.219291718806479,-0.7924578924418452,-0.8279902345923107,-0.8312727109514609,-0.8628020340282819,-0.8504800006698446,-0.8667106667610266,-0.8889526494548852,-0.8601311290349958,-0.9598066190513717,-0.9359682564091366,-0.8726927408092254,-0.8821071865408506,-0.8579471059430478,-0.8266916523288976,-0.8284393392961988,-0.7653860007688276,-0.7478110313489287,-0.7023172218279036],\"z\":[4.355117143487578,4.126470133108903,4.165771294378185,4.403611896397256,4.362234682838867,4.307951100751665,4.155027249708964,4.261747356005907,3.5204648200631774,3.76107975720256,3.6934841658711046,3.1529721877659975,2.952864223439154,2.779791469904836,2.613437488576642,2.6191390237705576,2.5152495621781408,2.328300721795707,1.1150880270644563,1.7747504732766977,2.0832061373680344,1.880479199859402,1.880544570045652,1.8267295834632573,1.8974146522991282,1.9565029536865515,1.8392937411686474,1.8098347077775112,1.7917568129334192,1.7113343589650045,1.7978070383018958,-3.657578011427123,-3.78838080725641,-3.835356363068436,-3.8599423510904476,-3.9307846580952166,-4.035887646868688,-4.1246383104712985,-4.146835593078918,-4.382517795249276,-4.396070265747294,-4.424280687077879,-4.5415661813418255,-4.610953386395525,-4.698766798142094,-4.85563867685628,-4.929775454501102,-5.030724255302613,-5.176608748839174],\"type\":\"scatter3d\"}],                        {\"template\":{\"data\":{\"histogram2dcontour\":[{\"type\":\"histogram2dcontour\",\"colorbar\":{\"outlinewidth\":0,\"ticks\":\"\"},\"colorscale\":[[0.0,\"#0d0887\"],[0.1111111111111111,\"#46039f\"],[0.2222222222222222,\"#7201a8\"],[0.3333333333333333,\"#9c179e\"],[0.4444444444444444,\"#bd3786\"],[0.5555555555555556,\"#d8576b\"],[0.6666666666666666,\"#ed7953\"],[0.7777777777777778,\"#fb9f3a\"],[0.8888888888888888,\"#fdca26\"],[1.0,\"#f0f921\"]]}],\"choropleth\":[{\"type\":\"choropleth\",\"colorbar\":{\"outlinewidth\":0,\"ticks\":\"\"}}],\"histogram2d\":[{\"type\":\"histogram2d\",\"colorbar\":{\"outlinewidth\":0,\"ticks\":\"\"},\"colorscale\":[[0.0,\"#0d0887\"],[0.1111111111111111,\"#46039f\"],[0.2222222222222222,\"#7201a8\"],[0.3333333333333333,\"#9c179e\"],[0.4444444444444444,\"#bd3786\"],[0.5555555555555556,\"#d8576b\"],[0.6666666666666666,\"#ed7953\"],[0.7777777777777778,\"#fb9f3a\"],[0.8888888888888888,\"#fdca26\"],[1.0,\"#f0f921\"]]}],\"heatmap\":[{\"type\":\"heatmap\",\"colorbar\":{\"outlinewidth\":0,\"ticks\":\"\"},\"colorscale\":[[0.0,\"#0d0887\"],[0.1111111111111111,\"#46039f\"],[0.2222222222222222,\"#7201a8\"],[0.3333333333333333,\"#9c179e\"],[0.4444444444444444,\"#bd3786\"],[0.5555555555555556,\"#d8576b\"],[0.6666666666666666,\"#ed7953\"],[0.7777777777777778,\"#fb9f3a\"],[0.8888888888888888,\"#fdca26\"],[1.0,\"#f0f921\"]]}],\"heatmapgl\":[{\"type\":\"heatmapgl\",\"colorbar\":{\"outlinewidth\":0,\"ticks\":\"\"},\"colorscale\":[[0.0,\"#0d0887\"],[0.1111111111111111,\"#46039f\"],[0.2222222222222222,\"#7201a8\"],[0.3333333333333333,\"#9c179e\"],[0.4444444444444444,\"#bd3786\"],[0.5555555555555556,\"#d8576b\"],[0.6666666666666666,\"#ed7953\"],[0.7777777777777778,\"#fb9f3a\"],[0.8888888888888888,\"#fdca26\"],[1.0,\"#f0f921\"]]}],\"contourcarpet\":[{\"type\":\"contourcarpet\",\"colorbar\":{\"outlinewidth\":0,\"ticks\":\"\"}}],\"contour\":[{\"type\":\"contour\",\"colorbar\":{\"outlinewidth\":0,\"ticks\":\"\"},\"colorscale\":[[0.0,\"#0d0887\"],[0.1111111111111111,\"#46039f\"],[0.2222222222222222,\"#7201a8\"],[0.3333333333333333,\"#9c179e\"],[0.4444444444444444,\"#bd3786\"],[0.5555555555555556,\"#d8576b\"],[0.6666666666666666,\"#ed7953\"],[0.7777777777777778,\"#fb9f3a\"],[0.8888888888888888,\"#fdca26\"],[1.0,\"#f0f921\"]]}],\"surface\":[{\"type\":\"surface\",\"colorbar\":{\"outlinewidth\":0,\"ticks\":\"\"},\"colorscale\":[[0.0,\"#0d0887\"],[0.1111111111111111,\"#46039f\"],[0.2222222222222222,\"#7201a8\"],[0.3333333333333333,\"#9c179e\"],[0.4444444444444444,\"#bd3786\"],[0.5555555555555556,\"#d8576b\"],[0.6666666666666666,\"#ed7953\"],[0.7777777777777778,\"#fb9f3a\"],[0.8888888888888888,\"#fdca26\"],[1.0,\"#f0f921\"]]}],\"mesh3d\":[{\"type\":\"mesh3d\",\"colorbar\":{\"outlinewidth\":0,\"ticks\":\"\"}}],\"scatter\":[{\"fillpattern\":{\"fillmode\":\"overlay\",\"size\":10,\"solidity\":0.2},\"type\":\"scatter\"}],\"parcoords\":[{\"type\":\"parcoords\",\"line\":{\"colorbar\":{\"outlinewidth\":0,\"ticks\":\"\"}}}],\"scatterpolargl\":[{\"type\":\"scatterpolargl\",\"marker\":{\"colorbar\":{\"outlinewidth\":0,\"ticks\":\"\"}}}],\"bar\":[{\"error_x\":{\"color\":\"#2a3f5f\"},\"error_y\":{\"color\":\"#2a3f5f\"},\"marker\":{\"line\":{\"color\":\"#E5ECF6\",\"width\":0.5},\"pattern\":{\"fillmode\":\"overlay\",\"size\":10,\"solidity\":0.2}},\"type\":\"bar\"}],\"scattergeo\":[{\"type\":\"scattergeo\",\"marker\":{\"colorbar\":{\"outlinewidth\":0,\"ticks\":\"\"}}}],\"scatterpolar\":[{\"type\":\"scatterpolar\",\"marker\":{\"colorbar\":{\"outlinewidth\":0,\"ticks\":\"\"}}}],\"histogram\":[{\"marker\":{\"pattern\":{\"fillmode\":\"overlay\",\"size\":10,\"solidity\":0.2}},\"type\":\"histogram\"}],\"scattergl\":[{\"type\":\"scattergl\",\"marker\":{\"colorbar\":{\"outlinewidth\":0,\"ticks\":\"\"}}}],\"scatter3d\":[{\"type\":\"scatter3d\",\"line\":{\"colorbar\":{\"outlinewidth\":0,\"ticks\":\"\"}},\"marker\":{\"colorbar\":{\"outlinewidth\":0,\"ticks\":\"\"}}}],\"scattermapbox\":[{\"type\":\"scattermapbox\",\"marker\":{\"colorbar\":{\"outlinewidth\":0,\"ticks\":\"\"}}}],\"scatterternary\":[{\"type\":\"scatterternary\",\"marker\":{\"colorbar\":{\"outlinewidth\":0,\"ticks\":\"\"}}}],\"scattercarpet\":[{\"type\":\"scattercarpet\",\"marker\":{\"colorbar\":{\"outlinewidth\":0,\"ticks\":\"\"}}}],\"carpet\":[{\"aaxis\":{\"endlinecolor\":\"#2a3f5f\",\"gridcolor\":\"white\",\"linecolor\":\"white\",\"minorgridcolor\":\"white\",\"startlinecolor\":\"#2a3f5f\"},\"baxis\":{\"endlinecolor\":\"#2a3f5f\",\"gridcolor\":\"white\",\"linecolor\":\"white\",\"minorgridcolor\":\"white\",\"startlinecolor\":\"#2a3f5f\"},\"type\":\"carpet\"}],\"table\":[{\"cells\":{\"fill\":{\"color\":\"#EBF0F8\"},\"line\":{\"color\":\"white\"}},\"header\":{\"fill\":{\"color\":\"#C8D4E3\"},\"line\":{\"color\":\"white\"}},\"type\":\"table\"}],\"barpolar\":[{\"marker\":{\"line\":{\"color\":\"#E5ECF6\",\"width\":0.5},\"pattern\":{\"fillmode\":\"overlay\",\"size\":10,\"solidity\":0.2}},\"type\":\"barpolar\"}],\"pie\":[{\"automargin\":true,\"type\":\"pie\"}]},\"layout\":{\"autotypenumbers\":\"strict\",\"colorway\":[\"#636efa\",\"#EF553B\",\"#00cc96\",\"#ab63fa\",\"#FFA15A\",\"#19d3f3\",\"#FF6692\",\"#B6E880\",\"#FF97FF\",\"#FECB52\"],\"font\":{\"color\":\"#2a3f5f\"},\"hovermode\":\"closest\",\"hoverlabel\":{\"align\":\"left\"},\"paper_bgcolor\":\"white\",\"plot_bgcolor\":\"#E5ECF6\",\"polar\":{\"bgcolor\":\"#E5ECF6\",\"angularaxis\":{\"gridcolor\":\"white\",\"linecolor\":\"white\",\"ticks\":\"\"},\"radialaxis\":{\"gridcolor\":\"white\",\"linecolor\":\"white\",\"ticks\":\"\"}},\"ternary\":{\"bgcolor\":\"#E5ECF6\",\"aaxis\":{\"gridcolor\":\"white\",\"linecolor\":\"white\",\"ticks\":\"\"},\"baxis\":{\"gridcolor\":\"white\",\"linecolor\":\"white\",\"ticks\":\"\"},\"caxis\":{\"gridcolor\":\"white\",\"linecolor\":\"white\",\"ticks\":\"\"}},\"coloraxis\":{\"colorbar\":{\"outlinewidth\":0,\"ticks\":\"\"}},\"colorscale\":{\"sequential\":[[0.0,\"#0d0887\"],[0.1111111111111111,\"#46039f\"],[0.2222222222222222,\"#7201a8\"],[0.3333333333333333,\"#9c179e\"],[0.4444444444444444,\"#bd3786\"],[0.5555555555555556,\"#d8576b\"],[0.6666666666666666,\"#ed7953\"],[0.7777777777777778,\"#fb9f3a\"],[0.8888888888888888,\"#fdca26\"],[1.0,\"#f0f921\"]],\"sequentialminus\":[[0.0,\"#0d0887\"],[0.1111111111111111,\"#46039f\"],[0.2222222222222222,\"#7201a8\"],[0.3333333333333333,\"#9c179e\"],[0.4444444444444444,\"#bd3786\"],[0.5555555555555556,\"#d8576b\"],[0.6666666666666666,\"#ed7953\"],[0.7777777777777778,\"#fb9f3a\"],[0.8888888888888888,\"#fdca26\"],[1.0,\"#f0f921\"]],\"diverging\":[[0,\"#8e0152\"],[0.1,\"#c51b7d\"],[0.2,\"#de77ae\"],[0.3,\"#f1b6da\"],[0.4,\"#fde0ef\"],[0.5,\"#f7f7f7\"],[0.6,\"#e6f5d0\"],[0.7,\"#b8e186\"],[0.8,\"#7fbc41\"],[0.9,\"#4d9221\"],[1,\"#276419\"]]},\"xaxis\":{\"gridcolor\":\"white\",\"linecolor\":\"white\",\"ticks\":\"\",\"title\":{\"standoff\":15},\"zerolinecolor\":\"white\",\"automargin\":true,\"zerolinewidth\":2},\"yaxis\":{\"gridcolor\":\"white\",\"linecolor\":\"white\",\"ticks\":\"\",\"title\":{\"standoff\":15},\"zerolinecolor\":\"white\",\"automargin\":true,\"zerolinewidth\":2},\"scene\":{\"xaxis\":{\"backgroundcolor\":\"#E5ECF6\",\"gridcolor\":\"white\",\"linecolor\":\"white\",\"showbackground\":true,\"ticks\":\"\",\"zerolinecolor\":\"white\",\"gridwidth\":2},\"yaxis\":{\"backgroundcolor\":\"#E5ECF6\",\"gridcolor\":\"white\",\"linecolor\":\"white\",\"showbackground\":true,\"ticks\":\"\",\"zerolinecolor\":\"white\",\"gridwidth\":2},\"zaxis\":{\"backgroundcolor\":\"#E5ECF6\",\"gridcolor\":\"white\",\"linecolor\":\"white\",\"showbackground\":true,\"ticks\":\"\",\"zerolinecolor\":\"white\",\"gridwidth\":2}},\"shapedefaults\":{\"line\":{\"color\":\"#2a3f5f\"}},\"annotationdefaults\":{\"arrowcolor\":\"#2a3f5f\",\"arrowhead\":0,\"arrowwidth\":1},\"geo\":{\"bgcolor\":\"white\",\"landcolor\":\"#E5ECF6\",\"subunitcolor\":\"white\",\"showland\":true,\"showlakes\":true,\"lakecolor\":\"white\"},\"title\":{\"x\":0.05},\"mapbox\":{\"style\":\"light\"}}},\"scene\":{\"domain\":{\"x\":[0.0,1.0],\"y\":[0.0,1.0]},\"xaxis\":{\"title\":{\"text\":\"PC 1\"}},\"yaxis\":{\"title\":{\"text\":\"PC 2\"}},\"zaxis\":{\"title\":{\"text\":\"PC 3\"}}},\"coloraxis\":{\"colorbar\":{\"title\":{\"text\":\"Class\"}},\"colorscale\":[[0.0,\"#0d0887\"],[0.1111111111111111,\"#46039f\"],[0.2222222222222222,\"#7201a8\"],[0.3333333333333333,\"#9c179e\"],[0.4444444444444444,\"#bd3786\"],[0.5555555555555556,\"#d8576b\"],[0.6666666666666666,\"#ed7953\"],[0.7777777777777778,\"#fb9f3a\"],[0.8888888888888888,\"#fdca26\"],[1.0,\"#f0f921\"]]},\"legend\":{\"title\":{\"text\":\"Class\"},\"tracegroupgap\":0,\"x\":0,\"y\":1},\"margin\":{\"t\":60}},                        {\"responsive\": true}                    ).then(function(){\n",
       "                            \n",
       "var gd = document.getElementById('90d92815-6c42-43ce-8729-7866b5eaffb9');\n",
       "var x = new MutationObserver(function (mutations, observer) {{\n",
       "        var display = window.getComputedStyle(gd).display;\n",
       "        if (!display || display === 'none') {{\n",
       "            console.log([gd, 'removed!']);\n",
       "            Plotly.purge(gd);\n",
       "            observer.disconnect();\n",
       "        }}\n",
       "}});\n",
       "\n",
       "// Listen for the removal of the full notebook cells\n",
       "var notebookContainer = gd.closest('#notebook-container');\n",
       "if (notebookContainer) {{\n",
       "    x.observe(notebookContainer, {childList: true});\n",
       "}}\n",
       "\n",
       "// Listen for the clearing of the current output cell\n",
       "var outputEl = gd.closest('.output');\n",
       "if (outputEl) {{\n",
       "    x.observe(outputEl, {childList: true});\n",
       "}}\n",
       "\n",
       "                        })                };                });            </script>        </div>"
      ]
     },
     "metadata": {},
     "output_type": "display_data"
    }
   ],
   "source": [
    "# Creating a 3D-Scatter with the PCA data and the clusters\n",
    "# YOUR CODE HERE\n",
    "fig = px.scatter_3d(clustered_df, x=\"PC 1\", y=\"PC 2\", z=\"PC 3\", hover_name=\"Country\", \n",
    "                    hover_data=[\"Country\"],color=\"Class\", symbol=\"Class\")\n",
    "fig.update_layout(legend=dict(x=0,y=1))\n",
    "fig.show()"
   ]
  },
  {
   "cell_type": "code",
   "execution_count": null,
   "id": "18e2eb3e",
   "metadata": {},
   "outputs": [],
   "source": [
    "clustered_df"
   ]
  }
 ],
 "metadata": {
  "kernelspec": {
   "display_name": "mlenv",
   "language": "python",
   "name": "mlenv"
  },
  "language_info": {
   "codemirror_mode": {
    "name": "ipython",
    "version": 3
   },
   "file_extension": ".py",
   "mimetype": "text/x-python",
   "name": "python",
   "nbconvert_exporter": "python",
   "pygments_lexer": "ipython3",
   "version": "3.7.11"
  }
 },
 "nbformat": 4,
 "nbformat_minor": 5
}
